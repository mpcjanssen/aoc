{
 "cells": [
  {
   "cell_type": "code",
   "execution_count": 42,
   "metadata": {},
   "outputs": [
    {
     "data": {
      "text/plain": [
       "[94794, 58062, 112067, 139512, 147400, 99825, 142617, 107263, 86294, 97000, 140204, 72573, 134981, 111385, 88303, 79387, 129111, 122976, 130685, 75100, 146566, 73191, 107641, 109940, 65518, 102028, 57370, 144556, 64017, 64384, 145114, 115853, 87939, 90791, 133443, 139050, 140657, 85738, 133749, 92466, 142918, 96679, 125035, 127629, 87906, 104478, 105147, 121741, 70312, 73732, 60838, 82292, 102931, 103000, 135903, 78678, 86314, 50772, 115673, 106179, 60615, 105152, 76550, 140591, 120916, 62094, 111273, 63542, 102974, 78837, 94840, 89126, 63150, 52503, 108530, 101458, 59660, 116913, 66440, 83306, 50693, 58377, 62005, 130663, 124304, 79726, 63001, 73380, 64395, 124277, 69742, 63465, 93172, 142068, 120081, 119872, 52801, 100693, 79229, 90365]"
      ]
     },
     "execution_count": 42,
     "metadata": {
      "new_classpath": []
     },
     "output_type": "execute_result"
    }
   ],
   "source": [
    "val masses = java.io.File(\"../input/day01.txt\").readLines().map {it -> it.toInt()}\n",
    "masses"
   ]
  },
  {
   "cell_type": "code",
   "execution_count": 41,
   "metadata": {},
   "outputs": [
    {
     "name": "stdout",
     "output_type": "stream",
     "text": [
      "part1: 3255932\n",
      "part2: 4881041\n"
     ]
    }
   ],
   "source": [
    "fun fuel(mass: Int) = mass/3 -2\n",
    "\n",
    "fun totalfuel(mass: Int)  = generateSequence(mass) {fuel(it)} .takeWhile {it > 0}.drop(1).sum()\n",
    "\n",
    "val part1 = masses.map {fuel(it)}.sum()\n",
    "val part2 = masses.map {totalfuel(it)}.sum()\n",
    "println(\"part1: ${part1}\\npart2: ${part2}\")"
   ]
  },
  {
   "cell_type": "code",
   "execution_count": null,
   "metadata": {},
   "outputs": [],
   "source": []
  }
 ],
 "metadata": {
  "kernelspec": {
   "display_name": "Kotlin",
   "language": "kotlin",
   "name": "kotlin"
  },
  "language_info": {
   "codemirror_mode": "text/x-kotlin",
   "file_extension": ".kt",
   "mimetype": "text/x-kotlin",
   "name": "kotlin",
   "pygments_lexer": "kotlin",
   "version": "1.4.30-dev-2223"
  }
 },
 "nbformat": 4,
 "nbformat_minor": 4
}
