{
 "cells": [
  {
   "cell_type": "code",
   "execution_count": 6,
   "metadata": {},
   "outputs": [],
   "source": [
    "val masses = java.io.File(\"../input/day01.txt\").readLines().map {it -> it.toInt()}"
   ]
  },
  {
   "cell_type": "code",
   "execution_count": 38,
   "metadata": {},
   "outputs": [
    {
     "name": "stdout",
     "output_type": "stream",
     "text": [
      "part1: 3255932\n",
      "part2: 4881041\n"
     ]
    }
   ],
   "source": [
    "fun fuel(mass: Int) = mass/3 -2\n",
    "\n",
    "fun totalfuel(mass: Int)  = generateSequence(mass) {fuel(it)} .takeWhile {it > 0}.drop(1).sum()\n",
    "\n",
    "val part1 = masses.map {fuel(it)}.sum()\n",
    "val part2 = masses.map {totalfuel(it)}.sum()\n",
    "println(\"part1: ${part1}\\npart2: ${part2}\")"
   ]
  }
 ],
 "metadata": {
  "kernelspec": {
   "display_name": "Kotlin",
   "language": "kotlin",
   "name": "kotlin"
  },
  "language_info": {
   "codemirror_mode": "text/x-kotlin",
   "file_extension": ".kt",
   "mimetype": "text/x-kotlin",
   "name": "kotlin",
   "pygments_lexer": "kotlin",
   "version": "1.4.30-dev-2223"
  }
 },
 "nbformat": 4,
 "nbformat_minor": 4
}
