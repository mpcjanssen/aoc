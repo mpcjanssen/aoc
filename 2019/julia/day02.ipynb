{
 "cells": [
  {
   "cell_type": "code",
   "execution_count": null,
   "metadata": {},
   "outputs": [],
   "source": [
    "using Base.Iterators\n",
    "# import Pkg; Pkg.add(\"IterTools\")\n",
    "import IterTools.iterated"
   ]
  },
  {
   "cell_type": "code",
   "execution_count": 9,
   "metadata": {},
   "outputs": [
    {
     "data": {
      "text/plain": [
       "153-element Array{Int64,1}:\n",
       "   1\n",
       "   0\n",
       "   0\n",
       "   3\n",
       "   1\n",
       "   1\n",
       "   2\n",
       "   3\n",
       "   1\n",
       "   3\n",
       "   4\n",
       "   3\n",
       "   1\n",
       "   ⋮\n",
       "   2\n",
       " 139\n",
       " 143\n",
       "   1\n",
       "  13\n",
       " 143\n",
       "   0\n",
       "  99\n",
       "   2\n",
       "   0\n",
       "  14\n",
       "   0"
      ]
     },
     "execution_count": 9,
     "metadata": {},
     "output_type": "execute_result"
    }
   ],
   "source": [
    "inputfile = joinpath(@__DIR__,\"../input/day02.txt\")\n",
    "program = parse.(Int, read(inputfile,String) |> x -> split(x, \",\"))"
   ]
  },
  {
   "cell_type": "code",
   "execution_count": null,
   "metadata": {},
   "outputs": [],
   "source": [
    "function fuel(mass::Int64)\n",
    "    mass÷3-2\n",
    "end"
   ]
  },
  {
   "cell_type": "code",
   "execution_count": null,
   "metadata": {},
   "outputs": [],
   "source": [
    "fuels = fuel.(input);\n",
    "totalfuels = collect.(takewhile.(>(0), iterated.(fuel, fuels))) .|> sum ;"
   ]
  },
  {
   "cell_type": "code",
   "execution_count": null,
   "metadata": {},
   "outputs": [],
   "source": [
    "sum.([fuels, totalfuels])"
   ]
  },
  {
   "cell_type": "code",
   "execution_count": null,
   "metadata": {},
   "outputs": [],
   "source": []
  }
 ],
 "metadata": {
  "kernelspec": {
   "display_name": "Julia 1.5.0",
   "language": "julia",
   "name": "julia-1.5"
  },
  "language_info": {
   "file_extension": ".jl",
   "mimetype": "application/julia",
   "name": "julia",
   "version": "1.5.0"
  }
 },
 "nbformat": 4,
 "nbformat_minor": 4
}
