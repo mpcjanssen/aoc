{
 "cells": [
  {
   "cell_type": "code",
   "execution_count": 52,
   "metadata": {},
   "outputs": [],
   "source": [
    "source day11.tcl"
   ]
  },
  {
   "cell_type": "code",
   "execution_count": 53,
   "metadata": {},
   "outputs": [
    {
     "data": {
      "text/plain": [
       "1785"
      ]
     },
     "execution_count": 53,
     "metadata": {},
     "output_type": "execute_result"
    }
   ],
   "source": [
    "part1"
   ]
  },
  {
   "cell_type": "code",
   "execution_count": 54,
   "metadata": {},
   "outputs": [
    {
     "data": {
      "text/html": [
       "<svg viewbox=\"0 0 40 100\"><rect id=\"vis1-39-0\" x=\"39\" y = \"0\" width=\"1\" height=\"1\" style=\"fill:black;stroke-width:0.01;stroke:rgb(255,255,255)\" />\n",
       "<rect id=\"vis1-39-1\" x=\"39\" y = \"1\" width=\"1\" height=\"1\" style=\"fill:black;stroke-width:0.01;stroke:rgb(255,255,255)\" />\n",
       "<rect id=\"vis1-18-5\" x=\"18\" y = \"5\" width=\"1\" height=\"1\" style=\"fill:black;stroke-width:0.01;stroke:rgb(255,255,255)\" />\n",
       "<rect id=\"vis1-39-2\" x=\"39\" y = \"2\" width=\"1\" height=\"1\" style=\"fill:black;stroke-width:0.01;stroke:rgb(255,255,255)\" />\n",
       "<rect id=\"vis1-39-3\" x=\"39\" y = \"3\" width=\"1\" height=\"1\" style=\"fill:black;stroke-width:0.01;stroke:rgb(255,255,255)\" />\n",
       "<rect id=\"vis1-39-4\" x=\"39\" y = \"4\" width=\"1\" height=\"1\" style=\"fill:black;stroke-width:0.01;stroke:rgb(255,255,255)\" />\n",
       "<rect id=\"vis1-39-5\" x=\"39\" y = \"5\" width=\"1\" height=\"1\" style=\"fill:black;stroke-width:0.01;stroke:rgb(255,255,255)\" />\n",
       "<rect id=\"vis1-36-0\" x=\"36\" y = \"0\" width=\"1\" height=\"1\" style=\"fill:black;stroke-width:0.01;stroke:rgb(255,255,255)\" />\n",
       "<rect id=\"vis1-36-1\" x=\"36\" y = \"1\" width=\"1\" height=\"1\" style=\"fill:black;stroke-width:0.01;stroke:rgb(255,255,255)\" />\n",
       "<rect id=\"vis1-36-2\" x=\"36\" y = \"2\" width=\"1\" height=\"1\" style=\"fill:black;stroke-width:0.01;stroke:rgb(255,255,255)\" />\n",
       "<rect id=\"vis1-36-3\" x=\"36\" y = \"3\" width=\"1\" height=\"1\" style=\"fill:black;stroke-width:0.01;stroke:rgb(255,255,255)\" />\n",
       "<rect id=\"vis1-36-4\" x=\"36\" y = \"4\" width=\"1\" height=\"1\" style=\"fill:black;stroke-width:0.01;stroke:rgb(255,255,255)\" />\n",
       "<rect id=\"vis1-36-5\" x=\"36\" y = \"5\" width=\"1\" height=\"1\" style=\"fill:black;stroke-width:0.01;stroke:rgb(255,255,255)\" />\n",
       "<rect id=\"vis1-12-0\" x=\"12\" y = \"0\" width=\"1\" height=\"1\" style=\"fill:black;stroke-width:0.01;stroke:rgb(255,255,255)\" />\n",
       "<rect id=\"vis1-33-0\" x=\"33\" y = \"0\" width=\"1\" height=\"1\" style=\"fill:black;stroke-width:0.01;stroke:rgb(255,255,255)\" />\n",
       "<rect id=\"vis1-12-3\" x=\"12\" y = \"3\" width=\"1\" height=\"1\" style=\"fill:black;stroke-width:0.01;stroke:rgb(255,255,255)\" />\n",
       "<rect id=\"vis1-33-2\" x=\"33\" y = \"2\" width=\"1\" height=\"1\" style=\"fill:black;stroke-width:0.01;stroke:rgb(255,255,255)\" />\n",
       "<rect id=\"vis1-29-0\" x=\"29\" y = \"0\" width=\"1\" height=\"1\" style=\"fill:black;stroke-width:0.01;stroke:rgb(255,255,255)\" />\n",
       "<rect id=\"vis1-29-1\" x=\"29\" y = \"1\" width=\"1\" height=\"1\" style=\"fill:black;stroke-width:0.01;stroke:rgb(255,255,255)\" />\n",
       "<rect id=\"vis1-7-5\" x=\"7\" y = \"5\" width=\"1\" height=\"1\" style=\"fill:black;stroke-width:0.01;stroke:rgb(255,255,255)\" />\n",
       "<rect id=\"vis1-29-5\" x=\"29\" y = \"5\" width=\"1\" height=\"1\" style=\"fill:black;stroke-width:0.01;stroke:rgb(255,255,255)\" />\n",
       "<rect id=\"vis1-4-0\" x=\"4\" y = \"0\" width=\"1\" height=\"1\" style=\"fill:black;stroke-width:0.01;stroke:rgb(255,255,255)\" />\n",
       "<rect id=\"vis1-4-1\" x=\"4\" y = \"1\" width=\"1\" height=\"1\" style=\"fill:black;stroke-width:0.01;stroke:rgb(255,255,255)\" />\n",
       "<rect id=\"vis1-4-2\" x=\"4\" y = \"2\" width=\"1\" height=\"1\" style=\"fill:black;stroke-width:0.01;stroke:rgb(255,255,255)\" />\n",
       "<rect id=\"vis1-4-3\" x=\"4\" y = \"3\" width=\"1\" height=\"1\" style=\"fill:black;stroke-width:0.01;stroke:rgb(255,255,255)\" />\n",
       "<rect id=\"vis1-26-0\" x=\"26\" y = \"0\" width=\"1\" height=\"1\" style=\"fill:black;stroke-width:0.01;stroke:rgb(255,255,255)\" />\n",
       "<rect id=\"vis1-4-4\" x=\"4\" y = \"4\" width=\"1\" height=\"1\" style=\"fill:black;stroke-width:0.01;stroke:rgb(255,255,255)\" />\n",
       "<rect id=\"vis1-4-5\" x=\"4\" y = \"5\" width=\"1\" height=\"1\" style=\"fill:black;stroke-width:0.01;stroke:rgb(255,255,255)\" />\n",
       "<rect id=\"vis1-26-4\" x=\"26\" y = \"4\" width=\"1\" height=\"1\" style=\"fill:black;stroke-width:0.01;stroke:rgb(255,255,255)\" />\n",
       "<rect id=\"vis1-26-5\" x=\"26\" y = \"5\" width=\"1\" height=\"1\" style=\"fill:black;stroke-width:0.01;stroke:rgb(255,255,255)\" />\n",
       "<rect id=\"vis1-1-0\" x=\"1\" y = \"0\" width=\"1\" height=\"1\" style=\"fill:black;stroke-width:0.01;stroke:rgb(255,255,255)\" />\n",
       "<rect id=\"vis1-1-1\" x=\"1\" y = \"1\" width=\"1\" height=\"1\" style=\"fill:black;stroke-width:0.01;stroke:rgb(255,255,255)\" />\n",
       "<rect id=\"vis1-1-2\" x=\"1\" y = \"2\" width=\"1\" height=\"1\" style=\"fill:black;stroke-width:0.01;stroke:rgb(255,255,255)\" />\n",
       "<rect id=\"vis1-1-3\" x=\"1\" y = \"3\" width=\"1\" height=\"1\" style=\"fill:black;stroke-width:0.01;stroke:rgb(255,255,255)\" />\n",
       "<rect id=\"vis1-23-0\" x=\"23\" y = \"0\" width=\"1\" height=\"1\" style=\"fill:black;stroke-width:0.01;stroke:rgb(255,255,255)\" />\n",
       "<rect id=\"vis1-1-4\" x=\"1\" y = \"4\" width=\"1\" height=\"1\" style=\"fill:black;stroke-width:0.01;stroke:rgb(255,255,255)\" />\n",
       "<rect id=\"vis1-1-5\" x=\"1\" y = \"5\" width=\"1\" height=\"1\" style=\"fill:black;stroke-width:0.01;stroke:rgb(255,255,255)\" />\n",
       "<rect id=\"vis1-23-5\" x=\"23\" y = \"5\" width=\"1\" height=\"1\" style=\"fill:black;stroke-width:0.01;stroke:rgb(255,255,255)\" />\n",
       "<rect id=\"vis1-19-5\" x=\"19\" y = \"5\" width=\"1\" height=\"1\" style=\"fill:black;stroke-width:0.01;stroke:rgb(255,255,255)\" />\n",
       "<rect id=\"vis1-16-0\" x=\"16\" y = \"0\" width=\"1\" height=\"1\" style=\"fill:black;stroke-width:0.01;stroke:rgb(255,255,255)\" />\n",
       "<rect id=\"vis1-16-1\" x=\"16\" y = \"1\" width=\"1\" height=\"1\" style=\"fill:black;stroke-width:0.01;stroke:rgb(255,255,255)\" />\n",
       "<rect id=\"vis1-16-2\" x=\"16\" y = \"2\" width=\"1\" height=\"1\" style=\"fill:black;stroke-width:0.01;stroke:rgb(255,255,255)\" />\n",
       "<rect id=\"vis1-16-3\" x=\"16\" y = \"3\" width=\"1\" height=\"1\" style=\"fill:black;stroke-width:0.01;stroke:rgb(255,255,255)\" />\n",
       "<rect id=\"vis1-16-4\" x=\"16\" y = \"4\" width=\"1\" height=\"1\" style=\"fill:black;stroke-width:0.01;stroke:rgb(255,255,255)\" />\n",
       "<rect id=\"vis1-16-5\" x=\"16\" y = \"5\" width=\"1\" height=\"1\" style=\"fill:black;stroke-width:0.01;stroke:rgb(255,255,255)\" />\n",
       "<rect id=\"vis1-37-2\" x=\"37\" y = \"2\" width=\"1\" height=\"1\" style=\"fill:black;stroke-width:0.01;stroke:rgb(255,255,255)\" />\n",
       "<rect id=\"vis1-13-0\" x=\"13\" y = \"0\" width=\"1\" height=\"1\" style=\"fill:black;stroke-width:0.01;stroke:rgb(255,255,255)\" />\n",
       "<rect id=\"vis1-34-0\" x=\"34\" y = \"0\" width=\"1\" height=\"1\" style=\"fill:black;stroke-width:0.01;stroke:rgb(255,255,255)\" />\n",
       "<rect id=\"vis1-13-3\" x=\"13\" y = \"3\" width=\"1\" height=\"1\" style=\"fill:black;stroke-width:0.01;stroke:rgb(255,255,255)\" />\n",
       "<rect id=\"vis1-8-0\" x=\"8\" y = \"0\" width=\"1\" height=\"1\" style=\"fill:black;stroke-width:0.01;stroke:rgb(255,255,255)\" />\n",
       "<rect id=\"vis1-31-0\" x=\"31\" y = \"0\" width=\"1\" height=\"1\" style=\"fill:black;stroke-width:0.01;stroke:rgb(255,255,255)\" />\n",
       "<rect id=\"vis1-31-1\" x=\"31\" y = \"1\" width=\"1\" height=\"1\" style=\"fill:black;stroke-width:0.01;stroke:rgb(255,255,255)\" />\n",
       "<rect id=\"vis1-8-5\" x=\"8\" y = \"5\" width=\"1\" height=\"1\" style=\"fill:black;stroke-width:0.01;stroke:rgb(255,255,255)\" />\n",
       "<rect id=\"vis1-31-2\" x=\"31\" y = \"2\" width=\"1\" height=\"1\" style=\"fill:black;stroke-width:0.01;stroke:rgb(255,255,255)\" />\n",
       "<rect id=\"vis1-31-3\" x=\"31\" y = \"3\" width=\"1\" height=\"1\" style=\"fill:black;stroke-width:0.01;stroke:rgb(255,255,255)\" />\n",
       "<rect id=\"vis1-31-4\" x=\"31\" y = \"4\" width=\"1\" height=\"1\" style=\"fill:black;stroke-width:0.01;stroke:rgb(255,255,255)\" />\n",
       "<rect id=\"vis1-31-5\" x=\"31\" y = \"5\" width=\"1\" height=\"1\" style=\"fill:black;stroke-width:0.01;stroke:rgb(255,255,255)\" />\n",
       "<rect id=\"vis1-27-0\" x=\"27\" y = \"0\" width=\"1\" height=\"1\" style=\"fill:black;stroke-width:0.01;stroke:rgb(255,255,255)\" />\n",
       "<rect id=\"vis1-27-3\" x=\"27\" y = \"3\" width=\"1\" height=\"1\" style=\"fill:black;stroke-width:0.01;stroke:rgb(255,255,255)\" />\n",
       "<rect id=\"vis1-27-5\" x=\"27\" y = \"5\" width=\"1\" height=\"1\" style=\"fill:black;stroke-width:0.01;stroke:rgb(255,255,255)\" />\n",
       "<rect id=\"vis1-2-2\" x=\"2\" y = \"2\" width=\"1\" height=\"1\" style=\"fill:black;stroke-width:0.01;stroke:rgb(255,255,255)\" />\n",
       "<rect id=\"vis1-24-0\" x=\"24\" y = \"0\" width=\"1\" height=\"1\" style=\"fill:black;stroke-width:0.01;stroke:rgb(255,255,255)\" />\n",
       "<rect id=\"vis1-24-1\" x=\"24\" y = \"1\" width=\"1\" height=\"1\" style=\"fill:black;stroke-width:0.01;stroke:rgb(255,255,255)\" />\n",
       "<rect id=\"vis1-24-2\" x=\"24\" y = \"2\" width=\"1\" height=\"1\" style=\"fill:black;stroke-width:0.01;stroke:rgb(255,255,255)\" />\n",
       "<rect id=\"vis1-24-3\" x=\"24\" y = \"3\" width=\"1\" height=\"1\" style=\"fill:black;stroke-width:0.01;stroke:rgb(255,255,255)\" />\n",
       "<rect id=\"vis1-24-4\" x=\"24\" y = \"4\" width=\"1\" height=\"1\" style=\"fill:black;stroke-width:0.01;stroke:rgb(255,255,255)\" />\n",
       "<rect id=\"vis1-21-4\" x=\"21\" y = \"4\" width=\"1\" height=\"1\" style=\"fill:black;stroke-width:0.01;stroke:rgb(255,255,255)\" />\n",
       "<rect id=\"vis1-17-5\" x=\"17\" y = \"5\" width=\"1\" height=\"1\" style=\"fill:black;stroke-width:0.01;stroke:rgb(255,255,255)\" />\n",
       "<rect id=\"vis1-38-2\" x=\"38\" y = \"2\" width=\"1\" height=\"1\" style=\"fill:black;stroke-width:0.01;stroke:rgb(255,255,255)\" />\n",
       "<rect id=\"vis1-14-1\" x=\"14\" y = \"1\" width=\"1\" height=\"1\" style=\"fill:black;stroke-width:0.01;stroke:rgb(255,255,255)\" />\n",
       "<rect id=\"vis1-14-2\" x=\"14\" y = \"2\" width=\"1\" height=\"1\" style=\"fill:black;stroke-width:0.01;stroke:rgb(255,255,255)\" />\n",
       "<rect id=\"vis1-14-3\" x=\"14\" y = \"3\" width=\"1\" height=\"1\" style=\"fill:black;stroke-width:0.01;stroke:rgb(255,255,255)\" />\n",
       "<rect id=\"vis1-14-4\" x=\"14\" y = \"4\" width=\"1\" height=\"1\" style=\"fill:black;stroke-width:0.01;stroke:rgb(255,255,255)\" />\n",
       "<rect id=\"vis1-14-5\" x=\"14\" y = \"5\" width=\"1\" height=\"1\" style=\"fill:black;stroke-width:0.01;stroke:rgb(255,255,255)\" />\n",
       "<rect id=\"vis1-9-0\" x=\"9\" y = \"0\" width=\"1\" height=\"1\" style=\"fill:black;stroke-width:0.01;stroke:rgb(255,255,255)\" />\n",
       "<rect id=\"vis1-9-1\" x=\"9\" y = \"1\" width=\"1\" height=\"1\" style=\"fill:black;stroke-width:0.01;stroke:rgb(255,255,255)\" />\n",
       "<rect id=\"vis1-11-1\" x=\"11\" y = \"1\" width=\"1\" height=\"1\" style=\"fill:black;stroke-width:0.01;stroke:rgb(255,255,255)\" />\n",
       "<rect id=\"vis1-9-2\" x=\"9\" y = \"2\" width=\"1\" height=\"1\" style=\"fill:black;stroke-width:0.01;stroke:rgb(255,255,255)\" />\n",
       "<rect id=\"vis1-11-2\" x=\"11\" y = \"2\" width=\"1\" height=\"1\" style=\"fill:black;stroke-width:0.01;stroke:rgb(255,255,255)\" />\n",
       "<rect id=\"vis1-9-3\" x=\"9\" y = \"3\" width=\"1\" height=\"1\" style=\"fill:black;stroke-width:0.01;stroke:rgb(255,255,255)\" />\n",
       "<rect id=\"vis1-32-0\" x=\"32\" y = \"0\" width=\"1\" height=\"1\" style=\"fill:black;stroke-width:0.01;stroke:rgb(255,255,255)\" />\n",
       "<rect id=\"vis1-11-3\" x=\"11\" y = \"3\" width=\"1\" height=\"1\" style=\"fill:black;stroke-width:0.01;stroke:rgb(255,255,255)\" />\n",
       "<rect id=\"vis1-9-4\" x=\"9\" y = \"4\" width=\"1\" height=\"1\" style=\"fill:black;stroke-width:0.01;stroke:rgb(255,255,255)\" />\n",
       "<rect id=\"vis1-11-4\" x=\"11\" y = \"4\" width=\"1\" height=\"1\" style=\"fill:black;stroke-width:0.01;stroke:rgb(255,255,255)\" />\n",
       "<rect id=\"vis1-32-2\" x=\"32\" y = \"2\" width=\"1\" height=\"1\" style=\"fill:black;stroke-width:0.01;stroke:rgb(255,255,255)\" />\n",
       "<rect id=\"vis1-11-5\" x=\"11\" y = \"5\" width=\"1\" height=\"1\" style=\"fill:black;stroke-width:0.01;stroke:rgb(255,255,255)\" />\n",
       "<rect id=\"vis1-28-0\" x=\"28\" y = \"0\" width=\"1\" height=\"1\" style=\"fill:black;stroke-width:0.01;stroke:rgb(255,255,255)\" />\n",
       "<rect id=\"vis1-6-4\" x=\"6\" y = \"4\" width=\"1\" height=\"1\" style=\"fill:black;stroke-width:0.01;stroke:rgb(255,255,255)\" />\n",
       "<rect id=\"vis1-28-2\" x=\"28\" y = \"2\" width=\"1\" height=\"1\" style=\"fill:black;stroke-width:0.01;stroke:rgb(255,255,255)\" />\n",
       "<rect id=\"vis1-28-5\" x=\"28\" y = \"5\" width=\"1\" height=\"1\" style=\"fill:black;stroke-width:0.01;stroke:rgb(255,255,255)\" />\n",
       "<rect id=\"vis1-3-2\" x=\"3\" y = \"2\" width=\"1\" height=\"1\" style=\"fill:black;stroke-width:0.01;stroke:rgb(255,255,255)\" />\n",
       "<rect id=\"vis1-22-5\" x=\"22\" y = \"5\" width=\"1\" height=\"1\" style=\"fill:black;stroke-width:0.01;stroke:rgb(255,255,255)\" /></svg>"
      ]
     },
     "metadata": {},
     "output_type": "display_data"
    },
    {
     "data": {
      "text/plain": [
       "display-id-15"
      ]
     },
     "execution_count": 54,
     "metadata": {},
     "output_type": "execute_result"
    }
   ],
   "source": [
    "part2 1"
   ]
  },
  {
   "cell_type": "code",
   "execution_count": null,
   "metadata": {},
   "outputs": [],
   "source": []
  }
 ],
 "metadata": {
  "kernelspec": {
   "display_name": "Tcl",
   "language": "tcl",
   "name": "tcljupyter"
  },
  "language_info": {
   "file_extension": ".tcl",
   "mimetype": "txt/x-tcl",
   "name": "tcl",
   "version": "8.6.10"
  }
 },
 "nbformat": 4,
 "nbformat_minor": 4
}
