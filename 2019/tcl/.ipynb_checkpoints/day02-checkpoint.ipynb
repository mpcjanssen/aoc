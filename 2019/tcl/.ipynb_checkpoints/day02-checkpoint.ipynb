{
 "cells": [
  {
   "cell_type": "code",
   "execution_count": 3,
   "metadata": {},
   "outputs": [
    {
     "data": {
      "text/plain": [
       "0.1"
      ]
     },
     "execution_count": 3,
     "metadata": {},
     "output_type": "execute_result"
    }
   ],
   "source": [
    "lappend auto_path [file dirname [info script]]/lib {C:\\Users\\Mark\\Src\\site-tcl\\libs-windows}\n",
    "tcl::tm::path add [file dirname [info script]]/modules {C:\\Users\\Mark\\Sync\\Notebooks\\aoc\\2019\\tcl\\lib\\nimtcode}\n",
    "\n",
    "package require util\n",
    "package require intcode"
   ]
  },
  {
   "cell_type": "code",
   "execution_count": 4,
   "metadata": {},
   "outputs": [],
   "source": [
    "set program  [read-input day02]\n",
    "\n",
    "proc runwithinput {program in1 in2} {\n",
    "    set machine [IntCode new $program]\n",
    "    $machine setmem 1 $in1\n",
    "    $machine setmem 2 $in2\n",
    "    $machine run\n",
    "    set val [$machine mem 0]\n",
    "    $machine destroy\n",
    "    return $val\n",
    "} \n",
    "\n"
   ]
  },
  {
   "cell_type": "code",
   "execution_count": 5,
   "metadata": {},
   "outputs": [],
   "source": [
    "proc  part1 {} { return [runwithinput $::program 12 2]}\n",
    "\n",
    "proc part2 {} {\n",
    "    foreach x [range 0 99] { \n",
    "        foreach y [range 0 99] {\n",
    "            if { [runwithinput $::program $x $y] == 19690720} {\n",
    "                return [expr {$x*100+$y}]\n",
    "            }\n",
    "        }\n",
    "    }\n",
    "}"
   ]
  },
  {
   "cell_type": "markdown",
   "metadata": {},
   "source": [
    "# Part 1"
   ]
  },
  {
   "cell_type": "code",
   "execution_count": 6,
   "metadata": {},
   "outputs": [
    {
     "data": {
      "text/plain": [
       "7210630"
      ]
     },
     "execution_count": 6,
     "metadata": {},
     "output_type": "execute_result"
    }
   ],
   "source": [
    "part1"
   ]
  },
  {
   "cell_type": "code",
   "execution_count": 7,
   "metadata": {},
   "outputs": [
    {
     "data": {
      "text/plain": [
       "1154.861 microseconds per iteration"
      ]
     },
     "execution_count": 7,
     "metadata": {},
     "output_type": "execute_result"
    }
   ],
   "source": [
    "time {part1} 100"
   ]
  },
  {
   "cell_type": "code",
   "execution_count": null,
   "metadata": {},
   "outputs": [],
   "source": []
  },
  {
   "cell_type": "markdown",
   "metadata": {},
   "source": [
    "# Part 2"
   ]
  },
  {
   "cell_type": "code",
   "execution_count": 9,
   "metadata": {},
   "outputs": [
    {
     "name": "stdout",
     "output_type": "stream",
     "text": [
      "3892\r\n"
     ]
    },
    {
     "data": {
      "text/plain": [
       "3946015 microseconds per iteration"
      ]
     },
     "execution_count": 9,
     "metadata": {},
     "output_type": "execute_result"
    }
   ],
   "source": [
    "time {puts [part2]}"
   ]
  },
  {
   "cell_type": "code",
   "execution_count": 10,
   "metadata": {},
   "outputs": [
    {
     "ename": "Tcl error",
     "evalue": "invalid command name \"part2p\"",
     "output_type": "error",
     "traceback": [
      "invalid command name \"part2p\"\n    while executing\n\"part2p\"\n    invoked from within\n\"time {puts [part2p]}\""
     ]
    }
   ],
   "source": [
    "time {puts [part2p]}"
   ]
  },
  {
   "cell_type": "code",
   "execution_count": null,
   "metadata": {},
   "outputs": [],
   "source": []
  }
 ],
 "metadata": {
  "kernelspec": {
   "display_name": "Tcl",
   "language": "tcl",
   "name": "tcljupyter"
  },
  "language_info": {
   "file_extension": ".tcl",
   "mimetype": "txt/x-tcl",
   "name": "tcl",
   "version": "8.6.10"
  }
 },
 "nbformat": 4,
 "nbformat_minor": 4
}
