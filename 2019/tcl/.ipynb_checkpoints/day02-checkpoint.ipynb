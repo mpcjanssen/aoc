{
 "cells": [
  {
   "cell_type": "code",
   "execution_count": 14,
   "metadata": {},
   "outputs": [
    {
     "data": {
      "text/plain": [
       "0.1"
      ]
     },
     "execution_count": 14,
     "metadata": {},
     "output_type": "execute_result"
    }
   ],
   "source": [
    "lappend auto_path [file dirname [info script]]/lib {C:\\Users\\Mark\\Src\\site-tcl\\libs-windows}\n",
    "tcl::tm::path add [file dirname [info script]]/modules [file dirname [info script]]/lib/cintcode\n",
    "\n",
    "package require util\n",
    "package require cintcode"
   ]
  },
  {
   "cell_type": "code",
   "execution_count": 21,
   "metadata": {},
   "outputs": [],
   "source": [
    "set program  [read-input day02]\n",
    "\n",
    "proc runwithinput {program in1 in2} {\n",
    "    set machine [PintCode  $program]\n",
    "    $machine setmem 1 $in1\n",
    "    $machine setmem 2 $in2\n",
    "    $machine run\n",
    "    set val [$machine mem 0]\n",
    "    rename $machine {}\n",
    "    return $val\n",
    "} \n",
    "\n"
   ]
  },
  {
   "cell_type": "code",
   "execution_count": 22,
   "metadata": {},
   "outputs": [],
   "source": [
    "proc  part1 {} { return [runwithinput $::program 12 2]}\n",
    "\n",
    "proc part2 {} {\n",
    "    foreach x [range 0 99] { \n",
    "        foreach y [range 0 99] {\n",
    "            if { [runwithinput $::program $x $y] == 19690720} {\n",
    "                return [expr {$x*100+$y}]\n",
    "            }\n",
    "        }\n",
    "    }\n",
    "}"
   ]
  },
  {
   "cell_type": "markdown",
   "metadata": {},
   "source": [
    "# Part 1"
   ]
  },
  {
   "cell_type": "code",
   "execution_count": 23,
   "metadata": {},
   "outputs": [
    {
     "data": {
      "text/plain": [
       "7210630"
      ]
     },
     "execution_count": 23,
     "metadata": {},
     "output_type": "execute_result"
    }
   ],
   "source": [
    "part1"
   ]
  },
  {
   "cell_type": "code",
   "execution_count": 24,
   "metadata": {},
   "outputs": [
    {
     "data": {
      "text/plain": [
       "113.141 microseconds per iteration"
      ]
     },
     "execution_count": 24,
     "metadata": {},
     "output_type": "execute_result"
    }
   ],
   "source": [
    "time {part1} 100"
   ]
  },
  {
   "cell_type": "code",
   "execution_count": null,
   "metadata": {},
   "outputs": [],
   "source": []
  },
  {
   "cell_type": "markdown",
   "metadata": {},
   "source": [
    "# Part 2"
   ]
  },
  {
   "cell_type": "code",
   "execution_count": 26,
   "metadata": {},
   "outputs": [
    {
     "name": "stdout",
     "output_type": "stream",
     "text": [
      "3892\r\n"
     ]
    },
    {
     "data": {
      "text/plain": [
       "408823 microseconds per iteration"
      ]
     },
     "execution_count": 26,
     "metadata": {},
     "output_type": "execute_result"
    }
   ],
   "source": [
    "time {puts [part2]}"
   ]
  }
 ],
 "metadata": {
  "kernelspec": {
   "display_name": "Tcl",
   "language": "tcl",
   "name": "tcljupyter"
  },
  "language_info": {
   "file_extension": ".tcl",
   "mimetype": "txt/x-tcl",
   "name": "tcl",
   "version": "8.6.10"
  }
 },
 "nbformat": 4,
 "nbformat_minor": 4
}
