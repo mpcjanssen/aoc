{
 "cells": [
  {
   "cell_type": "code",
   "execution_count": 1,
   "metadata": {},
   "outputs": [
    {
     "name": "stdout",
     "output_type": "stream",
     "text": [
      "0.1\n"
     ]
    }
   ],
   "source": [
    "lappend auto_path [file dirname [info script]]/lib\n",
    "tcl::tm::path add [file dirname [info script]]/modules\n",
    "package require util\n",
    "package require intcode"
   ]
  },
  {
   "cell_type": "code",
   "execution_count": 3,
   "metadata": {},
   "outputs": [],
   "source": [
    "set data [read-input day03];"
   ]
  },
  {
   "cell_type": "code",
   "execution_count": null,
   "metadata": {},
   "outputs": [],
   "source": [
    "proc line {input} {\n",
    "    set line {{0 0}} \n",
    "    foreach desc [split $input , ] {\n",
    "        addsegment line $desc\n",
    "    }\n",
    "    return $line\n",
    "}\n",
    "\n",
    "\n",
    "\n",
    "proc addsegment {lineVar desc} {\n",
    "     upvar $lineVar line\n",
    "     set dir [string index $desc 0]\n",
    "     set length [string range $desc 1 end]\n",
    "     set start [lindex $line end]\n",
    "     lassign $start sx sy\n",
    "     switch -exact $dir {\n",
    "         U {\n",
    "             foreach _ [range 1 $length] {\n",
    "                 incr sy\n",
    "                 lappend line [list $sx $sy]\n",
    "             }\n",
    "         }\n",
    "         D {\n",
    "             foreach _ [range 1 $length] {\n",
    "                 incr sy -1\n",
    "                 lappend line [list $sx $sy]\n",
    "             }\n",
    "         }\n",
    "        R {\n",
    "             foreach _ [range 1 $length] {\n",
    "                 incr sx\n",
    "                 lappend line [list $sx $sy]\n",
    "             }\n",
    "         }\n",
    "        L {\n",
    "             foreach _ [range 1 $length] {\n",
    "                 incr sx -1\n",
    "                 lappend line [list $sx $sy]\n",
    "             }\n",
    "         }\n",
    "     }\n",
    "}"
   ]
  },
  {
   "cell_type": "markdown",
   "metadata": {},
   "source": [
    "# Part 1"
   ]
  },
  {
   "cell_type": "code",
   "execution_count": 5,
   "metadata": {},
   "outputs": [
    {
     "name": "stderr",
     "output_type": "stream",
     "text": [
      "invalid command name \"line\"\n",
      "    while executing\n",
      "\"line $in2\"\n",
      "    (procedure \"part1\" line 3)\n",
      "    invoked from within\n",
      "\"part1\"\n"
     ]
    }
   ],
   "source": [
    "proc part1 {} {\n",
    "    lassign [split $::data \\n] in1 in2\n",
    "    return [lindex [lsort -integer -index 0 [lmap x [lintersect [line $in2] [line $in1]] {list [manhattan $x] $x}]] 1]\n",
    "}\n",
    "part1"
   ]
  },
  {
   "cell_type": "code",
   "execution_count": null,
   "metadata": {},
   "outputs": [],
   "source": []
  }
 ],
 "metadata": {
  "kernelspec": {
   "display_name": "Tcl",
   "language": "tcl",
   "name": "tcljupyter"
  },
  "language_info": {
   "file_extension": ".tcl",
   "mimetype": "txt/x-tcl",
   "name": "tcl",
   "version": "8.6.10"
  }
 },
 "nbformat": 4,
 "nbformat_minor": 4
}
