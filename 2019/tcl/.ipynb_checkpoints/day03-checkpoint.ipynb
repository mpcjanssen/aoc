{
 "cells": [
  {
   "cell_type": "code",
   "execution_count": 1,
   "metadata": {},
   "outputs": [
    {
     "data": {
      "text/plain": [
       "0.1"
      ]
     },
     "execution_count": 1,
     "metadata": {},
     "output_type": "execute_result"
    }
   ],
   "source": [
    "lappend auto_path [file dirname [info script]]/lib\n",
    "tcl::tm::path add [file dirname [info script]]/modules\n",
    "package require util\n",
    "package require intcode"
   ]
  },
  {
   "cell_type": "code",
   "execution_count": 2,
   "metadata": {},
   "outputs": [
    {
     "data": {
      "text/plain": []
     },
     "execution_count": 2,
     "metadata": {},
     "output_type": "execute_result"
    }
   ],
   "source": [
    "set data [read-input day03];"
   ]
  },
  {
   "cell_type": "code",
   "execution_count": 3,
   "metadata": {},
   "outputs": [],
   "source": [
    "proc line {input} {\n",
    "    set line {{0 0}} \n",
    "    foreach desc [split $input , ] {\n",
    "        addsegment line $desc\n",
    "    }\n",
    "    return $line\n",
    "}\n",
    "\n",
    "\n",
    "\n",
    "proc addsegment {lineVar desc} {\n",
    "     upvar $lineVar line\n",
    "     set dir [string index $desc 0]\n",
    "     set length [string range $desc 1 end]\n",
    "     set start [lindex $line end]\n",
    "     lassign $start sx sy\n",
    "     switch -exact $dir {\n",
    "         U {\n",
    "             foreach _ [range 1 $length] {\n",
    "                 incr sy\n",
    "                 lappend line [list $sx $sy]\n",
    "             }\n",
    "         }\n",
    "         D {\n",
    "             foreach _ [range 1 $length] {\n",
    "                 incr sy -1\n",
    "                 lappend line [list $sx $sy]\n",
    "             }\n",
    "         }\n",
    "        R {\n",
    "             foreach _ [range 1 $length] {\n",
    "                 incr sx\n",
    "                 lappend line [list $sx $sy]\n",
    "             }\n",
    "         }\n",
    "        L {\n",
    "             foreach _ [range 1 $length] {\n",
    "                 incr sx -1\n",
    "                 lappend line [list $sx $sy]\n",
    "             }\n",
    "         }\n",
    "     }\n",
    "}"
   ]
  },
  {
   "cell_type": "markdown",
   "metadata": {},
   "source": [
    "# Part 1"
   ]
  },
  {
   "cell_type": "code",
   "execution_count": 4,
   "metadata": {},
   "outputs": [
    {
     "data": {
      "text/plain": [
       "248 {248 0}"
      ]
     },
     "execution_count": 4,
     "metadata": {},
     "output_type": "execute_result"
    }
   ],
   "source": [
    "proc part1 {} {\n",
    "    lassign [split $::data \\n] in1 in2\n",
    "    return [lindex [lsort -integer -index 0 [lmap x [lintersect [line $in2] [line $in1]] {list [manhattan $x] $x}]] 1]\n",
    "}\n",
    "part1"
   ]
  },
  {
   "cell_type": "markdown",
   "metadata": {},
   "source": [
    "# Part 2"
   ]
  },
  {
   "cell_type": "code",
   "execution_count": 5,
   "metadata": {},
   "outputs": [
    {
     "data": {
      "text/plain": [
       "28580 {367 0}"
      ]
     },
     "execution_count": 5,
     "metadata": {},
     "output_type": "execute_result"
    }
   ],
   "source": [
    "proc linesum {p l1 l2} {\n",
    "    sum [list [lsearch -exact $l1 $p]  [lsearch -exact $l2 $p]]\n",
    "}\n",
    "proc part2 {} {\n",
    "    lassign [split $::data \\n] in1 in2\n",
    "    set l1 [line $in1] ; set l2 [line $in2] ; set ints [lintersect $l1 $l2]\n",
    "    return [lindex [lsort -integer -index 0 [lmap x $ints {list [linesum $x $l1 $l2] $x}]] 1]\n",
    "}\n",
    "part2"
   ]
  },
  {
   "cell_type": "code",
   "execution_count": 6,
   "metadata": {},
   "outputs": [],
   "source": [
    "proc addpathsegment {desc} {\n",
    "     set dir [string index $desc 0]\n",
    "     set length [string range $desc 1 end]\n",
    "     switch -exact $dir {\n",
    "         L { return [list l -$length 0]}\n",
    "         R { return [list l $length 0]}\n",
    "         D { return [list l 0 $length]}\n",
    "         U { return [list l 0 -$length]}\n",
    "    }\n",
    "}"
   ]
  },
  {
   "cell_type": "code",
   "execution_count": 7,
   "metadata": {},
   "outputs": [],
   "source": [
    "proc visualizeline {c input color} {\n",
    "    set path [list {M 0 0}] \n",
    "    set svg  {}\n",
    "    foreach desc [split $input , ] {\n",
    "        lappend path [addpathsegment $desc]\n",
    "    }\n",
    "    return \"<path d='[join $path {}]' fill='transparent' stroke='$color' stroke-width='10'/>\"\n",
    "}\n"
   ]
  },
  {
   "cell_type": "code",
   "execution_count": 8,
   "metadata": {},
   "outputs": [],
   "source": [
    "proc visualize {} {\n",
    "\n",
    "    lassign [split $::data \\n] in1 in2\n",
    "    set svg \"\n",
    "    <svg id='vis' viewbox='-4500 -10500 11000 15500'>\n",
    "     [visualizeline .c $in1 red]\n",
    "      [visualizeline .c $in2 green]\n",
    "        <circle cx='248' cy='0' r='50' fill='blue'/>\n",
    "         <circle cx='367' cy='0' r='50' fill='orange'/>\n",
    "      </svg>\n",
    "    \"\n",
    "    jupyter::html $svg\n",
    "}"
   ]
  },
  {
   "cell_type": "code",
   "execution_count": 9,
   "metadata": {},
   "outputs": [
    {
     "data": {
      "text/html": [
       "\n",
       "    <svg id='vis' viewbox='-4500 -10500 11000 15500'>\n",
       "     <path d='M 0 0l 1001 0l 0 915l 511 0l 0 336l -647 0l 0 844l 97 0l 0 579l -336 0l 0 -536l -645 0l 0 448l 915 0l 0 473l -742 0l 0 470l 230 0l 0 558l 214 0l 0 463l -374 0l 0 450l 68 0l 0 -625l -937 0l 0 135l -860 0l 0 -406l -526 0l 0 -555l 842 0l 0 988l 819 0l 0 -995l 585 0l 0 -218l -516 0l 0 756l -438 0l 0 -921l 144 0l 0 62l 238 0l 0 -144l 286 0l 0 -934l -682 0l 0 -13l -287 0l 0 588l -880 0l 0 -630l -882 0l 0 892l 559 0l 0 696l -329 0l 0 872l -946 0l 0 -219l 593 0l 0 -536l 402 0l 0 -946l -866 0l 0 -690l -341 0l 0 -729l 84 0l 0 -997l -579 0l 0 609l 407 0l 0 846l 225 0l 0 -953l 590 0l 0 -79l 590 0l 0 -725l -890 0l 0 384l -442 0l 0 364l 600 0l 0 114l 39 0l 0 962l 413 0l 0 -698l 762 0l 0 -520l -180 0l 0 557l 35 0l 0 -902l -476 0l 0 -95l 830 0l 0 -858l -312 0l 0 -879l -85 0l 0 -620l 505 0l 0 -248l -341 0l 0 -81l -323 0l 0 -296l -53 0l 0 -532l 963 0l 0 30l -380 0l 0 60l -590 0l 0 -699l 967 0l 0 -88l -725 0l 0 730l 706 0l 0 337l -248 0l 0 46l 131 0l 0 -541l -313 0l 0 -508l 120 0l 0 719l 28 0l 0 -342l 555 0l 0 -780l 397 0l 0 523l -619 0l 0 820l 865 0l 0 4l -790 0l 0 544l -873 0l 0 249l -220 0l 0 -343l 818 0l 0 -803l 309 0l 0 576l 811 0l 0 717l -800 0l 0 171l 523 0l 0 -630l -854 0l 0 -265l 207 0l 0 -147l 518 0l 0 -237l 822 0l 0 672l -140 0l 0 -580l 408 0l 0 739l -519 0l 0 -759l 664 0l 0 61l 258 0l 0 313l 472 0l 0 -437l 975 0l 0 -828l -54 0l 0 892l -370 0l 0 -509l -80 0l 0 -593l -268 0l 0 -856l -177 0l 0 -950l -266 0l 0 -29l 493 0l 0 228l -110 0l 0 -390l -92 0l 0 -8l -288 0l 0 -732l 459 0l 0 422l 287 0l 0 359l 915 0l 0 -295l 959 0l 0 -215l 82 0l 0 357l -970 0l 0 782l -653 0l 0 -399l -50 0l 0 720l 788 0l 0 396l -562 0l 0 560l 798 0l 0 196l 79 0l 0 732l 332 0l 0 957l -106 0l 0 199l 756 0l 0 -379l 716 0l 0 -282l 812 0l 0 -346l 592 0l 0 416l -454 0l 0 -612l -160 0l 0 -884l 373 0l 0 -306l 55 0l 0 492l 175 0l 0 233l -249 0l 0 616l -342 0l 0 650l -181 0l 0 -868l -761 0l 0 170l -976 0l 0 -711l 377 0l 0 113l -548 0l 0 -39l 62 0l 0 99l 853 0l 0 -249l -951 0l 0 -617l 257 0l 0 -457l 430 0l 0 355l -541 0l 0 -595l -176 0l 0 987l 365 0l 0 77l -181 0l 0 192l -688 0l 0 942l 617 0l 0 -484l 247 0l 0 -180l 771 0l 0 392l 184 0l 0 -597l -682 0l 0 -454l 856 0l 0 -616l 174 0l 0 -629l -607 0l 0 -41l -970 0l 0 602l 402 0l 0 208l 826 0' fill='transparent' stroke='red' stroke-width='10'/>\n",
       "      <path d='M 0 0l -994 0l 0 -238l 605 0l 0 -233l -509 0l 0 -81l 907 0l 0 -880l 666 0l 0 86l 6 0l 0 -249l 345 0l 0 492l -912 0l 0 -770l -827 0l 0 107l 988 0l 0 525l -471 0l 0 -706l 31 0l 0 -485l 835 0l 0 778l 419 0l 0 461l -937 0l 0 740l 559 0l 0 -309l -379 0l 0 -385l 828 0l 0 698l 276 0l 0 -914l -911 0l 0 -969l 282 0l 0 365l -43 0l 0 911l 256 0l 0 592l -451 0l 0 -162l -829 0l 0 564l 349 0l 0 -279l 19 0l 0 110l 259 0l 0 551l -172 0l 0 899l -924 0l 0 819l 532 0l 0 -737l -794 0l 0 -995l 168 0l 0 359l 847 0l 0 -426l 224 0l 0 -984l -929 0l 0 531l -797 0l 0 -292l -332 0l 0 280l 317 0l 0 648l 776 0l 0 52l 916 0l 0 -363l 919 0l 0 -890l 583 0l 0 -961l -89 0l 0 680l -894 0l 0 226l -83 0l 0 -68l 551 0l 0 -413l 259 0l 0 468l -702 0l 0 -453l -128 0l 0 -986l 238 0l 0 -805l 431 0l 0 -546l 944 0l 0 142l 677 0l 0 783l 336 0l 0 220l 40 0l 0 -391l 5 0l 0 760l -963 0l 0 764l 653 0l 0 -932l 473 0l 0 -311l -189 0l 0 883l 216 0l 0 -391l -634 0l 0 -275l -691 0l 0 -975l 130 0l 0 543l -163 0l 0 -736l 964 0l 0 -729l 752 0l 0 531l 90 0l 0 471l 687 0l 0 341l 441 0l 0 -562l 570 0l 0 -278l 570 0l 0 -177l -232 0l 0 -781l -874 0l 0 -258l 180 0l 0 28l 916 0l 0 395l 96 0l 0 -954l -222 0l 0 -578l -394 0l 0 -775l -851 0l 0 18l -681 0l 0 912l -761 0l 0 -945l -866 0l 0 12l 420 0l 0 168l 490 0l 0 -679l 521 0l 0 91l -782 0l 0 -583l -823 0l 0 -656l -365 0l 0 517l 319 0l 0 -725l -824 0l 0 531l -747 0l 0 -822l 893 0l 0 162l -11 0l 0 913l -295 0l 0 65l -393 0l 0 351l -432 0l 0 -828l -131 0l 0 384l 311 0l 0 -381l -26 0l 0 635l -180 0l 0 395l -576 0l 0 836l 548 0l 0 820l -219 0l 0 -749l -64 0l 0 2l -992 0l 0 -104l -501 0l 0 -247l 693 0l 0 862l 16 0l 0 -346l 332 0l 0 -618l 387 0l 0 -4l -206 0l 0 -943l 734 0l 0 164l 771 0l 0 -17l -511 0l 0 475l -75 0l 0 -965l 116 0l 0 627l 243 0l 0 77l 765 0l 0 831l -51 0l 0 -879l 207 0l 0 500l 289 0l 0 -749l 206 0l 0 850l 832 0l 0 -407l -985 0l 0 -514l 290 0l 0 -617l -697 0l 0 -812l -633 0l 0 -936l 214 0l 0 447l 509 0l 0 585l 787 0l 0 500l 305 0l 0 598l 866 0l 0 -781l -771 0l 0 350l 558 0l 0 -669l 284 0l 0 686l -231 0l 0 -574l -539 0l 0 337l -135 0l 0 751l 315 0l 0 344l -694 0l 0 947l 118 0l 0 -377l 50 0l 0 -181l -96 0l 0 -904l -776 0l 0 268l -283 0l 0 -233l -757 0l 0 -536l -161 0l 0 881l 724 0l 0 572l 322 0' fill='transparent' stroke='green' stroke-width='10'/>\n",
       "        <circle cx='248' cy='0' r='50' fill='blue'/>\n",
       "         <circle cx='367' cy='0' r='50' fill='orange'/>\n",
       "      </svg>\n",
       "    "
      ]
     },
     "metadata": {},
     "output_type": "display_data"
    },
    {
     "data": {
      "text/plain": []
     },
     "execution_count": 9,
     "metadata": {},
     "output_type": "execute_result"
    }
   ],
   "source": [
    "visualize;"
   ]
  },
  {
   "cell_type": "code",
   "execution_count": null,
   "metadata": {},
   "outputs": [],
   "source": []
  },
  {
   "cell_type": "code",
   "execution_count": null,
   "metadata": {},
   "outputs": [],
   "source": []
  }
 ],
 "metadata": {
  "kernelspec": {
   "display_name": "Tcl",
   "language": "tcl",
   "name": "tcljupyter"
  },
  "language_info": {
   "file_extension": ".tcl",
   "mimetype": "txt/x-tcl",
   "name": "tcl",
   "version": "8.6.10"
  }
 },
 "nbformat": 4,
 "nbformat_minor": 4
}
