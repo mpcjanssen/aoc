{
 "cells": [
  {
   "cell_type": "code",
   "execution_count": 183,
   "metadata": {},
   "outputs": [
    {
     "data": {
      "text/plain": [
       "0.1"
      ]
     },
     "execution_count": 183,
     "metadata": {},
     "output_type": "execute_result"
    }
   ],
   "source": [
    "lappend auto_path [file dirname [info script]]/lib\n",
    "tcl::tm::path add [file dirname [info script]]/modules [file dirname [info script]]/lib/cintcode\n",
    "package require util"
   ]
  },
  {
   "cell_type": "code",
   "execution_count": 184,
   "metadata": {},
   "outputs": [
    {
     "data": {
      "text/plain": [
       "{11 BNMWF, 1 MRVFT, 10 PBNSF => 7 XSFVQ} {149 ORE => 4 SMSB} {1 XHQDX, 1 SVSTJ, 2 LDHX => 7 JMWQG} {12 MJCLX => 9 PBNSF} {132 ORE => 7 XPTXL} {15 TZMWG, 1 LDHX, 1 PDVR => 7 LBQB} {1 HJTD, 8 VFXHC => 2 SVSTJ} {5 LBHQ, 6 MTQCB => 4 MHBZ} {1 PRXT, 1 FWZN => 2 PBMPL} {1 XPTXL => 1 HMRGM} {10 XHPHR => 6 NSVJL} {3 QZQLZ, 3 MTQCB => 4 TZMWG} {5 LBHQ, 2 VPSDV => 3 ZFCD} {13 WPFP => 6 ZXMGK} {10 MHJMX, 75 LDHX, 52 JMWQG, 4 QWRB, 1 SVNVJ, 17 BNMWF, 18 GHVN => 1 FUEL} {4 PFQRG, 14 XVNL => 5 PDCV} {11 JMWQG, 10 ZBNCP => 6 NTJZH} {14 PBMPL, 12 PRXT, 9 MJQS => 9 XVNL} {9 GDNG, 13 LBQB => 9 QWRB} {1 CXNM => 6 PFQRG} {9 NTJZH, 7 BNMWF, 11 JCHP, 1 MHBZ, 1 SVSTJ, 9 XRDN => 5 SVNVJ} {1 XHPHR, 1 GSMP => 4 THRVR} {26 FWZN => 4 WPFP} {35 VJTFJ, 2 XSFVQ, 6 HJVN, 1 NSVJL, 1 JCHP, 3 MJCLX, 1 QZNCK => 6 GHVN} {1 WPFP, 3 XHPHR => 2 HJVN} {5 SMSB => 7 HNCDS} {111 ORE => 4 GSMP} {6 LBHQ => 8 GDNG} {2 GDNG, 5 MHBZ => 1 RNMKC} {15 THRVR, 4 NWNSH, 1 NSVJL => 7 FDVH} {2 HMRGM => 9 FWZN} {6 MJQS, 5 JRZXM => 5 NWNSH} {14 ZXMGK, 1 JTXWX => 6 DLWT} {1 MJQS, 3 FWZN, 2 PRXT => 1 JTXWX} {1 GSMP, 4 CXNM => 3 JRZXM} {151 ORE => 9 ZNPRL} {2 NTJZH, 1 DLWT, 3 ZBNCP => 9 MRVFT} {14 SWZCB, 1 VPSDV => 7 XRDN} {14 LBHQ, 16 FDVH, 9 PFQRG => 4 PRXT} {22 CXNM => 9 HJTD} {1 VFXHC, 1 MTQCB => 6 QZQLZ} {6 SWZCB, 2 PDCV, 17 RNMKC => 9 LTHFW} {4 ZNPRL => 6 CXNM} {2 CXNM => 3 LBHQ} {8 MHBZ, 2 QZQLZ, 2 LBQB => 3 VJTFJ} {3 ZFCD => 1 XHQDX} {1 VJTFJ, 7 MHBZ => 8 ZBNCP} {5 CXNM => 2 VPSDV} {7 MJQS => 9 VFXHC} {2 LTHFW, 11 HJVN, 4 XRDN, 8 MRVFT, 3 NSVJL, 3 SVSTJ, 5 XSFVQ, 13 RNMKC => 8 MHJMX} {2 HMRGM => 3 XHPHR} {1 GDNG, 19 PDVR => 3 SWZCB} {18 HMRGM, 10 HNCDS => 2 MJQS} {6 HNCDS, 2 HMRGM, 1 LBHQ => 3 MTQCB} {16 VJTFJ, 1 WPFP, 6 JMWQG => 6 BNMWF} {3 TZMWG, 1 FWZN => 7 PDVR} {10 ZXMGK => 4 QZNCK} {32 LBQB, 1 ZBNCP => 1 JCHP} {27 PDVR, 7 QZQLZ, 7 PBMPL => 3 MJCLX} {5 MHBZ, 12 ZFCD => 4 LDHX}"
      ]
     },
     "execution_count": 184,
     "metadata": {},
     "output_type": "execute_result"
    }
   ],
   "source": [
    "set data [split [read-input day14] \\n]"
   ]
  },
  {
   "cell_type": "code",
   "execution_count": 185,
   "metadata": {},
   "outputs": [
    {
     "data": {
      "text/plain": [
       "{9 ORE => 2 A} {8 ORE => 3 B} {7 ORE => 5 C} {3 A, 4 B => 1 AB} {5 B, 7 C => 1 BC} {4 C, 1 A => 1 CA} {2 AB, 3 BC, 4 CA => 1 FUEL}"
      ]
     },
     "execution_count": 185,
     "metadata": {},
     "output_type": "execute_result"
    }
   ],
   "source": [
    "set ex1 [split {10 ORE => 10 A\n",
    "1 ORE => 1 B\n",
    "7 A, 1 B => 1 C\n",
    "7 A, 1 C => 1 D\n",
    "7 A, 1 D => 1 E\n",
    "7 A, 1 E => 1 FUEL} \\n]\n",
    "set ex2 [split {9 ORE => 2 A\n",
    "8 ORE => 3 B\n",
    "7 ORE => 5 C\n",
    "3 A, 4 B => 1 AB\n",
    "5 B, 7 C => 1 BC\n",
    "4 C, 1 A => 1 CA\n",
    "2 AB, 3 BC, 4 CA => 1 FUEL} \\n]"
   ]
  },
  {
   "cell_type": "code",
   "execution_count": 234,
   "metadata": {},
   "outputs": [],
   "source": [
    "proc book data {\n",
    "    set book {}\n",
    "    foreach line $data {\n",
    "        set parts [lassign [lreverse [lmap x [split [string map {\", \" @ \" => \" @ \" \"  @ } $line] @] {string trim $x}]] comp amount]\n",
    "        dict set book $comp [list $amount $parts]\n",
    "    }\n",
    "    return $book\n",
    "}\n"
   ]
  },
  {
   "cell_type": "code",
   "execution_count": 235,
   "metadata": {},
   "outputs": [
    {
     "data": {
      "text/plain": [
       "{GHVN 18 BNMWF 17 SVNVJ 1 QWRB 4 JMWQG 52 LDHX 75 MHJMX 10} {}"
      ]
     },
     "execution_count": 235,
     "metadata": {},
     "output_type": "execute_result"
    }
   ],
   "source": [
    "proc reqs {book comp reqamount stock} {\n",
    "\n",
    "    lassign [dict get $book $comp] amount parts\n",
    "\n",
    "    set extra 0\n",
    "    set times [expr {$reqamount / $amount}]\n",
    "    set extra [expr {$reqamount % $amount}]\n",
    "    if {$extra != 0} {\n",
    "        incr times\n",
    "        dict incr stock $comp [expr {$amount - $extra}]\n",
    "    }\n",
    "    set reqs {}\n",
    "    foreach {req amount} $parts {\n",
    "        lappend reqs $req [expr {$amount * $times}]\n",
    "    }\n",
    "    return [list $reqs $stock]\n",
    "}\n",
    "reqs [book $data] FUEL 1 {}"
   ]
  },
  {
   "cell_type": "code",
   "execution_count": 236,
   "metadata": {},
   "outputs": [],
   "source": [
    "proc produce {book parts stock} {\n",
    "    set res {}\n",
    "    foreach {part reqamount} $parts {\n",
    "        if {$part eq \"ORE\"} {\n",
    "            dict incr res $part $reqamount\n",
    "            continue\n",
    "        }\n",
    "        if {[dict exists $stock $part]} {\n",
    "        set instock [dict get $stock $part]\n",
    "        if {$instock > $reqamount } {\n",
    "            dict incr stock $part -$reqamount\n",
    "            continue\n",
    "        } else {\n",
    "            set stock [dict remove $stock $part]\n",
    "            incr reqamount -$instock\n",
    "        }\n",
    "        }\n",
    "        lassign [reqs $book $part $reqamount $stock] reqs stock\n",
    "        foreach {req amount} $reqs {\n",
    "\n",
    "            dict incr res $req $amount\n",
    "        } \n",
    "    }\n",
    "    return [list $res $stock]\n",
    "}\n"
   ]
  },
  {
   "cell_type": "code",
   "execution_count": 237,
   "metadata": {},
   "outputs": [
    {
     "data": {
      "text/plain": [
       "{GHVN 18 BNMWF 17 SVNVJ 1 QWRB 4 JMWQG 52 LDHX 75 MHJMX 10} {}"
      ]
     },
     "execution_count": 237,
     "metadata": {},
     "output_type": "execute_result"
    }
   ],
   "source": [
    "produce $book {FUEL 1} {}"
   ]
  },
  {
   "cell_type": "markdown",
   "metadata": {},
   "source": [
    "# Part 1"
   ]
  },
  {
   "cell_type": "code",
   "execution_count": 241,
   "metadata": {},
   "outputs": [
    {
     "data": {
      "text/plain": [
       "ORE 485720"
      ]
     },
     "execution_count": 241,
     "metadata": {},
     "output_type": "execute_result"
    }
   ],
   "source": [
    "proc part1 {data} {\n",
    "    set reqs {FUEL 1}\n",
    "    set stock {}\n",
    "    while {1} {\n",
    "        lassign  [produce [book $data] $reqs $stock] reqs stock\n",
    "        if {[llength $reqs] == 2 } break\n",
    "    }\n",
    "    return $reqs\n",
    "}\n",
    "part1 $data"
   ]
  },
  {
   "cell_type": "markdown",
   "metadata": {},
   "source": [
    "# Part 2"
   ]
  },
  {
   "cell_type": "code",
   "execution_count": null,
   "metadata": {},
   "outputs": [],
   "source": [
    "set book [book $data]\n"
   ]
  },
  {
   "cell_type": "code",
   "execution_count": 243,
   "metadata": {},
   "outputs": [
    {
     "name": "stdout",
     "output_type": "stream",
     "text": [
      "Trying 500000000000\n",
      "Trying 250000000000\n",
      "Trying 125000000000\n",
      "Trying 62500000000\n",
      "Trying 31250000000\n",
      "Trying 15625000000\n",
      "Trying 7812500000\n",
      "Trying 3906250000\n",
      "Trying 1953125000\n",
      "Trying 976562500\n",
      "Trying 488281250\n",
      "Trying 244140625\n",
      "Trying 122070312\n",
      "Trying 61035156\n",
      "Trying 30517578\n",
      "Trying 15258789\n",
      "Trying 7629394\n",
      "Trying 3814697\n",
      "Trying 5722045\n",
      "Trying 4768371\n",
      "Trying 4291534\n",
      "Trying 4053115\n",
      "Trying 3933906\n",
      "Trying 3874301\n",
      "Trying 3844499\n",
      "Trying 3859400\n",
      "Trying 3851949\n",
      "Trying 3848224\n",
      "Trying 3850086\n",
      "Trying 3849155\n",
      "Trying 3848689\n",
      "Trying 3848922\n",
      "Trying 3849038\n",
      "Trying 3848980\n",
      "Trying 3849009\n",
      "Trying 3848994\n",
      "Trying 3849001\n",
      "Trying 3848997\n",
      "Trying 3848999\n",
      "Trying 3848998\n",
      "Result 3848998\n"
     ]
    },
    {
     "data": {
      "text/plain": [
       "3848998"
      ]
     },
     "execution_count": 243,
     "metadata": {},
     "output_type": "execute_result"
    }
   ],
   "source": [
    "proc part2 {ores book} {\n",
    "set upper $ores\n",
    "set lower 0\n",
    "\n",
    "\n",
    "while 1 {\n",
    "    set try [expr {($upper-$lower)/2+$lower}]\n",
    "    puts \"Trying $try\"\n",
    "    set reqs [list FUEL $try]\n",
    "    set stock {}\n",
    "    while {1} {\n",
    "        lassign  [produce $book $reqs $stock] reqs stock\n",
    "        if {[llength $reqs] == 2 } break\n",
    "    }\n",
    "    set ores [lindex $reqs end]\n",
    "    if { $ores > 1000000000000} {\n",
    "        set upper $try\n",
    "    } else {\n",
    "        set lower $try\n",
    "    }\n",
    "    if {$upper - $lower == 1} {\n",
    "        puts \"Result $lower\"\n",
    "        break\n",
    "    }\n",
    "}\n",
    "return $lower\n",
    "}\n",
    "part2 1000000000000 [book $data]"
   ]
  },
  {
   "cell_type": "code",
   "execution_count": null,
   "metadata": {},
   "outputs": [],
   "source": []
  }
 ],
 "metadata": {
  "kernelspec": {
   "display_name": "Tcl",
   "language": "tcl",
   "name": "tcljupyter"
  },
  "language_info": {
   "file_extension": ".tcl",
   "mimetype": "txt/x-tcl",
   "name": "tcl",
   "version": "8.6.10"
  }
 },
 "nbformat": 4,
 "nbformat_minor": 4
}
