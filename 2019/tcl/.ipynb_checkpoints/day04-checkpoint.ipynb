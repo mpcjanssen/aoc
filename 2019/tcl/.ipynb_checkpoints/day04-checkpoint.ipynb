{
 "cells": [
  {
   "cell_type": "code",
   "execution_count": 5,
   "metadata": {},
   "outputs": [
    {
     "data": {
      "text/plain": [
       "0.1"
      ]
     },
     "execution_count": 5,
     "metadata": {},
     "output_type": "execute_result"
    }
   ],
   "source": [
    "lappend auto_path [file dirname [info script]]/lib\n",
    "tcl::tm::path add [file dirname [info script]]/modules\n",
    "package require util\n",
    "package require seq"
   ]
  },
  {
   "cell_type": "code",
   "execution_count": 12,
   "metadata": {},
   "outputs": [
    {
     "data": {
      "text/plain": []
     },
     "execution_count": 12,
     "metadata": {},
     "output_type": "execute_result"
    }
   ],
   "source": [
    "set input [range 231832 767346];"
   ]
  },
  {
   "cell_type": "code",
   "execution_count": 13,
   "metadata": {},
   "outputs": [],
   "source": [
    "proc increasingdigits {x} {\n",
    "    set l [split $x {}]\n",
    "    return [expr {[lsort -integer $l] eq $l}]\n",
    "}\n",
    " \n",
    "proc part1candidates {} {\n",
    "    set subs [join [lmap x [range 0 9] {list [string repeat  $x 2] {}}]]\n",
    "    set candidates {}\n",
    "    foreach x [lfilter $::input increasingdigits] {\n",
    "        if {$x ne [string map $subs $x]} {\n",
    "            lappend candidates $x\n",
    "        }\n",
    "    }\n",
    "    return $candidates \n",
    "}\n",
    "\n",
    "set p1candidates [part1candidates]\n",
    "\n",
    "proc part1 {} {\n",
    "    return [llength $::p1candidates]   \n",
    "}"
   ]
  },
  {
   "cell_type": "code",
   "execution_count": 14,
   "metadata": {},
   "outputs": [
    {
     "data": {
      "text/plain": [
       "1"
      ]
     },
     "execution_count": 14,
     "metadata": {},
     "output_type": "execute_result"
    }
   ],
   "source": [
    "llength [part1]"
   ]
  },
  {
   "cell_type": "code",
   "execution_count": null,
   "metadata": {},
   "outputs": [],
   "source": [
    "set p1candidates [part1candidates]\n",
    "\n",
    "proc part1 {} {\n",
    "    return [llength $::p1candidates]   \n",
    "}\n",
    "\n",
    "proc part2 {} {\n",
    "    set candidates {}\n",
    "    foreach x $::p1candidates {\n",
    "        if {[lsearch [dict values [freq $x]] 2] != -1} {\n",
    "            lappend candidates $x\n",
    "        }\n",
    "    }\n",
    "    return  [llength $candidates]    \n",
    "}"
   ]
  }
 ],
 "metadata": {
  "kernelspec": {
   "display_name": "Tcl",
   "language": "tcl",
   "name": "tcljupyter"
  },
  "language_info": {
   "file_extension": ".tcl",
   "mimetype": "txt/x-tcl",
   "name": "tcl",
   "version": "8.6.10"
  }
 },
 "nbformat": 4,
 "nbformat_minor": 4
}
