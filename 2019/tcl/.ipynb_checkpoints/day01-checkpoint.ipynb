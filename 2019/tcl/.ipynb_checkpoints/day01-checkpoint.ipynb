{
 "cells": [
  {
   "cell_type": "code",
   "execution_count": 1,
   "metadata": {},
   "outputs": [],
   "source": [
    "tcl::tm::path add [file join . modules]\n",
    "package require util\n",
    "\n",
    "set mass [read-input day01]\n",
    "\n",
    "proc fuel {mass} {expr {$mass / 3 - 2 }}\n",
    "\n",
    "proc part1 {} {return [sum [lmap x $::mass {fuel $x}]]}\n",
    "proc part2 {} {return [sum [lmap x $::mass {sum [lrange [iterate-until fuel $x neg] 1 end] }]]}\n"
   ]
  },
  {
   "cell_type": "code",
   "execution_count": 2,
   "metadata": {},
   "outputs": [
    {
     "data": {
      "text/plain": [
       "185 microseconds per iteration"
      ]
     },
     "execution_count": 2,
     "metadata": {},
     "output_type": "execute_result"
    }
   ],
   "source": [
    "time part1"
   ]
  },
  {
   "cell_type": "code",
   "execution_count": 3,
   "metadata": {},
   "outputs": [
    {
     "data": {
      "text/plain": [
       "4881041"
      ]
     },
     "execution_count": 3,
     "metadata": {},
     "output_type": "execute_result"
    }
   ],
   "source": [
    "part2"
   ]
  },
  {
   "cell_type": "markdown",
   "metadata": {},
   "source": [
    "## Using sequioa"
   ]
  },
  {
   "cell_type": "code",
   "execution_count": 57,
   "metadata": {},
   "outputs": [],
   "source": [
    "catch {\n",
    "rename range {}\n",
    "rename iterate-until {}\n",
    "}\n",
    "package forget seq\n",
    "package require seq\n",
    "namespace import seq::*"
   ]
  },
  {
   "cell_type": "code",
   "execution_count": 58,
   "metadata": {},
   "outputs": [
    {
     "data": {
      "text/plain": [
       "3255932"
      ]
     },
     "execution_count": 58,
     "metadata": {},
     "output_type": "execute_result"
    }
   ],
   "source": [
    "interp alias {} total {} reduce 0 tcl::mathop::+\n",
    "total [map fuel [listseq $mass]]"
   ]
  },
  {
   "cell_type": "code",
   "execution_count": 67,
   "metadata": {},
   "outputs": [
    {
     "data": {
      "text/plain": [
       "4881041"
      ]
     },
     "execution_count": 67,
     "metadata": {},
     "output_type": "execute_result"
    }
   ],
   "source": [
    "interp alias {} neg {} tcl::mathop::> 0\n",
    "proc total-fuel {x} {\n",
    "    total [drop [iterate-until neg fuel $x]]\n",
    "}\n",
    "total [map total-fuel [listseq $mass]]"
   ]
  },
  {
   "cell_type": "code",
   "execution_count": null,
   "metadata": {},
   "outputs": [],
   "source": []
  }
 ],
 "metadata": {
  "kernelspec": {
   "display_name": "Tcl",
   "language": "tcl",
   "name": "tcljupyter"
  },
  "language_info": {
   "file_extension": ".tcl",
   "mimetype": "txt/x-tcl",
   "name": "tcl",
   "version": "8.6.10"
  }
 },
 "nbformat": 4,
 "nbformat_minor": 4
}
