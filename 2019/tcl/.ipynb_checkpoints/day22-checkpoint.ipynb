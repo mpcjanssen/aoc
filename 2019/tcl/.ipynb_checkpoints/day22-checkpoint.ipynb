{
 "cells": [
  {
   "cell_type": "code",
   "execution_count": 1,
   "metadata": {},
   "outputs": [
    {
     "data": {
      "text/plain": [
       "0.1"
      ]
     },
     "execution_count": 1,
     "metadata": {},
     "output_type": "execute_result"
    }
   ],
   "source": [
    "tcl::tm::path add [file dirname [info script]]/modules\n",
    "package require util"
   ]
  },
  {
   "cell_type": "code",
   "execution_count": 2,
   "metadata": {},
   "outputs": [],
   "source": [
    "proc deck n {return [range 0 [incr n -1]]}"
   ]
  },
  {
   "cell_type": "code",
   "execution_count": 3,
   "metadata": {},
   "outputs": [],
   "source": [
    "proc newstack {deck} {lreverse $deck}"
   ]
  },
  {
   "cell_type": "code",
   "execution_count": 25,
   "metadata": {},
   "outputs": [],
   "source": [
    "proc deal {deck n} {\n",
    "    set pos 0\n",
    "    set deckpos 0\n",
    "    set new {}\n",
    "    set count [llength $deck]\n",
    "    while {$deckpos < $count} {\n",
    "        # puts $new\n",
    "        dict set new $pos [lindex $deck $deckpos]\n",
    "        incr deckpos\n",
    "        set pos [expr {($pos+$n) % $count}]\n",
    "    }\n",
    "    return [dict values [lsort -stride 2 $new]]\n",
    "}"
   ]
  },
  {
   "cell_type": "code",
   "execution_count": 26,
   "metadata": {},
   "outputs": [],
   "source": [
    "proc cut {deck n} {\n",
    "    if {$n > 0} {\n",
    "        set top [lrange $deck 0 $n-1]\n",
    "        set rest [lrange $deck $n end]\n",
    "        return [lappend rest {*}$top]\n",
    "    } else {\n",
    "        \n",
    "        set top [lrange $deck end+[expr {$n+1}] end]\n",
    "        set rest [lrange $deck 0 end+$n]\n",
    "        return [lappend top {*}$rest]\n",
    "    }\n",
    "}"
   ]
  },
  {
   "cell_type": "code",
   "execution_count": 27,
   "metadata": {},
   "outputs": [
    {
     "data": {
      "text/plain": [
       "0 7 4 1 8 5 2 9 6 3"
      ]
     },
     "execution_count": 27,
     "metadata": {},
     "output_type": "execute_result"
    }
   ],
   "source": [
    "deal [deck 10] 3"
   ]
  },
  {
   "cell_type": "code",
   "execution_count": 30,
   "metadata": {},
   "outputs": [
    {
     "data": {
      "text/plain": [
       "0 3 6 9 2 5 8 1 4 7"
      ]
     },
     "execution_count": 30,
     "metadata": {},
     "output_type": "execute_result"
    }
   ],
   "source": [
    "newstack [newstack [deal [deck 10] 7]]"
   ]
  },
  {
   "cell_type": "code",
   "execution_count": 36,
   "metadata": {},
   "outputs": [
    {
     "name": "stdout",
     "output_type": "stream",
     "text": [
      "4188\n"
     ]
    }
   ],
   "source": [
    "set commands [split [read-input day22] \\n]\n",
    "set deck [deck 10007]\n",
    "foreach cmd $commands {\n",
    "    set cnt [lindex $cmd end]\n",
    "    switch -glob $cmd {\n",
    "        cut* {set deck [cut $deck $cnt]}\n",
    "        {deal with *} {set deck [deal $deck $cnt]}\n",
    "        {deal into *} {set deck [newstack $deck]}\n",
    "    }\n",
    "}\n",
    "puts [lindex $deck 2019]"
   ]
  },
  {
   "cell_type": "code",
   "execution_count": 37,
   "metadata": {},
   "outputs": [
    {
     "name": "stdout",
     "output_type": "stream",
     "text": [
      "9 2 5 8 1 4 7 0 3 6\n"
     ]
    }
   ],
   "source": [
    "set testdata {\n",
    "deal with increment 7\n",
    "deal into new stack\n",
    "deal into new stack\n",
    "}\n",
    "set commands [split $testdata \\n]\n",
    "set deck [deck 10]\n",
    "foreach cmd $commands {\n",
    "    set cnt [lindex $cmd end]\n",
    "    switch -glob $cmd {\n",
    "        cut* {set deck [cut $deck $cnt]}\n",
    "        {deal with *} {set deck [deal $deck $cnt]}\n",
    "        {deal into *} {set deck [newstack $deck]}\n",
    "    }\n",
    "}\n",
    "puts $deck"
   ]
  },
  {
   "cell_type": "code",
   "execution_count": null,
   "metadata": {},
   "outputs": [],
   "source": []
  }
 ],
 "metadata": {
  "kernelspec": {
   "display_name": "Tcl",
   "language": "tcl",
   "name": "tcljupyter"
  },
  "language_info": {
   "file_extension": ".tcl",
   "mimetype": "txt/x-tcl",
   "name": "tcl",
   "version": "8.6.10"
  }
 },
 "nbformat": 4,
 "nbformat_minor": 4
}
