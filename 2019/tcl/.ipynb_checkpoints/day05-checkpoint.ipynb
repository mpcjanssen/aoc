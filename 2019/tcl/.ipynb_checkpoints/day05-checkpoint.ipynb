{
 "cells": [
  {
   "cell_type": "code",
   "execution_count": 16,
   "metadata": {},
   "outputs": [],
   "source": [
    "lappend auto_path [file dirname [info script]]/lib\n",
    "tcl::tm::path add [file dirname [info script]]/modules [file dirname [info script]]/lib/cintcode\n",
    "package require util\n",
    "package require cintcode\n",
    "\n",
    "proc ex1 {} {\n",
    "    set machine [CintCode {1002 4 3 4 33}]\n",
    "    $machine run\n",
    "    return [$machine mem 4]\n",
    "}\n",
    "\n",
    "proc part1 {} {\n",
    "    set program [read-input day05]\n",
    "    set machine [CintCode [split $program ,  ]]\n",
    "    $machine input 1\n",
    "    $machine run\n",
    "    return [list [$machine state] [$machine outputs]]\n",
    "}\n",
    "\n",
    "proc part2 {} {\n",
    "    set program [read-input day05]\n",
    "    set machine [CintCode [split $program ,]]\n",
    "    $machine input 5\n",
    "    $machine run\n",
    "    return [list [$machine state] [$machine outputs]]\n",
    "}\n"
   ]
  },
  {
   "cell_type": "code",
   "execution_count": 17,
   "metadata": {},
   "outputs": [
    {
     "data": {
      "text/plain": [
       "99"
      ]
     },
     "execution_count": 17,
     "metadata": {},
     "output_type": "execute_result"
    }
   ],
   "source": [
    "ex1"
   ]
  },
  {
   "cell_type": "code",
   "execution_count": 18,
   "metadata": {},
   "outputs": [
    {
     "data": {
      "text/plain": [
       "stopped {0 0 0 0 0 0 0 0 0 13978427}"
      ]
     },
     "execution_count": 18,
     "metadata": {},
     "output_type": "execute_result"
    }
   ],
   "source": [
    "part1"
   ]
  },
  {
   "cell_type": "code",
   "execution_count": 19,
   "metadata": {},
   "outputs": [
    {
     "data": {
      "text/plain": [
       "stopped 11189491"
      ]
     },
     "execution_count": 19,
     "metadata": {},
     "output_type": "execute_result"
    }
   ],
   "source": [
    "part2"
   ]
  }
 ],
 "metadata": {
  "kernelspec": {
   "display_name": "Tcl",
   "language": "tcl",
   "name": "tcljupyter"
  },
  "language_info": {
   "file_extension": ".tcl",
   "mimetype": "txt/x-tcl",
   "name": "tcl",
   "version": "8.6.10"
  }
 },
 "nbformat": 4,
 "nbformat_minor": 4
}
