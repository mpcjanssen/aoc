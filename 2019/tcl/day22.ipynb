{
 "cells": [
  {
   "cell_type": "code",
   "execution_count": 75,
   "metadata": {},
   "outputs": [
    {
     "data": {
      "text/plain": [
       "0.1"
      ]
     },
     "execution_count": 75,
     "metadata": {},
     "output_type": "execute_result"
    }
   ],
   "source": [
    "tcl::tm::path add [file dirname [info script]]/modules\n",
    "package require util"
   ]
  },
  {
   "cell_type": "code",
   "execution_count": 76,
   "metadata": {},
   "outputs": [],
   "source": [
    "proc deck n {return [range 0 [incr n -1]]}"
   ]
  },
  {
   "cell_type": "code",
   "execution_count": 77,
   "metadata": {},
   "outputs": [],
   "source": [
    "proc newstack {deck} {lreverse $deck}"
   ]
  },
  {
   "cell_type": "code",
   "execution_count": 78,
   "metadata": {},
   "outputs": [],
   "source": [
    "proc deal {deck n} {\n",
    "    set pos 0\n",
    "    set deckpos 0\n",
    "    set new {}\n",
    "    set count [llength $deck]\n",
    "    while {$deckpos < $count} {\n",
    "        # puts $new\n",
    "        dict set new $pos [lindex $deck $deckpos]\n",
    "        incr deckpos\n",
    "        set pos [expr {($pos+$n) % $count}]\n",
    "    }\n",
    "    return [dict values [lsort -stride 2 $new]]\n",
    "}"
   ]
  },
  {
   "cell_type": "code",
   "execution_count": 79,
   "metadata": {},
   "outputs": [],
   "source": [
    "proc cut {deck n} {\n",
    "    if {$n > 0} {\n",
    "        set top [lrange $deck 0 $n-1]\n",
    "        set rest [lrange $deck $n end]\n",
    "        return [lappend rest {*}$top]\n",
    "    } else {\n",
    "        \n",
    "        set top [lrange $deck end+[expr {$n+1}] end]\n",
    "        set rest [lrange $deck 0 end+$n]\n",
    "        return [lappend top {*}$rest]\n",
    "    }\n",
    "}"
   ]
  },
  {
   "cell_type": "code",
   "execution_count": 80,
   "metadata": {},
   "outputs": [
    {
     "data": {
      "text/plain": [
       "0 7 4 1 8 5 2 9 6 3"
      ]
     },
     "execution_count": 80,
     "metadata": {},
     "output_type": "execute_result"
    }
   ],
   "source": [
    "deal [deck 10] 3"
   ]
  },
  {
   "cell_type": "code",
   "execution_count": 81,
   "metadata": {},
   "outputs": [
    {
     "data": {
      "text/plain": [
       "0 3 6 9 2 5 8 1 4 7"
      ]
     },
     "execution_count": 81,
     "metadata": {},
     "output_type": "execute_result"
    }
   ],
   "source": [
    "newstack [newstack [deal [deck 10] 7]]"
   ]
  },
  {
   "cell_type": "code",
   "execution_count": 86,
   "metadata": {},
   "outputs": [
    {
     "name": "stdout",
     "output_type": "stream",
     "text": [
      "100\n",
      "54\n",
      "dealinc\n",
      "-667\n",
      "cur\n",
      "15\n",
      "dealinc\n",
      "-1826\n",
      "cur\n",
      "55\n",
      "dealinc\n",
      "-8444\n",
      "cur\n",
      "44\n",
      "dealinc\n",
      "910\n",
      "cur\n",
      "63\n",
      "dealinc\n",
      "4025\n",
      "cur\n",
      "45\n",
      "dealinc\n",
      "6430\n",
      "cur\n",
      "53\n",
      "dealinc\n",
      "-3727\n",
      "cur\n",
      "stack\n",
      "newstack\n",
      "6\n",
      "dealinc\n",
      "-5464\n",
      "cur\n",
      "stack\n",
      "newstack\n",
      "48\n",
      "dealinc\n",
      "6238\n",
      "cur\n",
      "23\n",
      "dealinc\n",
      "8614\n",
      "cur\n",
      "50\n",
      "dealinc\n",
      "-987\n",
      "cur\n",
      "26\n",
      "dealinc\n",
      "-9808\n",
      "cur\n",
      "47\n",
      "dealinc\n",
      "-8088\n",
      "cur\n",
      "5\n",
      "dealinc\n",
      "stack\n",
      "newstack\n",
      "5787\n",
      "cur\n",
      "49\n",
      "dealinc\n",
      "795\n",
      "cur\n",
      "2\n",
      "dealinc\n",
      "-536\n",
      "cur\n",
      "26\n",
      "dealinc\n",
      "stack\n",
      "newstack\n",
      "-6327\n",
      "cur\n",
      "63\n",
      "dealinc\n",
      "2511\n",
      "cur\n",
      "38\n",
      "dealinc\n",
      "-2622\n",
      "cur\n",
      "stack\n",
      "newstack\n",
      "9\n",
      "dealinc\n",
      "8201\n",
      "cur\n",
      "stack\n",
      "newstack\n",
      "48\n",
      "dealinc\n",
      "-2470\n",
      "cur\n",
      "19\n",
      "dealinc\n",
      "8669\n",
      "cur\n",
      "stack\n",
      "newstack\n",
      "28\n",
      "dealinc\n",
      "-2723\n",
      "cur\n",
      "stack\n",
      "newstack\n",
      "15\n",
      "dealinc\n",
      "-5101\n",
      "cur\n",
      "stack\n",
      "newstack\n",
      "464\n",
      "cur\n",
      "68\n",
      "dealinc\n",
      "2695\n",
      "cur\n",
      "53\n",
      "dealinc\n",
      "-8523\n",
      "cur\n",
      "32\n",
      "dealinc\n",
      "-1018\n",
      "cur\n",
      "66\n",
      "dealinc\n",
      "9127\n",
      "cur\n",
      "3\n",
      "dealinc\n",
      "stack\n",
      "newstack\n",
      "14\n",
      "dealinc\n",
      "725\n",
      "cur\n",
      "stack\n",
      "newstack\n",
      "-2273\n",
      "cur\n",
      "65\n",
      "dealinc\n",
      "6306\n",
      "cur\n",
      "55\n",
      "dealinc\n",
      "-6710\n",
      "cur\n",
      "54\n",
      "dealinc\n",
      "7814\n",
      "cur\n",
      "23\n",
      "dealinc\n",
      "8877\n",
      "cur\n",
      "60\n",
      "dealinc\n",
      "3063\n",
      "cur\n",
      "40\n",
      "dealinc\n",
      "-2104\n",
      "cur\n",
      "72\n",
      "dealinc\n",
      "-4171\n",
      "cur\n",
      "21\n",
      "dealinc\n",
      "7919\n",
      "cur\n",
      "53\n",
      "dealinc\n",
      "-3320\n",
      "cur\n",
      "49\n",
      "dealinc\n",
      "stack\n",
      "newstack\n",
      "-8201\n",
      "cur\n",
      "stack\n",
      "newstack\n",
      "54\n",
      "dealinc\n",
      "stack\n",
      "newstack\n",
      "6321\n",
      "cur\n",
      "50\n",
      "dealinc\n",
      "7244\n",
      "cur\n",
      "23\n",
      "dealinc\n",
      "10007\n",
      "7820\n"
     ]
    }
   ],
   "source": [
    "set commands [split [read-input day22] \\n]\n",
    "puts [llength $commands]\n",
    "set deck [deck 10007]\n",
    "set num 0\n",
    "foreach cmd $commands {\n",
    "    set cnt [lindex $cmd end]\n",
    "    puts $cnt\n",
    "    switch -glob $cmd {\n",
    "        cut* {puts cut ; set deck [cut $deck $cnt]}\n",
    "        {deal with *} {puts dealinc ; set deck [deal $deck $cnt]}\n",
    "        {deal into *} {puts newstack ; set deck [newstack $deck]}\n",
    "        default {error oops}\n",
    "    }\n",
    "}\n",
    "puts [llength $deck]\n",
    "puts [lindex  $deck 3074]"
   ]
  },
  {
   "cell_type": "code",
   "execution_count": 83,
   "metadata": {},
   "outputs": [
    {
     "name": "stdout",
     "output_type": "stream",
     "text": [
      "9 2 5 8 1 4 7 0 3 6\n"
     ]
    }
   ],
   "source": [
    "set testdata {\n",
    "deal into new stack\n",
    "cut -2\n",
    "deal with increment 7\n",
    "cut 8\n",
    "cut -4\n",
    "deal with increment 7\n",
    "cut 3\n",
    "deal with increment 9\n",
    "deal with increment 3\n",
    "cut -1\n",
    "}\n",
    "set commands [split $testdata \\n]\n",
    "set deck [deck 10]\n",
    "foreach cmd $commands {\n",
    "    set cnt [lindex $cmd end]\n",
    "    switch -glob $cmd {\n",
    "        cut* {set deck [cut $deck $cnt]}\n",
    "        {deal with *} {set deck [deal $deck $cnt]}\n",
    "        {deal into *} {set deck [newstack $deck]}\n",
    "    }\n",
    "}\n",
    "puts $deck"
   ]
  },
  {
   "cell_type": "code",
   "execution_count": 71,
   "metadata": {},
   "outputs": [
    {
     "name": "stdout",
     "output_type": "stream",
     "text": [
      "100\n"
     ]
    },
    {
     "data": {
      "text/plain": [
       "3074"
      ]
     },
     "execution_count": 71,
     "metadata": {},
     "output_type": "execute_result"
    }
   ],
   "source": [
    "proc newstack {size pos} {\n",
    "    incr size -1\n",
    "    return [expr {$size-$pos}]\n",
    "}\n",
    "\n",
    "newstack 10 1\n",
    "\n",
    "proc cut {size pos n} {\n",
    "    set val [expr {($pos-$n) % $size}]\n",
    "    if {$val < 0} {incr val $size}\n",
    "    return $val\n",
    "}\n",
    "\n",
    "cut 10 1 3\n",
    "\n",
    "proc deal {size pos n} {\n",
    "    return [expr {($pos*$n) % $size}]\n",
    "}\n",
    "\n",
    "set commands [split [read-input day22] \\n]\n",
    "puts [llength $commands]\n",
    "set size  10007\n",
    "set pos 2019\n",
    "foreach cmd $commands {\n",
    "    set cnt [lindex $cmd end]\n",
    "    switch -glob $cmd {\n",
    "        cut* {set pos [cut $size $pos $cnt]}\n",
    "        {deal with *} {set pos [deal $size $pos $cnt]}\n",
    "        {deal into *} {set pos [newstack $size $pos]}\n",
    "        default {error oops}\n",
    "    }\n",
    "}\n",
    "set pos"
   ]
  },
  {
   "cell_type": "code",
   "execution_count": 90,
   "metadata": {},
   "outputs": [
    {
     "data": {
      "text/plain": [
       "3074"
      ]
     },
     "execution_count": 90,
     "metadata": {},
     "output_type": "execute_result"
    }
   ],
   "source": [
    "proc newstack {size pos} {\n",
    "    incr size -1\n",
    "    return [expr {$size-$pos}]\n",
    "}\n",
    "\n",
    "newstack 10 1\n",
    "\n",
    "proc cut {size pos n} {\n",
    "    set val [expr {($pos-$n) % $size}]\n",
    "    if {$val < 0} {incr val $size}\n",
    "    return $val\n",
    "}\n",
    "\n",
    "cut 10 1 3\n",
    "\n",
    "proc deal {size pos n} {\n",
    "    return [expr {($pos*$n) % $size}]\n",
    "}\n",
    "\n",
    "\n",
    "proc newpos {commands size pos} {\n",
    "\n",
    "foreach cmd $commands {\n",
    "    set cnt [lindex $cmd end]\n",
    "    switch -glob $cmd {\n",
    "        cut* {set pos [cut $size $pos $cnt]}\n",
    "        {deal with *} {set pos [deal $size $pos $cnt]}\n",
    "        {deal into *} {set pos [newstack $size $pos]}\n",
    "        default {error oops}\n",
    "    }\n",
    "}\n",
    "return $pos}\n",
    "newpos   10007 2019\n"
   ]
  },
  {
   "cell_type": "code",
   "execution_count": null,
   "metadata": {},
   "outputs": [],
   "source": [
    "set size 119315717514047\n",
    "for {set pos 0 } {$pos < $size }  { incr pos } {\n",
    "   newpos [split [read-input day22] \\n] $size $pos\n",
    "}"
   ]
  },
  {
   "cell_type": "code",
   "execution_count": null,
   "metadata": {},
   "outputs": [],
   "source": []
  }
 ],
 "metadata": {
  "kernelspec": {
   "display_name": "Tcl",
   "language": "tcl",
   "name": "tcljupyter"
  },
  "language_info": {
   "file_extension": ".tcl",
   "mimetype": "txt/x-tcl",
   "name": "tcl",
   "version": "8.6.10"
  }
 },
 "nbformat": 4,
 "nbformat_minor": 4
}
