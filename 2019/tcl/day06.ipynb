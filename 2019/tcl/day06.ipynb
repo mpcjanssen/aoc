{
 "cells": [
  {
   "cell_type": "code",
   "execution_count": 1,
   "metadata": {},
   "outputs": [
    {
     "data": {
      "text/plain": [
       "2.5.1"
      ]
     },
     "execution_count": 1,
     "metadata": {},
     "output_type": "execute_result"
    }
   ],
   "source": [
    "lappend auto_path [file dirname [info script]]/lib\n",
    "tcl::tm::path add [file dirname [info script]]/modules\n",
    "package forget util\n",
    "package require util\n",
    "package require tcltest"
   ]
  },
  {
   "cell_type": "code",
   "execution_count": 2,
   "metadata": {},
   "outputs": [],
   "source": [
    "foreach l [read-input day06] {\n",
    "    lassign [split $l )] around this\n",
    "    set orbs($this) $around\n",
    "}\n",
    " #parray orbs"
   ]
  },
  {
   "cell_type": "code",
   "execution_count": 3,
   "metadata": {},
   "outputs": [],
   "source": [
    "proc orbpath {me} {\n",
    "    set curr $me\n",
    "    set path {}\n",
    "    while {$curr ne \"COM\"} {\n",
    "        set curr $::orbs($curr)\n",
    "        lappend path $curr\n",
    "    } \n",
    "    return $path\n",
    "}"
   ]
  },
  {
   "cell_type": "code",
   "execution_count": 4,
   "metadata": {},
   "outputs": [],
   "source": [
    "proc part1 {} {\n",
    "    set lengths {}\n",
    "    foreach me [array names ::orbs ] {\n",
    "        lappend lengths [llength [orbpath $me]]\n",
    "    }\n",
    "    return [sum $lengths]\n",
    "}"
   ]
  },
  {
   "cell_type": "code",
   "execution_count": 5,
   "metadata": {},
   "outputs": [],
   "source": [
    "proc part2 {} {\n",
    "    return [llength [ldifference [orbpath SAN] [orbpath YOU]]]\n",
    "}"
   ]
  },
  {
   "cell_type": "code",
   "execution_count": 6,
   "metadata": {},
   "outputs": [
    {
     "name": "stdout",
     "output_type": "stream",
     "text": [
      "292387\n"
     ]
    },
    {
     "data": {
      "text/plain": [
       "159369 microseconds per iteration"
      ]
     },
     "execution_count": 6,
     "metadata": {},
     "output_type": "execute_result"
    }
   ],
   "source": [
    "time {puts [part1]}"
   ]
  },
  {
   "cell_type": "code",
   "execution_count": 7,
   "metadata": {},
   "outputs": [
    {
     "name": "stdout",
     "output_type": "stream",
     "text": [
      "433\n"
     ]
    },
    {
     "data": {
      "text/plain": [
       "3618 microseconds per iteration"
      ]
     },
     "execution_count": 7,
     "metadata": {},
     "output_type": "execute_result"
    }
   ],
   "source": [
    "time {puts [part2]}"
   ]
  },
  {
   "cell_type": "code",
   "execution_count": 12,
   "metadata": {},
   "outputs": [
    {
     "name": "stdout",
     "output_type": "stream",
     "text": [
      "day06.test:\tTotal\t2\tPassed\t2\tSkipped\t0\tFailed\t0\n",
      "Warning: files left behind:\n",
      "\tday06.test:\tday06.ipynb\n"
     ]
    }
   ],
   "source": [
    "source day06.test"
   ]
  },
  {
   "cell_type": "code",
   "execution_count": null,
   "metadata": {},
   "outputs": [],
   "source": []
  }
 ],
 "metadata": {
  "kernelspec": {
   "display_name": "Tcl",
   "language": "tcl",
   "name": "tcljupyter"
  },
  "language_info": {
   "file_extension": ".tcl",
   "mimetype": "txt/x-tcl",
   "name": "tcl",
   "version": "8.6.10"
  }
 },
 "nbformat": 4,
 "nbformat_minor": 4
}
