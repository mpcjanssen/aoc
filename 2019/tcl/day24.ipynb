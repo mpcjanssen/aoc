{
 "cells": [
  {
   "cell_type": "code",
   "execution_count": 165,
   "metadata": {},
   "outputs": [
    {
     "name": "stdout",
     "output_type": "stream",
     "text": [
      "#...#\n",
      "#....\n",
      "#.#..\n",
      ".....\n",
      "#####\n"
     ]
    },
    {
     "data": {
      "text/plain": [
       "32511025"
      ]
     },
     "execution_count": 165,
     "metadata": {},
     "output_type": "execute_result"
    }
   ],
   "source": [
    "lappend auto_path [file dirname [info script]]/lib {C:\\Users\\Mark\\Src\\site-tcl\\libs-windows}\n",
    "tcl::tm::path add [file dirname [info script]]/modules [file dirname [info script]]/lib/cintcode\n",
    "package require util\n",
    "\n",
    "\n",
    "\n",
    "\n",
    "proc readworld {input} {\n",
    "     return [split [string map {# 1 . 0} $input] \\n]\n",
    "}\n",
    "\n",
    "set world [readworld [read-input day24]]\n",
    "\n",
    "\n",
    "proc printworld {world} {\n",
    "    puts [string map {1 # 0 .} [join $world \\n]]\n",
    "}\n",
    "\n",
    "proc state {world x y} {\n",
    "    if {$x < 0 || $y < 0 || $x > 4 || $y > 4} {return 0}\n",
    "    set line [lindex $world $y]\n",
    "    return [string index $line $x]\n",
    "}\n",
    "\n",
    "proc update {worldVar x y val} {\n",
    "    if {$x < 0 || $y < 0 || $x > 4 || $y > 4} {error \"out of bounds\"}\n",
    "    upvar $worldVar world\n",
    "    set line [lindex $world $y]\n",
    "    set newline [string replace $line $x $x $val]\n",
    "    lset world $y $newline\n",
    "}\n",
    "namespace import tcl::mathop::*\n",
    "proc step {world} {\n",
    "    set oldworld $world\n",
    "    for {set y 0} {$y < 5} {incr y} {\n",
    "        for {set x 0} {$x < 5} {incr x} {\n",
    "            set x1 [+ $x 1]\n",
    "            set x2 [- $x 1]\n",
    "            set y1 [+ $y 1]\n",
    "            set y2 [- $y 1]\n",
    "            set bugs [+ [state $oldworld $x $y1] [state $oldworld $x $y2] [state $oldworld $x1 $y] [state $oldworld $x2 $y]]\n",
    "            switch -exact [state $oldworld $x $y] {\n",
    "                0 { if {$bugs == 1 || $bugs == 2} {update world $x $y 1 }}\n",
    "                1 { if {$bugs != 1} {update world $x $y 0 } }\n",
    "            }\n",
    "        }\n",
    "    }\n",
    "    return $world\n",
    "}\n",
    "\n",
    "unset -nocomplain worlds\n",
    "set worlds($world) 1\n",
    "while 1 {\n",
    "    set world [step $world]\n",
    "    if {[info exists worlds($world)]} break\n",
    "    set worlds($world) 1\n",
    "        \n",
    "} \n",
    "printworld $world\n",
    "scan [string reverse [join $world {}]] %b "
   ]
  },
  {
   "cell_type": "code",
   "execution_count": null,
   "metadata": {},
   "outputs": [],
   "source": []
  }
 ],
 "metadata": {
  "kernelspec": {
   "display_name": "Tcl",
   "language": "tcl",
   "name": "tcljupyter"
  },
  "language_info": {
   "file_extension": ".tcl",
   "mimetype": "txt/x-tcl",
   "name": "tcl",
   "version": "8.6.10"
  }
 },
 "nbformat": 4,
 "nbformat_minor": 4
}
