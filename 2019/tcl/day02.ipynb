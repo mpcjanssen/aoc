{
 "cells": [
  {
   "cell_type": "code",
   "execution_count": 1,
   "metadata": {},
   "outputs": [
    {
     "name": "stdout",
     "output_type": "stream",
     "text": [
      "windows\n"
     ]
    },
    {
     "data": {
      "text/plain": [
       "IC"
      ]
     },
     "execution_count": 1,
     "metadata": {},
     "output_type": "execute_result"
    }
   ],
   "source": [
    "lappend auto_path [file dirname [info script]]/lib {C:\\Users\\Mark\\Src\\site-tcl\\libs-windows}\n",
    "tcl::tm::path add [file dirname [info script]]/modules [file dirname [info script]]/lib/cintcode\n",
    "\n",
    "package require util\n",
    "puts $tcl_platform(platform)\n",
    "package require intcode\n",
    "package require cintcode\n",
    "# interp alias {} IC {} IntCode new\n",
    "interp alias {} IC {} CintCode"
   ]
  },
  {
   "cell_type": "code",
   "execution_count": 2,
   "metadata": {},
   "outputs": [],
   "source": [
    "set program  [read-input day02]\n",
    "\n",
    "proc runwithinput {program in1 in2} {\n",
    "    set machine [IC  [split $program , ]]\n",
    "    $machine setmem 1 $in1\n",
    "    $machine setmem 2 $in2\n",
    "    $machine run\n",
    "    set val [$machine mem 0]\n",
    "    rename $machine {}\n",
    "    return $val\n",
    "} \n",
    "\n"
   ]
  },
  {
   "cell_type": "code",
   "execution_count": 3,
   "metadata": {},
   "outputs": [],
   "source": [
    "proc  part1 {} { return [runwithinput $::program 12 2]}\n",
    "\n",
    "proc part2 {} {\n",
    "    foreach x [range 0 99] { \n",
    "        foreach y [range 0 99] {\n",
    "            if { [runwithinput $::program $x $y] == 19690720} {\n",
    "                return [expr {$x*100+$y}]\n",
    "            }\n",
    "        }\n",
    "    }\n",
    "}"
   ]
  },
  {
   "cell_type": "markdown",
   "metadata": {},
   "source": [
    "# Part 1"
   ]
  },
  {
   "cell_type": "code",
   "execution_count": 4,
   "metadata": {},
   "outputs": [
    {
     "data": {
      "text/plain": [
       "7210630"
      ]
     },
     "execution_count": 4,
     "metadata": {},
     "output_type": "execute_result"
    }
   ],
   "source": [
    "part1"
   ]
  },
  {
   "cell_type": "code",
   "execution_count": 5,
   "metadata": {},
   "outputs": [
    {
     "data": {
      "text/plain": [
       "73.381 microseconds per iteration"
      ]
     },
     "execution_count": 5,
     "metadata": {},
     "output_type": "execute_result"
    }
   ],
   "source": [
    "time {part1} 100"
   ]
  },
  {
   "cell_type": "code",
   "execution_count": null,
   "metadata": {},
   "outputs": [],
   "source": []
  },
  {
   "cell_type": "markdown",
   "metadata": {},
   "source": [
    "# Part 2"
   ]
  },
  {
   "cell_type": "code",
   "execution_count": 6,
   "metadata": {},
   "outputs": [
    {
     "name": "stdout",
     "output_type": "stream",
     "text": [
      "3892\n"
     ]
    },
    {
     "data": {
      "text/plain": [
       "214678 microseconds per iteration"
      ]
     },
     "execution_count": 6,
     "metadata": {},
     "output_type": "execute_result"
    }
   ],
   "source": [
    "time {puts [part2]}"
   ]
  },
  {
   "cell_type": "code",
   "execution_count": null,
   "metadata": {},
   "outputs": [],
   "source": []
  }
 ],
 "metadata": {
  "kernelspec": {
   "display_name": "Tcl",
   "language": "tcl",
   "name": "tcljupyter"
  },
  "language_info": {
   "file_extension": ".tcl",
   "mimetype": "txt/x-tcl",
   "name": "tcl",
   "version": "8.6.10"
  }
 },
 "nbformat": 4,
 "nbformat_minor": 4
}
