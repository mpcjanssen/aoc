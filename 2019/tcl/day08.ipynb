{
 "cells": [
  {
   "cell_type": "code",
   "execution_count": 1,
   "metadata": {},
   "outputs": [
    {
     "data": {
      "text/plain": [
       "0.1"
      ]
     },
     "execution_count": 1,
     "metadata": {},
     "output_type": "execute_result"
    }
   ],
   "source": [
    "tcl::tm::path add [file join . modules]\n",
    "package require util"
   ]
  },
  {
   "cell_type": "code",
   "execution_count": 2,
   "metadata": {},
   "outputs": [
    {
     "data": {
      "text/plain": []
     },
     "execution_count": 2,
     "metadata": {},
     "output_type": "execute_result"
    }
   ],
   "source": [
    "set data [read-input day08];"
   ]
  },
  {
   "cell_type": "code",
   "execution_count": 3,
   "metadata": {},
   "outputs": [],
   "source": [
    "set width 25\n",
    "set height 6\n",
    "set layersize [expr {$width*$height}]\n",
    "set pat [string repeat . $layersize]\n",
    "set layers [regexp -all -inline $pat $data]\n",
    "\n",
    "proc freq1s {d} {\n",
    "  dict get $d 1\n",
    "}\n",
    "\n",
    "proc part1 {} {\n",
    "  set min0freqs [lindex [lsort -integer -index 1 [lmap x $::layers {lsort -integer -stride 2 -index 0 [freq $x]}]] 0]\n",
    "  return [expr {[dict get $min0freqs 1]*[dict get $min0freqs 2]}]\n",
    "}"
   ]
  },
  {
   "cell_type": "code",
   "execution_count": 4,
   "metadata": {},
   "outputs": [
    {
     "data": {
      "text/plain": [
       "2193"
      ]
     },
     "execution_count": 4,
     "metadata": {},
     "output_type": "execute_result"
    }
   ],
   "source": [
    "part1"
   ]
  },
  {
   "cell_type": "markdown",
   "metadata": {},
   "source": [
    "# With Unicode"
   ]
  },
  {
   "cell_type": "code",
   "execution_count": 5,
   "metadata": {},
   "outputs": [
    {
     "name": "stdout",
     "output_type": "stream",
     "text": [
      "⬛⬜⬛\n",
      "⬜\n"
     ]
    }
   ],
   "source": [
    "puts \\u2b1b\\u2b1c\\u2b1b\\n\\u2b1c"
   ]
  },
  {
   "cell_type": "code",
   "execution_count": 8,
   "metadata": {},
   "outputs": [],
   "source": [
    "proc visualize-step-text {} {\n",
    "  set layer 0\n",
    "\n",
    "\n",
    "  set bitmap [lrepeat 6 [lrepeat 25 \\u2b1c]]\n",
    "    set id [jupyter::html [join $bitmap <br>]]\n",
    "      yield\n",
    "  foreach l [lreverse $::layers] {\n",
    "    incr layer\n",
    "    foreach y [range 0 5] {\n",
    "       foreach x [range 0 24] {\n",
    "       set idx [expr {$y*25+$x} ]\n",
    "        set col [string index $l $idx]\n",
    "        switch $col {\n",
    "          0 {\n",
    "              lset bitmap $y $x \\u2b1c\n",
    "          }\n",
    "          1 {\n",
    "              lset bitmap $y $x \\u2b1b\n",
    "          }\n",
    "          2 {\n",
    "              \n",
    "          \n",
    "          }\n",
    "          \n",
    "        }\n",
    "      }\n",
    "    }\n",
    "    jupyter::updatehtml $id [join $bitmap <br>]\n",
    "    yield 1\n",
    "  }\n",
    "  yield 0\n",
    "}"
   ]
  },
  {
   "cell_type": "code",
   "execution_count": 9,
   "metadata": {},
   "outputs": [
    {
     "data": {
      "text/html": [
       "⬛ ⬜ ⬜ ⬜ ⬛ ⬛ ⬛ ⬛ ⬛ ⬜ ⬛ ⬜ ⬜ ⬛ ⬜ ⬛ ⬛ ⬛ ⬛ ⬜ ⬛ ⬛ ⬛ ⬛ ⬜<br>⬛ ⬜ ⬜ ⬜ ⬛ ⬛ ⬜ ⬜ ⬜ ⬜ ⬛ ⬜ ⬜ ⬛ ⬜ ⬛ ⬜ ⬜ ⬜ ⬜ ⬛ ⬜ ⬜ ⬜ ⬜<br>⬜ ⬛ ⬜ ⬛ ⬜ ⬛ ⬛ ⬛ ⬜ ⬜ ⬛ ⬛ ⬛ ⬛ ⬜ ⬛ ⬛ ⬛ ⬜ ⬜ ⬛ ⬛ ⬛ ⬜ ⬜<br>⬜ ⬜ ⬛ ⬜ ⬜ ⬛ ⬜ ⬜ ⬜ ⬜ ⬛ ⬜ ⬜ ⬛ ⬜ ⬛ ⬜ ⬜ ⬜ ⬜ ⬛ ⬜ ⬜ ⬜ ⬜<br>⬜ ⬜ ⬛ ⬜ ⬜ ⬛ ⬜ ⬜ ⬜ ⬜ ⬛ ⬜ ⬜ ⬛ ⬜ ⬛ ⬜ ⬜ ⬜ ⬜ ⬛ ⬜ ⬜ ⬜ ⬜<br>⬜ ⬜ ⬛ ⬜ ⬜ ⬛ ⬛ ⬛ ⬛ ⬜ ⬛ ⬜ ⬜ ⬛ ⬜ ⬛ ⬛ ⬛ ⬛ ⬜ ⬛ ⬜ ⬜ ⬜ ⬜"
      ]
     },
     "metadata": {},
     "output_type": "display_data"
    }
   ],
   "source": [
    "coroutine visualize-text visualize-step-text\n",
    "while {[visualize-text]} {}"
   ]
  },
  {
   "cell_type": "markdown",
   "metadata": {},
   "source": [
    "# Using SVG"
   ]
  },
  {
   "cell_type": "code",
   "execution_count": 10,
   "metadata": {},
   "outputs": [],
   "source": [
    "proc visualize-step {} {\n",
    "  set layer 0\n",
    "  set svgid [jupyter::html {<svg width=\"250\" height=\"60\"></svg>}]\n",
    "  yield\n",
    "  set svg [lrepeat 150 {}]\n",
    "  foreach l [lreverse $::layers] {\n",
    "    incr layer\n",
    "    foreach y [range 0 5] {\n",
    "       foreach x [range 0 24] {\n",
    "       set idx [expr {$y*25+$x} ]\n",
    "        set col [string index $l $idx]\n",
    "        switch $col {\n",
    "          0 {\n",
    "              lset svg $idx [svgpixel  $x $y vis1  0.01 white]\n",
    "          }\n",
    "          1 {\n",
    "              lset svg $idx [svgpixel  $x $y vis1  0.01 black]\n",
    "          }\n",
    "          2 {\n",
    "              \n",
    "          \n",
    "          }\n",
    "          \n",
    "        }\n",
    "      }\n",
    "    }\n",
    "    jupyter::updatehtml $svgid \"<b>layer: </b> $layer<br><svg viewbox=\\\"-1 -1 26 7\\\">[join $svg \\n]</svg>\"\n",
    "    yield 1\n",
    "  }\n",
    "  yield 0\n",
    "}\n"
   ]
  },
  {
   "cell_type": "code",
   "execution_count": 11,
   "metadata": {},
   "outputs": [
    {
     "data": {
      "text/html": [
       "<b>layer: </b> 100<br><svg viewbox=\"-1 -1 26 7\"><rect id=\"vis1-0-0\" x=\"0\" y = \"0\" width=\"1\" height=\"1\" style=\"fill:black;stroke-width:0.01;stroke:rgb(255,255,255)\" />\n",
       "<rect id=\"vis1-1-0\" x=\"1\" y = \"0\" width=\"1\" height=\"1\" style=\"fill:white;stroke-width:0.01;stroke:rgb(255,255,255)\" />\n",
       "<rect id=\"vis1-2-0\" x=\"2\" y = \"0\" width=\"1\" height=\"1\" style=\"fill:white;stroke-width:0.01;stroke:rgb(255,255,255)\" />\n",
       "<rect id=\"vis1-3-0\" x=\"3\" y = \"0\" width=\"1\" height=\"1\" style=\"fill:white;stroke-width:0.01;stroke:rgb(255,255,255)\" />\n",
       "<rect id=\"vis1-4-0\" x=\"4\" y = \"0\" width=\"1\" height=\"1\" style=\"fill:black;stroke-width:0.01;stroke:rgb(255,255,255)\" />\n",
       "<rect id=\"vis1-5-0\" x=\"5\" y = \"0\" width=\"1\" height=\"1\" style=\"fill:black;stroke-width:0.01;stroke:rgb(255,255,255)\" />\n",
       "<rect id=\"vis1-6-0\" x=\"6\" y = \"0\" width=\"1\" height=\"1\" style=\"fill:black;stroke-width:0.01;stroke:rgb(255,255,255)\" />\n",
       "<rect id=\"vis1-7-0\" x=\"7\" y = \"0\" width=\"1\" height=\"1\" style=\"fill:black;stroke-width:0.01;stroke:rgb(255,255,255)\" />\n",
       "<rect id=\"vis1-8-0\" x=\"8\" y = \"0\" width=\"1\" height=\"1\" style=\"fill:black;stroke-width:0.01;stroke:rgb(255,255,255)\" />\n",
       "<rect id=\"vis1-9-0\" x=\"9\" y = \"0\" width=\"1\" height=\"1\" style=\"fill:white;stroke-width:0.01;stroke:rgb(255,255,255)\" />\n",
       "<rect id=\"vis1-10-0\" x=\"10\" y = \"0\" width=\"1\" height=\"1\" style=\"fill:black;stroke-width:0.01;stroke:rgb(255,255,255)\" />\n",
       "<rect id=\"vis1-11-0\" x=\"11\" y = \"0\" width=\"1\" height=\"1\" style=\"fill:white;stroke-width:0.01;stroke:rgb(255,255,255)\" />\n",
       "<rect id=\"vis1-12-0\" x=\"12\" y = \"0\" width=\"1\" height=\"1\" style=\"fill:white;stroke-width:0.01;stroke:rgb(255,255,255)\" />\n",
       "<rect id=\"vis1-13-0\" x=\"13\" y = \"0\" width=\"1\" height=\"1\" style=\"fill:black;stroke-width:0.01;stroke:rgb(255,255,255)\" />\n",
       "<rect id=\"vis1-14-0\" x=\"14\" y = \"0\" width=\"1\" height=\"1\" style=\"fill:white;stroke-width:0.01;stroke:rgb(255,255,255)\" />\n",
       "<rect id=\"vis1-15-0\" x=\"15\" y = \"0\" width=\"1\" height=\"1\" style=\"fill:black;stroke-width:0.01;stroke:rgb(255,255,255)\" />\n",
       "<rect id=\"vis1-16-0\" x=\"16\" y = \"0\" width=\"1\" height=\"1\" style=\"fill:black;stroke-width:0.01;stroke:rgb(255,255,255)\" />\n",
       "<rect id=\"vis1-17-0\" x=\"17\" y = \"0\" width=\"1\" height=\"1\" style=\"fill:black;stroke-width:0.01;stroke:rgb(255,255,255)\" />\n",
       "<rect id=\"vis1-18-0\" x=\"18\" y = \"0\" width=\"1\" height=\"1\" style=\"fill:black;stroke-width:0.01;stroke:rgb(255,255,255)\" />\n",
       "<rect id=\"vis1-19-0\" x=\"19\" y = \"0\" width=\"1\" height=\"1\" style=\"fill:white;stroke-width:0.01;stroke:rgb(255,255,255)\" />\n",
       "<rect id=\"vis1-20-0\" x=\"20\" y = \"0\" width=\"1\" height=\"1\" style=\"fill:black;stroke-width:0.01;stroke:rgb(255,255,255)\" />\n",
       "<rect id=\"vis1-21-0\" x=\"21\" y = \"0\" width=\"1\" height=\"1\" style=\"fill:black;stroke-width:0.01;stroke:rgb(255,255,255)\" />\n",
       "<rect id=\"vis1-22-0\" x=\"22\" y = \"0\" width=\"1\" height=\"1\" style=\"fill:black;stroke-width:0.01;stroke:rgb(255,255,255)\" />\n",
       "<rect id=\"vis1-23-0\" x=\"23\" y = \"0\" width=\"1\" height=\"1\" style=\"fill:black;stroke-width:0.01;stroke:rgb(255,255,255)\" />\n",
       "<rect id=\"vis1-24-0\" x=\"24\" y = \"0\" width=\"1\" height=\"1\" style=\"fill:white;stroke-width:0.01;stroke:rgb(255,255,255)\" />\n",
       "<rect id=\"vis1-0-1\" x=\"0\" y = \"1\" width=\"1\" height=\"1\" style=\"fill:black;stroke-width:0.01;stroke:rgb(255,255,255)\" />\n",
       "<rect id=\"vis1-1-1\" x=\"1\" y = \"1\" width=\"1\" height=\"1\" style=\"fill:white;stroke-width:0.01;stroke:rgb(255,255,255)\" />\n",
       "<rect id=\"vis1-2-1\" x=\"2\" y = \"1\" width=\"1\" height=\"1\" style=\"fill:white;stroke-width:0.01;stroke:rgb(255,255,255)\" />\n",
       "<rect id=\"vis1-3-1\" x=\"3\" y = \"1\" width=\"1\" height=\"1\" style=\"fill:white;stroke-width:0.01;stroke:rgb(255,255,255)\" />\n",
       "<rect id=\"vis1-4-1\" x=\"4\" y = \"1\" width=\"1\" height=\"1\" style=\"fill:black;stroke-width:0.01;stroke:rgb(255,255,255)\" />\n",
       "<rect id=\"vis1-5-1\" x=\"5\" y = \"1\" width=\"1\" height=\"1\" style=\"fill:black;stroke-width:0.01;stroke:rgb(255,255,255)\" />\n",
       "<rect id=\"vis1-6-1\" x=\"6\" y = \"1\" width=\"1\" height=\"1\" style=\"fill:white;stroke-width:0.01;stroke:rgb(255,255,255)\" />\n",
       "<rect id=\"vis1-7-1\" x=\"7\" y = \"1\" width=\"1\" height=\"1\" style=\"fill:white;stroke-width:0.01;stroke:rgb(255,255,255)\" />\n",
       "<rect id=\"vis1-8-1\" x=\"8\" y = \"1\" width=\"1\" height=\"1\" style=\"fill:white;stroke-width:0.01;stroke:rgb(255,255,255)\" />\n",
       "<rect id=\"vis1-9-1\" x=\"9\" y = \"1\" width=\"1\" height=\"1\" style=\"fill:white;stroke-width:0.01;stroke:rgb(255,255,255)\" />\n",
       "<rect id=\"vis1-10-1\" x=\"10\" y = \"1\" width=\"1\" height=\"1\" style=\"fill:black;stroke-width:0.01;stroke:rgb(255,255,255)\" />\n",
       "<rect id=\"vis1-11-1\" x=\"11\" y = \"1\" width=\"1\" height=\"1\" style=\"fill:white;stroke-width:0.01;stroke:rgb(255,255,255)\" />\n",
       "<rect id=\"vis1-12-1\" x=\"12\" y = \"1\" width=\"1\" height=\"1\" style=\"fill:white;stroke-width:0.01;stroke:rgb(255,255,255)\" />\n",
       "<rect id=\"vis1-13-1\" x=\"13\" y = \"1\" width=\"1\" height=\"1\" style=\"fill:black;stroke-width:0.01;stroke:rgb(255,255,255)\" />\n",
       "<rect id=\"vis1-14-1\" x=\"14\" y = \"1\" width=\"1\" height=\"1\" style=\"fill:white;stroke-width:0.01;stroke:rgb(255,255,255)\" />\n",
       "<rect id=\"vis1-15-1\" x=\"15\" y = \"1\" width=\"1\" height=\"1\" style=\"fill:black;stroke-width:0.01;stroke:rgb(255,255,255)\" />\n",
       "<rect id=\"vis1-16-1\" x=\"16\" y = \"1\" width=\"1\" height=\"1\" style=\"fill:white;stroke-width:0.01;stroke:rgb(255,255,255)\" />\n",
       "<rect id=\"vis1-17-1\" x=\"17\" y = \"1\" width=\"1\" height=\"1\" style=\"fill:white;stroke-width:0.01;stroke:rgb(255,255,255)\" />\n",
       "<rect id=\"vis1-18-1\" x=\"18\" y = \"1\" width=\"1\" height=\"1\" style=\"fill:white;stroke-width:0.01;stroke:rgb(255,255,255)\" />\n",
       "<rect id=\"vis1-19-1\" x=\"19\" y = \"1\" width=\"1\" height=\"1\" style=\"fill:white;stroke-width:0.01;stroke:rgb(255,255,255)\" />\n",
       "<rect id=\"vis1-20-1\" x=\"20\" y = \"1\" width=\"1\" height=\"1\" style=\"fill:black;stroke-width:0.01;stroke:rgb(255,255,255)\" />\n",
       "<rect id=\"vis1-21-1\" x=\"21\" y = \"1\" width=\"1\" height=\"1\" style=\"fill:white;stroke-width:0.01;stroke:rgb(255,255,255)\" />\n",
       "<rect id=\"vis1-22-1\" x=\"22\" y = \"1\" width=\"1\" height=\"1\" style=\"fill:white;stroke-width:0.01;stroke:rgb(255,255,255)\" />\n",
       "<rect id=\"vis1-23-1\" x=\"23\" y = \"1\" width=\"1\" height=\"1\" style=\"fill:white;stroke-width:0.01;stroke:rgb(255,255,255)\" />\n",
       "<rect id=\"vis1-24-1\" x=\"24\" y = \"1\" width=\"1\" height=\"1\" style=\"fill:white;stroke-width:0.01;stroke:rgb(255,255,255)\" />\n",
       "<rect id=\"vis1-0-2\" x=\"0\" y = \"2\" width=\"1\" height=\"1\" style=\"fill:white;stroke-width:0.01;stroke:rgb(255,255,255)\" />\n",
       "<rect id=\"vis1-1-2\" x=\"1\" y = \"2\" width=\"1\" height=\"1\" style=\"fill:black;stroke-width:0.01;stroke:rgb(255,255,255)\" />\n",
       "<rect id=\"vis1-2-2\" x=\"2\" y = \"2\" width=\"1\" height=\"1\" style=\"fill:white;stroke-width:0.01;stroke:rgb(255,255,255)\" />\n",
       "<rect id=\"vis1-3-2\" x=\"3\" y = \"2\" width=\"1\" height=\"1\" style=\"fill:black;stroke-width:0.01;stroke:rgb(255,255,255)\" />\n",
       "<rect id=\"vis1-4-2\" x=\"4\" y = \"2\" width=\"1\" height=\"1\" style=\"fill:white;stroke-width:0.01;stroke:rgb(255,255,255)\" />\n",
       "<rect id=\"vis1-5-2\" x=\"5\" y = \"2\" width=\"1\" height=\"1\" style=\"fill:black;stroke-width:0.01;stroke:rgb(255,255,255)\" />\n",
       "<rect id=\"vis1-6-2\" x=\"6\" y = \"2\" width=\"1\" height=\"1\" style=\"fill:black;stroke-width:0.01;stroke:rgb(255,255,255)\" />\n",
       "<rect id=\"vis1-7-2\" x=\"7\" y = \"2\" width=\"1\" height=\"1\" style=\"fill:black;stroke-width:0.01;stroke:rgb(255,255,255)\" />\n",
       "<rect id=\"vis1-8-2\" x=\"8\" y = \"2\" width=\"1\" height=\"1\" style=\"fill:white;stroke-width:0.01;stroke:rgb(255,255,255)\" />\n",
       "<rect id=\"vis1-9-2\" x=\"9\" y = \"2\" width=\"1\" height=\"1\" style=\"fill:white;stroke-width:0.01;stroke:rgb(255,255,255)\" />\n",
       "<rect id=\"vis1-10-2\" x=\"10\" y = \"2\" width=\"1\" height=\"1\" style=\"fill:black;stroke-width:0.01;stroke:rgb(255,255,255)\" />\n",
       "<rect id=\"vis1-11-2\" x=\"11\" y = \"2\" width=\"1\" height=\"1\" style=\"fill:black;stroke-width:0.01;stroke:rgb(255,255,255)\" />\n",
       "<rect id=\"vis1-12-2\" x=\"12\" y = \"2\" width=\"1\" height=\"1\" style=\"fill:black;stroke-width:0.01;stroke:rgb(255,255,255)\" />\n",
       "<rect id=\"vis1-13-2\" x=\"13\" y = \"2\" width=\"1\" height=\"1\" style=\"fill:black;stroke-width:0.01;stroke:rgb(255,255,255)\" />\n",
       "<rect id=\"vis1-14-2\" x=\"14\" y = \"2\" width=\"1\" height=\"1\" style=\"fill:white;stroke-width:0.01;stroke:rgb(255,255,255)\" />\n",
       "<rect id=\"vis1-15-2\" x=\"15\" y = \"2\" width=\"1\" height=\"1\" style=\"fill:black;stroke-width:0.01;stroke:rgb(255,255,255)\" />\n",
       "<rect id=\"vis1-16-2\" x=\"16\" y = \"2\" width=\"1\" height=\"1\" style=\"fill:black;stroke-width:0.01;stroke:rgb(255,255,255)\" />\n",
       "<rect id=\"vis1-17-2\" x=\"17\" y = \"2\" width=\"1\" height=\"1\" style=\"fill:black;stroke-width:0.01;stroke:rgb(255,255,255)\" />\n",
       "<rect id=\"vis1-18-2\" x=\"18\" y = \"2\" width=\"1\" height=\"1\" style=\"fill:white;stroke-width:0.01;stroke:rgb(255,255,255)\" />\n",
       "<rect id=\"vis1-19-2\" x=\"19\" y = \"2\" width=\"1\" height=\"1\" style=\"fill:white;stroke-width:0.01;stroke:rgb(255,255,255)\" />\n",
       "<rect id=\"vis1-20-2\" x=\"20\" y = \"2\" width=\"1\" height=\"1\" style=\"fill:black;stroke-width:0.01;stroke:rgb(255,255,255)\" />\n",
       "<rect id=\"vis1-21-2\" x=\"21\" y = \"2\" width=\"1\" height=\"1\" style=\"fill:black;stroke-width:0.01;stroke:rgb(255,255,255)\" />\n",
       "<rect id=\"vis1-22-2\" x=\"22\" y = \"2\" width=\"1\" height=\"1\" style=\"fill:black;stroke-width:0.01;stroke:rgb(255,255,255)\" />\n",
       "<rect id=\"vis1-23-2\" x=\"23\" y = \"2\" width=\"1\" height=\"1\" style=\"fill:white;stroke-width:0.01;stroke:rgb(255,255,255)\" />\n",
       "<rect id=\"vis1-24-2\" x=\"24\" y = \"2\" width=\"1\" height=\"1\" style=\"fill:white;stroke-width:0.01;stroke:rgb(255,255,255)\" />\n",
       "<rect id=\"vis1-0-3\" x=\"0\" y = \"3\" width=\"1\" height=\"1\" style=\"fill:white;stroke-width:0.01;stroke:rgb(255,255,255)\" />\n",
       "<rect id=\"vis1-1-3\" x=\"1\" y = \"3\" width=\"1\" height=\"1\" style=\"fill:white;stroke-width:0.01;stroke:rgb(255,255,255)\" />\n",
       "<rect id=\"vis1-2-3\" x=\"2\" y = \"3\" width=\"1\" height=\"1\" style=\"fill:black;stroke-width:0.01;stroke:rgb(255,255,255)\" />\n",
       "<rect id=\"vis1-3-3\" x=\"3\" y = \"3\" width=\"1\" height=\"1\" style=\"fill:white;stroke-width:0.01;stroke:rgb(255,255,255)\" />\n",
       "<rect id=\"vis1-4-3\" x=\"4\" y = \"3\" width=\"1\" height=\"1\" style=\"fill:white;stroke-width:0.01;stroke:rgb(255,255,255)\" />\n",
       "<rect id=\"vis1-5-3\" x=\"5\" y = \"3\" width=\"1\" height=\"1\" style=\"fill:black;stroke-width:0.01;stroke:rgb(255,255,255)\" />\n",
       "<rect id=\"vis1-6-3\" x=\"6\" y = \"3\" width=\"1\" height=\"1\" style=\"fill:white;stroke-width:0.01;stroke:rgb(255,255,255)\" />\n",
       "<rect id=\"vis1-7-3\" x=\"7\" y = \"3\" width=\"1\" height=\"1\" style=\"fill:white;stroke-width:0.01;stroke:rgb(255,255,255)\" />\n",
       "<rect id=\"vis1-8-3\" x=\"8\" y = \"3\" width=\"1\" height=\"1\" style=\"fill:white;stroke-width:0.01;stroke:rgb(255,255,255)\" />\n",
       "<rect id=\"vis1-9-3\" x=\"9\" y = \"3\" width=\"1\" height=\"1\" style=\"fill:white;stroke-width:0.01;stroke:rgb(255,255,255)\" />\n",
       "<rect id=\"vis1-10-3\" x=\"10\" y = \"3\" width=\"1\" height=\"1\" style=\"fill:black;stroke-width:0.01;stroke:rgb(255,255,255)\" />\n",
       "<rect id=\"vis1-11-3\" x=\"11\" y = \"3\" width=\"1\" height=\"1\" style=\"fill:white;stroke-width:0.01;stroke:rgb(255,255,255)\" />\n",
       "<rect id=\"vis1-12-3\" x=\"12\" y = \"3\" width=\"1\" height=\"1\" style=\"fill:white;stroke-width:0.01;stroke:rgb(255,255,255)\" />\n",
       "<rect id=\"vis1-13-3\" x=\"13\" y = \"3\" width=\"1\" height=\"1\" style=\"fill:black;stroke-width:0.01;stroke:rgb(255,255,255)\" />\n",
       "<rect id=\"vis1-14-3\" x=\"14\" y = \"3\" width=\"1\" height=\"1\" style=\"fill:white;stroke-width:0.01;stroke:rgb(255,255,255)\" />\n",
       "<rect id=\"vis1-15-3\" x=\"15\" y = \"3\" width=\"1\" height=\"1\" style=\"fill:black;stroke-width:0.01;stroke:rgb(255,255,255)\" />\n",
       "<rect id=\"vis1-16-3\" x=\"16\" y = \"3\" width=\"1\" height=\"1\" style=\"fill:white;stroke-width:0.01;stroke:rgb(255,255,255)\" />\n",
       "<rect id=\"vis1-17-3\" x=\"17\" y = \"3\" width=\"1\" height=\"1\" style=\"fill:white;stroke-width:0.01;stroke:rgb(255,255,255)\" />\n",
       "<rect id=\"vis1-18-3\" x=\"18\" y = \"3\" width=\"1\" height=\"1\" style=\"fill:white;stroke-width:0.01;stroke:rgb(255,255,255)\" />\n",
       "<rect id=\"vis1-19-3\" x=\"19\" y = \"3\" width=\"1\" height=\"1\" style=\"fill:white;stroke-width:0.01;stroke:rgb(255,255,255)\" />\n",
       "<rect id=\"vis1-20-3\" x=\"20\" y = \"3\" width=\"1\" height=\"1\" style=\"fill:black;stroke-width:0.01;stroke:rgb(255,255,255)\" />\n",
       "<rect id=\"vis1-21-3\" x=\"21\" y = \"3\" width=\"1\" height=\"1\" style=\"fill:white;stroke-width:0.01;stroke:rgb(255,255,255)\" />\n",
       "<rect id=\"vis1-22-3\" x=\"22\" y = \"3\" width=\"1\" height=\"1\" style=\"fill:white;stroke-width:0.01;stroke:rgb(255,255,255)\" />\n",
       "<rect id=\"vis1-23-3\" x=\"23\" y = \"3\" width=\"1\" height=\"1\" style=\"fill:white;stroke-width:0.01;stroke:rgb(255,255,255)\" />\n",
       "<rect id=\"vis1-24-3\" x=\"24\" y = \"3\" width=\"1\" height=\"1\" style=\"fill:white;stroke-width:0.01;stroke:rgb(255,255,255)\" />\n",
       "<rect id=\"vis1-0-4\" x=\"0\" y = \"4\" width=\"1\" height=\"1\" style=\"fill:white;stroke-width:0.01;stroke:rgb(255,255,255)\" />\n",
       "<rect id=\"vis1-1-4\" x=\"1\" y = \"4\" width=\"1\" height=\"1\" style=\"fill:white;stroke-width:0.01;stroke:rgb(255,255,255)\" />\n",
       "<rect id=\"vis1-2-4\" x=\"2\" y = \"4\" width=\"1\" height=\"1\" style=\"fill:black;stroke-width:0.01;stroke:rgb(255,255,255)\" />\n",
       "<rect id=\"vis1-3-4\" x=\"3\" y = \"4\" width=\"1\" height=\"1\" style=\"fill:white;stroke-width:0.01;stroke:rgb(255,255,255)\" />\n",
       "<rect id=\"vis1-4-4\" x=\"4\" y = \"4\" width=\"1\" height=\"1\" style=\"fill:white;stroke-width:0.01;stroke:rgb(255,255,255)\" />\n",
       "<rect id=\"vis1-5-4\" x=\"5\" y = \"4\" width=\"1\" height=\"1\" style=\"fill:black;stroke-width:0.01;stroke:rgb(255,255,255)\" />\n",
       "<rect id=\"vis1-6-4\" x=\"6\" y = \"4\" width=\"1\" height=\"1\" style=\"fill:white;stroke-width:0.01;stroke:rgb(255,255,255)\" />\n",
       "<rect id=\"vis1-7-4\" x=\"7\" y = \"4\" width=\"1\" height=\"1\" style=\"fill:white;stroke-width:0.01;stroke:rgb(255,255,255)\" />\n",
       "<rect id=\"vis1-8-4\" x=\"8\" y = \"4\" width=\"1\" height=\"1\" style=\"fill:white;stroke-width:0.01;stroke:rgb(255,255,255)\" />\n",
       "<rect id=\"vis1-9-4\" x=\"9\" y = \"4\" width=\"1\" height=\"1\" style=\"fill:white;stroke-width:0.01;stroke:rgb(255,255,255)\" />\n",
       "<rect id=\"vis1-10-4\" x=\"10\" y = \"4\" width=\"1\" height=\"1\" style=\"fill:black;stroke-width:0.01;stroke:rgb(255,255,255)\" />\n",
       "<rect id=\"vis1-11-4\" x=\"11\" y = \"4\" width=\"1\" height=\"1\" style=\"fill:white;stroke-width:0.01;stroke:rgb(255,255,255)\" />\n",
       "<rect id=\"vis1-12-4\" x=\"12\" y = \"4\" width=\"1\" height=\"1\" style=\"fill:white;stroke-width:0.01;stroke:rgb(255,255,255)\" />\n",
       "<rect id=\"vis1-13-4\" x=\"13\" y = \"4\" width=\"1\" height=\"1\" style=\"fill:black;stroke-width:0.01;stroke:rgb(255,255,255)\" />\n",
       "<rect id=\"vis1-14-4\" x=\"14\" y = \"4\" width=\"1\" height=\"1\" style=\"fill:white;stroke-width:0.01;stroke:rgb(255,255,255)\" />\n",
       "<rect id=\"vis1-15-4\" x=\"15\" y = \"4\" width=\"1\" height=\"1\" style=\"fill:black;stroke-width:0.01;stroke:rgb(255,255,255)\" />\n",
       "<rect id=\"vis1-16-4\" x=\"16\" y = \"4\" width=\"1\" height=\"1\" style=\"fill:white;stroke-width:0.01;stroke:rgb(255,255,255)\" />\n",
       "<rect id=\"vis1-17-4\" x=\"17\" y = \"4\" width=\"1\" height=\"1\" style=\"fill:white;stroke-width:0.01;stroke:rgb(255,255,255)\" />\n",
       "<rect id=\"vis1-18-4\" x=\"18\" y = \"4\" width=\"1\" height=\"1\" style=\"fill:white;stroke-width:0.01;stroke:rgb(255,255,255)\" />\n",
       "<rect id=\"vis1-19-4\" x=\"19\" y = \"4\" width=\"1\" height=\"1\" style=\"fill:white;stroke-width:0.01;stroke:rgb(255,255,255)\" />\n",
       "<rect id=\"vis1-20-4\" x=\"20\" y = \"4\" width=\"1\" height=\"1\" style=\"fill:black;stroke-width:0.01;stroke:rgb(255,255,255)\" />\n",
       "<rect id=\"vis1-21-4\" x=\"21\" y = \"4\" width=\"1\" height=\"1\" style=\"fill:white;stroke-width:0.01;stroke:rgb(255,255,255)\" />\n",
       "<rect id=\"vis1-22-4\" x=\"22\" y = \"4\" width=\"1\" height=\"1\" style=\"fill:white;stroke-width:0.01;stroke:rgb(255,255,255)\" />\n",
       "<rect id=\"vis1-23-4\" x=\"23\" y = \"4\" width=\"1\" height=\"1\" style=\"fill:white;stroke-width:0.01;stroke:rgb(255,255,255)\" />\n",
       "<rect id=\"vis1-24-4\" x=\"24\" y = \"4\" width=\"1\" height=\"1\" style=\"fill:white;stroke-width:0.01;stroke:rgb(255,255,255)\" />\n",
       "<rect id=\"vis1-0-5\" x=\"0\" y = \"5\" width=\"1\" height=\"1\" style=\"fill:white;stroke-width:0.01;stroke:rgb(255,255,255)\" />\n",
       "<rect id=\"vis1-1-5\" x=\"1\" y = \"5\" width=\"1\" height=\"1\" style=\"fill:white;stroke-width:0.01;stroke:rgb(255,255,255)\" />\n",
       "<rect id=\"vis1-2-5\" x=\"2\" y = \"5\" width=\"1\" height=\"1\" style=\"fill:black;stroke-width:0.01;stroke:rgb(255,255,255)\" />\n",
       "<rect id=\"vis1-3-5\" x=\"3\" y = \"5\" width=\"1\" height=\"1\" style=\"fill:white;stroke-width:0.01;stroke:rgb(255,255,255)\" />\n",
       "<rect id=\"vis1-4-5\" x=\"4\" y = \"5\" width=\"1\" height=\"1\" style=\"fill:white;stroke-width:0.01;stroke:rgb(255,255,255)\" />\n",
       "<rect id=\"vis1-5-5\" x=\"5\" y = \"5\" width=\"1\" height=\"1\" style=\"fill:black;stroke-width:0.01;stroke:rgb(255,255,255)\" />\n",
       "<rect id=\"vis1-6-5\" x=\"6\" y = \"5\" width=\"1\" height=\"1\" style=\"fill:black;stroke-width:0.01;stroke:rgb(255,255,255)\" />\n",
       "<rect id=\"vis1-7-5\" x=\"7\" y = \"5\" width=\"1\" height=\"1\" style=\"fill:black;stroke-width:0.01;stroke:rgb(255,255,255)\" />\n",
       "<rect id=\"vis1-8-5\" x=\"8\" y = \"5\" width=\"1\" height=\"1\" style=\"fill:black;stroke-width:0.01;stroke:rgb(255,255,255)\" />\n",
       "<rect id=\"vis1-9-5\" x=\"9\" y = \"5\" width=\"1\" height=\"1\" style=\"fill:white;stroke-width:0.01;stroke:rgb(255,255,255)\" />\n",
       "<rect id=\"vis1-10-5\" x=\"10\" y = \"5\" width=\"1\" height=\"1\" style=\"fill:black;stroke-width:0.01;stroke:rgb(255,255,255)\" />\n",
       "<rect id=\"vis1-11-5\" x=\"11\" y = \"5\" width=\"1\" height=\"1\" style=\"fill:white;stroke-width:0.01;stroke:rgb(255,255,255)\" />\n",
       "<rect id=\"vis1-12-5\" x=\"12\" y = \"5\" width=\"1\" height=\"1\" style=\"fill:white;stroke-width:0.01;stroke:rgb(255,255,255)\" />\n",
       "<rect id=\"vis1-13-5\" x=\"13\" y = \"5\" width=\"1\" height=\"1\" style=\"fill:black;stroke-width:0.01;stroke:rgb(255,255,255)\" />\n",
       "<rect id=\"vis1-14-5\" x=\"14\" y = \"5\" width=\"1\" height=\"1\" style=\"fill:white;stroke-width:0.01;stroke:rgb(255,255,255)\" />\n",
       "<rect id=\"vis1-15-5\" x=\"15\" y = \"5\" width=\"1\" height=\"1\" style=\"fill:black;stroke-width:0.01;stroke:rgb(255,255,255)\" />\n",
       "<rect id=\"vis1-16-5\" x=\"16\" y = \"5\" width=\"1\" height=\"1\" style=\"fill:black;stroke-width:0.01;stroke:rgb(255,255,255)\" />\n",
       "<rect id=\"vis1-17-5\" x=\"17\" y = \"5\" width=\"1\" height=\"1\" style=\"fill:black;stroke-width:0.01;stroke:rgb(255,255,255)\" />\n",
       "<rect id=\"vis1-18-5\" x=\"18\" y = \"5\" width=\"1\" height=\"1\" style=\"fill:black;stroke-width:0.01;stroke:rgb(255,255,255)\" />\n",
       "<rect id=\"vis1-19-5\" x=\"19\" y = \"5\" width=\"1\" height=\"1\" style=\"fill:white;stroke-width:0.01;stroke:rgb(255,255,255)\" />\n",
       "<rect id=\"vis1-20-5\" x=\"20\" y = \"5\" width=\"1\" height=\"1\" style=\"fill:black;stroke-width:0.01;stroke:rgb(255,255,255)\" />\n",
       "<rect id=\"vis1-21-5\" x=\"21\" y = \"5\" width=\"1\" height=\"1\" style=\"fill:white;stroke-width:0.01;stroke:rgb(255,255,255)\" />\n",
       "<rect id=\"vis1-22-5\" x=\"22\" y = \"5\" width=\"1\" height=\"1\" style=\"fill:white;stroke-width:0.01;stroke:rgb(255,255,255)\" />\n",
       "<rect id=\"vis1-23-5\" x=\"23\" y = \"5\" width=\"1\" height=\"1\" style=\"fill:white;stroke-width:0.01;stroke:rgb(255,255,255)\" />\n",
       "<rect id=\"vis1-24-5\" x=\"24\" y = \"5\" width=\"1\" height=\"1\" style=\"fill:white;stroke-width:0.01;stroke:rgb(255,255,255)\" /></svg>"
      ]
     },
     "metadata": {},
     "output_type": "display_data"
    }
   ],
   "source": [
    "coroutine visualize visualize-step\n",
    "while {[visualize]} {}"
   ]
  },
  {
   "cell_type": "markdown",
   "metadata": {},
   "source": [
    "# Using JS\n",
    "You can also directly modify the SVG using batched javascript commands"
   ]
  },
  {
   "cell_type": "code",
   "execution_count": 23,
   "metadata": {},
   "outputs": [],
   "source": [
    "proc visualize-step-2 {} {\n",
    "  set layer 0\n",
    "  set svg [list {<svg  viewbox=\"-1 -1 26 7\">}]\n",
    "   set js {}\n",
    "  foreach y [range 0 5] {\n",
    "    foreach x [range 0 24] {\n",
    "        lappend svg [svgpixel $x $y vis2  0.01 black]\n",
    "        set id vis2-$x-$y\n",
    "        lappend js \"document\\[\\\"$id\\\"\\] = document.getElementById(\\\"$id\\\");\"\n",
    "    }\n",
    "  }\n",
    "  lappend svg </svg>\n",
    "  set svg [join $svg \\n]\n",
    "  jupyter::html $svg\n",
    "  set js [join $js \\n]\n",
    "  \n",
    "   set jsid [jupyter::display text/javascript $js]\n",
    "  yield \n",
    "  foreach l [lreverse $::layers] {\n",
    "    incr layer\n",
    "    set js  {}\n",
    "    foreach y [range 0 5] {\n",
    "       foreach x [range 0 24] {\n",
    "       set idx [expr {$y*25+$x} ]\n",
    "        set col [string index $l $idx]\n",
    "        set id vis2-$x-$y\n",
    "        switch $col {\n",
    "          0 {\n",
    "              lappend js \"document\\[\\\"$id\\\"\\].style.opacity = 0.0;\"\n",
    "          }\n",
    "          1 {\n",
    "             lappend js \"document\\[\\\"$id\\\"\\].style.opacity = 1.0;\"\n",
    "          }\n",
    "        }\n",
    "      }\n",
    "    }\n",
    "    jupyter::updatedisplay $jsid application/javascript [join $js \\n];\n",
    "    yield 1\n",
    "  }\n",
    "  yield 0\n",
    "};"
   ]
  },
  {
   "cell_type": "code",
   "execution_count": 41,
   "metadata": {},
   "outputs": [
    {
     "data": {
      "text/html": [
       "<svg  viewbox=\"-1 -1 26 7\">\n",
       "<rect id=\"vis2-0-0\" x=\"0\" y = \"0\" width=\"1\" height=\"1\" style=\"fill:black;stroke-width:0.01;stroke:rgb(255,255,255)\" />\n",
       "<rect id=\"vis2-1-0\" x=\"1\" y = \"0\" width=\"1\" height=\"1\" style=\"fill:black;stroke-width:0.01;stroke:rgb(255,255,255)\" />\n",
       "<rect id=\"vis2-2-0\" x=\"2\" y = \"0\" width=\"1\" height=\"1\" style=\"fill:black;stroke-width:0.01;stroke:rgb(255,255,255)\" />\n",
       "<rect id=\"vis2-3-0\" x=\"3\" y = \"0\" width=\"1\" height=\"1\" style=\"fill:black;stroke-width:0.01;stroke:rgb(255,255,255)\" />\n",
       "<rect id=\"vis2-4-0\" x=\"4\" y = \"0\" width=\"1\" height=\"1\" style=\"fill:black;stroke-width:0.01;stroke:rgb(255,255,255)\" />\n",
       "<rect id=\"vis2-5-0\" x=\"5\" y = \"0\" width=\"1\" height=\"1\" style=\"fill:black;stroke-width:0.01;stroke:rgb(255,255,255)\" />\n",
       "<rect id=\"vis2-6-0\" x=\"6\" y = \"0\" width=\"1\" height=\"1\" style=\"fill:black;stroke-width:0.01;stroke:rgb(255,255,255)\" />\n",
       "<rect id=\"vis2-7-0\" x=\"7\" y = \"0\" width=\"1\" height=\"1\" style=\"fill:black;stroke-width:0.01;stroke:rgb(255,255,255)\" />\n",
       "<rect id=\"vis2-8-0\" x=\"8\" y = \"0\" width=\"1\" height=\"1\" style=\"fill:black;stroke-width:0.01;stroke:rgb(255,255,255)\" />\n",
       "<rect id=\"vis2-9-0\" x=\"9\" y = \"0\" width=\"1\" height=\"1\" style=\"fill:black;stroke-width:0.01;stroke:rgb(255,255,255)\" />\n",
       "<rect id=\"vis2-10-0\" x=\"10\" y = \"0\" width=\"1\" height=\"1\" style=\"fill:black;stroke-width:0.01;stroke:rgb(255,255,255)\" />\n",
       "<rect id=\"vis2-11-0\" x=\"11\" y = \"0\" width=\"1\" height=\"1\" style=\"fill:black;stroke-width:0.01;stroke:rgb(255,255,255)\" />\n",
       "<rect id=\"vis2-12-0\" x=\"12\" y = \"0\" width=\"1\" height=\"1\" style=\"fill:black;stroke-width:0.01;stroke:rgb(255,255,255)\" />\n",
       "<rect id=\"vis2-13-0\" x=\"13\" y = \"0\" width=\"1\" height=\"1\" style=\"fill:black;stroke-width:0.01;stroke:rgb(255,255,255)\" />\n",
       "<rect id=\"vis2-14-0\" x=\"14\" y = \"0\" width=\"1\" height=\"1\" style=\"fill:black;stroke-width:0.01;stroke:rgb(255,255,255)\" />\n",
       "<rect id=\"vis2-15-0\" x=\"15\" y = \"0\" width=\"1\" height=\"1\" style=\"fill:black;stroke-width:0.01;stroke:rgb(255,255,255)\" />\n",
       "<rect id=\"vis2-16-0\" x=\"16\" y = \"0\" width=\"1\" height=\"1\" style=\"fill:black;stroke-width:0.01;stroke:rgb(255,255,255)\" />\n",
       "<rect id=\"vis2-17-0\" x=\"17\" y = \"0\" width=\"1\" height=\"1\" style=\"fill:black;stroke-width:0.01;stroke:rgb(255,255,255)\" />\n",
       "<rect id=\"vis2-18-0\" x=\"18\" y = \"0\" width=\"1\" height=\"1\" style=\"fill:black;stroke-width:0.01;stroke:rgb(255,255,255)\" />\n",
       "<rect id=\"vis2-19-0\" x=\"19\" y = \"0\" width=\"1\" height=\"1\" style=\"fill:black;stroke-width:0.01;stroke:rgb(255,255,255)\" />\n",
       "<rect id=\"vis2-20-0\" x=\"20\" y = \"0\" width=\"1\" height=\"1\" style=\"fill:black;stroke-width:0.01;stroke:rgb(255,255,255)\" />\n",
       "<rect id=\"vis2-21-0\" x=\"21\" y = \"0\" width=\"1\" height=\"1\" style=\"fill:black;stroke-width:0.01;stroke:rgb(255,255,255)\" />\n",
       "<rect id=\"vis2-22-0\" x=\"22\" y = \"0\" width=\"1\" height=\"1\" style=\"fill:black;stroke-width:0.01;stroke:rgb(255,255,255)\" />\n",
       "<rect id=\"vis2-23-0\" x=\"23\" y = \"0\" width=\"1\" height=\"1\" style=\"fill:black;stroke-width:0.01;stroke:rgb(255,255,255)\" />\n",
       "<rect id=\"vis2-24-0\" x=\"24\" y = \"0\" width=\"1\" height=\"1\" style=\"fill:black;stroke-width:0.01;stroke:rgb(255,255,255)\" />\n",
       "<rect id=\"vis2-0-1\" x=\"0\" y = \"1\" width=\"1\" height=\"1\" style=\"fill:black;stroke-width:0.01;stroke:rgb(255,255,255)\" />\n",
       "<rect id=\"vis2-1-1\" x=\"1\" y = \"1\" width=\"1\" height=\"1\" style=\"fill:black;stroke-width:0.01;stroke:rgb(255,255,255)\" />\n",
       "<rect id=\"vis2-2-1\" x=\"2\" y = \"1\" width=\"1\" height=\"1\" style=\"fill:black;stroke-width:0.01;stroke:rgb(255,255,255)\" />\n",
       "<rect id=\"vis2-3-1\" x=\"3\" y = \"1\" width=\"1\" height=\"1\" style=\"fill:black;stroke-width:0.01;stroke:rgb(255,255,255)\" />\n",
       "<rect id=\"vis2-4-1\" x=\"4\" y = \"1\" width=\"1\" height=\"1\" style=\"fill:black;stroke-width:0.01;stroke:rgb(255,255,255)\" />\n",
       "<rect id=\"vis2-5-1\" x=\"5\" y = \"1\" width=\"1\" height=\"1\" style=\"fill:black;stroke-width:0.01;stroke:rgb(255,255,255)\" />\n",
       "<rect id=\"vis2-6-1\" x=\"6\" y = \"1\" width=\"1\" height=\"1\" style=\"fill:black;stroke-width:0.01;stroke:rgb(255,255,255)\" />\n",
       "<rect id=\"vis2-7-1\" x=\"7\" y = \"1\" width=\"1\" height=\"1\" style=\"fill:black;stroke-width:0.01;stroke:rgb(255,255,255)\" />\n",
       "<rect id=\"vis2-8-1\" x=\"8\" y = \"1\" width=\"1\" height=\"1\" style=\"fill:black;stroke-width:0.01;stroke:rgb(255,255,255)\" />\n",
       "<rect id=\"vis2-9-1\" x=\"9\" y = \"1\" width=\"1\" height=\"1\" style=\"fill:black;stroke-width:0.01;stroke:rgb(255,255,255)\" />\n",
       "<rect id=\"vis2-10-1\" x=\"10\" y = \"1\" width=\"1\" height=\"1\" style=\"fill:black;stroke-width:0.01;stroke:rgb(255,255,255)\" />\n",
       "<rect id=\"vis2-11-1\" x=\"11\" y = \"1\" width=\"1\" height=\"1\" style=\"fill:black;stroke-width:0.01;stroke:rgb(255,255,255)\" />\n",
       "<rect id=\"vis2-12-1\" x=\"12\" y = \"1\" width=\"1\" height=\"1\" style=\"fill:black;stroke-width:0.01;stroke:rgb(255,255,255)\" />\n",
       "<rect id=\"vis2-13-1\" x=\"13\" y = \"1\" width=\"1\" height=\"1\" style=\"fill:black;stroke-width:0.01;stroke:rgb(255,255,255)\" />\n",
       "<rect id=\"vis2-14-1\" x=\"14\" y = \"1\" width=\"1\" height=\"1\" style=\"fill:black;stroke-width:0.01;stroke:rgb(255,255,255)\" />\n",
       "<rect id=\"vis2-15-1\" x=\"15\" y = \"1\" width=\"1\" height=\"1\" style=\"fill:black;stroke-width:0.01;stroke:rgb(255,255,255)\" />\n",
       "<rect id=\"vis2-16-1\" x=\"16\" y = \"1\" width=\"1\" height=\"1\" style=\"fill:black;stroke-width:0.01;stroke:rgb(255,255,255)\" />\n",
       "<rect id=\"vis2-17-1\" x=\"17\" y = \"1\" width=\"1\" height=\"1\" style=\"fill:black;stroke-width:0.01;stroke:rgb(255,255,255)\" />\n",
       "<rect id=\"vis2-18-1\" x=\"18\" y = \"1\" width=\"1\" height=\"1\" style=\"fill:black;stroke-width:0.01;stroke:rgb(255,255,255)\" />\n",
       "<rect id=\"vis2-19-1\" x=\"19\" y = \"1\" width=\"1\" height=\"1\" style=\"fill:black;stroke-width:0.01;stroke:rgb(255,255,255)\" />\n",
       "<rect id=\"vis2-20-1\" x=\"20\" y = \"1\" width=\"1\" height=\"1\" style=\"fill:black;stroke-width:0.01;stroke:rgb(255,255,255)\" />\n",
       "<rect id=\"vis2-21-1\" x=\"21\" y = \"1\" width=\"1\" height=\"1\" style=\"fill:black;stroke-width:0.01;stroke:rgb(255,255,255)\" />\n",
       "<rect id=\"vis2-22-1\" x=\"22\" y = \"1\" width=\"1\" height=\"1\" style=\"fill:black;stroke-width:0.01;stroke:rgb(255,255,255)\" />\n",
       "<rect id=\"vis2-23-1\" x=\"23\" y = \"1\" width=\"1\" height=\"1\" style=\"fill:black;stroke-width:0.01;stroke:rgb(255,255,255)\" />\n",
       "<rect id=\"vis2-24-1\" x=\"24\" y = \"1\" width=\"1\" height=\"1\" style=\"fill:black;stroke-width:0.01;stroke:rgb(255,255,255)\" />\n",
       "<rect id=\"vis2-0-2\" x=\"0\" y = \"2\" width=\"1\" height=\"1\" style=\"fill:black;stroke-width:0.01;stroke:rgb(255,255,255)\" />\n",
       "<rect id=\"vis2-1-2\" x=\"1\" y = \"2\" width=\"1\" height=\"1\" style=\"fill:black;stroke-width:0.01;stroke:rgb(255,255,255)\" />\n",
       "<rect id=\"vis2-2-2\" x=\"2\" y = \"2\" width=\"1\" height=\"1\" style=\"fill:black;stroke-width:0.01;stroke:rgb(255,255,255)\" />\n",
       "<rect id=\"vis2-3-2\" x=\"3\" y = \"2\" width=\"1\" height=\"1\" style=\"fill:black;stroke-width:0.01;stroke:rgb(255,255,255)\" />\n",
       "<rect id=\"vis2-4-2\" x=\"4\" y = \"2\" width=\"1\" height=\"1\" style=\"fill:black;stroke-width:0.01;stroke:rgb(255,255,255)\" />\n",
       "<rect id=\"vis2-5-2\" x=\"5\" y = \"2\" width=\"1\" height=\"1\" style=\"fill:black;stroke-width:0.01;stroke:rgb(255,255,255)\" />\n",
       "<rect id=\"vis2-6-2\" x=\"6\" y = \"2\" width=\"1\" height=\"1\" style=\"fill:black;stroke-width:0.01;stroke:rgb(255,255,255)\" />\n",
       "<rect id=\"vis2-7-2\" x=\"7\" y = \"2\" width=\"1\" height=\"1\" style=\"fill:black;stroke-width:0.01;stroke:rgb(255,255,255)\" />\n",
       "<rect id=\"vis2-8-2\" x=\"8\" y = \"2\" width=\"1\" height=\"1\" style=\"fill:black;stroke-width:0.01;stroke:rgb(255,255,255)\" />\n",
       "<rect id=\"vis2-9-2\" x=\"9\" y = \"2\" width=\"1\" height=\"1\" style=\"fill:black;stroke-width:0.01;stroke:rgb(255,255,255)\" />\n",
       "<rect id=\"vis2-10-2\" x=\"10\" y = \"2\" width=\"1\" height=\"1\" style=\"fill:black;stroke-width:0.01;stroke:rgb(255,255,255)\" />\n",
       "<rect id=\"vis2-11-2\" x=\"11\" y = \"2\" width=\"1\" height=\"1\" style=\"fill:black;stroke-width:0.01;stroke:rgb(255,255,255)\" />\n",
       "<rect id=\"vis2-12-2\" x=\"12\" y = \"2\" width=\"1\" height=\"1\" style=\"fill:black;stroke-width:0.01;stroke:rgb(255,255,255)\" />\n",
       "<rect id=\"vis2-13-2\" x=\"13\" y = \"2\" width=\"1\" height=\"1\" style=\"fill:black;stroke-width:0.01;stroke:rgb(255,255,255)\" />\n",
       "<rect id=\"vis2-14-2\" x=\"14\" y = \"2\" width=\"1\" height=\"1\" style=\"fill:black;stroke-width:0.01;stroke:rgb(255,255,255)\" />\n",
       "<rect id=\"vis2-15-2\" x=\"15\" y = \"2\" width=\"1\" height=\"1\" style=\"fill:black;stroke-width:0.01;stroke:rgb(255,255,255)\" />\n",
       "<rect id=\"vis2-16-2\" x=\"16\" y = \"2\" width=\"1\" height=\"1\" style=\"fill:black;stroke-width:0.01;stroke:rgb(255,255,255)\" />\n",
       "<rect id=\"vis2-17-2\" x=\"17\" y = \"2\" width=\"1\" height=\"1\" style=\"fill:black;stroke-width:0.01;stroke:rgb(255,255,255)\" />\n",
       "<rect id=\"vis2-18-2\" x=\"18\" y = \"2\" width=\"1\" height=\"1\" style=\"fill:black;stroke-width:0.01;stroke:rgb(255,255,255)\" />\n",
       "<rect id=\"vis2-19-2\" x=\"19\" y = \"2\" width=\"1\" height=\"1\" style=\"fill:black;stroke-width:0.01;stroke:rgb(255,255,255)\" />\n",
       "<rect id=\"vis2-20-2\" x=\"20\" y = \"2\" width=\"1\" height=\"1\" style=\"fill:black;stroke-width:0.01;stroke:rgb(255,255,255)\" />\n",
       "<rect id=\"vis2-21-2\" x=\"21\" y = \"2\" width=\"1\" height=\"1\" style=\"fill:black;stroke-width:0.01;stroke:rgb(255,255,255)\" />\n",
       "<rect id=\"vis2-22-2\" x=\"22\" y = \"2\" width=\"1\" height=\"1\" style=\"fill:black;stroke-width:0.01;stroke:rgb(255,255,255)\" />\n",
       "<rect id=\"vis2-23-2\" x=\"23\" y = \"2\" width=\"1\" height=\"1\" style=\"fill:black;stroke-width:0.01;stroke:rgb(255,255,255)\" />\n",
       "<rect id=\"vis2-24-2\" x=\"24\" y = \"2\" width=\"1\" height=\"1\" style=\"fill:black;stroke-width:0.01;stroke:rgb(255,255,255)\" />\n",
       "<rect id=\"vis2-0-3\" x=\"0\" y = \"3\" width=\"1\" height=\"1\" style=\"fill:black;stroke-width:0.01;stroke:rgb(255,255,255)\" />\n",
       "<rect id=\"vis2-1-3\" x=\"1\" y = \"3\" width=\"1\" height=\"1\" style=\"fill:black;stroke-width:0.01;stroke:rgb(255,255,255)\" />\n",
       "<rect id=\"vis2-2-3\" x=\"2\" y = \"3\" width=\"1\" height=\"1\" style=\"fill:black;stroke-width:0.01;stroke:rgb(255,255,255)\" />\n",
       "<rect id=\"vis2-3-3\" x=\"3\" y = \"3\" width=\"1\" height=\"1\" style=\"fill:black;stroke-width:0.01;stroke:rgb(255,255,255)\" />\n",
       "<rect id=\"vis2-4-3\" x=\"4\" y = \"3\" width=\"1\" height=\"1\" style=\"fill:black;stroke-width:0.01;stroke:rgb(255,255,255)\" />\n",
       "<rect id=\"vis2-5-3\" x=\"5\" y = \"3\" width=\"1\" height=\"1\" style=\"fill:black;stroke-width:0.01;stroke:rgb(255,255,255)\" />\n",
       "<rect id=\"vis2-6-3\" x=\"6\" y = \"3\" width=\"1\" height=\"1\" style=\"fill:black;stroke-width:0.01;stroke:rgb(255,255,255)\" />\n",
       "<rect id=\"vis2-7-3\" x=\"7\" y = \"3\" width=\"1\" height=\"1\" style=\"fill:black;stroke-width:0.01;stroke:rgb(255,255,255)\" />\n",
       "<rect id=\"vis2-8-3\" x=\"8\" y = \"3\" width=\"1\" height=\"1\" style=\"fill:black;stroke-width:0.01;stroke:rgb(255,255,255)\" />\n",
       "<rect id=\"vis2-9-3\" x=\"9\" y = \"3\" width=\"1\" height=\"1\" style=\"fill:black;stroke-width:0.01;stroke:rgb(255,255,255)\" />\n",
       "<rect id=\"vis2-10-3\" x=\"10\" y = \"3\" width=\"1\" height=\"1\" style=\"fill:black;stroke-width:0.01;stroke:rgb(255,255,255)\" />\n",
       "<rect id=\"vis2-11-3\" x=\"11\" y = \"3\" width=\"1\" height=\"1\" style=\"fill:black;stroke-width:0.01;stroke:rgb(255,255,255)\" />\n",
       "<rect id=\"vis2-12-3\" x=\"12\" y = \"3\" width=\"1\" height=\"1\" style=\"fill:black;stroke-width:0.01;stroke:rgb(255,255,255)\" />\n",
       "<rect id=\"vis2-13-3\" x=\"13\" y = \"3\" width=\"1\" height=\"1\" style=\"fill:black;stroke-width:0.01;stroke:rgb(255,255,255)\" />\n",
       "<rect id=\"vis2-14-3\" x=\"14\" y = \"3\" width=\"1\" height=\"1\" style=\"fill:black;stroke-width:0.01;stroke:rgb(255,255,255)\" />\n",
       "<rect id=\"vis2-15-3\" x=\"15\" y = \"3\" width=\"1\" height=\"1\" style=\"fill:black;stroke-width:0.01;stroke:rgb(255,255,255)\" />\n",
       "<rect id=\"vis2-16-3\" x=\"16\" y = \"3\" width=\"1\" height=\"1\" style=\"fill:black;stroke-width:0.01;stroke:rgb(255,255,255)\" />\n",
       "<rect id=\"vis2-17-3\" x=\"17\" y = \"3\" width=\"1\" height=\"1\" style=\"fill:black;stroke-width:0.01;stroke:rgb(255,255,255)\" />\n",
       "<rect id=\"vis2-18-3\" x=\"18\" y = \"3\" width=\"1\" height=\"1\" style=\"fill:black;stroke-width:0.01;stroke:rgb(255,255,255)\" />\n",
       "<rect id=\"vis2-19-3\" x=\"19\" y = \"3\" width=\"1\" height=\"1\" style=\"fill:black;stroke-width:0.01;stroke:rgb(255,255,255)\" />\n",
       "<rect id=\"vis2-20-3\" x=\"20\" y = \"3\" width=\"1\" height=\"1\" style=\"fill:black;stroke-width:0.01;stroke:rgb(255,255,255)\" />\n",
       "<rect id=\"vis2-21-3\" x=\"21\" y = \"3\" width=\"1\" height=\"1\" style=\"fill:black;stroke-width:0.01;stroke:rgb(255,255,255)\" />\n",
       "<rect id=\"vis2-22-3\" x=\"22\" y = \"3\" width=\"1\" height=\"1\" style=\"fill:black;stroke-width:0.01;stroke:rgb(255,255,255)\" />\n",
       "<rect id=\"vis2-23-3\" x=\"23\" y = \"3\" width=\"1\" height=\"1\" style=\"fill:black;stroke-width:0.01;stroke:rgb(255,255,255)\" />\n",
       "<rect id=\"vis2-24-3\" x=\"24\" y = \"3\" width=\"1\" height=\"1\" style=\"fill:black;stroke-width:0.01;stroke:rgb(255,255,255)\" />\n",
       "<rect id=\"vis2-0-4\" x=\"0\" y = \"4\" width=\"1\" height=\"1\" style=\"fill:black;stroke-width:0.01;stroke:rgb(255,255,255)\" />\n",
       "<rect id=\"vis2-1-4\" x=\"1\" y = \"4\" width=\"1\" height=\"1\" style=\"fill:black;stroke-width:0.01;stroke:rgb(255,255,255)\" />\n",
       "<rect id=\"vis2-2-4\" x=\"2\" y = \"4\" width=\"1\" height=\"1\" style=\"fill:black;stroke-width:0.01;stroke:rgb(255,255,255)\" />\n",
       "<rect id=\"vis2-3-4\" x=\"3\" y = \"4\" width=\"1\" height=\"1\" style=\"fill:black;stroke-width:0.01;stroke:rgb(255,255,255)\" />\n",
       "<rect id=\"vis2-4-4\" x=\"4\" y = \"4\" width=\"1\" height=\"1\" style=\"fill:black;stroke-width:0.01;stroke:rgb(255,255,255)\" />\n",
       "<rect id=\"vis2-5-4\" x=\"5\" y = \"4\" width=\"1\" height=\"1\" style=\"fill:black;stroke-width:0.01;stroke:rgb(255,255,255)\" />\n",
       "<rect id=\"vis2-6-4\" x=\"6\" y = \"4\" width=\"1\" height=\"1\" style=\"fill:black;stroke-width:0.01;stroke:rgb(255,255,255)\" />\n",
       "<rect id=\"vis2-7-4\" x=\"7\" y = \"4\" width=\"1\" height=\"1\" style=\"fill:black;stroke-width:0.01;stroke:rgb(255,255,255)\" />\n",
       "<rect id=\"vis2-8-4\" x=\"8\" y = \"4\" width=\"1\" height=\"1\" style=\"fill:black;stroke-width:0.01;stroke:rgb(255,255,255)\" />\n",
       "<rect id=\"vis2-9-4\" x=\"9\" y = \"4\" width=\"1\" height=\"1\" style=\"fill:black;stroke-width:0.01;stroke:rgb(255,255,255)\" />\n",
       "<rect id=\"vis2-10-4\" x=\"10\" y = \"4\" width=\"1\" height=\"1\" style=\"fill:black;stroke-width:0.01;stroke:rgb(255,255,255)\" />\n",
       "<rect id=\"vis2-11-4\" x=\"11\" y = \"4\" width=\"1\" height=\"1\" style=\"fill:black;stroke-width:0.01;stroke:rgb(255,255,255)\" />\n",
       "<rect id=\"vis2-12-4\" x=\"12\" y = \"4\" width=\"1\" height=\"1\" style=\"fill:black;stroke-width:0.01;stroke:rgb(255,255,255)\" />\n",
       "<rect id=\"vis2-13-4\" x=\"13\" y = \"4\" width=\"1\" height=\"1\" style=\"fill:black;stroke-width:0.01;stroke:rgb(255,255,255)\" />\n",
       "<rect id=\"vis2-14-4\" x=\"14\" y = \"4\" width=\"1\" height=\"1\" style=\"fill:black;stroke-width:0.01;stroke:rgb(255,255,255)\" />\n",
       "<rect id=\"vis2-15-4\" x=\"15\" y = \"4\" width=\"1\" height=\"1\" style=\"fill:black;stroke-width:0.01;stroke:rgb(255,255,255)\" />\n",
       "<rect id=\"vis2-16-4\" x=\"16\" y = \"4\" width=\"1\" height=\"1\" style=\"fill:black;stroke-width:0.01;stroke:rgb(255,255,255)\" />\n",
       "<rect id=\"vis2-17-4\" x=\"17\" y = \"4\" width=\"1\" height=\"1\" style=\"fill:black;stroke-width:0.01;stroke:rgb(255,255,255)\" />\n",
       "<rect id=\"vis2-18-4\" x=\"18\" y = \"4\" width=\"1\" height=\"1\" style=\"fill:black;stroke-width:0.01;stroke:rgb(255,255,255)\" />\n",
       "<rect id=\"vis2-19-4\" x=\"19\" y = \"4\" width=\"1\" height=\"1\" style=\"fill:black;stroke-width:0.01;stroke:rgb(255,255,255)\" />\n",
       "<rect id=\"vis2-20-4\" x=\"20\" y = \"4\" width=\"1\" height=\"1\" style=\"fill:black;stroke-width:0.01;stroke:rgb(255,255,255)\" />\n",
       "<rect id=\"vis2-21-4\" x=\"21\" y = \"4\" width=\"1\" height=\"1\" style=\"fill:black;stroke-width:0.01;stroke:rgb(255,255,255)\" />\n",
       "<rect id=\"vis2-22-4\" x=\"22\" y = \"4\" width=\"1\" height=\"1\" style=\"fill:black;stroke-width:0.01;stroke:rgb(255,255,255)\" />\n",
       "<rect id=\"vis2-23-4\" x=\"23\" y = \"4\" width=\"1\" height=\"1\" style=\"fill:black;stroke-width:0.01;stroke:rgb(255,255,255)\" />\n",
       "<rect id=\"vis2-24-4\" x=\"24\" y = \"4\" width=\"1\" height=\"1\" style=\"fill:black;stroke-width:0.01;stroke:rgb(255,255,255)\" />\n",
       "<rect id=\"vis2-0-5\" x=\"0\" y = \"5\" width=\"1\" height=\"1\" style=\"fill:black;stroke-width:0.01;stroke:rgb(255,255,255)\" />\n",
       "<rect id=\"vis2-1-5\" x=\"1\" y = \"5\" width=\"1\" height=\"1\" style=\"fill:black;stroke-width:0.01;stroke:rgb(255,255,255)\" />\n",
       "<rect id=\"vis2-2-5\" x=\"2\" y = \"5\" width=\"1\" height=\"1\" style=\"fill:black;stroke-width:0.01;stroke:rgb(255,255,255)\" />\n",
       "<rect id=\"vis2-3-5\" x=\"3\" y = \"5\" width=\"1\" height=\"1\" style=\"fill:black;stroke-width:0.01;stroke:rgb(255,255,255)\" />\n",
       "<rect id=\"vis2-4-5\" x=\"4\" y = \"5\" width=\"1\" height=\"1\" style=\"fill:black;stroke-width:0.01;stroke:rgb(255,255,255)\" />\n",
       "<rect id=\"vis2-5-5\" x=\"5\" y = \"5\" width=\"1\" height=\"1\" style=\"fill:black;stroke-width:0.01;stroke:rgb(255,255,255)\" />\n",
       "<rect id=\"vis2-6-5\" x=\"6\" y = \"5\" width=\"1\" height=\"1\" style=\"fill:black;stroke-width:0.01;stroke:rgb(255,255,255)\" />\n",
       "<rect id=\"vis2-7-5\" x=\"7\" y = \"5\" width=\"1\" height=\"1\" style=\"fill:black;stroke-width:0.01;stroke:rgb(255,255,255)\" />\n",
       "<rect id=\"vis2-8-5\" x=\"8\" y = \"5\" width=\"1\" height=\"1\" style=\"fill:black;stroke-width:0.01;stroke:rgb(255,255,255)\" />\n",
       "<rect id=\"vis2-9-5\" x=\"9\" y = \"5\" width=\"1\" height=\"1\" style=\"fill:black;stroke-width:0.01;stroke:rgb(255,255,255)\" />\n",
       "<rect id=\"vis2-10-5\" x=\"10\" y = \"5\" width=\"1\" height=\"1\" style=\"fill:black;stroke-width:0.01;stroke:rgb(255,255,255)\" />\n",
       "<rect id=\"vis2-11-5\" x=\"11\" y = \"5\" width=\"1\" height=\"1\" style=\"fill:black;stroke-width:0.01;stroke:rgb(255,255,255)\" />\n",
       "<rect id=\"vis2-12-5\" x=\"12\" y = \"5\" width=\"1\" height=\"1\" style=\"fill:black;stroke-width:0.01;stroke:rgb(255,255,255)\" />\n",
       "<rect id=\"vis2-13-5\" x=\"13\" y = \"5\" width=\"1\" height=\"1\" style=\"fill:black;stroke-width:0.01;stroke:rgb(255,255,255)\" />\n",
       "<rect id=\"vis2-14-5\" x=\"14\" y = \"5\" width=\"1\" height=\"1\" style=\"fill:black;stroke-width:0.01;stroke:rgb(255,255,255)\" />\n",
       "<rect id=\"vis2-15-5\" x=\"15\" y = \"5\" width=\"1\" height=\"1\" style=\"fill:black;stroke-width:0.01;stroke:rgb(255,255,255)\" />\n",
       "<rect id=\"vis2-16-5\" x=\"16\" y = \"5\" width=\"1\" height=\"1\" style=\"fill:black;stroke-width:0.01;stroke:rgb(255,255,255)\" />\n",
       "<rect id=\"vis2-17-5\" x=\"17\" y = \"5\" width=\"1\" height=\"1\" style=\"fill:black;stroke-width:0.01;stroke:rgb(255,255,255)\" />\n",
       "<rect id=\"vis2-18-5\" x=\"18\" y = \"5\" width=\"1\" height=\"1\" style=\"fill:black;stroke-width:0.01;stroke:rgb(255,255,255)\" />\n",
       "<rect id=\"vis2-19-5\" x=\"19\" y = \"5\" width=\"1\" height=\"1\" style=\"fill:black;stroke-width:0.01;stroke:rgb(255,255,255)\" />\n",
       "<rect id=\"vis2-20-5\" x=\"20\" y = \"5\" width=\"1\" height=\"1\" style=\"fill:black;stroke-width:0.01;stroke:rgb(255,255,255)\" />\n",
       "<rect id=\"vis2-21-5\" x=\"21\" y = \"5\" width=\"1\" height=\"1\" style=\"fill:black;stroke-width:0.01;stroke:rgb(255,255,255)\" />\n",
       "<rect id=\"vis2-22-5\" x=\"22\" y = \"5\" width=\"1\" height=\"1\" style=\"fill:black;stroke-width:0.01;stroke:rgb(255,255,255)\" />\n",
       "<rect id=\"vis2-23-5\" x=\"23\" y = \"5\" width=\"1\" height=\"1\" style=\"fill:black;stroke-width:0.01;stroke:rgb(255,255,255)\" />\n",
       "<rect id=\"vis2-24-5\" x=\"24\" y = \"5\" width=\"1\" height=\"1\" style=\"fill:black;stroke-width:0.01;stroke:rgb(255,255,255)\" />\n",
       "</svg>"
      ]
     },
     "metadata": {},
     "output_type": "display_data"
    },
    {
     "data": {
      "application/javascript": [
       "document[\"vis2-2-0\"].style.opacity = 0.0;\n",
       "document[\"vis2-4-0\"].style.opacity = 1.0;\n",
       "document[\"vis2-0-1\"].style.opacity = 1.0;\n",
       "document[\"vis2-19-1\"].style.opacity = 0.0;\n",
       "document[\"vis2-23-1\"].style.opacity = 0.0;\n",
       "document[\"vis2-4-2\"].style.opacity = 0.0;\n",
       "document[\"vis2-6-2\"].style.opacity = 1.0;\n",
       "document[\"vis2-8-2\"].style.opacity = 0.0;\n",
       "document[\"vis2-13-2\"].style.opacity = 1.0;\n",
       "document[\"vis2-17-2\"].style.opacity = 1.0;\n",
       "document[\"vis2-22-2\"].style.opacity = 1.0;\n",
       "document[\"vis2-24-2\"].style.opacity = 0.0;\n",
       "document[\"vis2-1-3\"].style.opacity = 0.0;\n",
       "document[\"vis2-17-3\"].style.opacity = 0.0;\n",
       "document[\"vis2-21-3\"].style.opacity = 0.0;\n",
       "document[\"vis2-24-3\"].style.opacity = 0.0;\n",
       "document[\"vis2-9-4\"].style.opacity = 0.0;\n",
       "document[\"vis2-12-4\"].style.opacity = 0.0;\n",
       "document[\"vis2-15-4\"].style.opacity = 1.0;\n",
       "document[\"vis2-17-4\"].style.opacity = 0.0;\n",
       "document[\"vis2-24-4\"].style.opacity = 0.0;\n",
       "document[\"vis2-0-5\"].style.opacity = 0.0;\n",
       "document[\"vis2-11-5\"].style.opacity = 0.0;\n",
       "document[\"vis2-17-5\"].style.opacity = 1.0;\n",
       "document[\"vis2-20-5\"].style.opacity = 1.0;\n",
       "document[\"vis2-22-5\"].style.opacity = 0.0;"
      ]
     },
     "metadata": {},
     "output_type": "display_data"
    }
   ],
   "source": [
    "coroutine visualize-2 visualize-step-2\n",
    "while {[visualize-2]} {};"
   ]
  },
  {
   "cell_type": "markdown",
   "metadata": {},
   "source": [
    "# With a canvas"
   ]
  },
  {
   "cell_type": "code",
   "execution_count": 39,
   "metadata": {},
   "outputs": [],
   "source": [
    "proc visualize-step-3 {} {\n",
    "  set layer 0\n",
    "  set svg [list {<canvas id=\"cvs3\"  width=\"250\" height=\"60\">}]\n",
    "  \n",
    "  lappend svg </canvas>\n",
    "  set svg [join $svg \\n]\n",
    "  jupyter::html $svg\n",
    "  set js  {\n",
    "        var c = document.getElementById(\"cvs3\")\n",
    "        document.cvsctx = c.getContext(\"2d\");\n",
    "        document.cvsctx.fillStyle = \"black\";\n",
    "        \n",
    "     }\n",
    "  \n",
    "  set jsid [jupyter::display text/javascript $js]\n",
    "  puts $jsid\n",
    "  \n",
    "  yield \n",
    "  foreach l [lreverse $::layers] {\n",
    "    incr layer\n",
    "    set js  {        \n",
    "    }\n",
    "    foreach y [range 0 5] {\n",
    "       foreach x [range 0 24] {\n",
    "       set idx [expr {$y*25+$x} ]\n",
    "        set col [string index $l $idx]\n",
    "        set sx [expr {$x*10}]\n",
    "        set sy [expr {$y*10}]\n",
    "        switch $col {\n",
    "          0 {\n",
    "             lappend js \"document.cvsctx.clearRect($sx,$sy,10,10);\"\n",
    "          }\n",
    "          1 {\n",
    "             lappend js \"document.cvsctx.fillRect($sx,$sy,10,10);\"\n",
    "          }\n",
    "        }\n",
    "      }\n",
    "    }\n",
    "    jupyter::updatedisplay $jsid application/javascript [join $js \\n];\n",
    "    yield 1\n",
    "  }\n",
    "  yield 0\n",
    "};"
   ]
  },
  {
   "cell_type": "code",
   "execution_count": 40,
   "metadata": {},
   "outputs": [
    {
     "data": {
      "text/html": [
       "<canvas id=\"cvs3\"  width=\"250\" height=\"60\">\n",
       "</canvas>"
      ]
     },
     "metadata": {},
     "output_type": "display_data"
    },
    {
     "data": {
      "application/javascript": [
       "document.cvsctx.clearRect(20,0,10,10);\n",
       "document.cvsctx.fillRect(40,0,10,10);\n",
       "document.cvsctx.fillRect(0,10,10,10);\n",
       "document.cvsctx.clearRect(190,10,10,10);\n",
       "document.cvsctx.clearRect(230,10,10,10);\n",
       "document.cvsctx.clearRect(40,20,10,10);\n",
       "document.cvsctx.fillRect(60,20,10,10);\n",
       "document.cvsctx.clearRect(80,20,10,10);\n",
       "document.cvsctx.fillRect(130,20,10,10);\n",
       "document.cvsctx.fillRect(170,20,10,10);\n",
       "document.cvsctx.fillRect(220,20,10,10);\n",
       "document.cvsctx.clearRect(240,20,10,10);\n",
       "document.cvsctx.clearRect(10,30,10,10);\n",
       "document.cvsctx.clearRect(170,30,10,10);\n",
       "document.cvsctx.clearRect(210,30,10,10);\n",
       "document.cvsctx.clearRect(240,30,10,10);\n",
       "document.cvsctx.clearRect(90,40,10,10);\n",
       "document.cvsctx.clearRect(120,40,10,10);\n",
       "document.cvsctx.fillRect(150,40,10,10);\n",
       "document.cvsctx.clearRect(170,40,10,10);\n",
       "document.cvsctx.clearRect(240,40,10,10);\n",
       "document.cvsctx.clearRect(0,50,10,10);\n",
       "document.cvsctx.clearRect(110,50,10,10);\n",
       "document.cvsctx.fillRect(170,50,10,10);\n",
       "document.cvsctx.fillRect(200,50,10,10);\n",
       "document.cvsctx.clearRect(220,50,10,10);"
      ]
     },
     "metadata": {},
     "output_type": "display_data"
    },
    {
     "name": "stdout",
     "output_type": "stream",
     "text": [
      "display-id-35\n"
     ]
    }
   ],
   "source": [
    "coroutine visualize-3 visualize-step-3\n",
    "while {[visualize-3]} {};"
   ]
  },
  {
   "cell_type": "code",
   "execution_count": null,
   "metadata": {},
   "outputs": [],
   "source": []
  },
  {
   "cell_type": "code",
   "execution_count": null,
   "metadata": {},
   "outputs": [],
   "source": []
  }
 ],
 "metadata": {
  "kernelspec": {
   "display_name": "Tcl",
   "language": "tcl",
   "name": "tcljupyter"
  },
  "language_info": {
   "file_extension": ".tcl",
   "mimetype": "txt/x-tcl",
   "name": "tcl",
   "version": "8.6.10"
  }
 },
 "nbformat": 4,
 "nbformat_minor": 4
}
