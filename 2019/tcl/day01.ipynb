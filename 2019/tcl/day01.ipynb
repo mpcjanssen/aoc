{
 "cells": [
  {
   "cell_type": "code",
   "execution_count": 1,
   "metadata": {},
   "outputs": [],
   "source": [
    "tcl::tm::path add [file join . modules]\n",
    "package require util\n",
    "\n",
    "set mass [read-input day01]\n",
    "\n",
    "proc fuel {mass} {expr {$mass / 3 - 2 }}\n",
    "\n",
    "proc part1 {} {return [sum [lmap x $::mass {fuel $x}]]}\n",
    "proc part2 {} {return [sum [lmap x $::mass {sum [lrange [iterate-until fuel $x neg] 1 end] }]]}\n"
   ]
  },
  {
   "cell_type": "code",
   "execution_count": 2,
   "metadata": {},
   "outputs": [
    {
     "name": "stdout",
     "output_type": "stream",
     "text": [
      "3255932\n"
     ]
    }
   ],
   "source": [
    "part1"
   ]
  },
  {
   "cell_type": "code",
   "execution_count": 3,
   "metadata": {},
   "outputs": [
    {
     "name": "stdout",
     "output_type": "stream",
     "text": [
      "4881041\n"
     ]
    }
   ],
   "source": [
    "part2"
   ]
  },
  {
   "cell_type": "code",
   "execution_count": null,
   "metadata": {},
   "outputs": [],
   "source": []
  }
 ],
 "metadata": {
  "kernelspec": {
   "display_name": "Tcl",
   "language": "tcl",
   "name": "tcljupyter"
  },
  "language_info": {
   "file_extension": ".tcl",
   "mimetype": "txt/x-tcl",
   "name": "tcl",
   "version": "8.6.10"
  }
 },
 "nbformat": 4,
 "nbformat_minor": 4
}
