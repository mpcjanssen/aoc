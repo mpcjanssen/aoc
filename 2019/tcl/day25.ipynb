{
 "cells": [
  {
   "cell_type": "code",
   "execution_count": 1,
   "metadata": {},
   "outputs": [
    {
     "data": {
      "text/plain": []
     },
     "execution_count": 1,
     "metadata": {},
     "output_type": "execute_result"
    }
   ],
   "source": [
    "lappend auto_path [file dirname [info script]]/lib {C:\\Users\\Mark\\Src\\site-tcl\\libs-windows}\n",
    "tcl::tm::path add [file dirname [info script]]/modules [file dirname [info script]]/lib/cintcode\n",
    "package require util\n",
    "package require cintcode\n",
    "package require intcode\n",
    "\n",
    "set program  [split [read-input day25] ,]\n",
    "interp alias {} Machine {} CintCode ;"
   ]
  },
  {
   "cell_type": "code",
   "execution_count": 2,
   "metadata": {},
   "outputs": [
    {
     "data": {
      "text/plain": []
     },
     "execution_count": 2,
     "metadata": {},
     "output_type": "execute_result"
    }
   ],
   "source": [
    "proc Do {m args} {\n",
    "    set res {}\n",
    "    set cmd [join $args { }]\n",
    "    foreach c [split $cmd {}] {$m input [scan $c %c]}\n",
    "    if {$cmd ne \"\"} {\n",
    "        if {!$::silent} {puts \"Executing: $cmd\"}\n",
    "        $m input 10\n",
    "    }\n",
    "    $m run\n",
    "    foreach ascii [$m outputs] {append res [format %c $ascii]}\n",
    "    if {!$::silent} {puts $res}\n",
    "    $m clearoutputs\n",
    "    return $res\n",
    "}\n",
    "\n",
    "interp alias {} take {} do take\n",
    "interp alias {} drop {} do drop\n",
    "interp alias {} inv {} do inv\n",
    "interp alias {} n {} do north\n",
    "interp alias {} s {} do south\n",
    "interp alias {} e {} do east\n",
    "interp alias {} w {} do west;\n"
   ]
  },
  {
   "cell_type": "code",
   "execution_count": 3,
   "metadata": {},
   "outputs": [
    {
     "data": {
      "text/plain": [
       "\n",
       "\n",
       "\n",
       "== Security Checkpoint ==\n",
       "In the next room, a pressure-sensitive floor will verify your identity.\n",
       "\n",
       "Doors here lead:\n",
       "- north\n",
       "- east\n",
       "\n",
       "Command?\n"
      ]
     },
     "execution_count": 3,
     "metadata": {},
     "output_type": "execute_result"
    }
   ],
   "source": [
    "set m [Machine $program]\n",
    "$m run\n",
    "interp alias {} do {} Do $m\n",
    "set silent 1\n",
    "do {}\n",
    "e\n",
    "take asterisk\n",
    "n;n\n",
    "take hypercube\n",
    "n\n",
    "take coin\n",
    "n\n",
    "take easter egg\n",
    "w;e;s;s\n",
    "\n",
    "s\n",
    "\n",
    "s\n",
    "\n",
    "e\n",
    "\n",
    "s\n",
    "\n",
    "e\n",
    "\n",
    "w\n",
    "\n",
    "n\n",
    "\n",
    "w\n",
    "\n",
    "w\n",
    "\n",
    "w\n",
    "\n",
    "take fixed point\n",
    "\n",
    "n\n",
    "\n",
    "take sand\n",
    "\n",
    "s\n",
    "\n",
    "e\n",
    "\n",
    "e\n",
    "\n",
    "e\n",
    "\n",
    "\n",
    "s\n",
    "\n",
    "e\n",
    "\n",
    "w\n",
    "\n",
    "n\n",
    "\n",
    "\n",
    "\n",
    "w\n",
    "\n",
    "n\n",
    "\n",
    "n\n",
    "\n",
    "w\n",
    "\n",
    "e\n",
    "\n",
    "n;n;w;e;s;s;s;w;n\n",
    "take spool of cat6\n",
    "n\n",
    "take shell\n",
    "n;w"
   ]
  },
  {
   "cell_type": "code",
   "execution_count": 4,
   "metadata": {},
   "outputs": [
    {
     "name": "stdout",
     "output_type": "stream",
     "text": [
      "With \n",
      "Items in your inventory:\n",
      "- sand\n",
      "- fixed point\n",
      "- coin\n",
      "- spool of cat6\n",
      "\n",
      "Command?\n",
      "\n",
      "\n",
      "\n",
      "\n",
      "== Pressure-Sensitive Floor ==\n",
      "Analyzing...\n",
      "\n",
      "Doors here lead:\n",
      "- south\n",
      "\n",
      "A loud, robotic voice says \"Analysis complete! You may proceed.\" and you enter the cockpit.\n",
      "Santa notices your small droid, looks puzzled for a moment, realizes what has happened, and radios your ship directly.\n",
      "\"Oh, hello! You should be able to get in by typing 2181046280 on the keypad at the main airlock.\"\n",
      "\n"
     ]
    }
   ],
   "source": [
    "proc invitem? {line} {expr {[string index $line 0] eq \"-\"}}\n",
    "\n",
    "proc items {} {lmap x [lfilter [split [inv] \\n] invitem?] {string map [list {- } {}] $x} }\n",
    "\n",
    "set allitems [items]\n",
    "proc dropinv {} {foreach item [items] {drop $item}}\n",
    "inv\n",
    "\n",
    "\n",
    "dropinv\n",
    "for {set i 1} {$i < 256} {incr i} {\n",
    "    set bits [split [format %08b $i ] {}]\n",
    "    foreach b $bits item $allitems {\n",
    "        if {$b} {\n",
    "            take $item\n",
    "        }   \n",
    "    }\n",
    "    set inv [inv]\n",
    "    set res [n]\n",
    "    if {[string first \"Alert!\" $res] == -1} {puts \"With $inv\\n$res\" ; break}\n",
    "    foreach b $bits item $allitems {\n",
    "        if {$b} {\n",
    "            drop $item\n",
    "        }\n",
    "    }   \n",
    "}\n",
    "\n",
    " "
   ]
  },
  {
   "cell_type": "code",
   "execution_count": 60,
   "metadata": {},
   "outputs": [
    {
     "data": {
      "text/plain": [
       "stopped"
      ]
     },
     "execution_count": 60,
     "metadata": {},
     "output_type": "execute_result"
    }
   ],
   "source": [
    "$m state"
   ]
  },
  {
   "cell_type": "code",
   "execution_count": null,
   "metadata": {},
   "outputs": [],
   "source": []
  }
 ],
 "metadata": {
  "kernelspec": {
   "display_name": "Tcl",
   "language": "tcl",
   "name": "tcljupyter"
  },
  "language_info": {
   "file_extension": ".tcl",
   "mimetype": "txt/x-tcl",
   "name": "tcl",
   "version": "8.6.10"
  }
 },
 "nbformat": 4,
 "nbformat_minor": 4
}
