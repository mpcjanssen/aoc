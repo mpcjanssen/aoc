{
 "cells": [
  {
   "cell_type": "code",
   "execution_count": 2,
   "metadata": {},
   "outputs": [
    {
     "data": {
      "text/plain": [
       "0.1"
      ]
     },
     "execution_count": 2,
     "metadata": {},
     "output_type": "execute_result"
    }
   ],
   "source": [
    "lappend auto_path [file dirname [info script]]/lib\n",
    "tcl::tm::path add [file dirname [info script]]/modules\n",
    "package require util\n",
    "package require seq"
   ]
  },
  {
   "cell_type": "code",
   "execution_count": null,
   "metadata": {},
   "outputs": [],
   "source": []
  },
  {
   "cell_type": "code",
   "execution_count": 49,
   "metadata": {},
   "outputs": [],
   "source": [
    "proc increasingdigits {x} {\n",
    "    set l [split $x {}]\n",
    "    return [expr {[lsort -integer $l] eq $l}]\n",
    "}\n",
    " \n",
    "proc part1candidates {} {\n",
    "set input [range 231832 767346];\n",
    "    set subs [join [lmap x [range 0 9] {list [string repeat  $x 2] {}}]]\n",
    "    set input [regexp -all -inline  {\\m1*2*3*4*5*6*7*8*9*\\M} $input]\n",
    "    set candidates {}\n",
    "    foreach x $input {\n",
    "        if {$x ne [string map $subs $x]} {\n",
    "            lappend candidates $x\n",
    "        }\n",
    "    }\n",
    "    return $candidates \n",
    "}\n"
   ]
  },
  {
   "cell_type": "code",
   "execution_count": 48,
   "metadata": {},
   "outputs": [
    {
     "data": {
      "text/plain": [
       "1358"
      ]
     },
     "execution_count": 48,
     "metadata": {},
     "output_type": "execute_result"
    }
   ],
   "source": [
    "set input [range 231832 767346];\n",
    "llength [regexp -all -inline  {\\m1*2*3*4*5*6*7*8*9*\\M} $input]"
   ]
  },
  {
   "cell_type": "code",
   "execution_count": 17,
   "metadata": {},
   "outputs": [
    {
     "data": {
      "text/plain": [
       "1358"
      ]
     },
     "execution_count": 17,
     "metadata": {},
     "output_type": "execute_result"
    }
   ],
   "source": [
    "llength [seq::into list {} [seq::filter increasingdigits [seq::range 231832 767346]]]"
   ]
  },
  {
   "cell_type": "code",
   "execution_count": 55,
   "metadata": {},
   "outputs": [],
   "source": [
    "set p1candidates [part1candidates]\n",
    "\n",
    "proc part1 {} {\n",
    "    return [llength $::p1candidates]   \n",
    "}\n",
    "\n",
    "proc part2 {} {\n",
    "    set candidates {}\n",
    "    foreach x $::p1candidates {\n",
    "        if {[lsearch [dict values [freq $x]] 2] != -1} {\n",
    "            lappend candidates $x\n",
    "        }\n",
    "    }\n",
    "    return  [llength $candidates]    \n",
    "}"
   ]
  },
  {
   "cell_type": "code",
   "execution_count": 56,
   "metadata": {},
   "outputs": [
    {
     "data": {
      "text/plain": [
       "19 microseconds per iteration"
      ]
     },
     "execution_count": 56,
     "metadata": {},
     "output_type": "execute_result"
    }
   ],
   "source": [
    "time {part1}"
   ]
  },
  {
   "cell_type": "code",
   "execution_count": 58,
   "metadata": {},
   "outputs": [
    {
     "data": {
      "text/plain": [
       "6450 microseconds per iteration"
      ]
     },
     "execution_count": 58,
     "metadata": {},
     "output_type": "execute_result"
    }
   ],
   "source": [
    "time {part2}"
   ]
  },
  {
   "cell_type": "code",
   "execution_count": 42,
   "metadata": {},
   "outputs": [
    {
     "data": {
      "text/plain": [
       "34.8348623853211 microseconds per iteration"
      ]
     },
     "execution_count": 42,
     "metadata": {},
     "output_type": "execute_result"
    }
   ],
   "source": [
    "time {regexp {([0-9])\\1+} 12234443345} 1090"
   ]
  },
  {
   "cell_type": "code",
   "execution_count": 40,
   "metadata": {},
   "outputs": [
    {
     "data": {
      "text/plain": [
       "8.6.10"
      ]
     },
     "execution_count": 40,
     "metadata": {},
     "output_type": "execute_result"
    }
   ],
   "source": [
    "info pa"
   ]
  },
  {
   "cell_type": "code",
   "execution_count": 43,
   "metadata": {},
   "outputs": [
    {
     "data": {
      "text/plain": [
       "00 {} 11 {} 22 {} 33 {} 44 {} 55 {} 66 {} 77 {} 88 {} 99 {}"
      ]
     },
     "execution_count": 43,
     "metadata": {},
     "output_type": "execute_result"
    }
   ],
   "source": [
    "set subs [join [lmap x [range 0 9] {list [string repeat  $x 2] {}}]]"
   ]
  },
  {
   "cell_type": "code",
   "execution_count": 48,
   "metadata": {},
   "outputs": [
    {
     "data": {
      "text/plain": [
       "1.471818181818182 microseconds per iteration"
      ]
     },
     "execution_count": 48,
     "metadata": {},
     "output_type": "execute_result"
    }
   ],
   "source": [
    "time {set x 12234443345; expr {$x ne [string map $subs $x]}} 1100"
   ]
  },
  {
   "cell_type": "code",
   "execution_count": null,
   "metadata": {},
   "outputs": [],
   "source": []
  }
 ],
 "metadata": {
  "kernelspec": {
   "display_name": "Tcl",
   "language": "tcl",
   "name": "tcljupyter"
  },
  "language_info": {
   "file_extension": ".tcl",
   "mimetype": "txt/x-tcl",
   "name": "tcl",
   "version": "8.6.10"
  }
 },
 "nbformat": 4,
 "nbformat_minor": 4
}
