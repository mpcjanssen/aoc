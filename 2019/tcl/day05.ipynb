{
 "cells": [
  {
   "cell_type": "code",
   "execution_count": 1,
   "metadata": {},
   "outputs": [],
   "source": [
    "lappend auto_path [file dirname [info script]]/lib\n",
    "tcl::tm::path add [file dirname [info script]]/modules [file dirname [info script]]/lib/pintcode\n",
    "package require util\n",
    "package require pintcode\n",
    "\n",
    "proc ex1 {} {\n",
    "    set machine [PintCode 1002,4,3,4,33]\n",
    "    $machine run\n",
    "    return [$machine mem 4]\n",
    "}\n",
    "\n",
    "proc part1 {} {\n",
    "    set program [read-input day05]\n",
    "    set machine [PintCode $program]\n",
    "    $machine input 1\n",
    "    $machine run\n",
    "    return [list [$machine state] [$machine outputs]]\n",
    "}\n",
    "\n",
    "proc part2 {} {\n",
    "    set program [read-input day05]\n",
    "    set machine [IntCode new $program]\n",
    "    $machine input 5\n",
    "    $machine run\n",
    "    return [list [$machine state] [$machine outputs]]\n",
    "}\n"
   ]
  },
  {
   "cell_type": "code",
   "execution_count": 2,
   "metadata": {},
   "outputs": [
    {
     "data": {
      "text/plain": [
       "33"
      ]
     },
     "execution_count": 2,
     "metadata": {},
     "output_type": "execute_result"
    }
   ],
   "source": [
    "ex1"
   ]
  },
  {
   "cell_type": "code",
   "execution_count": 3,
   "metadata": {},
   "outputs": [
    {
     "ename": "Tcl error",
     "evalue": "Invalid opcode: 4",
     "output_type": "error",
     "traceback": [
      "Invalid opcode: 4\n    while executing\n\"$machine run\"\n    (procedure \"part1\" line 5)\n    invoked from within\n\"part1\""
     ]
    }
   ],
   "source": [
    "part1"
   ]
  },
  {
   "cell_type": "code",
   "execution_count": null,
   "metadata": {},
   "outputs": [],
   "source": []
  }
 ],
 "metadata": {
  "kernelspec": {
   "display_name": "Tcl",
   "language": "tcl",
   "name": "tcljupyter"
  },
  "language_info": {
   "file_extension": ".tcl",
   "mimetype": "txt/x-tcl",
   "name": "tcl",
   "version": "8.6.10"
  }
 },
 "nbformat": 4,
 "nbformat_minor": 4
}
