{
 "cells": [
  {
   "cell_type": "code",
   "execution_count": 1,
   "metadata": {},
   "outputs": [],
   "source": [
    "lappend auto_path [file dirname [info script]]/lib\n",
    "tcl::tm::path add [file dirname [info script]]/modules [file dirname [info script]]/lib/cintcode\n",
    "package require util"
   ]
  },
  {
   "cell_type": "code",
   "execution_count": 2,
   "metadata": {},
   "outputs": [],
   "source": [
    "set data [split [read-input day14] \\n];"
   ]
  },
  {
   "cell_type": "code",
   "execution_count": 3,
   "metadata": {},
   "outputs": [],
   "source": [
    "set ex1 [split {10 ORE => 10 A\n",
    "1 ORE => 1 B\n",
    "7 A, 1 B => 1 C\n",
    "7 A, 1 C => 1 D\n",
    "7 A, 1 D => 1 E\n",
    "7 A, 1 E => 1 FUEL} \\n]\n",
    "set ex2 [split {9 ORE => 2 A\n",
    "8 ORE => 3 B\n",
    "7 ORE => 5 C\n",
    "3 A, 4 B => 1 AB\n",
    "5 B, 7 C => 1 BC\n",
    "4 C, 1 A => 1 CA\n",
    "2 AB, 3 BC, 4 CA => 1 FUEL} \\n];"
   ]
  },
  {
   "cell_type": "code",
   "execution_count": 4,
   "metadata": {},
   "outputs": [],
   "source": [
    "proc book data {\n",
    "    set book {}\n",
    "    foreach line $data {\n",
    "        set parts [lassign [lreverse [lmap x [split [string map {\", \" @ \" => \" @ \" \"  @ } $line] @] {string trim $x}]] comp amount]\n",
    "        dict set book $comp [list $amount $parts]\n",
    "    }\n",
    "    return $book\n",
    "}\n"
   ]
  },
  {
   "cell_type": "code",
   "execution_count": 5,
   "metadata": {},
   "outputs": [],
   "source": [
    "proc reqs {book comp reqamount stock} {\n",
    "\n",
    "    lassign [dict get $book $comp] amount parts\n",
    "\n",
    "    set extra 0\n",
    "    set times [expr {$reqamount / $amount}]\n",
    "    set extra [expr {$reqamount % $amount}]\n",
    "    if {$extra != 0} {\n",
    "        incr times\n",
    "        dict incr stock $comp [expr {$amount - $extra}]\n",
    "    }\n",
    "    set reqs {}\n",
    "    foreach {req amount} $parts {\n",
    "        lappend reqs $req [expr {$amount * $times}]\n",
    "    }\n",
    "    return [list $reqs $stock]\n",
    "}\n",
    "reqs [book $data] FUEL 1 {}"
   ]
  },
  {
   "cell_type": "code",
   "execution_count": 6,
   "metadata": {},
   "outputs": [],
   "source": [
    "proc produce {book parts stock} {\n",
    "    set res {}\n",
    "    foreach {part reqamount} $parts {\n",
    "        if {$part eq \"ORE\"} {\n",
    "            dict incr res $part $reqamount\n",
    "            continue\n",
    "        }\n",
    "        if {[dict exists $stock $part]} {\n",
    "        set instock [dict get $stock $part]\n",
    "        if {$instock > $reqamount } {\n",
    "            dict incr stock $part -$reqamount\n",
    "            continue\n",
    "        } else {\n",
    "            set stock [dict remove $stock $part]\n",
    "            incr reqamount -$instock\n",
    "        }\n",
    "        }\n",
    "        lassign [reqs $book $part $reqamount $stock] reqs stock\n",
    "        foreach {req amount} $reqs {\n",
    "\n",
    "            dict incr res $req $amount\n",
    "        } \n",
    "    }\n",
    "    return [list $res $stock]\n",
    "}\n"
   ]
  },
  {
   "cell_type": "markdown",
   "metadata": {},
   "source": [
    "# Part 1"
   ]
  },
  {
   "cell_type": "code",
   "execution_count": 7,
   "metadata": {},
   "outputs": [
    {
     "data": {
      "text/plain": [
       "ORE 485720"
      ]
     },
     "execution_count": 7,
     "metadata": {},
     "output_type": "execute_result"
    }
   ],
   "source": [
    "proc part1 {data} {\n",
    "    set reqs {FUEL 1}\n",
    "    set stock {}\n",
    "    while {1} {\n",
    "        lassign  [produce [book $data] $reqs $stock] reqs stock\n",
    "        if {[llength $reqs] == 2 } break\n",
    "    }\n",
    "    return $reqs\n",
    "}\n",
    "part1 $data"
   ]
  },
  {
   "cell_type": "markdown",
   "metadata": {},
   "source": [
    "# Part 2"
   ]
  },
  {
   "cell_type": "code",
   "execution_count": 10,
   "metadata": {},
   "outputs": [
    {
     "data": {
      "text/plain": []
     },
     "execution_count": 10,
     "metadata": {},
     "output_type": "execute_result"
    }
   ],
   "source": [
    "set book [book $data];\n"
   ]
  },
  {
   "cell_type": "code",
   "execution_count": 11,
   "metadata": {},
   "outputs": [
    {
     "name": "stdout",
     "output_type": "stream",
     "text": [
      "Trying 500000000000\n",
      "Trying 250000000000\n",
      "Trying 125000000000\n",
      "Trying 62500000000\n",
      "Trying 31250000000\n",
      "Trying 15625000000\n",
      "Trying 7812500000\n",
      "Trying 3906250000\n",
      "Trying 1953125000\n",
      "Trying 976562500\n",
      "Trying 488281250\n",
      "Trying 244140625\n",
      "Trying 122070312\n",
      "Trying 61035156\n",
      "Trying 30517578\n",
      "Trying 15258789\n",
      "Trying 7629394\n",
      "Trying 3814697\n",
      "Trying 5722045\n",
      "Trying 4768371\n",
      "Trying 4291534\n",
      "Trying 4053115\n",
      "Trying 3933906\n",
      "Trying 3874301\n",
      "Trying 3844499\n",
      "Trying 3859400\n",
      "Trying 3851949\n",
      "Trying 3848224\n",
      "Trying 3850086\n",
      "Trying 3849155\n",
      "Trying 3848689\n",
      "Trying 3848922\n",
      "Trying 3849038\n",
      "Trying 3848980\n",
      "Trying 3849009\n",
      "Trying 3848994\n",
      "Trying 3849001\n",
      "Trying 3848997\n",
      "Trying 3848999\n",
      "Trying 3848998\n",
      "Result 3848998\n"
     ]
    },
    {
     "data": {
      "text/plain": [
       "3848998"
      ]
     },
     "execution_count": 11,
     "metadata": {},
     "output_type": "execute_result"
    }
   ],
   "source": [
    "proc part2 {ores book} {\n",
    "set upper $ores\n",
    "set lower 0\n",
    "\n",
    "\n",
    "while 1 {\n",
    "    set try [expr {($upper-$lower)/2+$lower}]\n",
    "    puts \"Trying $try\"\n",
    "    set reqs [list FUEL $try]\n",
    "    set stock {}\n",
    "    while {1} {\n",
    "        lassign  [produce $book $reqs $stock] reqs stock\n",
    "        if {[llength $reqs] == 2 } break\n",
    "    }\n",
    "    set ores [lindex $reqs end]\n",
    "    if { $ores > 1000000000000} {\n",
    "        set upper $try\n",
    "    } else {\n",
    "        set lower $try\n",
    "    }\n",
    "    if {$upper - $lower == 1} {\n",
    "        puts \"Result $lower\"\n",
    "        break\n",
    "    }\n",
    "}\n",
    "return $lower\n",
    "}\n",
    "part2 1000000000000 [book $data]"
   ]
  },
  {
   "cell_type": "code",
   "execution_count": null,
   "metadata": {},
   "outputs": [],
   "source": []
  }
 ],
 "metadata": {
  "kernelspec": {
   "display_name": "Tcl",
   "language": "tcl",
   "name": "tcljupyter"
  },
  "language_info": {
   "file_extension": ".tcl",
   "mimetype": "txt/x-tcl",
   "name": "tcl",
   "version": "8.6.10"
  }
 },
 "nbformat": 4,
 "nbformat_minor": 4
}
