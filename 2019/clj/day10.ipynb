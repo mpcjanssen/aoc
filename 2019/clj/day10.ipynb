{
 "cells": [
  {
   "cell_type": "code",
   "execution_count": 1,
   "metadata": {},
   "outputs": [
    {
     "data": {
      "text/plain": [
       "nil"
      ]
     },
     "execution_count": 1,
     "metadata": {},
     "output_type": "execute_result"
    }
   ],
   "source": [
    "(require '[clojure.string :as s] )\n",
    "\n"
   ]
  },
  {
   "cell_type": "code",
   "execution_count": 2,
   "metadata": {},
   "outputs": [
    {
     "data": {
      "text/plain": [
       "#'user/puzzleinput"
      ]
     },
     "execution_count": 2,
     "metadata": {},
     "output_type": "execute_result"
    }
   ],
   "source": [
    "(defn puzzleinput []\n",
    "    (-> \"data/day10.txt\"\n",
    "        (slurp)\n",
    "    ))"
   ]
  },
  {
   "cell_type": "code",
   "execution_count": 3,
   "metadata": {},
   "outputs": [
    {
     "data": {
      "text/plain": [
       "#'user/locations"
      ]
     },
     "execution_count": 3,
     "metadata": {},
     "output_type": "execute_result"
    }
   ],
   "source": [
    "(defn find-astroids [spec]\n",
    " (keep-indexed #(if (= \"#\" %2) %1 ) (map str spec)))\n",
    "\n",
    "\n",
    "(defn locations [input]\n",
    "    (let [lines (s/split-lines input)]\n",
    "    (for [y (range 0 (count lines))\n",
    "          x (find-astroids (lines y))]\n",
    "        [x y])))\n",
    "\n",
    ";;(locations (puzzleinput))\n",
    "\n"
   ]
  },
  {
   "cell_type": "code",
   "execution_count": 4,
   "metadata": {},
   "outputs": [
    {
     "data": {
      "text/plain": [
       "#'user/clamped"
      ]
     },
     "execution_count": 4,
     "metadata": {},
     "output_type": "execute_result"
    }
   ],
   "source": [
    "(defn clamped [a b x]\n",
    "    (or\n",
    "     (<= a x b)\n",
    "     (<= b x a)))"
   ]
  },
  {
   "cell_type": "code",
   "execution_count": 5,
   "metadata": {},
   "outputs": [
    {
     "data": {
      "text/plain": [
       "false"
      ]
     },
     "execution_count": 5,
     "metadata": {},
     "output_type": "execute_result"
    }
   ],
   "source": [
    "(defn blocks [start end p]\n",
    "    (if (or (= p start)\n",
    "            (= p end)) false\n",
    "    (let [\n",
    "          [s1 s2] start\n",
    "          [e1 e2] end\n",
    "          [p1 p2] p\n",
    "          ]\n",
    "    (cond\n",
    "     (not (clamped s1 e1 p1)) false\n",
    "     (not (clamped s2 e2 p2)) false\n",
    "     (and (= (- s1 p1) 0) \n",
    "          ( = (- p1 e1) 0)) true\n",
    "     (= (- s1 p1) 0) false\n",
    "     (= (- e1 p1) 0) false\n",
    "     \n",
    "     :else \n",
    "     (= \n",
    "      (/ (- s2 p2) (- s1 p1))\n",
    "      (/ (- e2 p2) (- e1 p1))\n",
    "      \n",
    "      )\n",
    "    \n",
    "     \n",
    "     ))))\n",
    "\n",
    ";;(blocks [3 0] [1 4] [2 2])\n",
    ";;(blocks [3 0] [3 0] [3 1])\n",
    "(blocks [1 0] [3 3] [0 0])\n",
    "\n",
    "(blocks [3 3] [6 1] [5 1])"
   ]
  },
  {
   "cell_type": "code",
   "execution_count": 6,
   "metadata": {},
   "outputs": [
    {
     "data": {
      "text/plain": [
       "true"
      ]
     },
     "execution_count": 6,
     "metadata": {},
     "output_type": "execute_result"
    }
   ],
   "source": [
    "(= (/ 3 4) (/ 6 8))"
   ]
  },
  {
   "cell_type": "code",
   "execution_count": 7,
   "metadata": {},
   "outputs": [
    {
     "data": {
      "text/plain": [
       "#'user/blocker"
      ]
     },
     "execution_count": 7,
     "metadata": {},
     "output_type": "execute_result"
    }
   ],
   "source": [
    "(defn blocker [s e all]\n",
    "    (first (filter #(blocks s e %) all)))\n",
    "\n",
    "\n",
    ";;(vis [1 0] [1 0] (locations (puzzleinput)))\n",
    "\n",
    ";;(count (locations (puzzleinput)))"
   ]
  },
  {
   "cell_type": "code",
   "execution_count": 8,
   "metadata": {},
   "outputs": [
    {
     "data": {
      "text/plain": [
       "#'user/all-vis"
      ]
     },
     "execution_count": 8,
     "metadata": {},
     "output_type": "execute_result"
    }
   ],
   "source": [
    "(defn all-vis [p all]\n",
    "    (remove #(= p %) (filter \n",
    "      #(not (seq (blocker % p all)))\n",
    "     \n",
    "     all) )\n",
    "    \n",
    "    )\n",
    "\n",
    ";;(all-vis [1 0] (locations (puzzleinput)))\n",
    "\n"
   ]
  },
  {
   "cell_type": "code",
   "execution_count": 9,
   "metadata": {},
   "outputs": [
    {
     "data": {
      "text/plain": [
       "#'user/solve"
      ]
     },
     "execution_count": 9,
     "metadata": {},
     "output_type": "execute_result"
    }
   ],
   "source": [
    "(set! *print-length* 15)\n",
    "(defn solve [all f] \n",
    "    (let [\n",
    "  res (reduce \n",
    " #(assoc %1 %2 (f (all-vis %2 all)))\n",
    " {}      \n",
    " all )]  res))\n",
    "    \n",
    ";;(solve (locations )(puzzleinput))"
   ]
  },
  {
   "cell_type": "code",
   "execution_count": 10,
   "metadata": {},
   "outputs": [
    {
     "data": {
      "text/plain": [
       "8"
      ]
     },
     "execution_count": 10,
     "metadata": {},
     "output_type": "execute_result"
    }
   ],
   "source": [
    "(let [all (locations \n",
    "        \".#..#\n",
    ".....\n",
    "#####\n",
    "....#\n",
    "...##\")]\n",
    "    ((solve all count) [3 4]))"
   ]
  },
  {
   "cell_type": "code",
   "execution_count": 11,
   "metadata": {
    "scrolled": true
   },
   "outputs": [
    {
     "name": "stdout",
     "output_type": "stream",
     "text": [
      "\"Elapsed time: 19650.953524 msecs\"\n"
     ]
    },
    {
     "data": {
      "text/plain": [
       "[[20 19] 284]"
      ]
     },
     "execution_count": 11,
     "metadata": {},
     "output_type": "execute_result"
    }
   ],
   "source": [
    "    (time (apply max-key val (let \n",
    "       [all (locations (puzzleinput))\n",
    "    res (solve all count)] \n",
    "     res)))\n",
    "\n"
   ]
  },
  {
   "cell_type": "code",
   "execution_count": 12,
   "metadata": {},
   "outputs": [
    {
     "data": {
      "text/plain": [
       "([0 0] [3 0] [6 0] [9 0] [10 0] [11 0] [13 0] [14 0] [15 0] [16 0] [21 0] [22 0] [23 0] [24 0] [25 0] ...)"
      ]
     },
     "execution_count": 12,
     "metadata": {},
     "output_type": "execute_result"
    }
   ],
   "source": [
    "(all-vis [20 19] (locations (puzzleinput)))"
   ]
  },
  {
   "cell_type": "code",
   "execution_count": 13,
   "metadata": {},
   "outputs": [
    {
     "data": {
      "text/plain": [
       "#'user/angle"
      ]
     },
     "execution_count": 13,
     "metadata": {},
     "output_type": "execute_result"
    }
   ],
   "source": [
    "(defn angle [[p1 p2]]\n",
    "     (mod (+ (Math/toDegrees (Math/atan2 \n",
    "      (- p2 19)\n",
    "      (- p1 20))\n",
    "    ) 90 ) 360))\n",
    "    "
   ]
  },
  {
   "cell_type": "code",
   "execution_count": 14,
   "metadata": {},
   "outputs": [
    {
     "data": {
      "text/plain": [
       "270.0"
      ]
     },
     "execution_count": 14,
     "metadata": {},
     "output_type": "execute_result"
    }
   ],
   "source": [
    "(angle [1 19])"
   ]
  },
  {
   "cell_type": "code",
   "execution_count": 52,
   "metadata": {},
   "outputs": [
    {
     "data": {
      "text/plain": [
       "[4 4]"
      ]
     },
     "execution_count": 52,
     "metadata": {},
     "output_type": "execute_result"
    }
   ],
   "source": [
    "(nth (sort-by \n",
    " #(angle %)\n",
    "(all-vis [20 19] \n",
    "         (locations (puzzleinput)))) 199)\n",
    "               \n",
    "               "
   ]
  },
  {
   "cell_type": "code",
   "execution_count": 22,
   "metadata": {},
   "outputs": [
    {
     "data": {
      "text/plain": [
       "#'user/dist2"
      ]
     },
     "execution_count": 22,
     "metadata": {},
     "output_type": "execute_result"
    }
   ],
   "source": [
    "(defn angle2 [[p1x p1y] [p2x p2y]]\n",
    "     (mod (+ (Math/toDegrees (Math/atan2 \n",
    "      (- p2y p1y)\n",
    "      (- p2x p1x))\n",
    "    ) 90 ) 360))\n",
    "    \n",
    "\n",
    "(defn dist2 [[p1x p1y] [p2x p2y]]\n",
    "    (let [\n",
    "          dx (- p2x p1x)\n",
    "          dy (- p2y p1y)]\n",
    "        (+ (* dx dx)  (* dy dy))))\n",
    "          \n",
    "          \n"
   ]
  },
  {
   "cell_type": "code",
   "execution_count": 51,
   "metadata": {},
   "outputs": [
    {
     "data": {
      "text/plain": [
       "#'user/closest"
      ]
     },
     "execution_count": 51,
     "metadata": {},
     "output_type": "execute_result"
    }
   ],
   "source": [
    "(defn closest [x xs]\n",
    "    (first (sort-by\n",
    "            #(dist2 x %) xs\n",
    "            \n",
    "            )\n",
    "    ))\n",
    "\n"
   ]
  },
  {
   "cell_type": "code",
   "execution_count": 24,
   "metadata": {},
   "outputs": [
    {
     "data": {
      "text/plain": [
       "#'user/vis2"
      ]
     },
     "execution_count": 24,
     "metadata": {},
     "output_type": "execute_result"
    }
   ],
   "source": [
    "(defn vis2 [x all]\n",
    "    (map \n",
    "     #(closest x %)\n",
    "     (map last (group-by #(angle2 x % )\n",
    "     all))))"
   ]
  },
  {
   "cell_type": "code",
   "execution_count": null,
   "metadata": {},
   "outputs": [],
   "source": []
  },
  {
   "cell_type": "code",
   "execution_count": 25,
   "metadata": {},
   "outputs": [
    {
     "data": {
      "text/plain": [
       "#'user/solve2"
      ]
     },
     "execution_count": 25,
     "metadata": {},
     "output_type": "execute_result"
    }
   ],
   "source": [
    "(set! *print-length* 15)\n",
    "(defn solve2 [all f] \n",
    "    (let [\n",
    "  res (reduce \n",
    " #(assoc %1 %2 (f (vis2 %2 all)))\n",
    " {}      \n",
    " all )]  res))\n",
    "    \n",
    ";;(solve (locations )(puzzleinput))"
   ]
  },
  {
   "cell_type": "code",
   "execution_count": null,
   "metadata": {},
   "outputs": [],
   "source": [
    "            "
   ]
  },
  {
   "cell_type": "code",
   "execution_count": 50,
   "metadata": {
    "scrolled": true
   },
   "outputs": [
    {
     "name": "stdout",
     "output_type": "stream",
     "text": [
      "\"Elapsed time: 186.046307 msecs\"\n"
     ]
    },
    {
     "data": {
      "text/plain": [
       "[[20 19] 284]"
      ]
     },
     "execution_count": 50,
     "metadata": {},
     "output_type": "execute_result"
    }
   ],
   "source": [
    "    (time (apply max-key val (let \n",
    "       [all (locations (puzzleinput))\n",
    "    res (solve2 all count)] \n",
    "     res)))\n",
    "\n"
   ]
  },
  {
   "cell_type": "code",
   "execution_count": null,
   "metadata": {},
   "outputs": [],
   "source": [
    "            "
   ]
  },
  {
   "cell_type": "code",
   "execution_count": 54,
   "metadata": {},
   "outputs": [
    {
     "name": "stdout",
     "output_type": "stream",
     "text": [
      "\"Elapsed time: 7.569346 msecs\"\n"
     ]
    },
    {
     "data": {
      "text/plain": [
       "[4 4]"
      ]
     },
     "execution_count": 54,
     "metadata": {},
     "output_type": "execute_result"
    }
   ],
   "source": [
    "(time (nth (sort-by \n",
    " #(angle %)\n",
    "(vis2 [20 19] \n",
    "         (locations (puzzleinput)))) \n",
    "           199))\n",
    "               \n",
    "               "
   ]
  }
 ],
 "metadata": {
  "kernelspec": {
   "display_name": "Clojure (clojupyter-0.3.2)",
   "language": "clojure",
   "name": "clojupyter-0.3.2"
  },
  "language_info": {
   "file_extension": ".clj",
   "mimetype": "text/x-clojure",
   "name": "clojure",
   "version": "1.10.1"
  }
 },
 "nbformat": 4,
 "nbformat_minor": 4
}
