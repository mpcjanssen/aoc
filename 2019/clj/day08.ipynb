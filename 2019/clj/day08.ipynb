{
 "cells": [
  {
   "cell_type": "code",
   "execution_count": 1,
   "metadata": {},
   "outputs": [
    {
     "data": {
      "text/plain": [
       "nil"
      ]
     },
     "execution_count": 1,
     "metadata": {},
     "output_type": "execute_result"
    }
   ],
   "source": [
    "(ns day8)"
   ]
  },
  {
   "cell_type": "code",
   "execution_count": 2,
   "metadata": {},
   "outputs": [
    {
     "data": {
      "text/plain": [
       "#'day8/data"
      ]
     },
     "execution_count": 2,
     "metadata": {},
     "output_type": "execute_result"
    }
   ],
   "source": [
    "(def data \n",
    "    (map read-string (map str (slurp \"data/day08.txt\"))))\n",
    ";;data\n",
    "\n"
   ]
  },
  {
   "cell_type": "code",
   "execution_count": 3,
   "metadata": {},
   "outputs": [
    {
     "data": {
      "text/plain": [
       "#'day8/layers"
      ]
     },
     "execution_count": 3,
     "metadata": {},
     "output_type": "execute_result"
    }
   ],
   "source": [
    "(defn layers [data width height]\n",
    "    (let [\n",
    "          ppl (* width height)\n",
    "          ]\n",
    "    (partition ppl data ))\n",
    " \n",
    " )\n",
    "\n",
    "\n"
   ]
  },
  {
   "cell_type": "code",
   "execution_count": 4,
   "metadata": {},
   "outputs": [
    {
     "data": {
      "text/plain": [
       "2193"
      ]
     },
     "execution_count": 4,
     "metadata": {},
     "output_type": "execute_result"
    }
   ],
   "source": [
    "(let [check-layer\n",
    "    \n",
    "    (first (sort-by #(% 0) \n",
    "         (map frequencies \n",
    "              (layers data 25 6))))]\n",
    "    (* (check-layer 1)\n",
    "       (check-layer 2)))\n"
   ]
  },
  {
   "cell_type": "code",
   "execution_count": 5,
   "metadata": {},
   "outputs": [
    {
     "data": {
      "text/plain": [
       "#'day8/transpose"
      ]
     },
     "execution_count": 5,
     "metadata": {},
     "output_type": "execute_result"
    }
   ],
   "source": [
    "(defn transpose [m]\n",
    "  (apply mapv vector m))\n",
    "\n"
   ]
  },
  {
   "cell_type": "code",
   "execution_count": 8,
   "metadata": {},
   "outputs": [
    {
     "data": {
      "text/plain": [
       "#'day8/color"
      ]
     },
     "execution_count": 8,
     "metadata": {},
     "output_type": "execute_result"
    }
   ],
   "source": [
    "(defn color [pixel]\n",
    "    (case (first (filter #(not (= % 2)) pixel)\n",
    "    )\n",
    "    1 \"@\"\n",
    "    0 \" \"\n",
    "    ))"
   ]
  },
  {
   "cell_type": "code",
   "execution_count": 9,
   "metadata": {},
   "outputs": [
    {
     "name": "stdout",
     "output_type": "stream",
     "text": [
      "@   @@@@@ @  @ @@@@ @@@@ \n",
      "@   @@    @  @ @    @    \n",
      " @ @ @@@  @@@@ @@@  @@@  \n",
      "  @  @    @  @ @    @    \n",
      "  @  @    @  @ @    @    \n",
      "  @  @@@@ @  @ @@@@ @    \n"
     ]
    },
    {
     "data": {
      "text/plain": [
       "nil"
      ]
     },
     "execution_count": 9,
     "metadata": {},
     "output_type": "execute_result"
    }
   ],
   "source": [
    "(let [\n",
    "        l      (layers data 25 6)\n",
    "      pixels\n",
    "      (transpose l)]\n",
    "    (doseq [line \n",
    "    (partition 25 (map color pixels))]\n",
    "        (println (apply str line))\n",
    "    ))\n"
   ]
  }
 ],
 "metadata": {
  "kernelspec": {
   "display_name": "Clojure (clojupyter-0.2.3)",
   "language": "clojure",
   "name": "clojupyter-0.2.3"
  },
  "language_info": {
   "file_extension": ".clj",
   "mimetype": "text/x-clojure",
   "name": "clojure",
   "version": "1.10.1"
  }
 },
 "nbformat": 4,
 "nbformat_minor": 4
}
