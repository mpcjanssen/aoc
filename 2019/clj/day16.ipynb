{
 "cells": [
  {
   "cell_type": "code",
   "execution_count": 3,
   "metadata": {},
   "outputs": [
    {
     "data": {
      "text/plain": [
       "nil"
      ]
     },
     "execution_count": 3,
     "metadata": {},
     "output_type": "execute_result"
    }
   ],
   "source": [
    "(set! *print-length* 10)\n",
    "(set! *warn-on-reflection* true)\n",
    "\n",
    "(require \n",
    "      '[clojure.string :as s])"
   ]
  },
  {
   "cell_type": "code",
   "execution_count": 5,
   "metadata": {},
   "outputs": [
    {
     "data": {
      "text/plain": [
       "\"59718730609456731351293131043954182702121108074562978243742884161871544398977055503320958653307507508966449714414337735187580549358362555889812919496045724040642138706110661041990885362374435198119936583163910712480088609327792784217885605021161016819501165393890652993818130542242768441596060007838133531024988331598293657823801146846652173678159937295632636340994166521987674402071483406418370292035144241585262551324299766286455164775266890428904814988362921594953203336562273760946178800473700853809323954113201123479775212494228741821718730597221148998454224256326346654873824296052279974200167736410629219931381311353792034748731880630444730593\""
      ]
     },
     "execution_count": 5,
     "metadata": {},
     "output_type": "execute_result"
    }
   ],
   "source": [
    "(defn parse [data]\n",
    "    (map read-string (map str data)))\n",
    "\n",
    "(defn day-input []\n",
    "                (slurp \"../input/day16.txt\"))\n",
    "\n",
    "(day-input)"
   ]
  },
  {
   "cell_type": "code",
   "execution_count": 92,
   "metadata": {},
   "outputs": [
    {
     "data": {
      "text/plain": [
       "(0 1 1 0 0 -1 -1 0 0 1)"
      ]
     },
     "execution_count": 92,
     "metadata": {},
     "output_type": "execute_result"
    }
   ],
   "source": [
    "(defn pattern ^long [n m]\n",
    "  ;;  (println (str n \":\" m))\n",
    " (let [base [0, 1, 0, -1]\n",
    "       idx  (base (mod (quot  (inc m) n) 4))]\n",
    "  idx))\n",
    " \n",
    "\n",
    "\n",
    "(map #(pattern 2 %) (range 0 10))\n"
   ]
  },
  {
   "cell_type": "code",
   "execution_count": 93,
   "metadata": {},
   "outputs": [
    {
     "data": {
      "text/plain": [
       "(4 8 2 2 6 1 5 8)"
      ]
     },
     "execution_count": 93,
     "metadata": {},
     "output_type": "execute_result"
    }
   ],
   "source": [
    "(defn digit-sum ^long [n data]\n",
    "    (reduce + 0 (map-indexed (fn [idx d] (* (pattern (inc n) idx) d )) data)))\n",
    "\n",
    "(defn calc-digit ^long [n data]\n",
    "    (mod (Math/abs (digit-sum n data)) 10))\n",
    "\n",
    "(calc-digit 0 data)\n",
    "(defn phase [data]\n",
    "    (map-indexed (fn [idx d] (calc-digit idx data)) data))\n",
    "(phase data)\n"
   ]
  },
  {
   "cell_type": "code",
   "execution_count": 94,
   "metadata": {},
   "outputs": [
    {
     "data": {
      "text/plain": [
       "#'user/fft"
      ]
     },
     "execution_count": 94,
     "metadata": {},
     "output_type": "execute_result"
    }
   ],
   "source": [
    "(defn fft [input steps]\n",
    "   (first \n",
    "    (drop \n",
    "     steps \n",
    "     (iterate phase input))))\n",
    "\n"
   ]
  },
  {
   "cell_type": "code",
   "execution_count": 95,
   "metadata": {},
   "outputs": [
    {
     "name": "stdout",
     "output_type": "stream",
     "text": [
      "(5 2 4 3 2 1 3 3 2 9 ...)\n",
      "(0 1 0 2 9 4 9 8)\n",
      "(1 9 9 4 4 4 4 7 1 2 ...)\n",
      "\"Elapsed time: 19202.5042 msecs\"\n"
     ]
    },
    {
     "data": {
      "text/plain": [
       "nil"
      ]
     },
     "execution_count": 95,
     "metadata": {},
     "output_type": "execute_result"
    }
   ],
   "source": [
    "(println (fft (parse \"69317163492948606335995924319873\") 100))\n",
    "(println (fft (parse \"12345678\") 4))\n",
    "(time (println  (fft (parse (day-input) ) 100)))\n",
    "\n"
   ]
  },
  {
   "cell_type": "code",
   "execution_count": 13,
   "metadata": {},
   "outputs": [
    {
     "data": {
      "text/plain": [
       "5971873"
      ]
     },
     "execution_count": 13,
     "metadata": {},
     "output_type": "execute_result"
    }
   ],
   "source": [
    "(def offset (read-string (apply str  (take 7 (day-input)))))\n",
    "offset\n",
    "         "
   ]
  },
  {
   "cell_type": "code",
   "execution_count": 419,
   "metadata": {},
   "outputs": [
    {
     "data": {
      "text/plain": [
       "#'user/fast-digit"
      ]
     },
     "execution_count": 419,
     "metadata": {},
     "output_type": "execute_result"
    }
   ],
   "source": [
    "(defn fast-digit [input n]\n",
    "    (mod (apply + (drop (dec n) input)) 10))\n"
   ]
  },
  {
   "cell_type": "code",
   "execution_count": 420,
   "metadata": {},
   "outputs": [
    {
     "data": {
      "text/plain": [
       "2"
      ]
     },
     "execution_count": 420,
     "metadata": {},
     "output_type": "execute_result"
    }
   ],
   "source": [
    "(fast-digit [1 2 3 4 5] 3)"
   ]
  },
  {
   "cell_type": "code",
   "execution_count": 78,
   "metadata": {},
   "outputs": [
    {
     "name": "stderr",
     "output_type": "stream",
     "text": [
      "Syntax error compiling at (REPL:3:19).\n",
      "Unable to resolve symbol: fast-digit in this context\n",
      "Execution error (IllegalStateException) at user/eval5780 (REPL:6).\n",
      "Attempting to call unbound fn: #'user/ffft-step\n"
     ]
    },
    {
     "ename": "class java.lang.IllegalStateException",
     "evalue": "",
     "execution_count": 78,
     "output_type": "error",
     "status": "error",
     "traceback": [
      "   Var.java:    45 clojure.lang.Var$Unbound/throwArity",
      "   AFn.java:    32 clojure.lang.AFn/invoke",
      "   core.clj:  3214 clojure.core$eval/invokeStatic",
      "   core.clj:  3210 clojure.core$eval/invoke",
      "   main.clj:   437 clojure.main$repl$read_eval_print__9086$fn__9089/invoke",
      "   main.clj:   458 clojure.main$repl$fn__9095/invoke",
      "   main.clj:   368 clojure.main$repl/doInvoke",
      "RestFn.java:  1523 clojure.lang.RestFn/invoke",
      "   AFn.java:    22 clojure.lang.AFn/run",
      "   AFn.java:    22 clojure.lang.AFn/run",
      "Thread.java:   832 java.lang.Thread/run"
     ]
    }
   ],
   "source": [
    "(defn ffft-step [input]\n",
    " (map-indexed \n",
    "  (fn [idx digit] (fast-digit input (inc idx)))\n",
    "  input))\n",
    "\n",
    "(ffft-step [1 2 3 4 5 6 7 8])\n",
    "\n"
   ]
  },
  {
   "cell_type": "code",
   "execution_count": 422,
   "metadata": {},
   "outputs": [
    {
     "data": {
      "text/plain": [
       "#'user/ffft"
      ]
     },
     "execution_count": 422,
     "metadata": {},
     "output_type": "execute_result"
    }
   ],
   "source": [
    "(defn ffft [input steps]\n",
    "   (first \n",
    "    (drop \n",
    "     steps \n",
    "     (iterate ffft-step input))))\n",
    "\n"
   ]
  },
  {
   "cell_type": "code",
   "execution_count": null,
   "metadata": {},
   "outputs": [],
   "source": []
  },
  {
   "cell_type": "code",
   "execution_count": 427,
   "metadata": {},
   "outputs": [
    {
     "name": "stdout",
     "output_type": "stream",
     "text": [
      "(7 1 7 7 9 4 8 8 4 9 ...)\n",
      "(8 8 2 4 9 4 9 8)\n",
      "(5 0 1 2 7 0 2 2 6 9 ...)\n",
      "\"Elapsed time: 3238.236323 msecs\"\n"
     ]
    },
    {
     "data": {
      "text/plain": [
       "nil"
      ]
     },
     "execution_count": 427,
     "metadata": {},
     "output_type": "execute_result"
    }
   ],
   "source": [
    "(println (ffft (parse \"69317163492948606335995924319873\") 100 ))\n",
    "(println (ffft (parse \"12345678\") 4))\n",
    "(time (println  (ffft (parse (day-input)) 100)))\n",
    "\n"
   ]
  },
  {
   "cell_type": "code",
   "execution_count": 412,
   "metadata": {},
   "outputs": [
    {
     "ename": "interrupted",
     "evalue": "",
     "output_type": "error",
     "traceback": [
      "            Thread.java:   853 java.lang.Thread/stop                             ",
      "               core.clj:  2030 clojure.core$binding_conveyor_fn$fn__5754/invoke  ",
      "               AFn.java:    18 clojure.lang.AFn/call                             ",
      "        FutureTask.java:   266 java.util.concurrent.FutureTask/run               ",
      "ThreadPoolExecutor.java:  1149 java.util.concurrent.ThreadPoolExecutor/runWorker ",
      "ThreadPoolExecutor.java:   624 java.util.concurrent.ThreadPoolExecutor$Worker/run",
      "            Thread.java:   748 java.lang.Thread/run                              "
     ]
    }
   ],
   "source": [
    "(def input2 (apply vector (flatten (repeat 10000 (parse (day-input))))))\n",
    "(time (println (take 8  (drop offset (ffft input2 100)))))\n",
    ";;(count input2)\n"
   ]
  },
  {
   "cell_type": "code",
   "execution_count": 447,
   "metadata": {},
   "outputs": [
    {
     "data": {
      "text/plain": [
       "#'user/day16"
      ]
     },
     "execution_count": 447,
     "metadata": {},
     "output_type": "execute_result"
    }
   ],
   "source": [
    "(defn day16 [^long part input]\n",
    "  (let [signal (mapv #(Character/digit (char %) 10) (s/trim input))]\n",
    "    (case part\n",
    "      1 (let [pattern (fn [n] (rest (cycle (sequence (comp (map (partial repeat n)) cat) [0 1 0 -1]))))\n",
    "              pattern-m (fn [n] (mapv #(into [] (take n) (pattern %)) (range 1 (inc n))))\n",
    "              last-digit (fn [^long x] (rem (Math/abs x) 10))\n",
    "              dot (fn [v w] (last-digit (reduce + (mapv * v w))))\n",
    "              mmul (fn [m v] (mapv (partial dot v) m))]\n",
    "          (apply str (take 8 (nth (iterate (partial mmul (pattern-m (count signal))) signal) 100))))\n",
    "      2 (let [phase (fn [^ints arr] (loop [n (- (count arr) 2)]\n",
    "                                      (when (>= n 0)\n",
    "                                        (aset arr n (rem (+ (aget arr n) (aget arr (inc n))) 10))\n",
    "                                        (recur (dec n)))))\n",
    "              offset (Integer/parseInt (subs input 0 7))]\n",
    "          (let [m (- (* 10000 (count signal)) offset)\n",
    "                left (rem m (count signal))\n",
    "                arr (int-array (take m (concat (take-last left signal) (cycle signal))))]\n",
    "            (dotimes [_ 100] (phase arr)) (apply str (take 8 arr)))))))"
   ]
  },
  {
   "cell_type": "code",
   "execution_count": 1,
   "metadata": {},
   "outputs": [
    {
     "name": "stderr",
     "output_type": "stream",
     "text": [
      "Syntax error compiling at (REPL:1:7).\n",
      "Unable to resolve symbol: day16 in this context\n"
     ]
    },
    {
     "ename": "class clojure.lang.Compiler$CompilerException",
     "evalue": "",
     "execution_count": 1,
     "output_type": "error",
     "status": "error",
     "traceback": [
      "  Util.java:   221 clojure.lang.Util/runtimeException                     ",
      "   core.clj:  3214 clojure.core$eval/invokeStatic                         ",
      "   core.clj:  3210 clojure.core$eval/invoke                               ",
      "   main.clj:   437 clojure.main$repl$read_eval_print__9086$fn__9089/invoke",
      "   main.clj:   458 clojure.main$repl$fn__9095/invoke                      ",
      "   main.clj:   368 clojure.main$repl/doInvoke                             ",
      "RestFn.java:  1523 clojure.lang.RestFn/invoke                             ",
      "   AFn.java:    22 clojure.lang.AFn/run                                   ",
      "   AFn.java:    22 clojure.lang.AFn/run                                   ",
      "Thread.java:   748 java.lang.Thread/run                                   "
     ]
    }
   ],
   "source": [
    "(time (day16 2 (day-input)))"
   ]
  },
  {
   "cell_type": "code",
   "execution_count": 440,
   "metadata": {},
   "outputs": [
    {
     "data": {
      "text/plain": [
       "[5 9 7 1 8 7 3 0 6 0 ...]"
      ]
     },
     "execution_count": 440,
     "metadata": {},
     "output_type": "execute_result"
    }
   ],
   "source": [
    "(mapv #(Character/digit (char %) 10) (s/trim (day-input)))"
   ]
  },
  {
   "cell_type": "code",
   "execution_count": null,
   "metadata": {},
   "outputs": [],
   "source": []
  }
 ],
 "metadata": {
  "kernelspec": {
   "display_name": "Clojure (clojupyter-0.3.2)",
   "language": "clojure",
   "name": "clojupyter-0.3.2"
  },
  "language_info": {
   "file_extension": ".clj",
   "mimetype": "text/x-clojure",
   "name": "clojure",
   "version": "1.10.1"
  }
 },
 "nbformat": 4,
 "nbformat_minor": 4
}
