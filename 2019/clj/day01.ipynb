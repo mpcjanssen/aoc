{
 "cells": [
  {
   "cell_type": "code",
   "execution_count": 6,
   "metadata": {},
   "outputs": [
    {
     "data": {
      "text/plain": [
       "#'user/data"
      ]
     },
     "execution_count": 6,
     "metadata": {},
     "output_type": "execute_result"
    }
   ],
   "source": [
    "(defn data [] (-> (slurp \"../input/day01.txt\")\n",
    "            \n",
    "                  (clojure.string/split-lines)))"
   ]
  },
  {
   "cell_type": "code",
   "execution_count": 7,
   "metadata": {},
   "outputs": [
    {
     "data": {
      "text/plain": [
       "2"
      ]
     },
     "execution_count": 7,
     "metadata": {},
     "output_type": "execute_result"
    }
   ],
   "source": [
    "(defn fuel-mass [mass]\n",
    " (- (quot mass 3) 2))\n",
    "\n",
    "(fuel-mass 14)"
   ]
  },
  {
   "cell_type": "markdown",
   "metadata": {},
   "source": [
    "## Part 1"
   ]
  },
  {
   "cell_type": "code",
   "execution_count": 8,
   "metadata": {},
   "outputs": [
    {
     "data": {
      "text/plain": [
       "3255932"
      ]
     },
     "execution_count": 8,
     "metadata": {},
     "output_type": "execute_result"
    }
   ],
   "source": [
    "(reduce +\n",
    "        (map  \n",
    "         #(->\n",
    "              %\n",
    "              (read-string)\n",
    "              (fuel-mass))\n",
    "         (data)))"
   ]
  },
  {
   "cell_type": "code",
   "execution_count": 9,
   "metadata": {},
   "outputs": [
    {
     "data": {
      "text/plain": [
       "#'user/total-fuel-mass"
      ]
     },
     "execution_count": 9,
     "metadata": {},
     "output_type": "execute_result"
    }
   ],
   "source": [
    "(defn total-fuel-mass \n",
    "    ([mass] (total-fuel-mass 0 mass))\n",
    "    ([curr extra] \n",
    "               (let [delta (fuel-mass extra)] \n",
    "                   (if (< delta 1) curr\n",
    "                   (recur (+ curr delta ) delta )\n",
    "         ))))\n",
    "    "
   ]
  },
  {
   "cell_type": "code",
   "execution_count": 24,
   "metadata": {},
   "outputs": [
    {
     "data": {
      "text/plain": [
       "#'user/total-fuel-mass2"
      ]
     },
     "execution_count": 24,
     "metadata": {},
     "output_type": "execute_result"
    }
   ],
   "source": [
    "(defn total-fuel-mass2 [mass]\n",
    "    (apply \n",
    "     + \n",
    "     (drop 1 \n",
    "           (take-while pos? (iterate fuel-mass mass)))))\n",
    "    "
   ]
  },
  {
   "cell_type": "code",
   "execution_count": 28,
   "metadata": {},
   "outputs": [
    {
     "data": {
      "text/plain": [
       "50346"
      ]
     },
     "execution_count": 28,
     "metadata": {},
     "output_type": "execute_result"
    }
   ],
   "source": [
    "(total-fuel-mass2 100756)"
   ]
  },
  {
   "cell_type": "markdown",
   "metadata": {},
   "source": [
    "## Part 2"
   ]
  },
  {
   "cell_type": "code",
   "execution_count": 32,
   "metadata": {
    "scrolled": true
   },
   "outputs": [
    {
     "name": "stdout",
     "output_type": "stream",
     "text": [
      "\"Elapsed time: 0.8568 msecs\"\r\n"
     ]
    },
    {
     "data": {
      "text/plain": [
       "4881041"
      ]
     },
     "execution_count": 32,
     "metadata": {},
     "output_type": "execute_result"
    }
   ],
   "source": [
    "(time (reduce \n",
    " + \n",
    " (map\n",
    "         #(-> \n",
    "                   % \n",
    "                   (read-string)\n",
    "                   (total-fuel-mass))\n",
    "              (data))))"
   ]
  },
  {
   "cell_type": "code",
   "execution_count": 30,
   "metadata": {},
   "outputs": [
    {
     "data": {
      "text/plain": [
       "[\"94794\" \"58062\" \"112067\" \"139512\" \"147400\" \"99825\" \"142617\" \"107263\" \"86294\" \"97000\" \"140204\" \"72573\" \"134981\" \"111385\" \"88303\" \"79387\" \"129111\" \"122976\" \"130685\" \"75100\" \"146566\" \"73191\" \"107641\" \"109940\" \"65518\" \"102028\" \"57370\" \"144556\" \"64017\" \"64384\" \"145114\" \"115853\" \"87939\" \"90791\" \"133443\" \"139050\" \"140657\" \"85738\" \"133749\" \"92466\" \"142918\" \"96679\" \"125035\" \"127629\" \"87906\" \"104478\" \"105147\" \"121741\" \"70312\" \"73732\" \"60838\" \"82292\" \"102931\" \"103000\" \"135903\" \"78678\" \"86314\" \"50772\" \"115673\" \"106179\" \"60615\" \"105152\" \"76550\" \"140591\" \"120916\" \"62094\" \"111273\" \"63542\" \"102974\" \"78837\" \"94840\" \"89126\" \"63150\" \"52503\" \"108530\" \"101458\" \"59660\" \"116913\" \"66440\" \"83306\" \"50693\" \"58377\" \"62005\" \"130663\" \"124304\" \"79726\" \"63001\" \"73380\" \"64395\" \"124277\" \"69742\" \"63465\" \"93172\" \"142068\" \"120081\" \"119872\" \"52801\" \"100693\" \"79229\" \"90365\"]"
      ]
     },
     "execution_count": 30,
     "metadata": {},
     "output_type": "execute_result"
    }
   ],
   "source": [
    "(data)"
   ]
  },
  {
   "cell_type": "code",
   "execution_count": null,
   "metadata": {},
   "outputs": [],
   "source": []
  }
 ],
 "metadata": {
  "kernelspec": {
   "display_name": "Clojure (clojupyter-0.3.2)",
   "language": "clojure",
   "name": "clojupyter-0.3.2"
  },
  "language_info": {
   "file_extension": ".clj",
   "mimetype": "text/x-clojure",
   "name": "clojure",
   "version": "1.10.1"
  }
 },
 "nbformat": 4,
 "nbformat_minor": 4
}
