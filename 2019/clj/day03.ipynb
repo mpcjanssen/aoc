{
 "cells": [
  {
   "cell_type": "code",
   "execution_count": 1,
   "metadata": {},
   "outputs": [
    {
     "data": {
      "text/plain": [
       "nil"
      ]
     },
     "execution_count": 1,
     "metadata": {},
     "output_type": "execute_result"
    }
   ],
   "source": [
    "(ns  day3 (:require [clojure.set :as s]) )"
   ]
  },
  {
   "cell_type": "code",
   "execution_count": 2,
   "metadata": {},
   "outputs": [
    {
     "data": {
      "text/plain": [
       "#'day3/data"
      ]
     },
     "execution_count": 2,
     "metadata": {},
     "output_type": "execute_result"
    }
   ],
   "source": [
    "(defn parse-line [line]\n",
    "  (into [] \n",
    "       (clojure.string/split line #\",\")))\n",
    "\n",
    "\n",
    "(def data (with-open [rdr (clojure.java.io/reader \"./data/day03.txt\")]\n",
    "    (doall (map parse-line (line-seq rdr)))))\n",
    "\n",
    ";;data\n"
   ]
  },
  {
   "cell_type": "code",
   "execution_count": 3,
   "metadata": {
    "scrolled": true
   },
   "outputs": [
    {
     "data": {
      "text/plain": [
       "#'day3/spec-dist"
      ]
     },
     "execution_count": 3,
     "metadata": {},
     "output_type": "execute_result"
    }
   ],
   "source": [
    "(defn spec-dir [spec] (subs spec 0 1))\n",
    "(defn spec-dist [spec] (read-string (subs spec 1)))\n",
    "\n",
    "      "
   ]
  },
  {
   "cell_type": "code",
   "execution_count": 4,
   "metadata": {},
   "outputs": [
    {
     "data": {
      "text/plain": [
       "123"
      ]
     },
     "execution_count": 4,
     "metadata": {},
     "output_type": "execute_result"
    }
   ],
   "source": [
    "(spec-dist \"U123\")"
   ]
  },
  {
   "cell_type": "code",
   "execution_count": 5,
   "metadata": {},
   "outputs": [
    {
     "data": {
      "text/plain": [
       "([0 0] [-1 0] [-2 0] [-3 0] [-4 0] [-5 0] [-6 0] [-7 0] [-8 0] [-9 0] [-10 0] [-11 0] [-12 0] [-13 0] [-14 0] [-15 0] [-16 0] [-17 0] [-18 0] [-19 0] [-20 0] [-21 0])"
      ]
     },
     "execution_count": 5,
     "metadata": {},
     "output_type": "execute_result"
    }
   ],
   "source": [
    "(defn create-line [start spec]\n",
    "    (let [\n",
    "          dir (spec-dir spec)\n",
    "          dist (spec-dist spec)\n",
    "          x (start 0)\n",
    "          y (start 1)\n",
    "          dx (case dir\n",
    "                 \"L\" -1\n",
    "                 \"R\" 1\n",
    "                 0)\n",
    "          dy (case dir\n",
    "                 \"U\" -1\n",
    "                 \"D\" 1\n",
    "                 0)\n",
    "          \n",
    "          \n",
    "          ]\n",
    "        (for [d (range 0 (inc dist))]\n",
    "            [(+ x (* dx d))\n",
    "               (+ y (* dy d))]\n",
    "            \n",
    "            )\n",
    "             ))\n",
    "\n",
    "\n",
    "(create-line [0 0] \"L21\" )\n"
   ]
  },
  {
   "cell_type": "code",
   "execution_count": 6,
   "metadata": {},
   "outputs": [
    {
     "data": {
      "text/plain": [
       "[[0 0] [1 1] [1 0] [1 -1] [1 -2] [1 -3]]"
      ]
     },
     "execution_count": 6,
     "metadata": {},
     "output_type": "execute_result"
    }
   ],
   "source": [
    "(defn add-segment [line spec]\n",
    "    (into line \n",
    "         (rest (create-line (last line) spec))))\n",
    "\n",
    "\n",
    "( add-segment [[0 0] [1 1]] \"U4\")\n"
   ]
  },
  {
   "cell_type": "code",
   "execution_count": 7,
   "metadata": {},
   "outputs": [
    {
     "data": {
      "text/plain": [
       "[[0 0] [1 1] [2 2]]"
      ]
     },
     "execution_count": 7,
     "metadata": {},
     "output_type": "execute_result"
    }
   ],
   "source": [
    "(into [[0 0]] [[1 1][2 2]])"
   ]
  },
  {
   "cell_type": "code",
   "execution_count": 8,
   "metadata": {},
   "outputs": [
    {
     "name": "stdout",
     "output_type": "stream",
     "text": [
      "[[0 0] [0 -1] [0 -2] [0 -3] [0 -4] [0 -5] [0 -6] [0 -7] [0 -8] [0 -9] [0 -10] [0 -11] [0 -12] [-1 -12] [-2 -12] [-3 -12] [-4 -12] [-4 -11] [-4 -10] [-4 -9] [-4 -8] [-4 -7] [-4 -6] [-4 -5] [-4 -4] [-4 -3] [-4 -2] [-4 -1] [-4 0] [-3 0] [-2 0] [-1 0] [0 0]]\n"
     ]
    },
    {
     "data": {
      "text/plain": [
       "nil"
      ]
     },
     "execution_count": 8,
     "metadata": {},
     "output_type": "execute_result"
    }
   ],
   "source": [
    "(defn full-line [start specs]\n",
    "    (reduce \n",
    "     #(add-segment %1 %2 )\n",
    "     [start] specs)\n",
    "    ) \n",
    "\n",
    "\n",
    "(println (full-line [0 0] [\"U12\" \"L4\" \"D12\" \"R4\"]))\n"
   ]
  },
  {
   "cell_type": "code",
   "execution_count": 9,
   "metadata": {},
   "outputs": [
    {
     "data": {
      "text/plain": [
       "2"
      ]
     },
     "execution_count": 9,
     "metadata": {},
     "output_type": "execute_result"
    }
   ],
   "source": [
    "(def lines (map #(full-line [0 0] %) data ))\n",
    "\n",
    "(count lines)"
   ]
  },
  {
   "cell_type": "code",
   "execution_count": 10,
   "metadata": {},
   "outputs": [
    {
     "data": {
      "text/plain": [
       "23"
      ]
     },
     "execution_count": 10,
     "metadata": {},
     "output_type": "execute_result"
    }
   ],
   "source": [
    "(defn manhattan [p1 p2]\n",
    "    (let [\n",
    "          dx  (Math/abs (- (p1 0) (p2 0)))\n",
    "           dy (Math/abs (- (p1 1) (p2 1)))\n",
    "         ]\n",
    "        (+ dx dy)\n",
    "        )\n",
    "    )\n",
    "\n",
    "(manhattan [0 0] [12 -11])\n"
   ]
  },
  {
   "cell_type": "code",
   "execution_count": 11,
   "metadata": {},
   "outputs": [
    {
     "name": "stdout",
     "output_type": "stream",
     "text": [
      "\"Elapsed time: 372.675808 msecs\"\n"
     ]
    },
    {
     "data": {
      "text/plain": [
       "#'day3/crossings"
      ]
     },
     "execution_count": 11,
     "metadata": {},
     "output_type": "execute_result"
    }
   ],
   "source": [
    "\n",
    "\n",
    "(def points (\n",
    "             map #(into #{} %) lines))\n",
    "\n",
    "\n",
    "(time (def crossings (apply  s/intersection points)))\n",
    ";; crossings\n"
   ]
  },
  {
   "cell_type": "code",
   "execution_count": 12,
   "metadata": {},
   "outputs": [
    {
     "data": {
      "text/plain": [
       "248"
      ]
     },
     "execution_count": 12,
     "metadata": {},
     "output_type": "execute_result"
    }
   ],
   "source": [
    " (second (sort (map #(manhattan [0 0] %) crossings)))\n",
    "     \n",
    "     "
   ]
  },
  {
   "cell_type": "code",
   "execution_count": 15,
   "metadata": {},
   "outputs": [
    {
     "data": {
      "text/plain": [
       "1"
      ]
     },
     "execution_count": 15,
     "metadata": {},
     "output_type": "execute_result"
    }
   ],
   "source": [
    "(defn steps [line p]\n",
    "    (.indexOf line p))\n",
    "\n",
    "(steps [[1 1] [2 2]] [2 2])\n",
    "\n"
   ]
  },
  {
   "cell_type": "code",
   "execution_count": 16,
   "metadata": {},
   "outputs": [
    {
     "name": "stdout",
     "output_type": "stream",
     "text": [
      "\"Elapsed time: 491.606615 msecs\"\n"
     ]
    },
    {
     "data": {
      "text/plain": [
       "28580"
      ]
     },
     "execution_count": 16,
     "metadata": {},
     "output_type": "execute_result"
    }
   ],
   "source": [
    "(time (second (sort (let [\n",
    "      line1 (first lines)\n",
    "      line2 (second lines)\n",
    "      ]\n",
    "    \n",
    "    (for [p crossings]\n",
    "        \n",
    "        (+ (steps line1 p)\n",
    "         (steps line2 p)))))))"
   ]
  }
 ],
 "metadata": {
  "kernelspec": {
   "display_name": "Clojure (clojupyter-0.2.3)",
   "language": "clojure",
   "name": "clojupyter-0.2.3"
  },
  "language_info": {
   "file_extension": ".clj",
   "mimetype": "text/x-clojure",
   "name": "clojure",
   "version": "1.10.1"
  }
 },
 "nbformat": 4,
 "nbformat_minor": 2
}
