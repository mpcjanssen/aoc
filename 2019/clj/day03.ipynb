{
 "cells": [
  {
   "cell_type": "code",
   "execution_count": 28,
   "metadata": {},
   "outputs": [
    {
     "data": {
      "text/plain": [
       "nil"
      ]
     },
     "execution_count": 28,
     "metadata": {},
     "output_type": "execute_result"
    }
   ],
   "source": [
    " (set! *warn-on-reflection* true)\n",
    "(ns  day3 (:require [clojure.set :as s]) )"
   ]
  },
  {
   "cell_type": "code",
   "execution_count": 29,
   "metadata": {},
   "outputs": [
    {
     "data": {
      "text/plain": [
       "#'day3/data"
      ]
     },
     "execution_count": 29,
     "metadata": {},
     "output_type": "execute_result"
    }
   ],
   "source": [
    "(defn parse-line [line]\n",
    "  (into [] \n",
    "       (clojure.string/split line #\",\")))\n",
    "\n",
    "\n",
    "(def data (with-open [rdr (clojure.java.io/reader \"../input/day03.txt\")]\n",
    "    (doall (map parse-line (line-seq rdr)))))\n",
    "\n",
    ";;data\n"
   ]
  },
  {
   "cell_type": "code",
   "execution_count": 30,
   "metadata": {
    "scrolled": true
   },
   "outputs": [
    {
     "data": {
      "text/plain": [
       "#'day3/spec-dist"
      ]
     },
     "execution_count": 30,
     "metadata": {},
     "output_type": "execute_result"
    }
   ],
   "source": [
    "(defn spec-dir [spec] (subs spec 0 1))\n",
    "(defn spec-dist [spec] (read-string (subs spec 1)))\n",
    "\n",
    "      "
   ]
  },
  {
   "cell_type": "code",
   "execution_count": 31,
   "metadata": {},
   "outputs": [
    {
     "data": {
      "text/plain": [
       "123"
      ]
     },
     "execution_count": 31,
     "metadata": {},
     "output_type": "execute_result"
    }
   ],
   "source": [
    "(spec-dist \"U123\")"
   ]
  },
  {
   "cell_type": "code",
   "execution_count": 32,
   "metadata": {},
   "outputs": [
    {
     "data": {
      "text/plain": [
       "([0 0] [-1 0] [-2 0] [-3 0] [-4 0] [-5 0] [-6 0] [-7 0] [-8 0] [-9 0] [-10 0] [-11 0] [-12 0] [-13 0] [-14 0] [-15 0] [-16 0] [-17 0] [-18 0] [-19 0] [-20 0] [-21 0])"
      ]
     },
     "execution_count": 32,
     "metadata": {},
     "output_type": "execute_result"
    }
   ],
   "source": [
    "(defn create-line [start spec]\n",
    "    (let [\n",
    "          dir (spec-dir spec)\n",
    "          dist (spec-dist spec)\n",
    "          x (start 0)\n",
    "          y (start 1)\n",
    "          dx (case dir\n",
    "                 \"L\" -1\n",
    "                 \"R\" 1\n",
    "                 0)\n",
    "          dy (case dir\n",
    "                 \"U\" -1\n",
    "                 \"D\" 1\n",
    "                 0)\n",
    "          \n",
    "          \n",
    "          ]\n",
    "        (for [d (range 0 (inc dist))]\n",
    "            [(+ x (* dx d))\n",
    "               (+ y (* dy d))]\n",
    "            \n",
    "            )\n",
    "             ))\n",
    "\n",
    "\n",
    "(create-line [0 0] \"L21\" )\n"
   ]
  },
  {
   "cell_type": "code",
   "execution_count": 33,
   "metadata": {},
   "outputs": [
    {
     "data": {
      "text/plain": [
       "[[0 0] [1 1] [1 0] [1 -1] [1 -2] [1 -3]]"
      ]
     },
     "execution_count": 33,
     "metadata": {},
     "output_type": "execute_result"
    }
   ],
   "source": [
    "(defn add-segment [line spec]\n",
    "    (into line \n",
    "         (rest (create-line (last line) spec))))\n",
    "\n",
    "\n",
    "( add-segment [[0 0] [1 1]] \"U4\")\n"
   ]
  },
  {
   "cell_type": "code",
   "execution_count": 34,
   "metadata": {},
   "outputs": [
    {
     "data": {
      "text/plain": [
       "[[0 0] [1 1] [2 2]]"
      ]
     },
     "execution_count": 34,
     "metadata": {},
     "output_type": "execute_result"
    }
   ],
   "source": [
    "(into [[0 0]] [[1 1][2 2]])"
   ]
  },
  {
   "cell_type": "code",
   "execution_count": 35,
   "metadata": {},
   "outputs": [
    {
     "name": "stdout",
     "output_type": "stream",
     "text": [
      "[[0 0] [0 -1] [0 -2] [0 -3] [0 -4] [0 -5] [0 -6] [0 -7] [0 -8] [0 -9] [0 -10] [0 -11] [0 -12] [-1 -12] [-2 -12] [-3 -12] [-4 -12] [-4 -11] [-4 -10] [-4 -9] [-4 -8] [-4 -7] [-4 -6] [-4 -5] [-4 -4] [-4 -3] [-4 -2] [-4 -1] [-4 0] [-3 0] [-2 0] [-1 0] [0 0]]\n"
     ]
    },
    {
     "data": {
      "text/plain": [
       "nil"
      ]
     },
     "execution_count": 35,
     "metadata": {},
     "output_type": "execute_result"
    }
   ],
   "source": [
    "(defn full-line [start specs]\n",
    "    (reduce \n",
    "     #(add-segment %1 %2 )\n",
    "     [start] specs)\n",
    "    ) \n",
    "\n",
    "\n",
    "(println (full-line [0 0] [\"U12\" \"L4\" \"D12\" \"R4\"]))\n"
   ]
  },
  {
   "cell_type": "code",
   "execution_count": 36,
   "metadata": {},
   "outputs": [
    {
     "data": {
      "text/plain": [
       "2"
      ]
     },
     "execution_count": 36,
     "metadata": {},
     "output_type": "execute_result"
    }
   ],
   "source": [
    "(def lines (map #(full-line [0 0] %) data ))\n",
    "\n",
    "(count lines)"
   ]
  },
  {
   "cell_type": "code",
   "execution_count": 79,
   "metadata": {},
   "outputs": [
    {
     "name": "stderr",
     "output_type": "stream",
     "text": [
      "Reflection warning, NO_SOURCE_PATH:16:19 - call to static method abs on java.lang.Math can't be resolved (argument types: java.lang.Number).\n"
     ]
    },
    {
     "data": {
      "text/plain": [
       "23"
      ]
     },
     "execution_count": 79,
     "metadata": {},
     "output_type": "execute_result"
    }
   ],
   "source": [
    "(defn only-abs [^double a]\n",
    "  (Math/abs a))\n",
    "\n",
    "(defn manhattan [^clojure.lang.PersistentVector p1 p2]\n",
    "    (let [\n",
    "          dx  (only-abs (- (p1 (int 0)) (p2 (int 0))))\n",
    "           dy (only-abs (- (p1 (int 1)) (p2 1)))\n",
    "         ]\n",
    "        (+ dx dy)\n",
    "        )\n",
    "    )\n",
    "\n",
    "\n",
    "\n",
    "(defn distance [point1 point2]\n",
    "  (reduce + (map #(Math/abs (- %1 %2)) point1 point2)))\n",
    "(distance [0 0] [12 -11])\n"
   ]
  },
  {
   "cell_type": "code",
   "execution_count": 63,
   "metadata": {},
   "outputs": [
    {
     "name": "stdout",
     "output_type": "stream",
     "text": [
      "\"Elapsed time: 283.0135 msecs\"\n"
     ]
    },
    {
     "data": {
      "text/plain": [
       "#'day3/crossings"
      ]
     },
     "execution_count": 63,
     "metadata": {},
     "output_type": "execute_result"
    }
   ],
   "source": [
    "\n",
    "\n",
    "(def points (\n",
    "             map #(into #{} %) lines))\n",
    "\n",
    "\n",
    "(time (def crossings (apply  s/intersection points)))\n",
    ";; crossings\n"
   ]
  },
  {
   "cell_type": "code",
   "execution_count": 80,
   "metadata": {},
   "outputs": [
    {
     "data": {
      "text/plain": [
       "248"
      ]
     },
     "execution_count": 80,
     "metadata": {},
     "output_type": "execute_result"
    }
   ],
   "source": [
    " (second (sort (map #(distance [0 0] %) crossings)))\n",
    "     \n",
    "     "
   ]
  },
  {
   "cell_type": "code",
   "execution_count": 83,
   "metadata": {},
   "outputs": [
    {
     "name": "stderr",
     "output_type": "stream",
     "text": [
      "Reflection warning, NO_SOURCE_PATH:3:5 - call to method indexOf can't be resolved (target class is unknown).\n"
     ]
    },
    {
     "data": {
      "text/plain": [
       "#'day3/steps"
      ]
     },
     "execution_count": 83,
     "metadata": {},
     "output_type": "execute_result"
    }
   ],
   "source": [
    "(defn steps [line  p]\n",
    "\n",
    "    (.indexOf line p))\n",
    "\n",
    "(get [[1 1] [2 2]] [2 2])\n",
    "\n",
    "(defn steps [path point]\n",
    "  (inc (count (take-while #(not= % point) path))))"
   ]
  },
  {
   "cell_type": "code",
   "execution_count": 84,
   "metadata": {},
   "outputs": [
    {
     "name": "stdout",
     "output_type": "stream",
     "text": [
      "\"Elapsed time: 3685.7236 msecs\"\n"
     ]
    },
    {
     "data": {
      "text/plain": [
       "28582"
      ]
     },
     "execution_count": 84,
     "metadata": {},
     "output_type": "execute_result"
    }
   ],
   "source": [
    "(time (second (sort (let [\n",
    "      line1 (first lines)\n",
    "      line2 (second lines)\n",
    "      ]\n",
    "    \n",
    "    (for [p crossings]\n",
    "        \n",
    "        (+ (steps line1 p)\n",
    "         (steps line2 p)))))))"
   ]
  },
  {
   "cell_type": "code",
   "execution_count": 75,
   "metadata": {},
   "outputs": [
    {
     "name": "stderr",
     "output_type": "stream",
     "text": [
      "Execution error (ClassCastException) at day3/eval4524 (REPL:1).\n",
      "clojure.lang.PersistentVector cannot be cast to java.lang.Number\n"
     ]
    },
    {
     "ename": "class java.lang.ClassCastException",
     "evalue": "",
     "execution_count": 75,
     "output_type": "error",
     "status": "error",
     "traceback": [
      "Numbers.java:   162 clojure.lang.Numbers/minus",
      "    core.clj:  3214 clojure.core$eval/invokeStatic",
      "    core.clj:  3210 clojure.core$eval/invoke",
      "    main.clj:   437 clojure.main$repl$read_eval_print__9086$fn__9089/invoke",
      "    main.clj:   458 clojure.main$repl$fn__9095/invoke",
      "    main.clj:   368 clojure.main$repl/doInvoke",
      " RestFn.java:  1523 clojure.lang.RestFn/invoke",
      "    AFn.java:    22 clojure.lang.AFn/run",
      "    AFn.java:    22 clojure.lang.AFn/run",
      " Thread.java:   748 java.lang.Thread/run"
     ]
    }
   ],
   "source": [
    "(- [0 0] [ 1 1])"
   ]
  },
  {
   "cell_type": "code",
   "execution_count": null,
   "metadata": {},
   "outputs": [],
   "source": []
  }
 ],
 "metadata": {
  "kernelspec": {
   "display_name": "Clojure (clojupyter-0.3.2)",
   "language": "clojure",
   "name": "clojupyter-0.3.2"
  },
  "language_info": {
   "file_extension": ".clj",
   "mimetype": "text/x-clojure",
   "name": "clojure",
   "version": "1.10.1"
  }
 },
 "nbformat": 4,
 "nbformat_minor": 4
}
