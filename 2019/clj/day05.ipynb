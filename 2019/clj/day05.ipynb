{
 "cells": [
  {
   "cell_type": "code",
   "execution_count": 1,
   "metadata": {},
   "outputs": [
    {
     "data": {
      "text/plain": [
       "#namespace[day5]"
      ]
     },
     "execution_count": 1,
     "metadata": {},
     "output_type": "execute_result"
    }
   ],
   "source": [
    "(ns day5)\n",
    "*ns*"
   ]
  },
  {
   "cell_type": "code",
   "execution_count": 2,
   "metadata": {},
   "outputs": [
    {
     "data": {
      "text/plain": [
       "#'day5/mem"
      ]
     },
     "execution_count": 2,
     "metadata": {},
     "output_type": "execute_result"
    }
   ],
   "source": [
    "(def mem\n",
    "    (mapv read-string (-> (slurp \"data/day05.txt\")\n",
    "(clojure.string/split #\",\"))))\n",
    ";;mem\n"
   ]
  },
  {
   "cell_type": "code",
   "execution_count": 3,
   "metadata": {},
   "outputs": [
    {
     "data": {
      "text/plain": [
       "100"
      ]
     },
     "execution_count": 3,
     "metadata": {},
     "output_type": "execute_result"
    }
   ],
   "source": [
    "(defn pow [x n]\n",
    "    (apply * (repeat n x)))\n",
    "\n",
    " (pow 10 2)"
   ]
  },
  {
   "cell_type": "code",
   "execution_count": 4,
   "metadata": {},
   "outputs": [
    {
     "data": {
      "text/plain": [
       ":pos"
      ]
     },
     "execution_count": 4,
     "metadata": {},
     "output_type": "execute_result"
    }
   ],
   "source": [
    "(defn opcode [{:keys [mem ip]}]\n",
    "    (mem ip))\n",
    "\n",
    "(defn param [state n]\n",
    "    (let [{:keys [mem ip]} state]\n",
    "    (mem (+ ip n))))\n",
    "\n",
    "(defn operation [opcode]\n",
    "           (mod opcode 100))\n",
    "\n",
    "(defn mode [opcode n] \n",
    "    (if ( = 0 (mod \n",
    "     (quot opcode \n",
    "           (pow 10 (inc n)))\n",
    "     10)) :pos :imm))\n",
    "    \n",
    "\n",
    "(defn paramval [state n]\n",
    "    (if (= :imm (mode (opcode state) n))\n",
    "        (param state n)\n",
    "        ((state :mem) (param state n))\n",
    "        )\n",
    "    )\n",
    "\n",
    "\n",
    "(mode 1200 3)\n",
    ";; (run mem)\n"
   ]
  },
  {
   "cell_type": "code",
   "execution_count": 23,
   "metadata": {},
   "outputs": [
    {
     "data": {
      "text/plain": [
       "#'day5/doinput"
      ]
     },
     "execution_count": 23,
     "metadata": {},
     "output_type": "execute_result"
    }
   ],
   "source": [
    "(defn doinput [state]\n",
    "    (let [\n",
    "          {:keys [mem input]} state\n",
    "          param1 (param state 1)\n",
    "          mem (assoc mem param1 input)\n",
    "          ]\n",
    "        (update (assoc state :mem mem) :ip +  2))\n",
    "        )\n",
    "    \n"
   ]
  },
  {
   "cell_type": "code",
   "execution_count": 6,
   "metadata": {},
   "outputs": [
    {
     "data": {
      "text/plain": [
       "#'day5/dooutput"
      ]
     },
     "execution_count": 6,
     "metadata": {},
     "output_type": "execute_result"
    }
   ],
   "source": [
    "(defn dooutput [state]\n",
    "    (let [\n",
    "          param1 (paramval state 1)\n",
    "          ]\n",
    "        ;;(println newoutput)\n",
    "        (update (update state :ip + 2)\n",
    "               :output conj param1 ) \n",
    "         \n",
    "         )\n",
    "        \n",
    "        )\n",
    "    "
   ]
  },
  {
   "cell_type": "code",
   "execution_count": 32,
   "metadata": {},
   "outputs": [
    {
     "data": {
      "text/plain": [
       "#'day5/doplus"
      ]
     },
     "execution_count": 32,
     "metadata": {},
     "output_type": "execute_result"
    }
   ],
   "source": [
    "(defn doplus [state]\n",
    "    (let [\n",
    "        param1 (paramval state 1)\n",
    "        param2 (paramval state 2)\n",
    "        target (param state 3)\n",
    "    \n",
    "          mem (assoc (state :mem) target (+ param1 param2))\n",
    "          \n",
    "          ]\n",
    "        ;;(println (str target \",\" param1 \",\" param2))\n",
    "        (update (assoc state :mem mem) :ip + 4)\n",
    "        )\n",
    "    )"
   ]
  },
  {
   "cell_type": "code",
   "execution_count": 25,
   "metadata": {},
   "outputs": [
    {
     "data": {
      "text/plain": [
       "#'day5/domult"
      ]
     },
     "execution_count": 25,
     "metadata": {},
     "output_type": "execute_result"
    }
   ],
   "source": [
    "(defn domult [state]\n",
    "    (let [\n",
    "        param1 (paramval state 1)\n",
    "        param2 (paramval state 2)\n",
    "        target (param state 3)\n",
    "    \n",
    "          mem (assoc (state :mem) target (* param1 param2))\n",
    "          \n",
    "          ]\n",
    "        ;;(println (str target \",\" param1 \",\" param2))\n",
    "        (update (assoc state :mem mem) :ip + 4)\n",
    "        )\n",
    "    )"
   ]
  },
  {
   "cell_type": "code",
   "execution_count": 20,
   "metadata": {},
   "outputs": [
    {
     "data": {
      "text/plain": [
       "#'day5/doequals"
      ]
     },
     "execution_count": 20,
     "metadata": {},
     "output_type": "execute_result"
    }
   ],
   "source": [
    "(defn doequals [state]\n",
    "    (let [\n",
    "        param1 (paramval state 1)\n",
    "        param2 (paramval state 2)\n",
    "        target (param state 3)\n",
    "        targetval (if (= param1 param2) 1 0)   \n",
    "          mem (assoc (state :mem) target targetval)         \n",
    "          ]\n",
    "        ;;(println (str target \",\" param1 \",\" param2))\n",
    "        (update (assoc state :mem mem) :ip + 4)\n",
    "        )\n",
    "    )"
   ]
  },
  {
   "cell_type": "code",
   "execution_count": 26,
   "metadata": {},
   "outputs": [
    {
     "data": {
      "text/plain": [
       "#'day5/doless"
      ]
     },
     "execution_count": 26,
     "metadata": {},
     "output_type": "execute_result"
    }
   ],
   "source": [
    "(defn doless [state]\n",
    "    (let [\n",
    "        param1 (paramval state 1)\n",
    "        param2 (paramval state 2)\n",
    "        target (param state 3)\n",
    "        targetval (if (< param1 param2) 1 0)  \n",
    "        mem (assoc (state :mem) target targetval)\n",
    "          ]\n",
    "        ;;(println (str target \",\" param1 \",\" param2))\n",
    "        (update (assoc state :mem mem) :ip + 4)\n",
    "        )\n",
    "    )"
   ]
  },
  {
   "cell_type": "code",
   "execution_count": 18,
   "metadata": {},
   "outputs": [
    {
     "data": {
      "text/plain": [
       "#'day5/dojumptrue"
      ]
     },
     "execution_count": 18,
     "metadata": {},
     "output_type": "execute_result"
    }
   ],
   "source": [
    "(defn dojumptrue [state]\n",
    "    (let [\n",
    "        param1 (paramval state 1)\n",
    "        param2 (paramval state 2)         \n",
    "          ]\n",
    "    (if (not (zero? param1))\n",
    "        (assoc state :ip param2)     \n",
    "        (update state :ip + 3)\n",
    "        )\n",
    "    ))"
   ]
  },
  {
   "cell_type": "code",
   "execution_count": 12,
   "metadata": {},
   "outputs": [
    {
     "data": {
      "text/plain": [
       "#'day5/dojumpfalse"
      ]
     },
     "execution_count": 12,
     "metadata": {},
     "output_type": "execute_result"
    }
   ],
   "source": [
    "(defn dojumpfalse [state]\n",
    "    (let [\n",
    "    \n",
    "        param1 (paramval state 1)\n",
    "        param2 (paramval state 2)\n",
    "    \n",
    "\n",
    "          \n",
    "          ]\n",
    "    (if  (zero? param1)\n",
    "        (assoc state :ip param2)     \n",
    "        (update state :ip + 3)\n",
    "        )\n",
    "    ))"
   ]
  },
  {
   "cell_type": "code",
   "execution_count": 13,
   "metadata": {},
   "outputs": [
    {
     "data": {
      "text/plain": [
       "#'day5/run"
      ]
     },
     "execution_count": 13,
     "metadata": {},
     "output_type": "execute_result"
    }
   ],
   "source": [
    "\n",
    "\n",
    "(defn step [state] \n",
    "    ;;(println state)\n",
    "    ;;(println pos)\n",
    "        (let [\n",
    "          operation (operation (opcode state))\n",
    "          ]\n",
    "              \n",
    "    (case operation\n",
    "        1 (doplus state)\n",
    "        2 (domult state)\n",
    "        3 (doinput state)\n",
    "        4 (dooutput state)\n",
    "        5 (dojumptrue state)\n",
    "        6 (dojumpfalse state)\n",
    "        7 (doless state)\n",
    "        8 (doequals state)\n",
    "        99 (assoc state :halted true)\n",
    "        (throw \n",
    "         (Exception. \n",
    "          (str \"unknown op \" operation))))))\n",
    "\n",
    "(defn run [mem input]\n",
    "    \"Run the progam in mem with input and return a sequence of all outputs\"\n",
    "   (:output (last (take-while #(not (:halted %))\n",
    "     (iterate step {:mem mem :output [] :input input :ip 0 :halted false})))))\n",
    "     \n"
   ]
  },
  {
   "cell_type": "code",
   "execution_count": 30,
   "metadata": {
    "scrolled": false
   },
   "outputs": [
    {
     "data": {
      "text/plain": [
       "[0 0 0 0 0 0 0 0 0 13978427]"
      ]
     },
     "execution_count": 30,
     "metadata": {},
     "output_type": "execute_result"
    }
   ],
   "source": [
    "(run mem 1)"
   ]
  },
  {
   "cell_type": "code",
   "execution_count": 28,
   "metadata": {
    "scrolled": true
   },
   "outputs": [
    {
     "data": {
      "text/plain": [
       "13978427"
      ]
     },
     "execution_count": 28,
     "metadata": {},
     "output_type": "execute_result"
    }
   ],
   "source": [
    "(last (run mem 1))"
   ]
  },
  {
   "cell_type": "code",
   "execution_count": 34,
   "metadata": {
    "scrolled": true
   },
   "outputs": [
    {
     "data": {
      "text/plain": [
       "11189491"
      ]
     },
     "execution_count": 34,
     "metadata": {},
     "output_type": "execute_result"
    }
   ],
   "source": [
    "(last (run mem 5))"
   ]
  }
 ],
 "metadata": {
  "kernelspec": {
   "display_name": "Clojure (clojupyter-0.2.3)",
   "language": "clojure",
   "name": "clojupyter-0.2.3"
  },
  "language_info": {
   "file_extension": ".clj",
   "mimetype": "text/x-clojure",
   "name": "clojure",
   "version": "1.10.1"
  }
 },
 "nbformat": 4,
 "nbformat_minor": 2
}
