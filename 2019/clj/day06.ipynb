{
 "cells": [
  {
   "cell_type": "code",
   "execution_count": 140,
   "metadata": {},
   "outputs": [
    {
     "data": {
      "text/plain": [
       "nil"
      ]
     },
     "execution_count": 140,
     "metadata": {},
     "output_type": "execute_result"
    }
   ],
   "source": [
    "(ns day06\n",
    "   (:require [clojure.string :as str]\n",
    "              [clojure.set :as s]))\n",
    "\n"
   ]
  },
  {
   "cell_type": "code",
   "execution_count": 75,
   "metadata": {},
   "outputs": [
    {
     "data": {
      "text/plain": [
       "(\"CYJ)BQR\" \"KX8)YWJ\" \"45Z)R38\" \"N95)Z8Z\" \"KG2)1MS\")"
      ]
     },
     "execution_count": 75,
     "metadata": {},
     "output_type": "execute_result"
    }
   ],
   "source": [
    "(defn data []\n",
    "    (-> (slurp \"data/day06.txt\")\n",
    "        (str/split-lines)))\n",
    "(take 5 (data))\n"
   ]
  },
  {
   "cell_type": "code",
   "execution_count": 76,
   "metadata": {},
   "outputs": [
    {
     "data": {
      "text/plain": [
       "[\"COM)B\" \"B)C\" \"C)D\" \"D)E\" \"E)F\" \"B)G\" \"G)H\" \"D)I\" \"E)J\" \"J)K\" \"K)L\"]"
      ]
     },
     "execution_count": 76,
     "metadata": {},
     "output_type": "execute_result"
    }
   ],
   "source": [
    "(def testdata (str/split-lines \"COM)B\n",
    "B)C\n",
    "C)D\n",
    "D)E\n",
    "E)F\n",
    "B)G\n",
    "G)H\n",
    "D)I\n",
    "E)J\n",
    "J)K\n",
    "K)L\"))\n",
    "testdata"
   ]
  },
  {
   "cell_type": "code",
   "execution_count": 151,
   "metadata": {},
   "outputs": [
    {
     "data": {
      "text/plain": [
       "#'day06/orbits"
      ]
     },
     "execution_count": 151,
     "metadata": {},
     "output_type": "execute_result"
    }
   ],
   "source": [
    "(defn addorbit [orbits spec]\n",
    "          (let [{l 0 r 1} (str/split spec #\"\\)\")]\n",
    "              (assoc orbits r l)))\n",
    "    \n",
    "\n",
    "(defn orbits [input]\n",
    "    (assoc (reduce addorbit {} input) \"COM\" nil))\n"
   ]
  },
  {
   "cell_type": "code",
   "execution_count": 152,
   "metadata": {},
   "outputs": [
    {
     "data": {
      "text/plain": [
       "{\"K\" \"J\", \"L\" \"K\", \"G\" \"B\", \"J\" \"E\", \"H\" \"G\", \"COM\" nil, \"E\" \"D\", \"C\" \"B\", \"F\" \"E\", \"B\" \"COM\", \"I\" \"D\", \"D\" \"C\"}"
      ]
     },
     "execution_count": 152,
     "metadata": {},
     "output_type": "execute_result"
    }
   ],
   "source": [
    "(orbits testdata)"
   ]
  },
  {
   "cell_type": "code",
   "execution_count": 154,
   "metadata": {},
   "outputs": [
    {
     "data": {
      "text/plain": [
       "#'day06/path"
      ]
     },
     "execution_count": 154,
     "metadata": {},
     "output_type": "execute_result"
    }
   ],
   "source": [
    "\n",
    "(defn path [pt id ]\n",
    "    (take-while  identity (iterate \n",
    "    #(pt %) id)))\n",
    "\n",
    "\n",
    "    "
   ]
  },
  {
   "cell_type": "code",
   "execution_count": 156,
   "metadata": {},
   "outputs": [
    {
     "data": {
      "text/plain": [
       "(\"K\" \"J\" \"E\" \"D\" \"C\" \"B\" \"COM\")"
      ]
     },
     "execution_count": 156,
     "metadata": {},
     "output_type": "execute_result"
    }
   ],
   "source": [
    "(path pt \"K\")"
   ]
  },
  {
   "cell_type": "code",
   "execution_count": 174,
   "metadata": {},
   "outputs": [
    {
     "data": {
      "text/plain": [
       "42"
      ]
     },
     "execution_count": 174,
     "metadata": {},
     "output_type": "execute_result"
    }
   ],
   "source": [
    "(def pt (process testdata))\n",
    "(reduce + (map #(dec (count (path pt (first %)))) pt))\n",
    "\n"
   ]
  },
  {
   "cell_type": "code",
   "execution_count": 189,
   "metadata": {},
   "outputs": [
    {
     "data": {
      "text/plain": [
       "292387"
      ]
     },
     "execution_count": 189,
     "metadata": {},
     "output_type": "execute_result"
    }
   ],
   "source": [
    "(def pt (process (data)))\n",
    "(reduce + (map #(dec (count (path pt (first %)))) pt))\n",
    "\n"
   ]
  },
  {
   "cell_type": "code",
   "execution_count": 190,
   "metadata": {},
   "outputs": [
    {
     "data": {
      "text/plain": [
       "433"
      ]
     },
     "execution_count": 190,
     "metadata": {},
     "output_type": "execute_result"
    }
   ],
   "source": [
    "(-(count (filter #(= 1 (last %)) (frequencies (into (path pt \"YOU\") (path pt \"SAN\"))))) 2)\n"
   ]
  }
 ],
 "metadata": {
  "kernelspec": {
   "display_name": "Clojure (clojupyter-0.2.3)",
   "language": "clojure",
   "name": "clojupyter-0.2.3"
  },
  "language_info": {
   "file_extension": ".clj",
   "mimetype": "text/x-clojure",
   "name": "clojure",
   "version": "1.10.1"
  }
 },
 "nbformat": 4,
 "nbformat_minor": 2
}
