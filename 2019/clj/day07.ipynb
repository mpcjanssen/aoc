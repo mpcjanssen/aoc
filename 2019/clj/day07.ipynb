{
 "cells": [
  {
   "cell_type": "code",
   "execution_count": 1,
   "metadata": {},
   "outputs": [
    {
     "data": {
      "text/plain": [
       "{[org.clojure/math.combinatorics \"0.1.6\"] #{[org.clojure/clojure \"1.7.0\"]}, [org.clojure/clojure \"1.7.0\"] nil}"
      ]
     },
     "execution_count": 1,
     "metadata": {},
     "output_type": "execute_result"
    }
   ],
   "source": [
    "(require '[clojupyter.misc.helper :as helper])\n",
    "(helper/add-dependencies\n",
    "'[org.clojure/math.combinatorics \"0.1.6\"]) "
   ]
  },
  {
   "cell_type": "code",
   "execution_count": 2,
   "metadata": {},
   "outputs": [
    {
     "data": {
      "text/plain": [
       "#namespace[day7]"
      ]
     },
     "execution_count": 2,
     "metadata": {},
     "output_type": "execute_result"
    }
   ],
   "source": [
    "(ns day7)\n",
    "    (require  '[clojure.math.combinatorics :as combo])\n",
    "*ns*"
   ]
  },
  {
   "cell_type": "code",
   "execution_count": 3,
   "metadata": {},
   "outputs": [
    {
     "data": {
      "text/plain": [
       "#'day7/mem"
      ]
     },
     "execution_count": 3,
     "metadata": {},
     "output_type": "execute_result"
    }
   ],
   "source": [
    "(defn mem []\n",
    "    (mapv read-string (-> (slurp \"data/day07.txt\")\n",
    "(clojure.string/split #\",\"))))\n",
    ";;mem\n"
   ]
  },
  {
   "cell_type": "code",
   "execution_count": 4,
   "metadata": {},
   "outputs": [
    {
     "data": {
      "text/plain": [
       "100"
      ]
     },
     "execution_count": 4,
     "metadata": {},
     "output_type": "execute_result"
    }
   ],
   "source": [
    "(defn pow [x n]\n",
    "    (apply * (repeat n x)))\n",
    "\n",
    " (pow 10 2)"
   ]
  },
  {
   "cell_type": "code",
   "execution_count": 5,
   "metadata": {},
   "outputs": [
    {
     "data": {
      "text/plain": [
       ":pos"
      ]
     },
     "execution_count": 5,
     "metadata": {},
     "output_type": "execute_result"
    }
   ],
   "source": [
    "(defn opcode [{:keys [mem ip]}]\n",
    "    (mem ip))\n",
    "\n",
    "(defn param [state n]\n",
    "    (let [{:keys [mem ip]} state]\n",
    "    (mem (+ ip n))))\n",
    "\n",
    "(defn operation [opcode]\n",
    "           (mod opcode 100))\n",
    "\n",
    "(defn mode [opcode n] \n",
    "    (if ( = 0 (mod \n",
    "     (quot opcode \n",
    "           (pow 10 (inc n)))\n",
    "     10)) :pos :imm))\n",
    "    \n",
    "\n",
    "(defn paramval [state n]\n",
    "    (if (= :imm (mode (opcode state) n))\n",
    "        (param state n)\n",
    "        ((state :mem) (param state n))\n",
    "        )\n",
    "    )\n",
    "\n",
    "\n",
    "(mode 1200 3)\n",
    ";; (run mem)\n"
   ]
  },
  {
   "cell_type": "code",
   "execution_count": 6,
   "metadata": {},
   "outputs": [
    {
     "data": {
      "text/plain": [
       "#'day7/doinput"
      ]
     },
     "execution_count": 6,
     "metadata": {},
     "output_type": "execute_result"
    }
   ],
   "source": [
    "(defn doinput [state]\n",
    "    (if (not (seq (state :input)))\n",
    "    (assoc state :yield true)\n",
    "    (let [\n",
    "          {:keys [mem input]} state\n",
    "          param1 (param state 1)\n",
    "          mem (assoc mem param1 (first input))\n",
    "          ]\n",
    "        (update (update (assoc state :mem mem :yield false) \n",
    "                        :ip +  2)\n",
    "                :input #(drop 1 %)))\n",
    "        ))\n",
    "    \n"
   ]
  },
  {
   "cell_type": "code",
   "execution_count": 7,
   "metadata": {},
   "outputs": [
    {
     "data": {
      "text/plain": [
       "#'day7/dooutput"
      ]
     },
     "execution_count": 7,
     "metadata": {},
     "output_type": "execute_result"
    }
   ],
   "source": [
    "(defn dooutput [state]\n",
    "    (let [\n",
    "          param1 (paramval state 1)\n",
    "          ]\n",
    "        ;;(println newoutput)\n",
    "        (update (update state :ip + 2)\n",
    "               :output conj param1 ) \n",
    "         \n",
    "         )\n",
    "        \n",
    "        )\n",
    "    "
   ]
  },
  {
   "cell_type": "code",
   "execution_count": 8,
   "metadata": {},
   "outputs": [
    {
     "data": {
      "text/plain": [
       "#'day7/doplus"
      ]
     },
     "execution_count": 8,
     "metadata": {},
     "output_type": "execute_result"
    }
   ],
   "source": [
    "(defn doplus [state]\n",
    "    (let [\n",
    "        param1 (paramval state 1)\n",
    "        param2 (paramval state 2)\n",
    "        target (param state 3)\n",
    "    \n",
    "          mem (assoc (state :mem) target (+ param1 param2))\n",
    "          \n",
    "          ]\n",
    "        ;;(println (str target \",\" param1 \",\" param2))\n",
    "        (update (assoc state :mem mem) :ip + 4)\n",
    "        )\n",
    "    )"
   ]
  },
  {
   "cell_type": "code",
   "execution_count": 9,
   "metadata": {},
   "outputs": [
    {
     "data": {
      "text/plain": [
       "#'day7/domult"
      ]
     },
     "execution_count": 9,
     "metadata": {},
     "output_type": "execute_result"
    }
   ],
   "source": [
    "(defn domult [state]\n",
    "    (let [\n",
    "        param1 (paramval state 1)\n",
    "        param2 (paramval state 2)\n",
    "        target (param state 3)\n",
    "    \n",
    "          mem (assoc (state :mem) target (* param1 param2))\n",
    "          \n",
    "          ]\n",
    "        ;;(println (str target \",\" param1 \",\" param2))\n",
    "        (update (assoc state :mem mem) :ip + 4)\n",
    "        )\n",
    "    )"
   ]
  },
  {
   "cell_type": "code",
   "execution_count": 10,
   "metadata": {},
   "outputs": [
    {
     "data": {
      "text/plain": [
       "#'day7/doequals"
      ]
     },
     "execution_count": 10,
     "metadata": {},
     "output_type": "execute_result"
    }
   ],
   "source": [
    "(defn doequals [state]\n",
    "    (let [\n",
    "        param1 (paramval state 1)\n",
    "        param2 (paramval state 2)\n",
    "        target (param state 3)\n",
    "        targetval (if (= param1 param2) 1 0)   \n",
    "          mem (assoc (state :mem) target targetval)         \n",
    "          ]\n",
    "        ;;(println (str target \",\" param1 \",\" param2))\n",
    "        (update (assoc state :mem mem) :ip + 4)\n",
    "        )\n",
    "    )"
   ]
  },
  {
   "cell_type": "code",
   "execution_count": 11,
   "metadata": {},
   "outputs": [
    {
     "data": {
      "text/plain": [
       "#'day7/doless"
      ]
     },
     "execution_count": 11,
     "metadata": {},
     "output_type": "execute_result"
    }
   ],
   "source": [
    "(defn doless [state]\n",
    "    (let [\n",
    "        param1 (paramval state 1)\n",
    "        param2 (paramval state 2)\n",
    "        target (param state 3)\n",
    "        targetval (if (< param1 param2) 1 0)  \n",
    "        mem (assoc (state :mem) target targetval)\n",
    "          ]\n",
    "        ;;(println (str target \",\" param1 \",\" param2))\n",
    "        (update (assoc state :mem mem) :ip + 4)\n",
    "        )\n",
    "    )"
   ]
  },
  {
   "cell_type": "code",
   "execution_count": 12,
   "metadata": {},
   "outputs": [
    {
     "data": {
      "text/plain": [
       "#'day7/dojumptrue"
      ]
     },
     "execution_count": 12,
     "metadata": {},
     "output_type": "execute_result"
    }
   ],
   "source": [
    "(defn dojumptrue [state]\n",
    "    (let [\n",
    "        param1 (paramval state 1)\n",
    "        param2 (paramval state 2)         \n",
    "          ]\n",
    "    (if (not (zero? param1))\n",
    "        (assoc state :ip param2)     \n",
    "        (update state :ip + 3)\n",
    "        )\n",
    "    ))"
   ]
  },
  {
   "cell_type": "code",
   "execution_count": 13,
   "metadata": {},
   "outputs": [
    {
     "data": {
      "text/plain": [
       "#'day7/dojumpfalse"
      ]
     },
     "execution_count": 13,
     "metadata": {},
     "output_type": "execute_result"
    }
   ],
   "source": [
    "(defn dojumpfalse [state]\n",
    "    (let [\n",
    "    \n",
    "        param1 (paramval state 1)\n",
    "        param2 (paramval state 2)\n",
    "    \n",
    "\n",
    "          \n",
    "          ]\n",
    "    (if  (zero? param1)\n",
    "        (assoc state :ip param2)     \n",
    "        (update state :ip + 3)\n",
    "        )\n",
    "    ))"
   ]
  },
  {
   "cell_type": "code",
   "execution_count": 14,
   "metadata": {},
   "outputs": [
    {
     "data": {
      "text/plain": [
       "#'day7/step"
      ]
     },
     "execution_count": 14,
     "metadata": {},
     "output_type": "execute_result"
    }
   ],
   "source": [
    "\n",
    "\n",
    "(defn step [state] \n",
    "    ;;(println state)\n",
    "    ;;(println pos)\n",
    "        (let [\n",
    "          operation (operation (opcode state))\n",
    "          ]\n",
    "              \n",
    "    (case operation\n",
    "        1 (doplus state)\n",
    "        2 (domult state)\n",
    "        3 (doinput state)\n",
    "        4 (dooutput state)\n",
    "        5 (dojumptrue state)\n",
    "        6 (dojumpfalse state)\n",
    "        7 (doless state)\n",
    "        8 (doequals state)\n",
    "        99 (assoc state :halted true)\n",
    "        (throw \n",
    "         (Exception. \n",
    "          (str \"unknown op \" operation))))))\n",
    "     \n"
   ]
  },
  {
   "cell_type": "code",
   "execution_count": 15,
   "metadata": {},
   "outputs": [
    {
     "data": {
      "text/plain": [
       "#'day7/process-input"
      ]
     },
     "execution_count": 15,
     "metadata": {},
     "output_type": "execute_result"
    }
   ],
   "source": [
    "(defn process-input [id program]\n",
    "   ;(println (str \"xxxx \" id))\n",
    "    (let [res (step program)]\n",
    "        \n",
    "  (if  (or (:yield res) (:halted res))\n",
    "     res\n",
    "      (recur id res)\n",
    "      )))\n"
   ]
  },
  {
   "cell_type": "code",
   "execution_count": 16,
   "metadata": {},
   "outputs": [
    {
     "data": {
      "text/plain": [
       "#'day7/dump-state"
      ]
     },
     "execution_count": 16,
     "metadata": {},
     "output_type": "execute_result"
    }
   ],
   "source": [
    "(defn init-amps [phases]\n",
    "\n",
    "     (reduce  \n",
    "      #(assoc \n",
    "        %1 %2 \n",
    "              \n",
    "        { :mem (mem )\n",
    "         :input (if (= %2 (first phases)) [%2 0] [%2])\n",
    "                \n",
    "         :output [] :ip 0 :halted false :yield false} ) \n",
    "      {} phases))\n",
    "    \n",
    "    \n",
    " \n",
    "     \n",
    "(defn dump-state [{:keys [halted newout input output]}]\n",
    "    (\n",
    "     \n",
    "     \"halted: \" halted\n",
    "         \", newout: \" newout\n",
    "         \", input: \" input\n",
    "         \", output: \" output\n",
    "         ))\n",
    "\n",
    "\n",
    ";;(init-amps [1 2])    \n",
    "     \n",
    "  \n"
   ]
  },
  {
   "cell_type": "code",
   "execution_count": 17,
   "metadata": {},
   "outputs": [
    {
     "data": {
      "text/plain": [
       "#'day7/runfororder"
      ]
     },
     "execution_count": 17,
     "metadata": {},
     "output_type": "execute_result"
    }
   ],
   "source": [
    " (defn loop-step [[amps ctxts]]\n",
    "    \n",
    "     (let [\n",
    "           [c n] (first ctxts)\n",
    "           ;;_ (println c)\n",
    "           \n",
    "           amp (amps c)\n",
    "           ;;_ (println (amp :input))\n",
    "           \n",
    "           newamp (amps n)\n",
    "           res  (process-input c (assoc amp :output []))\n",
    "           output (last (res :output))\n",
    "           ;;_ (println (res :output))\n",
    "           ;;clearout (assoc res :output [] :yield false)\n",
    "           nextamp  (update newamp \n",
    "                          :input  conj output)]\n",
    "           \n",
    "         ;;(println output)\n",
    "            [(assoc amps n nextamp  c res)           \n",
    "           \n",
    "         (drop 1 ctxts)]\n",
    "         )\n",
    "     )\n",
    "\n",
    "\n",
    "(defn run-loop [order]\n",
    "     (let \n",
    "         [\n",
    "          amps (init-amps order)\n",
    "          \n",
    "          ctxts (partition 2 1 (cycle order))\n",
    "          ]\n",
    "         (iterate loop-step [amps ctxts])))\n",
    "         \n",
    "         \n",
    "(defn runfororder [order]\n",
    " (last (:output ((first (loop-step (last (take-while \n",
    " #(not (:halted ((first %1) (last order))))\n",
    " (run-loop order))))) (last order))))\n",
    "    )\n",
    "\n",
    ";;(first \n",
    ";; (drop 6\n",
    ";; (run-loop [5 6 7 8 9])))\n",
    "\n",
    "  \n",
    "\n"
   ]
  },
  {
   "cell_type": "code",
   "execution_count": 18,
   "metadata": {
    "scrolled": false
   },
   "outputs": [
    {
     "data": {
      "text/plain": [
       "359142"
      ]
     },
     "execution_count": 18,
     "metadata": {},
     "output_type": "execute_result"
    }
   ],
   "source": [
    " (apply max (map runfororder (combo/permutations (range  5))))\n",
    "\n"
   ]
  },
  {
   "cell_type": "code",
   "execution_count": 19,
   "metadata": {
    "scrolled": false
   },
   "outputs": [
    {
     "data": {
      "text/plain": [
       "4374895"
      ]
     },
     "execution_count": 19,
     "metadata": {},
     "output_type": "execute_result"
    }
   ],
   "source": [
    " (apply max (map runfororder (combo/permutations (range 5 10))))\n",
    "\n"
   ]
  }
 ],
 "metadata": {
  "kernelspec": {
   "display_name": "Clojure (clojupyter-0.2.3)",
   "language": "clojure",
   "name": "clojupyter-0.2.3"
  },
  "language_info": {
   "file_extension": ".clj",
   "mimetype": "text/x-clojure",
   "name": "clojure",
   "version": "1.10.1"
  }
 },
 "nbformat": 4,
 "nbformat_minor": 2
}
