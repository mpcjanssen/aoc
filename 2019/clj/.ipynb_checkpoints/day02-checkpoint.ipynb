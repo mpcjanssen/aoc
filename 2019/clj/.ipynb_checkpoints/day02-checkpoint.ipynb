{
 "cells": [
  {
   "cell_type": "code",
   "execution_count": 41,
   "metadata": {},
   "outputs": [
    {
     "data": {
      "text/plain": [
       "[1 0 0 3 1 1 2 3 1 3 4 3 1 5 0 3 2 13 1 19 1 19 10 23 1 23 13 27 1 6 27 31 1 9 31 35 2 10 35 39 1 39 6 43 1 6 43 47 2 13 47 51 1 51 6 55 2 6 55 59 2 59 6 63 2 63 13 67 1 5 67 71 2 9 71 75 1 5 75 79 1 5 79 83 1 83 6 87 1 87 6 91 1 91 5 95 2 10 95 99 1 5 99 103 1 10 103 107 1 107 9 111 2 111 10 115 1 115 9 119 1 13 119 123 1 123 9 127 1 5 127 131 2 13 131 135 1 9 135 139 1 2 139 143 1 13 143 0 99 2 0 14 0]"
      ]
     },
     "execution_count": 41,
     "metadata": {},
     "output_type": "execute_result"
    }
   ],
   "source": [
    " (set! *warn-on-reflection* true)\n",
    "(def mem\n",
    "    (into [] (map read-string (-> (slurp \"../input/day02.txt\")\n",
    "(clojure.string/split #\",\")))))\n",
    "mem"
   ]
  },
  {
   "cell_type": "code",
   "execution_count": 42,
   "metadata": {
    "scrolled": true
   },
   "outputs": [
    {
     "data": {
      "text/plain": [
       "#'user/run"
      ]
     },
     "execution_count": 42,
     "metadata": {},
     "output_type": "execute_result"
    }
   ],
   "source": [
    "(defn opcode [state]\n",
    "    ((state :mem) (state :ip)))\n",
    "\n",
    "(defn step [state] \n",
    "    ;; (println state)\n",
    "    ;;(println pos)\n",
    "    (if (= (opcode state) 99)\n",
    "        (assoc state :halted true)\n",
    "        (let [\n",
    "          opcodes {1 + 2 *}\n",
    "          oc (opcode state)\n",
    "          mem (state :mem)\n",
    "          ip (state :ip)\n",
    "          arg1(mem (mem (+ ip 1)))\n",
    "          arg2 (mem (mem (+ ip 2)))\n",
    "          target (mem (+ ip 3))]\n",
    "        {:mem (assoc mem target ((opcodes oc) arg1 arg2)) :ip (+ ip 4) :halted false} )))\n",
    "\n",
    "(defn run [mem]\n",
    "   (:mem (last (take-while #(not (:halted %))\n",
    "     (iterate step {:mem mem :ip 0 :halted false})))))"
   ]
  },
  {
   "cell_type": "code",
   "execution_count": 43,
   "metadata": {},
   "outputs": [
    {
     "data": {
      "text/plain": [
       "#'user/run-program"
      ]
     },
     "execution_count": 43,
     "metadata": {},
     "output_type": "execute_result"
    }
   ],
   "source": [
    "(defn run-program [mem noun verb]\n",
    "    (run (assoc (assoc mem 1 noun) 2 verb)))\n"
   ]
  },
  {
   "cell_type": "code",
   "execution_count": 44,
   "metadata": {},
   "outputs": [
    {
     "name": "stdout",
     "output_type": "stream",
     "text": [
      "\"Elapsed time: 0.7366 msecs\"\r\n"
     ]
    },
    {
     "data": {
      "text/plain": [
       "[7210630 12 2 2 1 1 2 3 1 3 4 3 1 5 0 3 2 13 1 60 1 19 10 64 1 23 13 69 1 6 27 71 1 9 31 74 2 10 35 296 1 39 6 298 1 6 43 300 2 13 47 1500 1 51 6 1502 2 6 55 3004 2 59 6 6008 2 63 13 30040 1 5 67 30041 2 9 71 90123 1 5 75 90124 1 5 79 90125 1 83 6 90127 1 87 6 90129 1 91 5 90130 2 10 95 360520 1 5 99 360521 1 10 103 360525 1 107 9 360528 2 111 10 1442112 1 115 9 1442115 1 13 119 1442120 1 123 9 1442123 1 5 127 1442124 2 13 131 7210620 1 9 135 7210623 1 2 139 7210625 1 13 143 0 99 2 0 14 0]"
      ]
     },
     "execution_count": 44,
     "metadata": {},
     "output_type": "execute_result"
    }
   ],
   "source": [
    "(time (run-program mem 12 2))"
   ]
  },
  {
   "cell_type": "code",
   "execution_count": 45,
   "metadata": {},
   "outputs": [
    {
     "data": {
      "text/plain": [
       "#'user/solve"
      ]
     },
     "execution_count": 45,
     "metadata": {},
     "output_type": "execute_result"
    }
   ],
   "source": [
    "(defn solve [z]\n",
    "(first (for [ noun (range 100) verb (range 100)\n",
    "     :let [endstate (run-program mem noun verb)]\n",
    "     :when (= (endstate 0) z)]  \n",
    "                 {:noun noun :verb verb})))\n",
    "   "
   ]
  },
  {
   "cell_type": "code",
   "execution_count": 46,
   "metadata": {},
   "outputs": [
    {
     "data": {
      "text/plain": [
       "#'user/solution"
      ]
     },
     "execution_count": 46,
     "metadata": {},
     "output_type": "execute_result"
    }
   ],
   "source": [
    "\n",
    "(def solution (solve 19690720))\n"
   ]
  },
  {
   "cell_type": "code",
   "execution_count": 47,
   "metadata": {},
   "outputs": [
    {
     "data": {
      "text/plain": [
       "[19690720 38 92 2 1 1 2 3 1 3 4 3 1 5 0 3 2 13 1 190 1 19 10 194 1 23 13 199 1 6 27 201 1 9 31 204 2 10 35 816 1 39 6 818 1 6 43 820 2 13 47 4100 1 51 6 4102 2 6 55 8204 2 59 6 16408 2 63 13 82040 1 5 67 82041 2 9 71 246123 1 5 75 246124 1 5 79 246125 1 83 6 246127 1 87 6 246129 1 91 5 246130 2 10 95 984520 1 5 99 984521 1 10 103 984525 1 107 9 984528 2 111 10 3938112 1 115 9 3938115 1 13 119 3938120 1 123 9 3938123 1 5 127 3938124 2 13 131 19690620 1 9 135 19690623 1 2 139 19690715 1 13 143 0 99 2 0 14 0]"
      ]
     },
     "execution_count": 47,
     "metadata": {},
     "output_type": "execute_result"
    }
   ],
   "source": [
    "(run-program mem 38 92)"
   ]
  },
  {
   "cell_type": "code",
   "execution_count": 48,
   "metadata": {},
   "outputs": [
    {
     "data": {
      "text/plain": [
       "3892"
      ]
     },
     "execution_count": 48,
     "metadata": {},
     "output_type": "execute_result"
    }
   ],
   "source": [
    "(+ (* 100 (solution :noun))\n",
    "   (solution :verb))\n",
    "\n",
    "\n",
    "\n"
   ]
  },
  {
   "cell_type": "code",
   "execution_count": null,
   "metadata": {},
   "outputs": [],
   "source": []
  },
  {
   "cell_type": "code",
   "execution_count": null,
   "metadata": {},
   "outputs": [],
   "source": []
  }
 ],
 "metadata": {
  "kernelspec": {
   "display_name": "Clojure (clojupyter-0.3.2)",
   "language": "clojure",
   "name": "clojupyter-0.3.2"
  },
  "language_info": {
   "file_extension": ".clj",
   "mimetype": "text/x-clojure",
   "name": "clojure",
   "version": "1.10.1"
  }
 },
 "nbformat": 4,
 "nbformat_minor": 2
}
