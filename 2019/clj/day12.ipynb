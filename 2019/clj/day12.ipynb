{
 "cells": [
  {
   "cell_type": "code",
   "execution_count": 14,
   "metadata": {},
   "outputs": [
    {
     "data": {
      "text/plain": [
       "#'user/test2moons"
      ]
     },
     "execution_count": 14,
     "metadata": {},
     "output_type": "execute_result"
    }
   ],
   "source": [
    "(def input \"<x=3, y=15, z=8>\n",
    "<x=5, y=-1, z=-2>\n",
    "<x=-10, y=8, z=2>\n",
    "<x=8, y=4, z=-5>\")\n",
    "\n",
    "(defrecord Moon [p v])\n",
    "\n",
    "(def moons \n",
    "    [\n",
    "      {:p [3 15 8] :v [0 0 0]}      \n",
    "      {:p [5 -1 -2] :v [0 0 0]}      \n",
    "      {:p [-10 8 2] :v [0 0 0]}      \n",
    "      {:p [8 4 -5] :v [0 0 0]}                \n",
    "            \n",
    "    ])\n",
    "\n",
    "(def rmoons \n",
    "    [\n",
    "      (Moon. [3 15 8] [0 0 0])     \n",
    "      (Moon. [5 -1 -2]  [0 0 0])  \n",
    "      (Moon. [-10 8 2]  [0 0 0])    \n",
    "      (Moon. [8 4 -5]  [0 0 0])                \n",
    "            \n",
    "    ])\n",
    "\n",
    "\n",
    "(def testinput \"<x=-1, y=0, z=2>\n",
    "<x=2, y=-10, z=-7>\n",
    "<x=4, y=-8, z=8>\n",
    "<x=3, y=5, z=-1>\n",
    "\")\n",
    "\n",
    "(def testmoons \n",
    "    [\n",
    "      {:p [-1 0 2] :v [0 0 0]}      \n",
    "      {:p [2 -10 -7] :v [0 0 0]}      \n",
    "      {:p [4 -8 8] :v [0 0 0]}      \n",
    "      {:p [3 5 -1] :v [0 0 0]}                \n",
    "            \n",
    "    ])\n",
    "\n",
    "(def test2 \"<x=-8, y=-10, z=0>\n",
    "<x=5, y=5, z=10>\n",
    "<x=2, y=-7, z=3>\n",
    "<x=9, y=-8, z=-3>\n",
    "\")\n",
    "\n",
    "(def test2moons \n",
    "    [\n",
    "      {:p [-8 -10 0] :v [0 0 0]}      \n",
    "      {:p [5 5 10] :v [0 0 0]}      \n",
    "      {:p [2 -7 3] :v [0 0 0]}      \n",
    "      {:p [9 -8 -3] :v [0 0 0]}                \n",
    "            \n",
    "    ])\n"
   ]
  },
  {
   "cell_type": "code",
   "execution_count": 15,
   "metadata": {},
   "outputs": [
    {
     "data": {
      "text/plain": [
       "(0 1 -1)"
      ]
     },
     "execution_count": 15,
     "metadata": {},
     "output_type": "execute_result"
    }
   ],
   "source": [
    "(defn dv-ax [[c1 c2]]\n",
    "    (cond\n",
    "        (< c1 c2) 1\n",
    "        (= c1 c2) 0\n",
    "        (> c1 c2) -1))\n",
    "\n",
    "\n",
    "(defn dv [p1 p2]\n",
    "    (map\n",
    "     #(dv-ax %)\n",
    "    \n",
    "    (map vector p1 p2 )\n",
    "    ))\n",
    "\n",
    "\n",
    "(dv [6 2 5] [6 3 2])\n"
   ]
  },
  {
   "cell_type": "code",
   "execution_count": 16,
   "metadata": {},
   "outputs": [
    {
     "data": {
      "text/plain": [
       "(0 4 7)"
      ]
     },
     "execution_count": 16,
     "metadata": {},
     "output_type": "execute_result"
    }
   ],
   "source": [
    "(defn addp [p1 p2]\n",
    "    (mapv #(+ (first %) (last %)) (map vector p1 p2)\n",
    "    ))\n",
    "\n",
    "(map + [1 1 5] [-1 3 2])\n",
    "\n"
   ]
  },
  {
   "cell_type": "code",
   "execution_count": 17,
   "metadata": {},
   "outputs": [
    {
     "data": {
      "text/plain": [
       "#'user/newv"
      ]
     },
     "execution_count": 17,
     "metadata": {},
     "output_type": "execute_result"
    }
   ],
   "source": [
    "(defn newv [moon all] \n",
    "    (let \n",
    "        [\n",
    "         dvs (mapv #(dv (:p moon) (:p %)) all)\n",
    "         ]\n",
    "        (reduce  #(mapv + %1 %2 ) (:v moon) dvs)\n",
    "))"
   ]
  },
  {
   "cell_type": "code",
   "execution_count": 18,
   "metadata": {},
   "outputs": [
    {
     "data": {
      "text/plain": [
       "#'user/dopos"
      ]
     },
     "execution_count": 18,
     "metadata": {},
     "output_type": "execute_result"
    }
   ],
   "source": [
    "(defn dograv [all]\n",
    "    (mapv #(assoc % :v (newv % all)) all)\n",
    "         )\n",
    "         \n",
    "(defn dopos [all]\n",
    "    (mapv \n",
    "     #(assoc % :p (addp (:p %) (:v %)) )\n",
    "     all\n",
    "    ))"
   ]
  },
  {
   "cell_type": "code",
   "execution_count": 19,
   "metadata": {},
   "outputs": [
    {
     "data": {
      "text/plain": [
       "#'user/step"
      ]
     },
     "execution_count": 19,
     "metadata": {},
     "output_type": "execute_result"
    }
   ],
   "source": [
    "(defn step [all]\n",
    "\n",
    "(dopos (dograv all)))\n",
    "    "
   ]
  },
  {
   "cell_type": "code",
   "execution_count": 20,
   "metadata": {},
   "outputs": [
    {
     "data": {
      "text/plain": [
       "#'user/step2"
      ]
     },
     "execution_count": 20,
     "metadata": {},
     "output_type": "execute_result"
    }
   ],
   "source": [
    "(defn step2 [[n all]]\n",
    "\n",
    "[(inc n) (dopos (dograv all))])\n",
    "    "
   ]
  },
  {
   "cell_type": "code",
   "execution_count": 21,
   "metadata": {},
   "outputs": [
    {
     "data": {
      "text/plain": [
       "[#user.Moon{:p [-56 -6 17], :v [-17 -12 10]} #user.Moon{:p [56 -2 31], :v [2 8 3]} #user.Moon{:p [-14 -42 18], :v [15 0 -14]} #user.Moon{:p [20 76 -63], :v [0 4 1]}]"
      ]
     },
     "execution_count": 21,
     "metadata": {},
     "output_type": "execute_result"
    }
   ],
   "source": [
    "(first (drop 1000 (iterate step rmoons)))\n",
    "\n",
    "\n"
   ]
  },
  {
   "cell_type": "code",
   "execution_count": 22,
   "metadata": {},
   "outputs": [
    {
     "data": {
      "text/plain": [
       "#'user/energy"
      ]
     },
     "execution_count": 22,
     "metadata": {},
     "output_type": "execute_result"
    }
   ],
   "source": [
    "(defn energy [p]\n",
    "    (reduce #(+ %1 (Math/abs %2)) 0 p))\n"
   ]
  },
  {
   "cell_type": "code",
   "execution_count": 23,
   "metadata": {},
   "outputs": [
    {
     "data": {
      "text/plain": [
       "7179"
      ]
     },
     "execution_count": 23,
     "metadata": {},
     "output_type": "execute_result"
    }
   ],
   "source": [
    "(apply + (map #(*\n",
    "        (energy (first %))\n",
    "       (energy (last %))\n",
    "                ) (map vals\n",
    "(first (drop 1000 (iterate step moons)))\n",
    " )))"
   ]
  },
  {
   "cell_type": "code",
   "execution_count": 24,
   "metadata": {},
   "outputs": [
    {
     "data": {
      "text/plain": [
       "#'user/periods2"
      ]
     },
     "execution_count": 24,
     "metadata": {},
     "output_type": "execute_result"
    }
   ],
   "source": [
    "(defn get-axis [m n]\n",
    "    ;;(println m)\n",
    "    (let [\n",
    "          pa ((:p m) n)\n",
    "          va ((:v m) n)\n",
    "          \n",
    "          ]\n",
    "        [pa va]\n",
    "        )\n",
    "    )\n",
    "(defn full-axis [all n]\n",
    "    (map #(get-axis % n) all))\n",
    "\n",
    "(set! *print-length* 20)\n",
    "\n",
    "(defn find-period [all n c axes]\n",
    "    (let [axs (full-axis  all n)\n",
    "          idx (axes axs)\n",
    "          ;;_ (println axes)\n",
    "          ;;_ (println ax)\n",
    "    \n",
    "          ]\n",
    "    (if idx\n",
    "        (do (println axs)\n",
    "            (- c idx))\n",
    "        (recur (step all) n (inc c) (assoc axes axs c)))\n",
    "    ))\n",
    "\n",
    "(defn periods [all] \n",
    "    (for [n (range 3)]\n",
    "    \n",
    "(find-period all n 0 {}) ))\n",
    "        \n",
    "\n",
    "(defn periods2 [all]\n",
    "    (for [n (range 3)\n",
    "        :let [xinit (full-axis all n)]]\n",
    "  (first (first (filter\n",
    "    #(= xinit (full-axis  (last %) n))\n",
    "    (drop 1 (iterate step2 [0 all])))\n",
    "    ))))"
   ]
  },
  {
   "cell_type": "code",
   "execution_count": null,
   "metadata": {},
   "outputs": [],
   "source": []
  },
  {
   "cell_type": "code",
   "execution_count": 25,
   "metadata": {},
   "outputs": [
    {
     "data": {
      "text/plain": [
       "#'user/factorize"
      ]
     },
     "execution_count": 25,
     "metadata": {},
     "output_type": "execute_result"
    }
   ],
   "source": [
    "(def prime-numbers\n",
    "  ((fn f [x]\n",
    "     (cons x\n",
    "       (lazy-seq\n",
    "         (f (first\n",
    "              (drop-while\n",
    "                (fn [n]\n",
    "                  (some #(zero? (mod n %))\n",
    "                    (take-while #(<= (* % %) n) prime-numbers)))\n",
    "                (iterate inc (inc x))))))))\n",
    "   2))\n",
    "\n",
    "(defn factorize [n]\n",
    "  ((fn f [n [h & r :as ps]]\n",
    "     (cond (< n 2) '()\n",
    "       (zero? (mod n h)) (cons h (lazy-seq (f (quot n h) ps)))\n",
    "       :else (recur n r)))\n",
    "   n prime-numbers))"
   ]
  },
  {
   "cell_type": "code",
   "execution_count": 26,
   "metadata": {},
   "outputs": [
    {
     "name": "stdout",
     "output_type": "stream",
     "text": [
      "\"Elapsed time: 15958.0266 msecs\"\r\n"
     ]
    },
    {
     "data": {
      "text/plain": [
       "#'user/ps"
      ]
     },
     "execution_count": 26,
     "metadata": {},
     "output_type": "execute_result"
    }
   ],
   "source": [
    "(def ps (time (doall (periods2 rmoons))))\n"
   ]
  },
  {
   "cell_type": "code",
   "execution_count": 64,
   "metadata": {},
   "outputs": [
    {
     "name": "stdout",
     "output_type": "stream",
     "text": [
      "\"Elapsed time: 25352.801828 msecs\"\n"
     ]
    },
    {
     "data": {
      "text/plain": [
       "(231614 144624 102356)"
      ]
     },
     "execution_count": 64,
     "metadata": {},
     "output_type": "execute_result"
    }
   ],
   "source": [
    "(set! *warn-on-reflection* true)\n",
    "(time (doall (periods2 rmoons)))\n"
   ]
  },
  {
   "cell_type": "code",
   "execution_count": 67,
   "metadata": {},
   "outputs": [
    {
     "data": {
      "text/plain": [
       "428576638953552N"
      ]
     },
     "execution_count": 67,
     "metadata": {},
     "output_type": "execute_result"
    }
   ],
   "source": [
    "\n",
    "(defn smallest-period [ps] \n",
    "      (apply * 1N (mapcat \n",
    "   #(repeat (last %) (first %))\n",
    "\n",
    "(apply merge-with max\n",
    "\n",
    "(map (comp frequencies factorize) ps)))))\n",
    "\n",
    "        \n",
    "   (smallest-period ps)"
   ]
  },
  {
   "cell_type": "code",
   "execution_count": 51,
   "metadata": {},
   "outputs": [
    {
     "name": "stdout",
     "output_type": "stream",
     "text": [
      "\"Elapsed time: 21.957653 msecs\"\n"
     ]
    },
    {
     "data": {
      "text/plain": [
       "nil"
      ]
     },
     "execution_count": 51,
     "metadata": {},
     "output_type": "execute_result"
    }
   ],
   "source": [
    "(time (dotimes [n 100000] (full-axis rmoons 0)))\n",
    "\n"
   ]
  },
  {
   "cell_type": "code",
   "execution_count": 27,
   "metadata": {},
   "outputs": [
    {
     "data": {
      "text/plain": [
       "#'user/test2moons"
      ]
     },
     "execution_count": 27,
     "metadata": {},
     "output_type": "execute_result"
    }
   ],
   "source": [
    "(def input \"<x=3, y=15, z=8>\n",
    "<x=5, y=-1, z=-2>\n",
    "<x=-10, y=8, z=2>\n",
    "<x=8, y=4, z=-5>\")\n",
    "\n",
    "(defrecord Moon [p v])\n",
    "\n",
    "(def moons \n",
    "    [\n",
    "      {:p [3 15 8] :v [0 0 0]}      \n",
    "      {:p [5 -1 -2] :v [0 0 0]}      \n",
    "      {:p [-10 8 2] :v [0 0 0]}      \n",
    "      {:p [8 4 -5] :v [0 0 0]}                \n",
    "            \n",
    "    ])\n",
    "\n",
    "(def rmoons \n",
    "    [\n",
    "      (Moon. [3 15 8] [0 0 0])     \n",
    "      (Moon. [5 -1 -2]  [0 0 0])  \n",
    "      (Moon. [-10 8 2]  [0 0 0])    \n",
    "      (Moon. [8 4 -5]  [0 0 0])                \n",
    "            \n",
    "    ])\n",
    "\n",
    "\n",
    "(def testinput \"<x=-1, y=0, z=2>\n",
    "<x=2, y=-10, z=-7>\n",
    "<x=4, y=-8, z=8>\n",
    "<x=3, y=5, z=-1>\n",
    "\")\n",
    "\n",
    "(def testmoons \n",
    "    [\n",
    "      {:p [-1 0 2] :v [0 0 0]}      \n",
    "      {:p [2 -10 -7] :v [0 0 0]}      \n",
    "      {:p [4 -8 8] :v [0 0 0]}      \n",
    "      {:p [3 5 -1] :v [0 0 0]}                \n",
    "            \n",
    "    ])\n",
    "\n",
    "(def test2 \"<x=-8, y=-10, z=0>\n",
    "<x=5, y=5, z=10>\n",
    "<x=2, y=-7, z=3>\n",
    "<x=9, y=-8, z=-3>\n",
    "\")\n",
    "\n",
    "(def test2moons \n",
    "    [\n",
    "      {:p [-8 -10 0] :v [0 0 0]}      \n",
    "      {:p [5 5 10] :v [0 0 0]}      \n",
    "      {:p [2 -7 3] :v [0 0 0]}      \n",
    "      {:p [9 -8 -3] :v [0 0 0]}                \n",
    "            \n",
    "    ])\n"
   ]
  },
  {
   "cell_type": "code",
   "execution_count": 28,
   "metadata": {},
   "outputs": [
    {
     "name": "stderr",
     "output_type": "stream",
     "text": [
      "Syntax error compiling at (REPL:1:1).\r\n",
      "Unable to resolve symbol: p2 in this context\r\n"
     ]
    },
    {
     "ename": "class clojure.lang.Compiler$CompilerException",
     "evalue": "",
     "output_type": "error",
     "traceback": [
      "  Util.java:   221 clojure.lang.Util/runtimeException",
      "   core.clj:  3214 clojure.core$eval/invokeStatic",
      "   core.clj:  3210 clojure.core$eval/invoke",
      "   main.clj:   437 clojure.main$repl$read_eval_print__9086$fn__9089/invoke",
      "   main.clj:   458 clojure.main$repl$fn__9095/invoke",
      "   main.clj:   368 clojure.main$repl/doInvoke",
      "RestFn.java:  1523 clojure.lang.RestFn/invoke",
      "   AFn.java:    22 clojure.lang.AFn/run",
      "   AFn.java:    22 clojure.lang.AFn/run",
      "Thread.java:   748 java.lang.Thread/run"
     ]
    }
   ],
   "source": [
    "(p2)"
   ]
  },
  {
   "cell_type": "code",
   "execution_count": 29,
   "metadata": {},
   "outputs": [
    {
     "name": "stderr",
     "output_type": "stream",
     "text": [
      "Execution error (FileNotFoundException) at proj.p12/eval4429$loading (REPL:1).\n",
      "Could not locate clojure/math/combinatorics__init.class, clojure/math/combinatorics.clj or clojure/math/combinatorics.cljc on classpath.\n",
      "Execution error (FileNotFoundException) at java.io.FileInputStream/open0 (FileInputStream.java:-2).\n",
      "p12.txt (The system cannot find the file specified)\n",
      "Syntax error compiling at (REPL:91:3).\n",
      "Unable to resolve symbol: lcm in this context\n"
     ]
    },
    {
     "ename": "class clojure.lang.Compiler$CompilerException",
     "evalue": "",
     "output_type": "error",
     "traceback": [
      "  Util.java:   221 clojure.lang.Util/runtimeException",
      "   core.clj:  3214 clojure.core$eval/invokeStatic",
      "   core.clj:  3210 clojure.core$eval/invoke",
      "   main.clj:   437 clojure.main$repl$read_eval_print__9086$fn__9089/invoke",
      "   main.clj:   458 clojure.main$repl$fn__9095/invoke",
      "   main.clj:   368 clojure.main$repl/doInvoke",
      "RestFn.java:  1523 clojure.lang.RestFn/invoke",
      "   AFn.java:    22 clojure.lang.AFn/run",
      "   AFn.java:    22 clojure.lang.AFn/run",
      "Thread.java:   748 java.lang.Thread/run"
     ]
    }
   ],
   "source": [
    "(ns proj.p12\n",
    "  (:require [clojure.string :refer [split split-lines trim-newline]]\n",
    "            [clojure.math.combinatorics :as combs :refer [permutations combinations]]\n",
    "            [proj.utils :refer [lcm]]))\n",
    "\n",
    "(def ip (->> \"p12.txt\"\n",
    "             slurp\n",
    "             split-lines\n",
    "             (map #(re-matcher #\"-?\\d+\" %))\n",
    "             (mapv (fn [mat]\n",
    "                     (vec (for [_ (range 3)]\n",
    "                            (read-string (re-find mat))))))))\n",
    "\n",
    "(defn abs [a]\n",
    "  (Math/abs a))\n",
    "\n",
    "(defn potential [p]\n",
    "  (->> p\n",
    "       (map abs)\n",
    "       (reduce +)))\n",
    "\n",
    "(defn kinetic [v]\n",
    "  (->> v\n",
    "       (map abs)\n",
    "       (reduce +)))\n",
    "\n",
    "(defn calc-energy [ps vs]\n",
    "  (reduce +\n",
    "          (map\n",
    "            #(* (potential %1)\n",
    "                (kinetic %2))\n",
    "            ps vs)))\n",
    "\n",
    "(def ovels (mapv\n",
    "             (fn [_] (mapv (fn [_] 0) (range 3)))\n",
    "             (range 4)))\n",
    "\n",
    "(defn p1 []\n",
    "  (loop [t 0\n",
    "         vels ovels\n",
    "         poss ip]\n",
    "    (if (= t 1000)\n",
    "      (calc-energy poss vels)\n",
    "      (let [new-vels (mapv\n",
    "                       (fn [i]\n",
    "                         (let [curr (poss i)]\n",
    "                           (reduce\n",
    "                             (fn [v po]\n",
    "                               (mapv\n",
    "                                 (fn [vi po pi]\n",
    "                                   (cond\n",
    "                                     (< pi po) (inc vi)\n",
    "                                     (> pi po) (dec vi)\n",
    "                                     :else vi))\n",
    "                                 v po curr))\n",
    "                             (vels i) poss)))\n",
    "                       (range 4))\n",
    "            new-poss (mapv\n",
    "                       (fn [p v]\n",
    "                         (mapv + p v))\n",
    "                       poss new-vels)]\n",
    "        (recur (inc t)\n",
    "               new-vels\n",
    "               new-poss)))))\n",
    "\n",
    "(defn linear-period [ovels oposs]\n",
    "  (loop [t 0\n",
    "         vels ovels\n",
    "         poss oposs]\n",
    "    (let [new-vels (map\n",
    "                     (fn [vc pc]\n",
    "                       (reduce\n",
    "                         (fn [v po]\n",
    "                           (cond\n",
    "                             (< pc po) (inc v)\n",
    "                             (> pc po) (dec v)\n",
    "                             :else v))\n",
    "                         vc poss))\n",
    "                     vels poss)\n",
    "          new-poss (map\n",
    "                     +\n",
    "                     poss new-vels)]\n",
    "      (if (and (= new-vels ovels)\n",
    "               (= new-poss oposs))\n",
    "        (inc t)\n",
    "        (recur (inc t)\n",
    "               new-vels\n",
    "               new-poss)))))\n",
    "\n",
    "(defn p2 []\n",
    "  (apply lcm (for [i (range 3)]\n",
    "               (let [vis [0 0 0 0]\n",
    "                     pis (map\n",
    "                           (fn [p] (p i))\n",
    "                           ip)]\n",
    "                 (linear-period vis pis)))))"
   ]
  },
  {
   "cell_type": "code",
   "execution_count": null,
   "metadata": {},
   "outputs": [],
   "source": []
  }
 ],
 "metadata": {
  "kernelspec": {
   "display_name": "Clojure (clojupyter-0.3.2)",
   "language": "clojure",
   "name": "clojupyter-0.3.2"
  },
  "language_info": {
   "file_extension": ".clj",
   "mimetype": "text/x-clojure",
   "name": "clojure",
   "version": "1.10.1"
  }
 },
 "nbformat": 4,
 "nbformat_minor": 2
}
