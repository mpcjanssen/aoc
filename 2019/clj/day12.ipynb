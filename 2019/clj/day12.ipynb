{
 "cells": [
  {
   "cell_type": "code",
   "execution_count": 21,
   "metadata": {},
   "outputs": [
    {
     "data": {
      "text/plain": [
       "#'user/test2moons"
      ]
     },
     "execution_count": 21,
     "metadata": {},
     "output_type": "execute_result"
    }
   ],
   "source": [
    "(def input \"<x=3, y=15, z=8>\n",
    "<x=5, y=-1, z=-2>\n",
    "<x=-10, y=8, z=2>\n",
    "<x=8, y=4, z=-5>\")\n",
    "\n",
    "(defrecord Moon [p v])\n",
    "\n",
    "(def moons \n",
    "    [\n",
    "      {:p [3 15 8] :v [0 0 0]}      \n",
    "      {:p [5 -1 -2] :v [0 0 0]}      \n",
    "      {:p [-10 8 2] :v [0 0 0]}      \n",
    "      {:p [8 4 -5] :v [0 0 0]}                \n",
    "            \n",
    "    ])\n",
    "\n",
    "(def rmoons \n",
    "    [\n",
    "      (Moon. [3 15 8] [0 0 0])     \n",
    "      (Moon. [5 -1 -2]  [0 0 0])  \n",
    "      (Moon. [-10 8 2]  [0 0 0])    \n",
    "      (Moon. [8 4 -5]  [0 0 0])                \n",
    "            \n",
    "    ])\n",
    "\n",
    "\n",
    "(def testinput \"<x=-1, y=0, z=2>\n",
    "<x=2, y=-10, z=-7>\n",
    "<x=4, y=-8, z=8>\n",
    "<x=3, y=5, z=-1>\n",
    "\")\n",
    "\n",
    "(def testmoons \n",
    "    [\n",
    "      {:p [-1 0 2] :v [0 0 0]}      \n",
    "      {:p [2 -10 -7] :v [0 0 0]}      \n",
    "      {:p [4 -8 8] :v [0 0 0]}      \n",
    "      {:p [3 5 -1] :v [0 0 0]}                \n",
    "            \n",
    "    ])\n",
    "\n",
    "(def test2 \"<x=-8, y=-10, z=0>\n",
    "<x=5, y=5, z=10>\n",
    "<x=2, y=-7, z=3>\n",
    "<x=9, y=-8, z=-3>\n",
    "\")\n",
    "\n",
    "(def test2moons \n",
    "    [\n",
    "      {:p [-8 -10 0] :v [0 0 0]}      \n",
    "      {:p [5 5 10] :v [0 0 0]}      \n",
    "      {:p [2 -7 3] :v [0 0 0]}      \n",
    "      {:p [9 -8 -3] :v [0 0 0]}                \n",
    "            \n",
    "    ])\n"
   ]
  },
  {
   "cell_type": "code",
   "execution_count": 24,
   "metadata": {},
   "outputs": [
    {
     "data": {
      "text/plain": [
       "(0 1 -1)"
      ]
     },
     "execution_count": 24,
     "metadata": {},
     "output_type": "execute_result"
    }
   ],
   "source": [
    "(defn dv-ax [[c1 c2]]\n",
    "    (cond\n",
    "        (< c1 c2) 1\n",
    "        (= c1 c2) 0\n",
    "        (> c1 c2) -1))\n",
    "\n",
    "\n",
    "(defn dv [p1 p2]\n",
    "    (map\n",
    "     #(dv-ax %)\n",
    "    \n",
    "    (map vector p1 p2 )\n",
    "    ))\n",
    "\n",
    "\n",
    "(dv [6 2 5] [6 3 2])\n"
   ]
  },
  {
   "cell_type": "code",
   "execution_count": 25,
   "metadata": {},
   "outputs": [
    {
     "data": {
      "text/plain": [
       "(0 4 7)"
      ]
     },
     "execution_count": 25,
     "metadata": {},
     "output_type": "execute_result"
    }
   ],
   "source": [
    "(defn addp [p1 p2]\n",
    "    (mapv #(+ (first %) (last %)) (map vector p1 p2)\n",
    "    ))\n",
    "\n",
    "(map + [1 1 5] [-1 3 2])\n",
    "\n"
   ]
  },
  {
   "cell_type": "code",
   "execution_count": 56,
   "metadata": {},
   "outputs": [
    {
     "data": {
      "text/plain": [
       "#'user/newv"
      ]
     },
     "execution_count": 56,
     "metadata": {},
     "output_type": "execute_result"
    }
   ],
   "source": [
    "(defn newv [moon all] \n",
    "    (let \n",
    "        [\n",
    "         dvs (mapv #(dv (:p moon) (:p %)) all)\n",
    "         ]\n",
    "        (reduce  #(mapv + %1 %2 ) (:v moon) dvs)\n",
    "))"
   ]
  },
  {
   "cell_type": "code",
   "execution_count": 27,
   "metadata": {},
   "outputs": [
    {
     "data": {
      "text/plain": [
       "#'user/dopos"
      ]
     },
     "execution_count": 27,
     "metadata": {},
     "output_type": "execute_result"
    }
   ],
   "source": [
    "(defn dograv [all]\n",
    "    (mapv #(assoc % :v (newv % all)) all)\n",
    "         )\n",
    "         \n",
    "(defn dopos [all]\n",
    "    (mapv \n",
    "     #(assoc % :p (addp (:p %) (:v %)) )\n",
    "     all\n",
    "    ))"
   ]
  },
  {
   "cell_type": "code",
   "execution_count": 28,
   "metadata": {},
   "outputs": [
    {
     "data": {
      "text/plain": [
       "#'user/step"
      ]
     },
     "execution_count": 28,
     "metadata": {},
     "output_type": "execute_result"
    }
   ],
   "source": [
    "(defn step [all]\n",
    "\n",
    "(dopos (dograv all)))\n",
    "    "
   ]
  },
  {
   "cell_type": "code",
   "execution_count": 29,
   "metadata": {},
   "outputs": [
    {
     "data": {
      "text/plain": [
       "#'user/step2"
      ]
     },
     "execution_count": 29,
     "metadata": {},
     "output_type": "execute_result"
    }
   ],
   "source": [
    "(defn step2 [[n all]]\n",
    "\n",
    "[(inc n) (dopos (dograv all))])\n",
    "    "
   ]
  },
  {
   "cell_type": "code",
   "execution_count": 40,
   "metadata": {},
   "outputs": [
    {
     "data": {
      "text/plain": [
       "[#user.Moon{:p [-56 -6 17], :v (-17 -12 10)} #user.Moon{:p [56 -2 31], :v (2 8 3)} #user.Moon{:p [-14 -42 18], :v (15 0 -14)} #user.Moon{:p [20 76 -63], :v (0 4 1)}]"
      ]
     },
     "execution_count": 40,
     "metadata": {},
     "output_type": "execute_result"
    }
   ],
   "source": [
    "(first (drop 1000 (iterate step rmoons)))\n",
    "\n",
    "\n"
   ]
  },
  {
   "cell_type": "code",
   "execution_count": 41,
   "metadata": {},
   "outputs": [
    {
     "name": "stderr",
     "output_type": "stream",
     "text": [
      "Reflection warning, NO_SOURCE_PATH:2:20 - call to static method abs on java.lang.Math can't be resolved (argument types: unknown).\n"
     ]
    },
    {
     "data": {
      "text/plain": [
       "#'user/energy"
      ]
     },
     "execution_count": 41,
     "metadata": {},
     "output_type": "execute_result"
    }
   ],
   "source": [
    "(defn energy [p]\n",
    "    (reduce #(+ %1 (Math/abs %2)) 0 p))\n"
   ]
  },
  {
   "cell_type": "code",
   "execution_count": 33,
   "metadata": {},
   "outputs": [
    {
     "data": {
      "text/plain": [
       "7179"
      ]
     },
     "execution_count": 33,
     "metadata": {},
     "output_type": "execute_result"
    }
   ],
   "source": [
    "(apply + (map #(*\n",
    "        (energy (first %))\n",
    "       (energy (last %))\n",
    "                ) (map vals\n",
    "(first (drop 1000 (iterate step moons)))\n",
    " )))"
   ]
  },
  {
   "cell_type": "code",
   "execution_count": 63,
   "metadata": {},
   "outputs": [
    {
     "data": {
      "text/plain": [
       "#'user/periods2"
      ]
     },
     "execution_count": 63,
     "metadata": {},
     "output_type": "execute_result"
    }
   ],
   "source": [
    "(defn get-axis [m n]\n",
    "    ;;(println m)\n",
    "    (let [\n",
    "          pa ((:p m) n)\n",
    "          va ((:v m) n)\n",
    "          \n",
    "          ]\n",
    "        [pa va]\n",
    "        )\n",
    "    )\n",
    "(defn full-axis [all n]\n",
    "    (map #(get-axis % n) all))\n",
    "\n",
    "(set! *print-length* 20)\n",
    "\n",
    "(defn find-period [all n c axes]\n",
    "    (let [axs (full-axis  all n)\n",
    "          idx (axes axs)\n",
    "          ;;_ (println axes)\n",
    "          ;;_ (println ax)\n",
    "    \n",
    "          ]\n",
    "    (if idx\n",
    "        (do (println axs)\n",
    "            (- c idx))\n",
    "        (recur (step all) n (inc c) (assoc axes axs c)))\n",
    "    ))\n",
    "\n",
    "(defn periods [all] \n",
    "    (for [n (range 3)]\n",
    "    \n",
    "(find-period all n 0 {}) ))\n",
    "        \n",
    "\n",
    "(defn periods2 [all]\n",
    "    (for [n (range 3)\n",
    "        :let [xinit (full-axis all n)]]\n",
    "  (first (first (filter\n",
    "    #(= xinit (full-axis  (last %) n))\n",
    "    (drop 1 (iterate step2 [0 all])))\n",
    "    ))))"
   ]
  },
  {
   "cell_type": "code",
   "execution_count": null,
   "metadata": {},
   "outputs": [],
   "source": []
  },
  {
   "cell_type": "code",
   "execution_count": 13,
   "metadata": {},
   "outputs": [
    {
     "data": {
      "text/plain": [
       "#'user/factorize"
      ]
     },
     "execution_count": 13,
     "metadata": {},
     "output_type": "execute_result"
    }
   ],
   "source": [
    "(def prime-numbers\n",
    "  ((fn f [x]\n",
    "     (cons x\n",
    "       (lazy-seq\n",
    "         (f (first\n",
    "              (drop-while\n",
    "                (fn [n]\n",
    "                  (some #(zero? (mod n %))\n",
    "                    (take-while #(<= (* % %) n) prime-numbers)))\n",
    "                (iterate inc (inc x))))))))\n",
    "   2))\n",
    "\n",
    "(defn factorize [n]\n",
    "  ((fn f [n [h & r :as ps]]\n",
    "     (cond (< n 2) '()\n",
    "       (zero? (mod n h)) (cons h (lazy-seq (f (quot n h) ps)))\n",
    "       :else (recur n r)))\n",
    "   n prime-numbers))"
   ]
  },
  {
   "cell_type": "code",
   "execution_count": 66,
   "metadata": {},
   "outputs": [
    {
     "name": "stdout",
     "output_type": "stream",
     "text": [
      "\"Elapsed time: 25166.422136 msecs\"\n"
     ]
    },
    {
     "data": {
      "text/plain": [
       "#'user/ps"
      ]
     },
     "execution_count": 66,
     "metadata": {},
     "output_type": "execute_result"
    }
   ],
   "source": [
    "(def ps (time (doall (periods2 rmoons))))\n"
   ]
  },
  {
   "cell_type": "code",
   "execution_count": 64,
   "metadata": {},
   "outputs": [
    {
     "name": "stdout",
     "output_type": "stream",
     "text": [
      "\"Elapsed time: 25352.801828 msecs\"\n"
     ]
    },
    {
     "data": {
      "text/plain": [
       "(231614 144624 102356)"
      ]
     },
     "execution_count": 64,
     "metadata": {},
     "output_type": "execute_result"
    }
   ],
   "source": [
    "(set! *warn-on-reflection* true)\n",
    "(time (doall (periods2 rmoons)))\n"
   ]
  },
  {
   "cell_type": "code",
   "execution_count": 67,
   "metadata": {},
   "outputs": [
    {
     "data": {
      "text/plain": [
       "428576638953552N"
      ]
     },
     "execution_count": 67,
     "metadata": {},
     "output_type": "execute_result"
    }
   ],
   "source": [
    "\n",
    "(defn smallest-period [ps] \n",
    "      (apply * 1N (mapcat \n",
    "   #(repeat (last %) (first %))\n",
    "\n",
    "(apply merge-with max\n",
    "\n",
    "(map (comp frequencies factorize) ps)))))\n",
    "\n",
    "        \n",
    "   (smallest-period ps)"
   ]
  },
  {
   "cell_type": "code",
   "execution_count": 51,
   "metadata": {},
   "outputs": [
    {
     "name": "stdout",
     "output_type": "stream",
     "text": [
      "\"Elapsed time: 21.957653 msecs\"\n"
     ]
    },
    {
     "data": {
      "text/plain": [
       "nil"
      ]
     },
     "execution_count": 51,
     "metadata": {},
     "output_type": "execute_result"
    }
   ],
   "source": [
    "(time (dotimes [n 100000] (full-axis rmoons 0)))\n",
    "\n"
   ]
  }
 ],
 "metadata": {
  "kernelspec": {
   "display_name": "Clojure (clojupyter-0.2.3)",
   "language": "clojure",
   "name": "clojupyter-0.2.3"
  },
  "language_info": {
   "file_extension": ".clj",
   "mimetype": "text/x-clojure",
   "name": "clojure",
   "version": "1.10.1"
  }
 },
 "nbformat": 4,
 "nbformat_minor": 2
}
