{
 "cells": [
  {
   "cell_type": "code",
   "execution_count": 1,
   "metadata": {},
   "outputs": [
    {
     "data": {
      "text/plain": [
       "#'user/mem"
      ]
     },
     "execution_count": 1,
     "metadata": {},
     "output_type": "execute_result"
    }
   ],
   "source": [
    "(defn mem []\n",
    "        (mapv read-string (-> (slurp \"data/day13.txt\")\n",
    "                              (clojure.string/split #\",\"))))\n",
    "\n",
    ";;(mem)\n"
   ]
  },
  {
   "cell_type": "code",
   "execution_count": 2,
   "metadata": {},
   "outputs": [
    {
     "data": {
      "text/plain": [
       "#'user/doinput"
      ]
     },
     "execution_count": 2,
     "metadata": {},
     "output_type": "execute_result"
    }
   ],
   "source": [
    "(defn pow [x n]\n",
    "    (apply * (repeat n x)))\n",
    "\n",
    " (pow 10 2)\n",
    "\n",
    "(defn opcode [{:keys [mem ip]}]\n",
    "    ;;(println mem)\n",
    "    (get mem ip 0))\n",
    "\n",
    "(defn param [state n]\n",
    "    (let [{:keys [mem ip]} state]\n",
    "    (get mem (+ ip n) 0)))\n",
    "\n",
    "(defn operation [opcode]\n",
    "           (mod opcode 100))\n",
    "\n",
    "(defn mode [opcode n] \n",
    "    (case (mod \n",
    "     (quot opcode \n",
    "           (pow 10 (inc n)))\n",
    "     10) 0 :pos 1 :imm 2 :rel))\n",
    "    \n",
    "\n",
    "(defn paramval [state n]\n",
    "    (let [raw (param state n)]\n",
    "      ;;  (println raw)\n",
    "    (or (case (mode (opcode state) n)\n",
    "        :imm (param state n)\n",
    "        :pos ((:mem state) (param state n) 0)\n",
    "        :rel ((:mem state) (+ (:base state) (param state n)) 0)\n",
    "        )\n",
    "    0 )))\n",
    "\n",
    "(defn targetval [state n]\n",
    "    (case (mode (opcode state) n)\n",
    "       :rel (+ (:base state) (param state n))\n",
    "        (param state n)\n",
    "        )\n",
    " )\n",
    "\n",
    "\n",
    "(mode 1001 1)\n",
    ";; (run mem)\n",
    "\n",
    "\n",
    "\n",
    "(defn doinput [state]\n",
    "  ;;  (println state)\n",
    "    \n",
    " ;;   (dump-state state)\n",
    "    (if (seq (:input state))\n",
    "    (let [\n",
    "          {:keys [mem input base]} state\n",
    "          mode (mode (opcode state) 1)\n",
    "          param1 (targetval state 1)\n",
    "          ;;_ (println (str \"tar: \" param1 \" \" mode))\n",
    "          mem (assoc mem param1  (first input))\n",
    "          ]\n",
    "        (update (update (assoc state :mem mem) \n",
    "                        :ip +  2) :input rest)\n",
    "        )\n",
    "    (assoc state :signal :input)))\n",
    "    "
   ]
  },
  {
   "cell_type": "code",
   "execution_count": 3,
   "metadata": {},
   "outputs": [
    {
     "data": {
      "text/plain": [
       "#'user/dooutput"
      ]
     },
     "execution_count": 3,
     "metadata": {},
     "output_type": "execute_result"
    }
   ],
   "source": [
    "(defn dooutput [state]\n",
    "    (let [\n",
    "          param1 (paramval state 1)\n",
    "    \n",
    "          ]\n",
    "        (update (update state :ip + 2)\n",
    "               :output conj param1 ) \n",
    "         \n",
    "         )\n",
    "        \n",
    "        )\n",
    "    "
   ]
  },
  {
   "cell_type": "code",
   "execution_count": 4,
   "metadata": {},
   "outputs": [
    {
     "data": {
      "text/plain": [
       "#'user/dobase"
      ]
     },
     "execution_count": 4,
     "metadata": {},
     "output_type": "execute_result"
    }
   ],
   "source": [
    "(defn dobase [state]\n",
    "\n",
    "    (let [\n",
    "        \n",
    "          param1 (paramval state 1)\n",
    "          ;;_ (println \"xxxx\")\n",
    "          ;;_ (println param1)\n",
    "\n",
    "          newstate (update (update state :ip + 2)\n",
    "               :base + param1 )\n",
    "          ;;_ (println newstate)] newstate\n",
    "          ] newstate\n",
    "        \n",
    "        ))\n",
    "    "
   ]
  },
  {
   "cell_type": "code",
   "execution_count": 5,
   "metadata": {},
   "outputs": [
    {
     "data": {
      "text/plain": [
       "#'user/domult"
      ]
     },
     "execution_count": 5,
     "metadata": {},
     "output_type": "execute_result"
    }
   ],
   "source": [
    "(defn domult [state]\n",
    "    (let [\n",
    "        param1 (paramval state 1)\n",
    "        param2 (paramval state 2)\n",
    "        target (targetval state 3)\n",
    "    \n",
    "          mem (assoc (:mem state) target (* param1 param2))\n",
    "          \n",
    "          ]\n",
    "        ;;(println (str target \",\" param1 \",\" param2))\n",
    "        (update (assoc state :mem mem) :ip + 4)\n",
    "        )\n",
    "    )"
   ]
  },
  {
   "cell_type": "code",
   "execution_count": 6,
   "metadata": {},
   "outputs": [
    {
     "data": {
      "text/plain": [
       "#'user/doplus"
      ]
     },
     "execution_count": 6,
     "metadata": {},
     "output_type": "execute_result"
    }
   ],
   "source": [
    "(defn doplus [state]\n",
    "    (let [\n",
    "        param1 (paramval state 1)\n",
    "        param2 (paramval state 2)\n",
    "        target (targetval state 3)\n",
    "    \n",
    "          mem (assoc (:mem state) target (+ param1 param2))\n",
    "          \n",
    "          ]\n",
    "       ;; (println (str target \",\" param1 \",\" param2))\n",
    "        (update (assoc state :mem mem) :ip + 4)\n",
    "        )\n",
    "    )"
   ]
  },
  {
   "cell_type": "code",
   "execution_count": 7,
   "metadata": {},
   "outputs": [
    {
     "data": {
      "text/plain": [
       "#'user/doequals"
      ]
     },
     "execution_count": 7,
     "metadata": {},
     "output_type": "execute_result"
    }
   ],
   "source": [
    "(defn doequals [state]\n",
    "    (let [\n",
    "        param1 (paramval state 1)\n",
    "        param2 (paramval state 2)\n",
    "        target (targetval state 3)\n",
    "        res (if (= param1 param2) 1 0)   \n",
    "          mem (assoc (:mem state) target res)         \n",
    "          ]\n",
    "       ;; (println (str target \",\" param1 \",\" param2))\n",
    "        (update (assoc state :mem mem) :ip + 4)\n",
    "        )\n",
    "    )"
   ]
  },
  {
   "cell_type": "code",
   "execution_count": 8,
   "metadata": {},
   "outputs": [
    {
     "data": {
      "text/plain": [
       "#'user/doless"
      ]
     },
     "execution_count": 8,
     "metadata": {},
     "output_type": "execute_result"
    }
   ],
   "source": [
    "(defn doless [state]\n",
    "    (let [\n",
    "        param1 (paramval state 1)\n",
    "        param2 (paramval state 2)\n",
    "        target (targetval state 3)\n",
    "        res (if (< param1 param2) 1 0)  \n",
    "        mem (assoc (:mem state) target res)\n",
    "          ]\n",
    "        ;;(println (str target \",\" param1 \",\" param2))\n",
    "        (update (assoc state :mem mem) :ip + 4)\n",
    "        )\n",
    "    )"
   ]
  },
  {
   "cell_type": "code",
   "execution_count": 9,
   "metadata": {},
   "outputs": [
    {
     "data": {
      "text/plain": [
       "#'user/dojumptrue"
      ]
     },
     "execution_count": 9,
     "metadata": {},
     "output_type": "execute_result"
    }
   ],
   "source": [
    "(defn dojumptrue [state]\n",
    "    (let [\n",
    "        param1 (paramval state 1)\n",
    "        param2 (paramval state 2)         \n",
    "          ]\n",
    "    (if (not (zero? param1))\n",
    "        (assoc state :ip param2)     \n",
    "        (update state :ip + 3)\n",
    "        )\n",
    "    ))"
   ]
  },
  {
   "cell_type": "code",
   "execution_count": 10,
   "metadata": {},
   "outputs": [
    {
     "data": {
      "text/plain": [
       "#'user/dojumpfalse"
      ]
     },
     "execution_count": 10,
     "metadata": {},
     "output_type": "execute_result"
    }
   ],
   "source": [
    "(defn dojumpfalse [state]\n",
    "    (let [\n",
    "    \n",
    "        param1 (paramval state 1)\n",
    "        param2 (paramval state 2)\n",
    "    \n",
    "\n",
    "          \n",
    "          ]\n",
    "    (if  (zero? param1)\n",
    "        (assoc state :ip param2)     \n",
    "        (update state :ip + 3)\n",
    "        )\n",
    "    ))"
   ]
  },
  {
   "cell_type": "code",
   "execution_count": 11,
   "metadata": {},
   "outputs": [
    {
     "data": {
      "text/plain": [
       "#'user/step"
      ]
     },
     "execution_count": 11,
     "metadata": {},
     "output_type": "execute_result"
    }
   ],
   "source": [
    "\n",
    "\n",
    "(defn step [state] \n",
    "    ;;(println (state)\n",
    "    ;;(println pos)\n",
    "        (let [\n",
    "          oc (opcode state)\n",
    "           ;;   _ (println oc)\n",
    "          op (operation oc)\n",
    "          ]\n",
    "    ;;(println oc)\n",
    "              \n",
    "    (case op\n",
    "        1 (doplus state)\n",
    "        2 (domult state)\n",
    "        3 (doinput state)\n",
    "        4 (dooutput state)\n",
    "        5 (dojumptrue state)\n",
    "        6 (dojumpfalse state)\n",
    "        7 (doless state)\n",
    "        8 (doequals state)\n",
    "       9 (dobase state)\n",
    "        99 (assoc state :signal :halt)\n",
    "        (throw \n",
    "         (Exception. \n",
    "          (str \"unknown op \" operation))))))\n",
    "     \n"
   ]
  },
  {
   "cell_type": "code",
   "execution_count": 12,
   "metadata": {},
   "outputs": [
    {
     "data": {
      "text/plain": [
       "user.Intcode"
      ]
     },
     "execution_count": 12,
     "metadata": {},
     "output_type": "execute_result"
    }
   ],
   "source": [
    "(defrecord Intcode [mem input output base ip signal])"
   ]
  },
  {
   "cell_type": "code",
   "execution_count": 13,
   "metadata": {},
   "outputs": [
    {
     "data": {
      "text/plain": [
       "#user.Intcode{:mem {0 1, 1 2}, :input (), :output [], :base 0, :ip 0, :signal nil}"
      ]
     },
     "execution_count": 13,
     "metadata": {},
     "output_type": "execute_result"
    }
   ],
   "source": [
    "\n",
    "\n",
    "(defn init-prog [mem]\n",
    "       ;; (println input)\n",
    "        (Intcode.\n",
    "          (into {} (map-indexed vector mem))\n",
    "          ()\n",
    "                \n",
    "          []  0  0  nil) )\n",
    "    \n",
    " (defn clear-signal [prog]\n",
    "     (assoc prog :signal nil))\n",
    "     \n",
    "(defn dump-state [{:keys [signal input output]}]\n",
    "    (str   \"signal: \" signal\n",
    "         \", input: \" input\n",
    "         \", output: \" output\n",
    "         ))\n",
    "\n",
    "\n",
    "(init-prog [1 2])    \n",
    "     \n",
    "  \n"
   ]
  },
  {
   "cell_type": "code",
   "execution_count": 14,
   "metadata": {},
   "outputs": [
    {
     "data": {
      "text/plain": [
       "#'user/run-to-signal"
      ]
     },
     "execution_count": 14,
     "metadata": {},
     "output_type": "execute_result"
    }
   ],
   "source": [
    "(defn run-to-signal [prog input]\n",
    "    (let [\n",
    "          prog \n",
    "          (clear-signal (assoc prog :input input))\n",
    "          ]\n",
    "   ;; (println input)\n",
    "        ;; (take 5 (iterate step prog))))\n",
    "        (first (filter #(:signal %) (iterate step prog)))))\n",
    "         \n",
    "         \n",
    "\n",
    "  \n",
    "\n"
   ]
  },
  {
   "cell_type": "code",
   "execution_count": 15,
   "metadata": {},
   "outputs": [
    {
     "data": {
      "text/plain": [
       "[0 0 1 1 0 1 2 0 1 3 0 1 4 0 1 5 0 1 6 0 1 7 0 1 8 ...]"
      ]
     },
     "execution_count": 15,
     "metadata": {},
     "output_type": "execute_result"
    }
   ],
   "source": [
    "(set! *print-length* 25)\n",
    "\n",
    "(def output \n",
    "    (\n",
    "     :output\n",
    "     (run-to-signal (init-prog (mem)) nil)))\n",
    "               \n",
    "output\n"
   ]
  },
  {
   "cell_type": "code",
   "execution_count": 16,
   "metadata": {
    "scrolled": true
   },
   "outputs": [
    {
     "data": {
      "text/plain": [
       "#'user/run-to-signal"
      ]
     },
     "execution_count": 16,
     "metadata": {},
     "output_type": "execute_result"
    }
   ],
   "source": [
    "(defn run-to-signal [prog input]\n",
    "    (let [\n",
    "          prog \n",
    "          (clear-signal (assoc prog :input input))\n",
    "          ]\n",
    "   ;; (println input)\n",
    "        ;; (take 5 (iterate step prog))))\n",
    "        (first (filter #(:signal %) (iterate step prog)))))\n",
    "         \n",
    "         \n",
    "\n",
    "  \n",
    "\n"
   ]
  },
  {
   "cell_type": "code",
   "execution_count": 42,
   "metadata": {
    "scrolled": true
   },
   "outputs": [
    {
     "data": {
      "text/plain": [
       "376"
      ]
     },
     "execution_count": 42,
     "metadata": {},
     "output_type": "execute_result"
    }
   ],
   "source": [
    "(defn blocks [output]\n",
    "\n",
    "   (filter #(= (last %) 2 )\n",
    "           (partition 3 output) \n",
    "    \n",
    "))\n",
    "\n",
    "(count (blocks  (:output\n",
    "        (run-to-signal (init-prog (mem)) nil))))\n",
    "\n"
   ]
  },
  {
   "cell_type": "code",
   "execution_count": 14,
   "metadata": {},
   "outputs": [
    {
     "data": {
      "text/plain": [
       "#'user/run-to-signal"
      ]
     },
     "execution_count": 14,
     "metadata": {},
     "output_type": "execute_result"
    }
   ],
   "source": [
    "(defn run-to-signal [prog input]\n",
    "    (let [\n",
    "          prog \n",
    "          (clear-signal (assoc prog :input input))\n",
    "          ]\n",
    "   ;; (println input)\n",
    "        ;; (take 5 (iterate step prog))))\n",
    "        (first (filter #(:signal %) (iterate step prog)))))\n",
    "         \n",
    "         \n",
    "\n",
    "  \n",
    "\n"
   ]
  },
  {
   "cell_type": "code",
   "execution_count": null,
   "metadata": {},
   "outputs": [],
   "source": []
  },
  {
   "cell_type": "code",
   "execution_count": 23,
   "metadata": {},
   "outputs": [
    {
     "data": {
      "text/plain": [
       "18509"
      ]
     },
     "execution_count": 23,
     "metadata": {},
     "output_type": "execute_result"
    }
   ],
   "source": [
    "(defn ballxpos [output]\n",
    "    (first (last (filter #(= (last %) 4)\n",
    "                (partition 3 output))\n",
    "    )))\n",
    "\n",
    "(defn paddlexpos [output]\n",
    "    (first (last (filter #(= (last %) 3)\n",
    "                (partition 3 output))\n",
    "    )))\n",
    "\n",
    "(defn score [output]\n",
    "    (last (last (filter #(= \n",
    "                    [(first %) (second %)]\n",
    "                     [-1 0]  )\n",
    "                (partition 3 output))\n",
    "    )))\n",
    "\n",
    "\n",
    "(set! *print-length* 25)\n",
    "\n",
    "(defn run-game [prog input]\n",
    "    (let [\n",
    "          state (run-to-signal prog input)\n",
    "          signal (:signal state)\n",
    "          output (:output state)\n",
    "          score (score output)\n",
    "          paddle (paddlexpos output)\n",
    "          ball (ballxpos output)\n",
    "          input (compare ball paddle)\n",
    "          ]\n",
    "        ;; (println score)\n",
    "         ;; (println paddle)\n",
    "          (case signal\n",
    "              :halt score\n",
    "             :input (recur (assoc state :output []) [input]))))\n",
    "            ;;  :input score)))\n",
    "      \n",
    "      \n",
    "(run-game (init-prog (assoc (mem) 0 2)) nil)\n",
    "               \n"
   ]
  }
 ],
 "metadata": {
  "kernelspec": {
   "display_name": "Clojure (clojupyter-0.2.3)",
   "language": "clojure",
   "name": "clojupyter-0.2.3"
  },
  "language_info": {
   "file_extension": ".clj",
   "mimetype": "text/x-clojure",
   "name": "clojure",
   "version": "1.10.1"
  }
 },
 "nbformat": 4,
 "nbformat_minor": 4
}
