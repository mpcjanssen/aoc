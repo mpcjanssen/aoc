{
 "cells": [
  {
   "cell_type": "code",
   "execution_count": 1,
   "metadata": {},
   "outputs": [
    {
     "name": "stderr",
     "output_type": "stream",
     "text": [
      "Execution error (FileNotFoundException) at day7/eval3974 (REPL:2).\n",
      "Could not locate clojure/core/matrix__init.class, clojure/core/matrix.clj or clojure/core/matrix.cljc on classpath.\n"
     ]
    },
    {
     "ename": "class java.io.FileNotFoundException",
     "evalue": "",
     "output_type": "error",
     "traceback": [
      "    RT.java:   462 clojure.lang.RT/load                                   ",
      "   core.clj:  6126 clojure.core$load$fn__6839/invoke                      ",
      "   core.clj:  6125 clojure.core$load/invokeStatic                         ",
      "   core.clj:  6109 clojure.core$load/doInvoke                             ",
      "RestFn.java:   408 clojure.lang.RestFn/invoke                             ",
      "   core.clj:  5908 clojure.core$load_one/invokeStatic                     ",
      "   core.clj:  5903 clojure.core$load_one/invoke                           ",
      "   core.clj:  5948 clojure.core$load_lib$fn__6780/invoke                  ",
      "   core.clj:  5947 clojure.core$load_lib/invokeStatic                     ",
      "   core.clj:  5928 clojure.core$load_lib/doInvoke                         ",
      "RestFn.java:   142 clojure.lang.RestFn/applyTo                            ",
      "   core.clj:   667 clojure.core$apply/invokeStatic                        ",
      "   core.clj:  5985 clojure.core$load_libs/invokeStatic                    ",
      "   core.clj:  5969 clojure.core$load_libs/doInvoke                        ",
      "RestFn.java:   137 clojure.lang.RestFn/applyTo                            ",
      "   core.clj:   667 clojure.core$apply/invokeStatic                        ",
      "   core.clj:  6007 clojure.core$require/invokeStatic                      ",
      "RestFn.java:   408 clojure.lang.RestFn/invoke                             ",
      "   core.clj:  3214 clojure.core$eval/invokeStatic                         ",
      "   core.clj:  3210 clojure.core$eval/invoke                               ",
      "   main.clj:   437 clojure.main$repl$read_eval_print__9086$fn__9089/invoke",
      "   main.clj:   458 clojure.main$repl$fn__9095/invoke                      ",
      "   main.clj:   368 clojure.main$repl/doInvoke                             ",
      "RestFn.java:  1523 clojure.lang.RestFn/invoke                             ",
      "   AFn.java:    22 clojure.lang.AFn/run                                   ",
      "   AFn.java:    22 clojure.lang.AFn/run                                   ",
      "Thread.java:   834 java.lang.Thread/run                                   "
     ]
    }
   ],
   "source": [
    "(ns day7)\n",
    "    (require  \n",
    "     '[clojure.core.matrix :as m]\n",
    "     )\n",
    "*ns*"
   ]
  },
  {
   "cell_type": "code",
   "execution_count": 2,
   "metadata": {},
   "outputs": [
    {
     "data": {
      "text/plain": [
       "[1102 34463338 34463338 63 1007 63 34463338 63 1005 63 53 1102 3 1 1000 109 988 209 12 9 1000 209 6 209 3 203 0 1008 1000 1 63 1005 63 65 1008 1000 2 63 1005 63 904 1008 1000 0 63 1005 63 58 4 25 104 0 99 4 0 104 0 99 4 17 104 0 99 0 0 1101 20 0 1007 1101 0 197 1022 1102 475 1 1028 1102 30 1 1008 1101 25 0 1010 1102 1 23 1009 1101 0 22 1013 1101 470 0 1029 1102 24 1 1014 1102 1 39 1005 1101 31 0 1003 1101 807 0 1026 1101 0 26 1018 1102 1 804 1027 1101 0 0 1020 1102 1 38 1017 1101 0 27 1016 1102 443 1 1024 1101 0 36 1006 1102 21 1 1015 1101 28 0 1001 1102 33 1 1019 1102 1 37 1011 1102 1 190 1023 1101 0 434 1025 1101 34 0 1004 1102 1 1 1021 1101 0 29 1012 1102 1 32 1002 1101 35 0 1000 109 30 2105 1 -7 1001 64 1 64 1105 1 199 4 187 1002 64 2 64 109 -23 2101 0 -5 63 1008 63 32 63 1005 63 225 4 205 1001 64 1 64 1105 1 225 1002 64 2 64 109 7 2102 1 -5 63 1008 63 23 63 1005 63 251 4 231 1001 64 1 64 1106 0 251 1002 64 2 64 109 -16 2101 0 2 63 1008 63 33 63 1005 63 275 1001 64 1 64 1106 0 277 4 257 1002 64 2 64 109 10 21102 40 1 4 1008 1012 40 63 1005 63 299 4 283 1106 0 303 1001 64 1 64 1002 64 2 64 109 7 2102 1 -9 63 1008 63 33 63 1005 63 327 1001 64 1 64 1105 1 329 4 309 1002 64 2 64 109 -17 2107 34 2 63 1005 63 347 4 335 1105 1 351 1001 64 1 64 1002 64 2 64 109 1 1201 8 0 63 1008 63 23 63 1005 63 375 1001 64 1 64 1106 0 377 4 357 1002 64 2 64 109 -4 2108 31 8 63 1005 63 395 4 383 1105 1 399 1001 64 1 64 1002 64 2 64 109 3 1201 8 0 63 1008 63 36 63 1005 63 421 4 405 1105 1 425 1001 64 1 64 1002 64 2 64 109 25 2105 1 1 4 431 1001 64 1 64 1105 1 443 1002 64 2 64 109 -3 1205 0 459 1001 64 1 64 1106 0 461 4 449 1002 64 2 64 109 -2 2106 0 10 4 467 1106 0 479 1001 64 1 64 1002 64 2 64 109 12 1206 -9 495 1001 64 1 64 1106 0 497 4 485 1002 64 2 64 109 -39 1207 9 36 63 1005 63 519 4 503 1001 64 1 64 1105 1 519 1002 64 2 64 109 11 1202 -1 1 63 1008 63 28 63 1005 63 541 4 525 1105 1 545 1001 64 1 64 1002 64 2 64 109 6 2107 24 1 63 1005 63 565 1001 64 1 64 1106 0 567 4 551 1002 64 2 64 109 1 1207 -3 35 63 1005 63 583 1106 0 589 4 573 1001 64 1 64 1002 64 2 64 109 1 21102 41 1 5 1008 1015 40 63 1005 63 613 1001 64 1 64 1105 1 615 4 595 1002 64 2 64 109 -2 2108 22 1 63 1005 63 635 1001 64 1 64 1105 1 637 4 621 1002 64 2 64 109 -10 1208 4 33 63 1005 63 653 1106 0 659 4 643 1001 64 1 64 1002 64 2 64 109 16 1206 6 673 4 665 1106 0 677 1001 64 1 64 1002 64 2 64 109 -4 1202 -8 1 63 1008 63 35 63 1005 63 701 1001 64 1 64 1105 1 703 4 683 1002 64 2 64 109 13 21108 42 42 -8 1005 1015 721 4 709 1105 1 725 1001 64 1 64 1002 64 2 64 109 -18 21107 43 44 5 1005 1010 743 4 731 1106 0 747 1001 64 1 64 1002 64 2 64 109 -11 1208 8 32 63 1005 63 765 4 753 1106 0 769 1001 64 1 64 1002 64 2 64 109 15 21101 44 0 5 1008 1014 47 63 1005 63 789 1105 1 795 4 775 1001 64 1 64 1002 64 2 64 109 13 2106 0 5 1106 0 813 4 801 1001 64 1 64 1002 64 2 64 109 -12 21108 45 43 0 1005 1010 829 1106 0 835 4 819 1001 64 1 64 1002 64 2 64 109 -4 21107 46 45 10 1005 1016 855 1001 64 1 64 1106 0 857 4 841 1002 64 2 64 109 3 21101 47 0 5 1008 1014 47 63 1005 63 883 4 863 1001 64 1 64 1106 0 883 1002 64 2 64 109 10 1205 2 901 4 889 1001 64 1 64 1105 1 901 4 64 99 21102 27 1 1 21102 915 1 0 1106 0 922 21201 1 13433 1 204 1 99 109 3 1207 -2 3 63 1005 63 964 21201 -2 -1 1 21101 0 942 0 1106 0 922 22102 1 1 -1 21201 -2 -3 1 21102 1 957 0 1105 1 922 22201 1 -1 -2 1106 0 968 21202 -2 1 -2 109 -3 2106 0 0]"
      ]
     },
     "execution_count": 2,
     "metadata": {},
     "output_type": "execute_result"
    }
   ],
   "source": [
    "(defn mem []\n",
    "        (mapv read-string (-> (slurp \"data/day09.txt\")\n",
    "(clojure.string/split #\",\"))))\n",
    "(mem)\n"
   ]
  },
  {
   "cell_type": "code",
   "execution_count": 3,
   "metadata": {},
   "outputs": [
    {
     "data": {
      "text/plain": [
       "100"
      ]
     },
     "execution_count": 3,
     "metadata": {},
     "output_type": "execute_result"
    }
   ],
   "source": [
    "(defn pow [x n]\n",
    "    (apply * (repeat n x)))\n",
    "\n",
    " (pow 10 2)"
   ]
  },
  {
   "cell_type": "code",
   "execution_count": 4,
   "metadata": {},
   "outputs": [
    {
     "data": {
      "text/plain": [
       ":pos"
      ]
     },
     "execution_count": 4,
     "metadata": {},
     "output_type": "execute_result"
    }
   ],
   "source": [
    "(defn opcode [{:keys [mem ip]}]\n",
    "    (mem ip 0))\n",
    "\n",
    "(defn param [state n]\n",
    "    (let [{:keys [mem ip]} state]\n",
    "    (mem (+ ip n) 0)))\n",
    "\n",
    "(defn operation [opcode]\n",
    "           (mod opcode 100))\n",
    "\n",
    "(defn mode [opcode n] \n",
    "    (case (mod \n",
    "     (quot opcode \n",
    "           (pow 10 (inc n)))\n",
    "     10) 0 :pos 1 :imm 2 :rel))\n",
    "    \n",
    "\n",
    "(defn paramval [state n]\n",
    "    (let [raw (param state n)]\n",
    "      ;;  (println raw)\n",
    "    (or (case (mode (opcode state) n)\n",
    "        :imm (param state n)\n",
    "        :pos ((state :mem) (param state n) 0)\n",
    "        :rel ((state :mem) (+ (state :base) (param state n)) 0)\n",
    "        )\n",
    "    0 )))\n",
    "\n",
    "(defn targetval [state n]\n",
    "    (case (mode (opcode state) n)\n",
    "       :rel (+ (state :base) (param state n))\n",
    "        (param state n)\n",
    "        )\n",
    " )\n",
    "\n",
    "\n",
    "(mode 1001 1)\n",
    ";; (run mem)\n",
    "\n"
   ]
  },
  {
   "cell_type": "code",
   "execution_count": 5,
   "metadata": {},
   "outputs": [
    {
     "data": {
      "text/plain": [
       "#'day7/doinput"
      ]
     },
     "execution_count": 5,
     "metadata": {},
     "output_type": "execute_result"
    }
   ],
   "source": [
    "(defn doinput [state]\n",
    "    (let [\n",
    "          {:keys [mem input base]} state\n",
    "          mode (mode (opcode state) 1)\n",
    "          param1 (targetval state 1)\n",
    "          ;;_ (println (str \"tar: \" param1 \" \" mode))\n",
    "          mem (assoc mem param1  (first input))\n",
    "          ]\n",
    "        (update (assoc state :mem mem :yield false) \n",
    "                        :ip +  2)\n",
    "        ))\n",
    "    \n"
   ]
  },
  {
   "cell_type": "code",
   "execution_count": 6,
   "metadata": {},
   "outputs": [
    {
     "data": {
      "text/plain": [
       "#'day7/dooutput"
      ]
     },
     "execution_count": 6,
     "metadata": {},
     "output_type": "execute_result"
    }
   ],
   "source": [
    "(defn dooutput [state]\n",
    "    (let [\n",
    "          param1 (paramval state 1)\n",
    "    \n",
    "          ]\n",
    "        (update (update state :ip + 2)\n",
    "               :output conj param1 ) \n",
    "         \n",
    "         )\n",
    "        \n",
    "        )\n",
    "    "
   ]
  },
  {
   "cell_type": "code",
   "execution_count": 7,
   "metadata": {},
   "outputs": [
    {
     "data": {
      "text/plain": [
       "#'day7/dobase"
      ]
     },
     "execution_count": 7,
     "metadata": {},
     "output_type": "execute_result"
    }
   ],
   "source": [
    "(defn dobase [state]\n",
    "\n",
    "    (let [\n",
    "        \n",
    "          param1 (paramval state 1)\n",
    "          ;;_ (println \"xxxx\")\n",
    "          ;;_ (println param1)\n",
    "\n",
    "          newstate (update (update state :ip + 2)\n",
    "               :base + param1 )\n",
    "          ;;_ (println newstate)] newstate\n",
    "          ] newstate\n",
    "        \n",
    "        ))\n",
    "    "
   ]
  },
  {
   "cell_type": "code",
   "execution_count": 8,
   "metadata": {},
   "outputs": [
    {
     "data": {
      "text/plain": [
       "#'day7/domult"
      ]
     },
     "execution_count": 8,
     "metadata": {},
     "output_type": "execute_result"
    }
   ],
   "source": [
    "(defn domult [state]\n",
    "    (let [\n",
    "        param1 (paramval state 1)\n",
    "        param2 (paramval state 2)\n",
    "        target (targetval state 3)\n",
    "    \n",
    "          mem (assoc (state :mem) target (* param1 param2))\n",
    "          \n",
    "          ]\n",
    "        ;;(println (str target \",\" param1 \",\" param2))\n",
    "        (update (assoc state :mem mem) :ip + 4)\n",
    "        )\n",
    "    )"
   ]
  },
  {
   "cell_type": "code",
   "execution_count": 9,
   "metadata": {},
   "outputs": [
    {
     "data": {
      "text/plain": [
       "#'day7/doplus"
      ]
     },
     "execution_count": 9,
     "metadata": {},
     "output_type": "execute_result"
    }
   ],
   "source": [
    "(defn doplus [state]\n",
    "    (let [\n",
    "        param1 (paramval state 1)\n",
    "        param2 (paramval state 2)\n",
    "        target (targetval state 3)\n",
    "    \n",
    "          mem (assoc (state :mem) target (+ param1 param2))\n",
    "          \n",
    "          ]\n",
    "       ;; (println (str target \",\" param1 \",\" param2))\n",
    "        (update (assoc state :mem mem) :ip + 4)\n",
    "        )\n",
    "    )"
   ]
  },
  {
   "cell_type": "code",
   "execution_count": 10,
   "metadata": {},
   "outputs": [
    {
     "data": {
      "text/plain": [
       "#'day7/doequals"
      ]
     },
     "execution_count": 10,
     "metadata": {},
     "output_type": "execute_result"
    }
   ],
   "source": [
    "(defn doequals [state]\n",
    "    (let [\n",
    "        param1 (paramval state 1)\n",
    "        param2 (paramval state 2)\n",
    "        target (targetval state 3)\n",
    "        res (if (= param1 param2) 1 0)   \n",
    "          mem (assoc (state :mem) target res)         \n",
    "          ]\n",
    "       ;; (println (str target \",\" param1 \",\" param2))\n",
    "        (update (assoc state :mem mem) :ip + 4)\n",
    "        )\n",
    "    )"
   ]
  },
  {
   "cell_type": "code",
   "execution_count": 11,
   "metadata": {},
   "outputs": [
    {
     "data": {
      "text/plain": [
       "#'day7/doless"
      ]
     },
     "execution_count": 11,
     "metadata": {},
     "output_type": "execute_result"
    }
   ],
   "source": [
    "(defn doless [state]\n",
    "    (let [\n",
    "        param1 (paramval state 1)\n",
    "        param2 (paramval state 2)\n",
    "        target (targetval state 3)\n",
    "        res (if (< param1 param2) 1 0)  \n",
    "        mem (assoc (state :mem) target res)\n",
    "          ]\n",
    "        ;;(println (str target \",\" param1 \",\" param2))\n",
    "        (update (assoc state :mem mem) :ip + 4)\n",
    "        )\n",
    "    )"
   ]
  },
  {
   "cell_type": "code",
   "execution_count": 12,
   "metadata": {},
   "outputs": [
    {
     "data": {
      "text/plain": [
       "#'day7/dojumptrue"
      ]
     },
     "execution_count": 12,
     "metadata": {},
     "output_type": "execute_result"
    }
   ],
   "source": [
    "(defn dojumptrue [state]\n",
    "    (let [\n",
    "        param1 (paramval state 1)\n",
    "        param2 (paramval state 2)         \n",
    "          ]\n",
    "    (if (not (zero? param1))\n",
    "        (assoc state :ip param2)     \n",
    "        (update state :ip + 3)\n",
    "        )\n",
    "    ))"
   ]
  },
  {
   "cell_type": "code",
   "execution_count": 13,
   "metadata": {},
   "outputs": [
    {
     "data": {
      "text/plain": [
       "#'day7/dojumpfalse"
      ]
     },
     "execution_count": 13,
     "metadata": {},
     "output_type": "execute_result"
    }
   ],
   "source": [
    "(defn dojumpfalse [state]\n",
    "    (let [\n",
    "    \n",
    "        param1 (paramval state 1)\n",
    "        param2 (paramval state 2)\n",
    "    \n",
    "\n",
    "          \n",
    "          ]\n",
    "    (if  (zero? param1)\n",
    "        (assoc state :ip param2)     \n",
    "        (update state :ip + 3)\n",
    "        )\n",
    "    ))"
   ]
  },
  {
   "cell_type": "code",
   "execution_count": 14,
   "metadata": {},
   "outputs": [
    {
     "data": {
      "text/plain": [
       "#'day7/step"
      ]
     },
     "execution_count": 14,
     "metadata": {},
     "output_type": "execute_result"
    }
   ],
   "source": [
    "\n",
    "\n",
    "(defn step [state] \n",
    "    ;;(println state)\n",
    "    ;;(println pos)\n",
    "        (let [\n",
    "          oc (opcode state)\n",
    "          op (operation oc)\n",
    "          ]\n",
    "    ;;(println oc)\n",
    "              \n",
    "    (case op\n",
    "        1 (doplus state)\n",
    "        2 (domult state)\n",
    "        3 (doinput state)\n",
    "        4 (dooutput state)\n",
    "        5 (dojumptrue state)\n",
    "        6 (dojumpfalse state)\n",
    "        7 (doless state)\n",
    "        8 (doequals state)\n",
    "       9 (dobase state)\n",
    "        99 (assoc state :halted true)\n",
    "        (throw \n",
    "         (Exception. \n",
    "          (str \"unknown op \" operation))))))\n",
    "     \n"
   ]
  },
  {
   "cell_type": "code",
   "execution_count": 15,
   "metadata": {},
   "outputs": [
    {
     "data": {
      "text/plain": [
       "#'day7/dump-state"
      ]
     },
     "execution_count": 15,
     "metadata": {},
     "output_type": "execute_result"
    }
   ],
   "source": [
    "(defn init-prog [mem input]\n",
    "              \n",
    "        { :mem (into {}\n",
    "          (map-indexed vector mem))\n",
    "         :input  input\n",
    "                \n",
    "         :output [] :base 0 :ip 0 :halted false :yield false} \n",
    "    )\n",
    "    \n",
    " \n",
    "     \n",
    "(defn dump-state [{:keys [halted newout input output]}]\n",
    "    (\n",
    "     \n",
    "     \"halted: \" halted\n",
    "         \", newout: \" newout\n",
    "         \", input: \" input\n",
    "         \", output: \" output\n",
    "         ))\n",
    "\n",
    "\n",
    ";;(init-amps [1 2])    \n",
    "     \n",
    "  \n"
   ]
  },
  {
   "cell_type": "code",
   "execution_count": 16,
   "metadata": {},
   "outputs": [
    {
     "data": {
      "text/plain": [
       "#'day7/run"
      ]
     },
     "execution_count": 16,
     "metadata": {},
     "output_type": "execute_result"
    }
   ],
   "source": [
    "(defn run [mem input]\n",
    "     (let \n",
    "         [\n",
    "          prog (init-prog mem input)\n",
    "          \n",
    "          ]\n",
    "        ;; (take 5 (iterate step prog))))\n",
    "        (first (filter #(:halted %)(iterate step prog)))))\n",
    "         \n",
    "         \n",
    "\n",
    "  \n",
    "\n"
   ]
  },
  {
   "cell_type": "code",
   "execution_count": 17,
   "metadata": {
    "scrolled": false
   },
   "outputs": [
    {
     "data": {
      "text/plain": [
       "{:mem {0 1102, 893 889, 920 1, 558 1001, 453 64, 584 573, 487 495, 637 1002, 972 0, 519 1002, ...}, :input [1], :output [2682107844], :base 1019, :ip 903, :halted true, :yield false}"
      ]
     },
     "execution_count": 17,
     "metadata": {},
     "output_type": "execute_result"
    }
   ],
   "source": [
    " (set! *print-length* 10)\n",
    ";; (run (read-string \"[109,1,204,-1,1001,100,1,100,1008,100,16,101,1006,101,0,99]\") [])\n",
    ";; (run (read-string \"[1102,34915192,34915192,7,4,7,99,0]\") [])\n",
    ";;(run (read-string \"[104,1125899906842624,99]\") [])\n",
    "(run (mem) [1])\n",
    "\n"
   ]
  },
  {
   "cell_type": "code",
   "execution_count": 18,
   "metadata": {
    "scrolled": false
   },
   "outputs": [
    {
     "name": "stdout",
     "output_type": "stream",
     "text": [
      "\"Elapsed time: 939.966037 msecs\"\n"
     ]
    },
    {
     "data": {
      "text/plain": [
       "{:mem {0 1102, 893 889, 920 1, 558 1001, 453 64, 584 573, 487 495, 637 1002, 972 0, 519 1002, ...}, :input [2], :output [34738], :base 1000, :ip 921, :halted true, :yield false}"
      ]
     },
     "execution_count": 18,
     "metadata": {},
     "output_type": "execute_result"
    }
   ],
   "source": [
    " (set! *print-length* 10)\n",
    ";; (run (read-string \"[109,1,204,-1,1001,100,1,100,1008,100,16,101,1006,101,0,99]\") [])\n",
    ";; (run (read-string \"[1102,34915192,34915192,7,4,7,99,0]\") [])\n",
    ";;(run (read-string \"[104,1125899906842624,99]\") [])\n",
    "(time (run (mem) [2]))\n",
    "\n"
   ]
  },
  {
   "cell_type": "code",
   "execution_count": null,
   "metadata": {},
   "outputs": [],
   "source": []
  }
 ],
 "metadata": {
  "kernelspec": {
   "display_name": "Clojure (clojupyter-0.2.3)",
   "language": "clojure",
   "name": "clojupyter-0.2.3"
  },
  "language_info": {
   "file_extension": ".clj",
   "mimetype": "text/x-clojure",
   "name": "clojure",
   "version": "1.10.1"
  }
 },
 "nbformat": 4,
 "nbformat_minor": 2
}
