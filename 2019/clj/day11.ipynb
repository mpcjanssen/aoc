{
 "cells": [
  {
   "cell_type": "code",
   "execution_count": 3,
   "metadata": {},
   "outputs": [
    {
     "data": {
      "text/plain": [
       "#'user/mem"
      ]
     },
     "execution_count": 3,
     "metadata": {},
     "output_type": "execute_result"
    }
   ],
   "source": [
    "(defn mem []\n",
    "        (mapv read-string (-> (slurp \"data/day11.txt\")\n",
    "(clojure.string/split #\",\"))))\n",
    ";;(mem)\n"
   ]
  },
  {
   "cell_type": "code",
   "execution_count": 5,
   "metadata": {},
   "outputs": [
    {
     "data": {
      "text/plain": [
       "#'user/doinput"
      ]
     },
     "execution_count": 5,
     "metadata": {},
     "output_type": "execute_result"
    }
   ],
   "source": [
    "(defn pow [x n]\n",
    "    (apply * (repeat n x)))\n",
    "\n",
    " (pow 10 2)\n",
    "\n",
    "(defn opcode [{:keys [mem ip]}]\n",
    "    ;;(println mem)\n",
    "    (get mem ip 0))\n",
    "\n",
    "(defn param [state n]\n",
    "    (let [{:keys [mem ip]} state]\n",
    "    (get mem (+ ip n) 0)))\n",
    "\n",
    "(defn operation [opcode]\n",
    "           (mod opcode 100))\n",
    "\n",
    "(defn mode [opcode n] \n",
    "    (case (mod \n",
    "     (quot opcode \n",
    "           (pow 10 (inc n)))\n",
    "     10) 0 :pos 1 :imm 2 :rel))\n",
    "    \n",
    "\n",
    "(defn paramval [state n]\n",
    "    (let [raw (param state n)]\n",
    "      ;;  (println raw)\n",
    "    (or (case (mode (opcode state) n)\n",
    "        :imm (param state n)\n",
    "        :pos ((:mem state) (param state n) 0)\n",
    "        :rel ((:mem state) (+ (:base state) (param state n)) 0)\n",
    "        )\n",
    "    0 )))\n",
    "\n",
    "(defn targetval [state n]\n",
    "    (case (mode (opcode state) n)\n",
    "       :rel (+ (:base state) (param state n))\n",
    "        (param state n)\n",
    "        )\n",
    " )\n",
    "\n",
    "\n",
    "(mode 1001 1)\n",
    ";; (run mem)\n",
    "\n",
    "\n",
    "\n",
    "(defn doinput [state]\n",
    "  ;;  (println state)\n",
    "    \n",
    " ;;   (dump-state state)\n",
    "    (if (seq (:input state))\n",
    "    (let [\n",
    "          {:keys [mem input base]} state\n",
    "          mode (mode (opcode state) 1)\n",
    "          param1 (targetval state 1)\n",
    "          ;;_ (println (str \"tar: \" param1 \" \" mode))\n",
    "          mem (assoc mem param1  (first input))\n",
    "          ]\n",
    "        (update (update (assoc state :mem mem) \n",
    "                        :ip +  2) :input rest)\n",
    "        )\n",
    "    (assoc state :signal :input)))\n",
    "    "
   ]
  },
  {
   "cell_type": "code",
   "execution_count": 6,
   "metadata": {},
   "outputs": [
    {
     "data": {
      "text/plain": [
       "#'user/dooutput"
      ]
     },
     "execution_count": 6,
     "metadata": {},
     "output_type": "execute_result"
    }
   ],
   "source": [
    "(defn dooutput [state]\n",
    "    (let [\n",
    "          param1 (paramval state 1)\n",
    "    \n",
    "          ]\n",
    "        (update (update state :ip + 2)\n",
    "               :output conj param1 ) \n",
    "         \n",
    "         )\n",
    "        \n",
    "        )\n",
    "    "
   ]
  },
  {
   "cell_type": "code",
   "execution_count": 6,
   "metadata": {},
   "outputs": [
    {
     "data": {
      "text/plain": [
       "#'user/dobase"
      ]
     },
     "execution_count": 6,
     "metadata": {},
     "output_type": "execute_result"
    }
   ],
   "source": [
    "(defn dobase [state]\n",
    "\n",
    "    (let [\n",
    "        \n",
    "          param1 (paramval state 1)\n",
    "          ;;_ (println \"xxxx\")\n",
    "          ;;_ (println param1)\n",
    "\n",
    "          newstate (update (update state :ip + 2)\n",
    "               :base + param1 )\n",
    "          ;;_ (println newstate)] newstate\n",
    "          ] newstate\n",
    "        \n",
    "        ))\n",
    "    "
   ]
  },
  {
   "cell_type": "code",
   "execution_count": 130,
   "metadata": {},
   "outputs": [
    {
     "data": {
      "text/plain": [
       "#'user/domult"
      ]
     },
     "execution_count": 130,
     "metadata": {},
     "output_type": "execute_result"
    }
   ],
   "source": [
    "(defn domult [state]\n",
    "    (let [\n",
    "        param1 (paramval state 1)\n",
    "        param2 (paramval state 2)\n",
    "        target (targetval state 3)\n",
    "    \n",
    "          mem (assoc (:mem state) target (* param1 param2))\n",
    "          \n",
    "          ]\n",
    "        ;;(println (str target \",\" param1 \",\" param2))\n",
    "        (update (assoc state :mem mem) :ip + 4)\n",
    "        )\n",
    "    )"
   ]
  },
  {
   "cell_type": "code",
   "execution_count": 131,
   "metadata": {},
   "outputs": [
    {
     "data": {
      "text/plain": [
       "#'user/doplus"
      ]
     },
     "execution_count": 131,
     "metadata": {},
     "output_type": "execute_result"
    }
   ],
   "source": [
    "(defn doplus [state]\n",
    "    (let [\n",
    "        param1 (paramval state 1)\n",
    "        param2 (paramval state 2)\n",
    "        target (targetval state 3)\n",
    "    \n",
    "          mem (assoc (:mem state) target (+ param1 param2))\n",
    "          \n",
    "          ]\n",
    "       ;; (println (str target \",\" param1 \",\" param2))\n",
    "        (update (assoc state :mem mem) :ip + 4)\n",
    "        )\n",
    "    )"
   ]
  },
  {
   "cell_type": "code",
   "execution_count": 132,
   "metadata": {},
   "outputs": [
    {
     "data": {
      "text/plain": [
       "#'user/doequals"
      ]
     },
     "execution_count": 132,
     "metadata": {},
     "output_type": "execute_result"
    }
   ],
   "source": [
    "(defn doequals [state]\n",
    "    (let [\n",
    "        param1 (paramval state 1)\n",
    "        param2 (paramval state 2)\n",
    "        target (targetval state 3)\n",
    "        res (if (= param1 param2) 1 0)   \n",
    "          mem (assoc (:mem state) target res)         \n",
    "          ]\n",
    "       ;; (println (str target \",\" param1 \",\" param2))\n",
    "        (update (assoc state :mem mem) :ip + 4)\n",
    "        )\n",
    "    )"
   ]
  },
  {
   "cell_type": "code",
   "execution_count": 133,
   "metadata": {},
   "outputs": [
    {
     "data": {
      "text/plain": [
       "#'user/doless"
      ]
     },
     "execution_count": 133,
     "metadata": {},
     "output_type": "execute_result"
    }
   ],
   "source": [
    "(defn doless [state]\n",
    "    (let [\n",
    "        param1 (paramval state 1)\n",
    "        param2 (paramval state 2)\n",
    "        target (targetval state 3)\n",
    "        res (if (< param1 param2) 1 0)  \n",
    "        mem (assoc (:mem state) target res)\n",
    "          ]\n",
    "        ;;(println (str target \",\" param1 \",\" param2))\n",
    "        (update (assoc state :mem mem) :ip + 4)\n",
    "        )\n",
    "    )"
   ]
  },
  {
   "cell_type": "code",
   "execution_count": 11,
   "metadata": {},
   "outputs": [
    {
     "data": {
      "text/plain": [
       "#'user/dojumptrue"
      ]
     },
     "execution_count": 11,
     "metadata": {},
     "output_type": "execute_result"
    }
   ],
   "source": [
    "(defn dojumptrue [state]\n",
    "    (let [\n",
    "        param1 (paramval state 1)\n",
    "        param2 (paramval state 2)         \n",
    "          ]\n",
    "    (if (not (zero? param1))\n",
    "        (assoc state :ip param2)     \n",
    "        (update state :ip + 3)\n",
    "        )\n",
    "    ))"
   ]
  },
  {
   "cell_type": "code",
   "execution_count": 12,
   "metadata": {},
   "outputs": [
    {
     "data": {
      "text/plain": [
       "#'user/dojumpfalse"
      ]
     },
     "execution_count": 12,
     "metadata": {},
     "output_type": "execute_result"
    }
   ],
   "source": [
    "(defn dojumpfalse [state]\n",
    "    (let [\n",
    "    \n",
    "        param1 (paramval state 1)\n",
    "        param2 (paramval state 2)\n",
    "    \n",
    "\n",
    "          \n",
    "          ]\n",
    "    (if  (zero? param1)\n",
    "        (assoc state :ip param2)     \n",
    "        (update state :ip + 3)\n",
    "        )\n",
    "    ))"
   ]
  },
  {
   "cell_type": "code",
   "execution_count": 126,
   "metadata": {},
   "outputs": [
    {
     "data": {
      "text/plain": [
       "#'user/step"
      ]
     },
     "execution_count": 126,
     "metadata": {},
     "output_type": "execute_result"
    }
   ],
   "source": [
    "\n",
    "\n",
    "(defn step [state] \n",
    "    ;;(println (state)\n",
    "    ;;(println pos)\n",
    "        (let [\n",
    "          oc (opcode state)\n",
    "           ;;   _ (println oc)\n",
    "          op (operation oc)\n",
    "          ]\n",
    "    ;;(println oc)\n",
    "              \n",
    "    (case op\n",
    "        1 (doplus state)\n",
    "        2 (domult state)\n",
    "        3 (doinput state)\n",
    "        4 (dooutput state)\n",
    "        5 (dojumptrue state)\n",
    "        6 (dojumpfalse state)\n",
    "        7 (doless state)\n",
    "        8 (doequals state)\n",
    "       9 (dobase state)\n",
    "        99 (assoc state :signal :halt)\n",
    "        (throw \n",
    "         (Exception. \n",
    "          (str \"unknown op \" operation))))))\n",
    "     \n"
   ]
  },
  {
   "cell_type": "code",
   "execution_count": 88,
   "metadata": {},
   "outputs": [
    {
     "data": {
      "text/plain": [
       "user.Intcode"
      ]
     },
     "execution_count": 88,
     "metadata": {},
     "output_type": "execute_result"
    }
   ],
   "source": [
    "(defrecord Intcode [mem input output base ip signal])"
   ]
  },
  {
   "cell_type": "code",
   "execution_count": 118,
   "metadata": {},
   "outputs": [
    {
     "data": {
      "text/plain": [
       "#user.Intcode{:mem {0 1, 1 2}, :input (), :output [], :base 0, :ip 0, :signal nil}"
      ]
     },
     "execution_count": 118,
     "metadata": {},
     "output_type": "execute_result"
    }
   ],
   "source": [
    "\n",
    "\n",
    "(defn init-prog [mem]\n",
    "       ;; (println input)\n",
    "        (Intcode.\n",
    "          (into {} (map-indexed vector mem))\n",
    "          ()\n",
    "                \n",
    "          []  0  0  nil) )\n",
    "    \n",
    " (defn clear-signal [prog]\n",
    "     (assoc prog :signal nil))\n",
    "     \n",
    "(defn dump-state [{:keys [signal input output]}]\n",
    "    (str   \"signal: \" signal\n",
    "         \", input: \" input\n",
    "         \", output: \" output\n",
    "         ))\n",
    "\n",
    "\n",
    "(init-prog [1 2])    \n",
    "     \n",
    "  \n"
   ]
  },
  {
   "cell_type": "code",
   "execution_count": 121,
   "metadata": {},
   "outputs": [
    {
     "data": {
      "text/plain": [
       "#'user/run-to-signal"
      ]
     },
     "execution_count": 121,
     "metadata": {},
     "output_type": "execute_result"
    }
   ],
   "source": [
    "(defn run-to-signal [prog input]\n",
    "    (let [\n",
    "          prog \n",
    "          (clear-signal (assoc prog :input input))\n",
    "          ]\n",
    "   ;; (println input)\n",
    "        ;; (take 5 (iterate step prog))))\n",
    "        (first (filter #(:signal %) (iterate step prog)))))\n",
    "         \n",
    "         \n",
    "\n",
    "  \n",
    "\n"
   ]
  },
  {
   "cell_type": "code",
   "execution_count": 135,
   "metadata": {
    "scrolled": false
   },
   "outputs": [
    {
     "data": {
      "text/plain": [
       "#user.Intcode{:mem {0 3, 558 10, 453 21102, 584 1, 487 4, 637 2105, 519 -3, 357 0, 716 586, 275 12, ...}, :input (), :output [0 1], :base 848, :ip 472, :signal :input}"
      ]
     },
     "execution_count": 135,
     "metadata": {},
     "output_type": "execute_result"
    }
   ],
   "source": [
    " (set! *print-length* 10)\n",
    ";; (run (read-string \"[109,1,204,-1,1001,100,1,100,1008,100,16,101,1006,101,0,99]\") [])\n",
    ";; (run (read-string \"[1102,34915192,34915192,7,4,7,99,0]\") [])\n",
    ";;(run (read-string \"[104,1125899906842624,99]\") [])\n",
    "(run-to-signal (init-prog (mem)) [1])\n",
    "\n",
    " "
   ]
  },
  {
   "cell_type": "code",
   "execution_count": 136,
   "metadata": {},
   "outputs": [
    {
     "data": {
      "text/plain": [
       "#'user/orient"
      ]
     },
     "execution_count": 136,
     "metadata": {},
     "output_type": "execute_result"
    }
   ],
   "source": [
    "(defn orient [[dx dy] newspec]\n",
    "    (case [dx dy newspec]\n",
    "        [0 1 0] [1 0]\n",
    "        [0 1 1] [-1 0]\n",
    "        \n",
    "        [0 -1 0] [-1 0]\n",
    "        [0 -1 1] [1 0]\n",
    "  \n",
    "        [1 0 0] [0 -1]\n",
    "        [1 0 1] [0 1]\n",
    "\n",
    "        [-1 0 0] [0 1]\n",
    "        [-1 0 1] [0 -1]\n",
    "     \n",
    "        )\n",
    "    ) "
   ]
  },
  {
   "cell_type": "code",
   "execution_count": 149,
   "metadata": {},
   "outputs": [
    {
     "data": {
      "text/plain": [
       "#'user/paint-hull"
      ]
     },
     "execution_count": 149,
     "metadata": {},
     "output_type": "execute_result"
    }
   ],
   "source": [
    "(defn- continue-paint-hull [hull robot]\n",
    "      ;;(println  (robot :prog))\n",
    "       (let \n",
    "           [\n",
    "             color (hull (robot :pos) 0 )\n",
    "            ;;_ (println (str color \", \" (robot :orient)))\n",
    "            res (run-to-signal (robot :prog) [color])\n",
    "            ;;_ (println res)\n",
    "            signal (:signal res)\n",
    "            [newcol orientspec] (:output res)\n",
    "            newhull (assoc hull (robot :pos) newcol)\n",
    "            [dx dy] (orient (robot :orient) orientspec)\n",
    "            [cx cy] (robot :pos)\n",
    "            newpos [(+ cx dx) (+ cy dy)]\n",
    "            newrobot {\n",
    "                :pos newpos\n",
    "                :orient [dx dy]\n",
    "                :prog (assoc res :output [])}\n",
    "             ]\n",
    "           (case signal\n",
    "               :input (recur newhull newrobot)\n",
    "                :halt newhull\n",
    "                :error)\n",
    "       ))\n",
    "\n",
    "(defn paint-hull [mem]\n",
    "    (let [\n",
    "     hull {}\n",
    "     robot \n",
    "     {:pos [0 0]\n",
    "      :orient [0 -1]\n",
    "      :prog (init-prog mem)\n",
    "      }\n",
    "     \n",
    "     ]\n",
    "    \n",
    "    (continue-paint-hull hull robot)))"
   ]
  },
  {
   "cell_type": "code",
   "execution_count": 150,
   "metadata": {},
   "outputs": [
    {
     "data": {
      "text/plain": [
       "1785"
      ]
     },
     "execution_count": 150,
     "metadata": {},
     "output_type": "execute_result"
    }
   ],
   "source": [
    " (count (paint-hull (mem)))"
   ]
  },
  {
   "cell_type": "code",
   "execution_count": 151,
   "metadata": {},
   "outputs": [
    {
     "data": {
      "text/plain": [
       "#'user/paint-hull2"
      ]
     },
     "execution_count": 151,
     "metadata": {},
     "output_type": "execute_result"
    }
   ],
   "source": [
    "(defn paint-hull2 [mem]\n",
    "    (let [\n",
    "     hull {[0 0] 1}\n",
    "     robot \n",
    "     {:pos [0 0]\n",
    "      :orient [0 -1]\n",
    "      :prog (init-prog mem)\n",
    "      }\n",
    "     \n",
    "     ]\n",
    "    \n",
    "    (continue-paint-hull hull robot)))"
   ]
  },
  {
   "cell_type": "code",
   "execution_count": 146,
   "metadata": {},
   "outputs": [
    {
     "data": {
      "text/plain": [
       "{[42 1] 0, [7 1] 0, [38 3] 0, [15 4] 0, [13 3] 1, [28 5] 1, [23 5] 1, [10 5] 0, [11 2] 1, [4 3] 1, ...}"
      ]
     },
     "execution_count": 146,
     "metadata": {},
     "output_type": "execute_result"
    }
   ],
   "source": [
    "(def id (paint-hull2 (mem)))\n",
    "id\n"
   ]
  },
  {
   "cell_type": "code",
   "execution_count": 145,
   "metadata": {},
   "outputs": [
    {
     "data": {
      "text/plain": [
       "42"
      ]
     },
     "execution_count": 145,
     "metadata": {},
     "output_type": "execute_result"
    }
   ],
   "source": [
    "(apply max (sort (map #(first %) (keys id ))))"
   ]
  },
  {
   "cell_type": "code",
   "execution_count": 62,
   "metadata": {},
   "outputs": [
    {
     "data": {
      "text/plain": [
       "5"
      ]
     },
     "execution_count": 62,
     "metadata": {},
     "output_type": "execute_result"
    }
   ],
   "source": [
    " (last (sort (map #(last %) (keys id ))))\n",
    "\n"
   ]
  },
  {
   "cell_type": "code",
   "execution_count": 52,
   "metadata": {},
   "outputs": [
    {
     "data": {
      "text/plain": [
       "#'user/transpose"
      ]
     },
     "execution_count": 52,
     "metadata": {},
     "output_type": "execute_result"
    }
   ],
   "source": [
    "(defn transpose [m]\n",
    "  (apply mapv vector m))"
   ]
  },
  {
   "cell_type": "code",
   "execution_count": 85,
   "metadata": {},
   "outputs": [
    {
     "data": {
      "text/plain": [
       "#'user/showline"
      ]
     },
     "execution_count": 85,
     "metadata": {},
     "output_type": "execute_result"
    }
   ],
   "source": [
    "(defn showline [l]\n",
    "    (reverse (map #(if (= 0 %) \".\" \"@\") l)))"
   ]
  },
  {
   "cell_type": "code",
   "execution_count": 86,
   "metadata": {},
   "outputs": [
    {
     "name": "stdout",
     "output_type": "stream",
     "text": [
      "......\n",
      "@@@@@@\n",
      "...@..\n",
      "...@..\n",
      "@@@@@@\n",
      "......\n",
      ".@....\n",
      "@.....\n",
      "@....@\n",
      ".@@@@@\n",
      "......\n",
      "@@@@@.\n",
      "..@..@\n",
      "..@..@\n",
      "@@@@@.\n",
      "......\n",
      "@@@@@@\n",
      "@.....\n",
      "@.....\n",
      "@.....\n",
      "......\n",
      ".@....\n",
      "@.....\n",
      "@....@\n",
      ".@@@@@\n",
      "......\n",
      "@@...@\n",
      "@.@..@\n",
      "@..@.@\n",
      "@...@@\n",
      "......\n",
      "@@@@@@\n",
      "...@.@\n",
      "...@.@\n",
      ".....@\n",
      "......\n",
      "@@@@@@\n",
      "...@..\n",
      "...@..\n",
      "@@@@@@\n",
      "......\n",
      "......\n",
      "......\n"
     ]
    },
    {
     "data": {
      "text/plain": [
       "nil"
      ]
     },
     "execution_count": 86,
     "metadata": {},
     "output_type": "execute_result"
    }
   ],
   "source": [
    "(doseq [l (map #(apply str %) (map   showline (transpose (partition 43 (for [y (range  6) x (range 43)]\n",
    "   (id [x y] 0) ))) ))] (println l))\n"
   ]
  },
  {
   "cell_type": "code",
   "execution_count": 7,
   "metadata": {},
   "outputs": [
    {
     "name": "stderr",
     "output_type": "stream",
     "text": [
      "Syntax error compiling at (REPL:0:0).\n",
      "Unable to resolve symbol: %run in this context\n",
      "Syntax error (ClassNotFoundException) compiling at (REPL:0:0).\n",
      "day10.ipynb\n"
     ]
    },
    {
     "ename": "class clojure.lang.Compiler$CompilerException",
     "evalue": "",
     "output_type": "error",
     "traceback": [
      "    URLClassLoader.java:   471 java.net.URLClassLoader/findClass                      ",
      "DynamicClassLoader.java:    69 clojure.lang.DynamicClassLoader/findClass              ",
      "       ClassLoader.java:   588 java.lang.ClassLoader/loadClass                        ",
      "DynamicClassLoader.java:    77 clojure.lang.DynamicClassLoader/loadClass              ",
      "       ClassLoader.java:   521 java.lang.ClassLoader/loadClass                        ",
      "             Class.java:    -2 java.lang.Class/forName0                               ",
      "             Class.java:   398 java.lang.Class/forName                                ",
      "                RT.java:  2211 clojure.lang.RT/classForName                           ",
      "               core.clj:  3214 clojure.core$eval/invokeStatic                         ",
      "               core.clj:  3210 clojure.core$eval/invoke                               ",
      "               main.clj:   437 clojure.main$repl$read_eval_print__9086$fn__9089/invoke",
      "               main.clj:   458 clojure.main$repl$fn__9095/invoke                      ",
      "               main.clj:   368 clojure.main$repl/doInvoke                             ",
      "            RestFn.java:  1523 clojure.lang.RestFn/invoke                             ",
      "               AFn.java:    22 clojure.lang.AFn/run                                   ",
      "               AFn.java:    22 clojure.lang.AFn/run                                   ",
      "            Thread.java:   834 java.lang.Thread/run                                   "
     ]
    }
   ],
   "source": [
    "%run day10.ipynb"
   ]
  }
 ],
 "metadata": {
  "kernelspec": {
   "display_name": "Clojure (clojupyter-0.2.3)",
   "language": "clojure",
   "name": "clojupyter-0.2.3"
  },
  "language_info": {
   "file_extension": ".clj",
   "mimetype": "text/x-clojure",
   "name": "clojure",
   "version": "1.10.1"
  }
 },
 "nbformat": 4,
 "nbformat_minor": 2
}
