{
 "cells": [
  {
   "cell_type": "code",
   "execution_count": 13,
   "metadata": {},
   "outputs": [
    {
     "data": {
      "text/plain": [
       "#'user/input"
      ]
     },
     "execution_count": 13,
     "metadata": {},
     "output_type": "execute_result"
    }
   ],
   "source": [
    "(require '[clojure.string :as s])\n",
    "\n",
    "        \n",
    "         "
   ]
  },
  {
   "cell_type": "code",
   "execution_count": 199,
   "metadata": {},
   "outputs": [
    {
     "data": {
      "text/plain": [
       "#'user/parse"
      ]
     },
     "execution_count": 199,
     "metadata": {},
     "output_type": "execute_result"
    }
   ],
   "source": [
    "(defn parse-line [line]\n",
    "    (let [\n",
    "            [from to] (reverse)\n",
    "                     (map reverse (map #(s/split (s/trim %) #\"(, | )\") (s/split line #\"=>\")))\n",
    "            to (partition 2 to)\n",
    "            [compound amount] from\n",
    "            [compound (reduce\n",
    "                        #(assoc %1 (first %2) (/ (read-string (second %2)) (read-string amount)))\n",
    "                        {}\n",
    "                        to)]]))\n",
    "         \n",
    "          \n",
    "          \n",
    "\n",
    "(defn parse [input]\n",
    "    (apply \n",
    "      hash-map \n",
    "      (mapcat parse-line \n",
    "          (s/split input #\"\\n\"))))\n",
    "\n",
    "\n",
    "\n",
    "\n",
    "\n",
    "          \n",
    "          "
   ]
  },
  {
   "cell_type": "code",
   "execution_count": 200,
   "metadata": {},
   "outputs": [
    {
     "data": {
      "text/plain": [
       "{\"FDVH\" {\"NSVJL\" 1/7, \"NWNSH\" 4/7, \"THRVR\" 15/7}, \"PDVR\" {\"FWZN\" 1/7, \"TZMWG\" 3/7}, \"QWRB\" {\"LBQB\" 13/9, \"GDNG\" 1}, \"XSFVQ\" {\"PBNSF\" 10/7, \"MRVFT\" 1/7, \"BNMWF\" 11/7}, \"PRXT\" {\"PFQRG\" 9/4, \"FDVH\" 4, \"LBHQ\" 7/2}, \"VFXHC\" {\"MJQS\" 7/9}, \"SMSB\" {\"ORE\" 149/4}, \"FWZN\" {\"HMRGM\" 2/9}, \"PDCV\" {\"XVNL\" 14/5, \"PFQRG\" 4/5}, \"NWNSH\" {\"JRZXM\" 1, \"MJQS\" 6/5}, \"MHJMX\" {\"RNMKC\" 13/8, \"XSFVQ\" 5/8, \"SVSTJ\" 3/8, \"NSVJL\" 3/8, \"MRVFT\" 1, \"XRDN\" 1/2, \"HJVN\" 11/8, \"LTHFW\" 1/4}, \"THRVR\" {\"GSMP\" 1/4, \"XHPHR\" 1/4}, \"LBQB\" {\"PDVR\" 1/7, \"LDHX\" 1/7, \"TZMWG\" 15/7}, \"TZMWG\" {\"MTQCB\" 3/4, \"QZQLZ\" 3/4}, \"JCHP\" {\"ZBNCP\" 1, \"LBQB\" 32}, \"GDNG\" {\"LBHQ\" 3/4}, \"HJTD\" {\"CXNM\" 22/9}, \"BNMWF\" {\"JMWQG\" 1, \"WPFP\" 1/6, \"VJTFJ\" 8/3}, \"XRDN\" {\"VPSDV\" 1/7, \"SWZCB\" 2}, \"RNMKC\" {\"MHBZ\" 5, \"GDNG\" 2}, \"XPTXL\" {\"ORE\" 132/7}, \"WPFP\" {\"FWZN\" 13/2}, \"HJVN\" {\"XHPHR\" 3/2, \"WPFP\" 1/2}, \"SVNVJ\" {\"XRDN\" 9/5, \"SVSTJ\" 1/5, \"MHBZ\" 1/5, \"JCHP\" 11/5, \"BNMWF\" 7/5, \"NTJZH\" 9/5}, \"LTHFW\" {\"RNMKC\" 17/9, \"PDCV\" 2/9, \"SWZCB\" 2/3}, \"MJCLX\" {\"PBMPL\" 7/3, \"QZQLZ\" 7/3, \"PDVR\" 9}, \"LBHQ\" {\"CXNM\" 2/3}, \"NSVJL\" {\"XHPHR\" 5/3}, \"ZNPRL\" {\"ORE\" 151/9}, \"XVNL\" {\"MJQS\" 1, \"PRXT\" 4/3, \"PBMPL\" 14/9}, \"NTJZH\" {\"ZBNCP\" 5/3, \"JMWQG\" 11/6}, \"FUEL\" {\"GHVN\" 18, \"BNMWF\" 17, \"SVNVJ\" 1, \"QWRB\" 4, \"JMWQG\" 52, \"LDHX\" 75, \"MHJMX\" 10}, \"HMRGM\" {\"XPTXL\" 1}, \"JMWQG\" {\"LDHX\" 2/7, \"SVSTJ\" 1/7, \"XHQDX\" 1/7}, \"LDHX\" {\"ZFCD\" 3, \"MHBZ\" 5/4}, \"MTQCB\" {\"LBHQ\" 1/3, \"HMRGM\" 2/3, \"HNCDS\" 2}, \"SWZCB\" {\"PDVR\" 19/3, \"GDNG\" 1/3}, \"MRVFT\" {\"ZBNCP\" 1/3, \"DLWT\" 1/9, \"NTJZH\" 2/9}, \"DLWT\" {\"JTXWX\" 1/6, \"ZXMGK\" 7/3}, \"PFQRG\" {\"CXNM\" 1/6}, \"SVSTJ\" {\"VFXHC\" 4, \"HJTD\" 1/2}, \"ZBNCP\" {\"MHBZ\" 7/8, \"VJTFJ\" 1/8}, \"QZNCK\" {\"ZXMGK\" 5/2}, \"HNCDS\" {\"SMSB\" 5/7}, \"MHBZ\" {\"MTQCB\" 3/2, \"LBHQ\" 5/4}, \"GHVN\" {\"QZNCK\" 1/6, \"MJCLX\" 1/2, \"JCHP\" 1/6, \"NSVJL\" 1/6, \"HJVN\" 1, \"XSFVQ\" 1/3, \"VJTFJ\" 35/6}, \"XHQDX\" {\"ZFCD\" 3}, \"ZXMGK\" {\"WPFP\" 13/6}, \"JTXWX\" {\"PRXT\" 2, \"FWZN\" 3, \"MJQS\" 1}, \"JRZXM\" {\"CXNM\" 4/3, \"GSMP\" 1/3}, \"ZFCD\" {\"VPSDV\" 2/3, \"LBHQ\" 5/3}, \"CXNM\" {\"ZNPRL\" 2/3}, \"PBNSF\" {\"MJCLX\" 4/3}, \"VJTFJ\" {\"LBQB\" 2/3, \"QZQLZ\" 2/3, \"MHBZ\" 8/3}, \"VPSDV\" {\"CXNM\" 5/2}, \"GSMP\" {\"ORE\" 111/4}, \"XHPHR\" {\"HMRGM\" 2/3}, \"QZQLZ\" {\"MTQCB\" 1/6, \"VFXHC\" 1/6}, \"PBMPL\" {\"FWZN\" 1/2, \"PRXT\" 1/2}, \"MJQS\" {\"HNCDS\" 5, \"HMRGM\" 9}}"
      ]
     },
     "execution_count": 200,
     "metadata": {},
     "output_type": "execute_result"
    }
   ],
   "source": [
    "(def data (parse (slurp \"data/day14.txt\")))\n",
    "data"
   ]
  },
  {
   "cell_type": "code",
   "execution_count": 201,
   "metadata": {},
   "outputs": [
    {
     "data": {
      "text/plain": [
       "{\"GHVN\" 18, \"BNMWF\" 17, \"SVNVJ\" 1, \"QWRB\" 4, \"JMWQG\" 52, \"LDHX\" 75, \"MHJMX\" 10}"
      ]
     },
     "execution_count": 201,
     "metadata": {},
     "output_type": "execute_result"
    }
   ],
   "source": [
    "(data \"FUEL\")"
   ]
  },
  {
   "cell_type": "code",
   "execution_count": 181,
   "metadata": {},
   "outputs": [
    {
     "name": "stdout",
     "output_type": "stream",
     "text": [
      "12195919/280\n"
     ]
    },
    {
     "data": {
      "text/plain": [
       "nil"
      ]
     },
     "execution_count": 181,
     "metadata": {},
     "output_type": "execute_result"
    }
   ],
   "source": [
    "(defn ore-amount [[compound amount] data]\n",
    "   ;;(println (str amount \":\" compound))\n",
    "   (if (= compound \"ORE\") \n",
    "       amount\n",
    "     (let [\n",
    "           to (data compound)]\n",
    "           ;;_ (println to)]\n",
    "            \n",
    "         (reduce-kv \n",
    "           #(+ %1 (ore-amount [%2 %3] data) %3)\n",
    "          0\n",
    "          to))))\n",
    "        \n",
    "      \n",
    "       \n",
    "        \n",
    "\n",
    "(println (ore-amount [\"FUEL\" \"1\"] data))\n",
    "\n"
   ]
  },
  {
   "cell_type": "code",
   "execution_count": 203,
   "metadata": {},
   "outputs": [
    {
     "data": {
      "text/plain": [
       "{\"C\" {\"ORE\" 7/5}, \"BC\" {\"C\" 7, \"B\" 5}, \"FUEL\" {\"CA\" 4, \"BC\" 3, \"AB\" 2}, \"B\" {\"ORE\" 8/3}, \"CA\" {\"A\" 1, \"C\" 4}, \"A\" {\"ORE\" 9/2}, \"AB\" {\"B\" 4, \"A\" 3}}"
      ]
     },
     "execution_count": 203,
     "metadata": {},
     "output_type": "execute_result"
    }
   ],
   "source": [
    "(def data2 (parse \"9 ORE => 2 A\n",
    "8 ORE => 3 B\n",
    "7 ORE => 5 C\n",
    "3 A, 4 B => 1 AB\n",
    "5 B, 7 C => 1 BC\n",
    "4 C, 1 A => 1 CA\n",
    "2 AB, 3 BC, 4 CA => 1 FUEL\"))\n",
    "data2"
   ]
  },
  {
   "cell_type": "code",
   "execution_count": 204,
   "metadata": {},
   "outputs": [
    {
     "data": {
      "text/plain": [
       "1009/15"
      ]
     },
     "execution_count": 204,
     "metadata": {},
     "output_type": "execute_result"
    }
   ],
   "source": [
    "(ore-amount [\"FUEL\" 1] data2)"
   ]
  },
  {
   "cell_type": "code",
   "execution_count": null,
   "metadata": {},
   "outputs": [],
   "source": []
  }
 ],
 "metadata": {
  "kernelspec": {
   "display_name": "Clojure (clojupyter-0.2.3)",
   "language": "clojure",
   "name": "clojupyter-0.2.3"
  },
  "language_info": {
   "file_extension": ".clj",
   "mimetype": "text/x-clojure",
   "name": "clojure",
   "version": "1.10.1"
  }
 },
 "nbformat": 4,
 "nbformat_minor": 4
}
