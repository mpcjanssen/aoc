{
 "cells": [
  {
   "cell_type": "code",
   "execution_count": 1,
   "metadata": {},
   "outputs": [
    {
     "data": {
      "text/plain": [
       "nil"
      ]
     },
     "execution_count": 1,
     "metadata": {},
     "output_type": "execute_result"
    }
   ],
   "source": [
    "(require '[clojure.string :as s])\n",
    "\n",
    "         "
   ]
  },
  {
   "cell_type": "code",
   "execution_count": 45,
   "metadata": {},
   "outputs": [
    {
     "data": {
      "text/plain": [
       "{:name \"FUEL\", :amount 1}"
      ]
     },
     "execution_count": 45,
     "metadata": {},
     "output_type": "execute_result"
    }
   ],
   "source": [
    "(def ex1\n",
    "    \"9 ORE => 2 A\n",
    "8 ORE => 3 B\n",
    "7 ORE => 5 C\n",
    "3 A, 4 B => 1 AB\n",
    "5 B, 7 C => 1 BC\n",
    "4 C, 1 A => 1 CA\n",
    "2 AB, 3 BC, 4 CA => 1 FUEL\")\n",
    "\n",
    "(defn parse-part [part]\n",
    "    (let [\n",
    "        [amount name] (s/split (s/trim part) #\" \")\n",
    "          ]\n",
    "        {:name name :amount (Integer/parseInt amount) }\n",
    "        \n",
    "          ))\n",
    "\n",
    "(parse-part \"1 FUEL\")"
   ]
  },
  {
   "cell_type": "code",
   "execution_count": null,
   "metadata": {},
   "outputs": [],
   "source": []
  },
  {
   "cell_type": "code",
   "execution_count": 53,
   "metadata": {},
   "outputs": [
    {
     "data": {
      "text/plain": [
       "{:compound {:name \"FUEL\", :amount 1}, :ingredients ({:name \"AB\", :amount 2} {:name \"BC\", :amount 3} {:name \"CA\", :amount 4})}"
      ]
     },
     "execution_count": 53,
     "metadata": {},
     "output_type": "execute_result"
    }
   ],
   "source": [
    "(defn parse-recipe-line [line]\n",
    "    (let [\n",
    "          [ingr compound] (s/split line #\"=>\")\n",
    "          ingr-parts (map parse-part (s/split ingr #\", \"))\n",
    "          ]\n",
    "        {:compound (parse-part compound) :ingredients ingr-parts}))\n",
    "\n",
    " (map parse-recipe-line (s/split ex1 #\"\\n\" ))\n",
    "\n",
    "(parse-recipe-line \"2 AB, 3 BC, 4 CA => 1 FUEL\")          \n",
    "          "
   ]
  },
  {
   "cell_type": "code",
   "execution_count": 72,
   "metadata": {},
   "outputs": [
    {
     "data": {
      "text/plain": [
       "{\"A\" {:amount 2, :ingredients ({:name \"ORE\", :amount 9})}, \"B\" {:amount 3, :ingredients ({:name \"ORE\", :amount 8})}, \"C\" {:amount 5, :ingredients ({:name \"ORE\", :amount 7})}, \"AB\" {:amount 1, :ingredients ({:name \"A\", :amount 3} {:name \"B\", :amount 4})}, \"BC\" {:amount 1, :ingredients ({:name \"B\", :amount 5} {:name \"C\", :amount 7})}, \"CA\" {:amount 1, :ingredients ({:name \"C\", :amount 4} {:name \"A\", :amount 1})}, \"FUEL\" {:amount 1, :ingredients ({:name \"AB\", :amount 2} {:name \"BC\", :amount 3} {:name \"CA\", :amount 4})}}"
      ]
     },
     "execution_count": 72,
     "metadata": {},
     "output_type": "execute_result"
    }
   ],
   "source": [
    "(defn recipes [data]\n",
    "    \n",
    "    (let [\n",
    "     lines (s/split ex1 #\"\\n\")\n",
    "     r-lines (map parse-recipe-line lines)\n",
    "     ]\n",
    "        (reduce \n",
    "         #(assoc %1 \n",
    "                 (:name (:compound %2)) \n",
    "                 {:amount  (:amount (:compound %2)) \n",
    "                  :ingredients (:ingredients %2)\n",
    "                  }) {} r-lines )))\n",
    "\n",
    "(def recipe-book (recipes ex1))\n",
    "recipe-book"
   ]
  },
  {
   "cell_type": "code",
   "execution_count": 73,
   "metadata": {},
   "outputs": [
    {
     "data": {
      "text/plain": [
       "{:amount 1, :ingredients ({:name \"AB\", :amount 2} {:name \"BC\", :amount 3} {:name \"CA\", :amount 4})}"
      ]
     },
     "execution_count": 73,
     "metadata": {},
     "output_type": "execute_result"
    }
   ],
   "source": [
    "(recipe-book \"FUEL\")"
   ]
  },
  {
   "cell_type": "code",
   "execution_count": 119,
   "metadata": {},
   "outputs": [
    {
     "data": {
      "text/plain": [
       "({:name \"AB\", :amount 4} {:name \"BC\", :amount 6} {:name \"CA\", :amount 8})"
      ]
     },
     "execution_count": 119,
     "metadata": {},
     "output_type": "execute_result"
    }
   ],
   "source": [
    "(defn req [{compound :name req-amount :amount}  book]\n",
    "    (let [\n",
    "          {ingr :ingredients amount :amount} (book compound)\n",
    "          \n",
    "          remainder (rem req-amount amount)\n",
    "          times (if (> remainder 0 ) (inc (/ req-amount amount)) (/ req-amount amount))\n",
    "          total-ingrs (map #(update-in % [:amount] * times) ingr)\n",
    "          ]\n",
    "        \n",
    "        total-ingrs))\n",
    "\n",
    "(req {:name \"FUEL\" :amount 2} recipe-book)"
   ]
  },
  {
   "cell_type": "code",
   "execution_count": 124,
   "metadata": {},
   "outputs": [
    {
     "data": {
      "text/plain": [
       "(({:name \"A\", :amount 12} {:name \"B\", :amount 16}) ({:name \"B\", :amount 30} {:name \"C\", :amount 42}) ({:name \"C\", :amount 32} {:name \"A\", :amount 8}))"
      ]
     },
     "execution_count": 124,
     "metadata": {},
     "output_type": "execute_result"
    }
   ],
   "source": [
    "(map #(req %1 recipe-book) (req {:name \"FUEL\" :amount 2} recipe-book))"
   ]
  },
  {
   "cell_type": "code",
   "execution_count": null,
   "metadata": {},
   "outputs": [],
   "source": []
  }
 ],
 "metadata": {
  "kernelspec": {
   "display_name": "Clojure (clojupyter-0.3.2)",
   "language": "clojure",
   "name": "clojupyter-0.3.2"
  },
  "language_info": {
   "file_extension": ".clj",
   "mimetype": "text/x-clojure",
   "name": "clojure",
   "version": "1.10.1"
  }
 },
 "nbformat": 4,
 "nbformat_minor": 4
}
