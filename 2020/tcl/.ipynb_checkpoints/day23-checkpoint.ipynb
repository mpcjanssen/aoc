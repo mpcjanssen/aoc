{
 "cells": [
  {
   "cell_type": "code",
   "execution_count": 2,
   "metadata": {},
   "outputs": [
    {
     "data": {
      "text/plain": []
     },
     "execution_count": 2,
     "metadata": {},
     "output_type": "execute_result"
    }
   ],
   "source": [
    "lappend auto_path [file dirname [info script]]/lib {C:\\Users\\Mark\\Src\\site-tcl\\libs-windows}\n",
    "tcl::tm::path add [file dirname [info script]]/modules [file dirname [info script]]/lib/cintcode\n",
    "package require util\n",
    "package require cintcode\n",
    "package require intcode\n",
    "\n",
    "set program  [split [read-input day23] ,]\n",
    "interp alias {} Machine {} CintCode ;"
   ]
  },
  {
   "cell_type": "code",
   "execution_count": 9,
   "metadata": {},
   "outputs": [
    {
     "name": "stdout",
     "output_type": "stream",
     "text": [
      "Part 1: 23626\n",
      "Part 2: 19019\n"
     ]
    }
   ],
   "source": [
    "unset -nocomplain queue \n",
    "set queue {}\n",
    "foreach ip [range 0 49] {\n",
    "    set cpu($ip) [Machine $program]\n",
    "    $cpu($ip) input $ip\n",
    "    $cpu($ip) run\n",
    "    dict set state $ip running\n",
    "}\n",
    "set i 0\n",
    "set onedone 0\n",
    "set prev {}\n",
    "while 1 {\n",
    "    incr i\n",
    "    set id [expr {$i % 50}]\n",
    "    if {[lindex [lsort -stride 2 -index 1 -decreasing $state] 1 ] ne \"running\"} {\n",
    "        # puts \"All idle using NAT $nat\"\n",
    "        lassign $nat x y\n",
    "        if {$prev eq $y} {\n",
    "            puts \"Part 2: $y\"\n",
    "            return\n",
    "        } else {\n",
    "            set prev $y\n",
    "        }\n",
    "        set queue [list 0 {*}$nat]\n",
    "        dict set state 0 running\n",
    "    }\n",
    "    \n",
    "    while {$queue ne {}} {\n",
    "         set queue [lassign $queue dest x y]\n",
    "         \n",
    "         if {$dest == 255} {\n",
    "             if {!$onedone} {\n",
    "                 puts \"Part 1: $y\"\n",
    "                 set onedone 1\n",
    "             }\n",
    "             set nat [list $x $y]\n",
    "             break\n",
    "         }\n",
    "         # puts \"$dest <- $x $y \"\n",
    "         $cpu($dest) input $x\n",
    "         $cpu($dest) input $y\n",
    "         $cpu($dest) run\n",
    "         lappend queue {*}[$cpu($dest) outputs]\n",
    "         $cpu($dest) clearoutputs\n",
    "    }\n",
    "    $cpu($id) input -1\n",
    "    $cpu($id) run\n",
    "    set outputs [$cpu($id) outputs]\n",
    "    if {$outputs eq {}} {\n",
    "        dict set state $id idle\n",
    "    } else {\n",
    "        lappend queue {*}[$cpu($id) outputs]\n",
    "        $cpu($id) clearoutputs\n",
    "        dict set state $id running\n",
    "    }\n",
    "    if {$i % 10000 == 0} {\n",
    "        puts $i\n",
    "       \n",
    "    }\n",
    "    if {$i == 1000000} break\n",
    "}\n",
    "\n",
    "foreach id [array names cpu] {rename $cpu($id) {}}"
   ]
  },
  {
   "cell_type": "code",
   "execution_count": 18,
   "metadata": {},
   "outputs": [
    {
     "data": {
      "text/plain": [
       "0 idle 1 idle 2 idle 3 idle 4 idle 5 idle 6 idle 7 idle 8 idle 9 idle 10 idle 11 idle 12 idle 13 idle 14 idle 15 idle 16 idle 17 idle 18 idle 19 idle 20 idle 21 idle 22 idle 23 idle 24 idle 25 idle 26 idle 27 idle 28 idle 29 idle 30 idle 31 idle 32 idle 33 idle 34 idle 35 idle 36 idle 37 idle 38 idle 39 idle 40 idle 41 idle 42 idle 43 idle 44 idle 45 idle 46 idle 47 idle 48 idle 49 idle"
      ]
     },
     "execution_count": 18,
     "metadata": {},
     "output_type": "execute_result"
    }
   ],
   "source": [
    "set state"
   ]
  },
  {
   "cell_type": "code",
   "execution_count": 23,
   "metadata": {},
   "outputs": [
    {
     "data": {
      "text/plain": [
       "0 idle 1 idle 2 idle 3 idle 4 idle 5 idle 6 idle 7 idle 8 idle 9 idle 10 idle 11 idle 12 idle 13 idle 14 idle 15 idle 16 idle 17 idle 18 idle 19 idle 20 idle 21 idle 22 idle 23 idle 24 idle 25 idle 26 idle 27 idle 28 idle 29 idle 30 idle 31 idle 32 idle 33 idle 34 idle 35 idle 36 idle 37 idle 38 idle 39 idle 40 idle 41 idle 42 idle 43 idle 44 idle 45 idle 46 idle 47 idle 48 idle 49 idle"
      ]
     },
     "execution_count": 23,
     "metadata": {},
     "output_type": "execute_result"
    }
   ],
   "source": [
    "lindex [lsort -stride 2 -index 1 -decreasing $state] 1  \n"
   ]
  },
  {
   "cell_type": "code",
   "execution_count": 20,
   "metadata": {},
   "outputs": [
    {
     "data": {
      "text/plain": [
       "8.6.10"
      ]
     },
     "execution_count": 20,
     "metadata": {},
     "output_type": "execute_result"
    }
   ],
   "source": [
    "info pa"
   ]
  },
  {
   "cell_type": "code",
   "execution_count": null,
   "metadata": {},
   "outputs": [],
   "source": []
  }
 ],
 "metadata": {
  "kernelspec": {
   "display_name": "Tcl",
   "language": "tcl",
   "name": "tcljupyter"
  },
  "language_info": {
   "file_extension": ".tcl",
   "mimetype": "txt/x-tcl",
   "name": "tcl",
   "version": "8.6.10"
  }
 },
 "nbformat": 4,
 "nbformat_minor": 4
}
