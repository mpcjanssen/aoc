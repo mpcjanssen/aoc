{
 "cells": [
  {
   "cell_type": "code",
   "execution_count": 1,
   "metadata": {},
   "outputs": [
    {
     "ename": "Tcl error",
     "evalue": "couldn't open \"./modules/../../input/dayXX.txt\": no such file or directory",
     "output_type": "error",
     "traceback": [
      "couldn't open \"./modules/../../input/dayXX.txt\": no such file or directory\n    while executing\n\"open $::scriptdir/../../input/${day}.txt\"\n    (procedure \"read-input\" line 2)\n    invoked from within\n\"read-input dayXX\""
     ]
    }
   ],
   "source": [
    "tcl::tm::path add [file join . modules]\n",
    "lappend auto_path [file join . lib]\n",
    "\n",
    "package require util\n",
    "\n",
    "set input [read-input dayXX]"
   ]
  },
  {
   "cell_type": "code",
   "execution_count": 4,
   "metadata": {},
   "outputs": [],
   "source": [
    "foreach id [range 1 25 ] {\n",
    "\n",
    "set f [open ../input/day[format %02d $id].txt w]\n",
    "close $f\n",
    "}"
   ]
  },
  {
   "cell_type": "code",
   "execution_count": 3,
   "metadata": {},
   "outputs": [
    {
     "data": {
      "text/plain": [
       "1 2 3 4 5 6 7 8 9 10 11 12 13 14 15 16 17 18 19 20 21 22 23 24 25"
      ]
     },
     "execution_count": 3,
     "metadata": {},
     "output_type": "execute_result"
    }
   ],
   "source": [
    "range 1 25"
   ]
  },
  {
   "cell_type": "code",
   "execution_count": null,
   "metadata": {},
   "outputs": [],
   "source": []
  }
 ],
 "metadata": {
  "kernelspec": {
   "display_name": "Tcl",
   "language": "tcl",
   "name": "tcljupyter"
  },
  "language_info": {
   "file_extension": ".tcl",
   "mimetype": "txt/x-tcl",
   "name": "tcl",
   "version": "8.6.10"
  }
 },
 "nbformat": 4,
 "nbformat_minor": 4
}
