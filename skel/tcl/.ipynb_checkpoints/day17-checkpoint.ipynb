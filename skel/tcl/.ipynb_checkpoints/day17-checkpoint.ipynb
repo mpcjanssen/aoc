{
 "cells": [
  {
   "cell_type": "code",
   "execution_count": 21,
   "metadata": {},
   "outputs": [],
   "source": [
    "lappend auto_path [file dirname [info script]]/lib {C:\\Users\\Mark\\Src\\site-tcl\\libs-windows}\n",
    "tcl::tm::path add [file dirname [info script]]/modules [file dirname [info script]]/lib/cintcode\n",
    "package require util\n",
    "package require cintcode\n",
    "package require intcode\n",
    "\n",
    "set program  [split [read-input day17] ,]\n",
    "interp alias {} Machine {} CintCode \n",
    "\n",
    "proc runresults {program} {\n",
    "\n",
    "    set machine [Machine $::program]\n",
    "    $machine run\n",
    "    set result [$machine output]\n",
    "    rename $machine {}\n",
    "    return $result\n",
    "}\n",
    "\n",
    "proc toascii data {\n",
    "     return [binary format c* $data] \n",
    "}"
   ]
  },
  {
   "cell_type": "code",
   "execution_count": 57,
   "metadata": {},
   "outputs": [],
   "source": [
    "proc part1 {} {\n",
    "\n",
    "\n",
    "\n",
    "set ascii [toascii [runresults $::program]]\n",
    "\n",
    "set cells [split $ascii \"\"]\n",
    "# puts [llength $cells] \n",
    "# puts [tcl::mathop::+ {*}[lmap x $cells {expr {$x eq \"#\"} }]]\n",
    "unset -nocomplain scaffold\n",
    "set x 0\n",
    "set y 0\n",
    "foreach c $cells {\n",
    "\n",
    "    if {$c eq \"#\"} {\n",
    "        set scaffold($x,$y) 1 \n",
    "    }\n",
    "    if {$c eq \"\\n\"} {\n",
    "        incr y\n",
    "        set x 0\n",
    "    } else {\n",
    "        incr x\n",
    "    }\n",
    "    # puts $x,$y\n",
    "}\n",
    "set ints {}\n",
    "foreach coord [array names scaffold] {\n",
    "    lassign [split $coord ,] x y\n",
    "    set cx $x\n",
    "    set cy $y\n",
    "    incr x\n",
    "    if {![info exists scaffold($x,$y)]} continue\n",
    "    incr x -2\n",
    "    if {![info exists scaffold($x,$y)]} continue\n",
    "    incr x\n",
    "    incr y\n",
    "    if {![info exists scaffold($x,$y)]} continue\n",
    "    incr y -2\n",
    "    if {![info exists scaffold($x,$y)]} continue\n",
    "    lappend ints [list $cx $cy]\n",
    "}\n",
    "tcl::mathop::+ {*}[lmap int $ints {lassign $int x y ; expr {$x*$y}}]\n",
    "}"
   ]
  },
  {
   "cell_type": "code",
   "execution_count": 61,
   "metadata": {},
   "outputs": [
    {
     "data": {
      "text/plain": [
       "13426 microseconds per iteration"
      ]
     },
     "execution_count": 61,
     "metadata": {},
     "output_type": "execute_result"
    }
   ],
   "source": [
    "time {part1}"
   ]
  },
  {
   "cell_type": "code",
   "execution_count": 11,
   "metadata": {},
   "outputs": [
    {
     "data": {
      "text/plain": [
       "45"
      ]
     },
     "execution_count": 11,
     "metadata": {},
     "output_type": "execute_result"
    }
   ],
   "source": []
  }
 ],
 "metadata": {
  "kernelspec": {
   "display_name": "Tcl",
   "language": "tcl",
   "name": "tcljupyter"
  },
  "language_info": {
   "file_extension": ".tcl",
   "mimetype": "txt/x-tcl",
   "name": "tcl",
   "version": "8.6.10"
  }
 },
 "nbformat": 4,
 "nbformat_minor": 4
}
